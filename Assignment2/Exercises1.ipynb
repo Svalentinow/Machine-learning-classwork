{
 "cells": [
  {
   "cell_type": "markdown",
   "metadata": {},
   "source": [
    "### Exercises 1\n",
    "\n",
    "These exercises are intended to help you become more familiar with the basics of Python.\n"
   ]
  },
  {
   "cell_type": "markdown",
   "metadata": {},
   "source": [
    "#### Ex 1.1\n",
    "\n",
    "In the cell below we have defined a string called `a`.\n",
    "\n",
    "Like all types in Python, this string is an object. \n",
    "\n",
    "Use tab completion to see which methods are available for the string type.\n",
    "\n",
    "Use the question mark operator to find out how the `count` method works.\n",
    "\n",
    "Use the `count` method to count the number of *a* characters that occur in `a`. \n",
    "\n",
    "Try out some of the other methods as well."
   ]
  },
  {
   "cell_type": "code",
   "execution_count": 1,
   "metadata": {},
   "outputs": [],
   "source": [
    "a=\"a string is an object\"\n",
    "a.count('a')\n",
    "import pandas as pd"
   ]
  },
  {
   "cell_type": "markdown",
   "metadata": {},
   "source": [
    "#### Ex 1.2\n",
    "\n",
    "Use the string `split()` method to get a list of the words in the string `a` from the previous exercise.\n",
    "\n",
    "Then use a list-based sorting method to sort the resulting list of words in alphabetical order. \n",
    "\n",
    "If `b` is the list of words in `a`, try both\n",
    "\n",
    "```python\n",
    "b.sort()\n",
    "```\n",
    "\n",
    "and\n",
    "\n",
    "```python\n",
    "sorted(b)\n",
    "```\n",
    "\n",
    "What is the difference between these approaches? (*Hint:* use the question mark operator)\n"
   ]
  },
  {
   "cell_type": "code",
   "execution_count": 7,
   "metadata": {},
   "outputs": [
    {
     "data": {
      "text/plain": [
       "['a', 'an', 'is', 'object', 'string']"
      ]
     },
     "execution_count": 7,
     "metadata": {},
     "output_type": "execute_result"
    }
   ],
   "source": [
    "### Your solution here\n",
    "b = a.split()\n",
    "b.sort()\n",
    "b\n",
    "sorted(b)\n",
    "b"
   ]
  },
  {
   "cell_type": "markdown",
   "metadata": {},
   "source": [
    "#### Ex 1.3\n",
    "\n",
    "Jupyter allows shell commands to be issued from inside a notebook by using the `!` operator.\n",
    "For instance, to see the current working directory you can type\n",
    "\n",
    "```python\n",
    "!pwd\n",
    "```\n",
    "\n",
    "in a cell and run it.\n",
    "\n",
    "Use shell commands from within the notebook to \n",
    "\n",
    "1. List the other files in the current directory (*Hint:* the Linux command is `ls`).\n",
    "2. Create a new subdirectory (*Hint:* the Linux command is `mkdir <dirname>`)."
   ]
  },
  {
   "cell_type": "code",
   "execution_count": 1,
   "metadata": {},
   "outputs": [
    {
     "name": "stdout",
     "output_type": "stream",
     "text": [
      "/Users/stephenwilliams/Downloads/stephen.williams13 2/Assignment2\n",
      "\u001b[31mExercises1.ipynb\u001b[m\u001b[m     \u001b[31mFeatureScaling.html\u001b[m\u001b[m  \u001b[31mFeatureScaling.ipynb\u001b[m\u001b[m\n"
     ]
    }
   ],
   "source": [
    "### Your solution here\n",
    "!pwd\n",
    "!ls\n"
   ]
  },
  {
   "cell_type": "markdown",
   "metadata": {},
   "source": [
    "#### Ex 1.4\n",
    "\n",
    "Explain what the following cell is doing."
   ]
  },
  {
   "cell_type": "code",
   "execution_count": 2,
   "metadata": {},
   "outputs": [
    {
     "data": {
      "text/plain": [
       "['Exercises1.ipynb', 'FeatureScaling.html', 'FeatureScaling.ipynb']"
      ]
     },
     "execution_count": 2,
     "metadata": {},
     "output_type": "execute_result"
    }
   ],
   "source": [
    "a = !ls\n",
    "a"
   ]
  },
  {
   "cell_type": "markdown",
   "metadata": {},
   "source": [
    "# storing file names in list"
   ]
  },
  {
   "cell_type": "markdown",
   "metadata": {},
   "source": [
    "#### Ex 1.5\n",
    "\n",
    "Explain what the following cell is doing.\n",
    "\n",
    "*Hint:* [touch](https://www.geeksforgeeks.org/touch-command-in-linux-with-examples/)\n",
    "\n",
    "*Hint:* [grep](https://docs.oracle.com/cd/E19504-01/802-5826/6i9iclf5k/index.html)\n"
   ]
  },
  {
   "cell_type": "code",
   "execution_count": 3,
   "metadata": {},
   "outputs": [
    {
     "name": "stdout",
     "output_type": "stream",
     "text": [
      "-rw-r--r--  1 stephenwilliams  staff       0 Sep 14 16:33 ravenclaw\r\n"
     ]
    }
   ],
   "source": [
    "filename = \"ravenclaw\"\n",
    "!touch {filename}\n",
    "!ls -l | grep {filename}"
   ]
  },
  {
   "cell_type": "markdown",
   "metadata": {},
   "source": [
    "# creating new file called ravenclaw"
   ]
  },
  {
   "cell_type": "markdown",
   "metadata": {},
   "source": [
    "#### Ex 1.6\n",
    "\n",
    "Consider the string below.\n",
    "\n",
    "```python\n",
    "s=\"\"\"One of nature's most intense spectacles can be tamed with humble sea salt, the same stuff that graces some dinner tables. Researchers recently found that the frequency of lightning decreases by up to 90 percent in the presence of salty sea spray.\"\"\"\n",
    "```\n",
    "\n",
    "Often in Natural Language Processing (NLP) we need to filter out punctuation from a string, and break it into a list of indivivual words.\n",
    "\n",
    "Breaking into a list of words is easy, because of the built-in string method `split()`.\n",
    "\n",
    "Use `split()` to turn the string below into a list of words.\n"
   ]
  },
  {
   "cell_type": "code",
   "execution_count": 4,
   "metadata": {},
   "outputs": [
    {
     "data": {
      "text/plain": [
       "['One',\n",
       " 'of',\n",
       " \"nature's\",\n",
       " 'most',\n",
       " 'intense',\n",
       " 'spectacles',\n",
       " 'can',\n",
       " 'be',\n",
       " 'tamed',\n",
       " 'with',\n",
       " 'humble',\n",
       " 'sea',\n",
       " 'salt,',\n",
       " 'the',\n",
       " 'same',\n",
       " 'stuff',\n",
       " 'that',\n",
       " 'graces',\n",
       " 'some',\n",
       " 'dinner',\n",
       " 'tables.',\n",
       " 'Researchers',\n",
       " 'recently',\n",
       " 'found',\n",
       " 'that',\n",
       " 'the',\n",
       " 'frequency',\n",
       " 'of',\n",
       " 'lightning',\n",
       " 'decreases',\n",
       " 'by',\n",
       " 'up',\n",
       " 'to',\n",
       " '90',\n",
       " 'percent',\n",
       " 'in',\n",
       " 'the',\n",
       " 'presence',\n",
       " 'of',\n",
       " 'salty',\n",
       " 'sea',\n",
       " 'spray.']"
      ]
     },
     "execution_count": 4,
     "metadata": {},
     "output_type": "execute_result"
    }
   ],
   "source": [
    "s=\"\"\"One of nature's most intense spectacles can be tamed with humble sea salt, the same stuff that graces some dinner tables. Researchers recently found that the frequency of lightning decreases by up to 90 percent in the presence of salty sea spray.\"\"\"\n",
    "words = s.split()\n",
    "words"
   ]
  },
  {
   "cell_type": "markdown",
   "metadata": {},
   "source": [
    "#### Ex 1.6 cont\n",
    "\n",
    "Now we will filter out the punctuation from `s`, leaving only letters.\n",
    "\n",
    "There are many ways of doing this.\n",
    "\n",
    "To help, we generate a string containing all common punctuation symbols below, called `punc`."
   ]
  },
  {
   "cell_type": "code",
   "execution_count": 5,
   "metadata": {},
   "outputs": [
    {
     "data": {
      "text/plain": [
       "'!\"#$%&\\'()*+,-./:;<=>?@[\\\\]^_`{|}~'"
      ]
     },
     "execution_count": 5,
     "metadata": {},
     "output_type": "execute_result"
    }
   ],
   "source": [
    "## Be sure to run this cell, or the kernel will not know what `punc` means\n",
    "import string\n",
    "\n",
    "punc=string.punctuation\n",
    "\n",
    "\n",
    "punc"
   ]
  },
  {
   "cell_type": "markdown",
   "metadata": {},
   "source": [
    "#### Ex 1.6 cont\n",
    "\n",
    "Now write a program that will turn the following pseudocode into Python.\n",
    "\n",
    "```\n",
    "for each punctuation symbol `p` in `punc`\n",
    "    replace all occurrences of `p` in `s` with the emptystring \n",
    "```\n"
   ]
  },
  {
   "cell_type": "code",
   "execution_count": 6,
   "metadata": {},
   "outputs": [
    {
     "data": {
      "text/plain": [
       "'One of natures most intense spectacles can be tamed with humble sea salt the same stuff that graces some dinner tables Researchers recently found that the frequency of lightning decreases by up to 90 percent in the presence of salty sea spray'"
      ]
     },
     "execution_count": 6,
     "metadata": {},
     "output_type": "execute_result"
    }
   ],
   "source": [
    "### Your solution here\n",
    "\n",
    "s=\"\"\"One of nature's most intense spectacles can be tamed with humble sea salt, the same stuff that graces some dinner tables. Researchers recently found that the frequency of lightning decreases by up to 90 percent in the presence of salty sea spray.\"\"\"\n",
    "new =s\n",
    "for p in punc:\n",
    "    new = new.replace(p,'')\n",
    "new"
   ]
  },
  {
   "cell_type": "markdown",
   "metadata": {},
   "source": [
    "#### Ex 1.6 Solution approach 2\n",
    "\n",
    "Try this version of the punctuation removal algorithm.  It uses the built-in string method `isalnum()`, which returns `True` if a character is alpha-numeric and `False` otherwise.\n",
    "\n",
    "Pseudocode:\n",
    "\n",
    "```\n",
    "create an empty list L\n",
    "for each character `c` in `s`\n",
    "    if `c` is alphanumeric or space then put `c` into L\n",
    "turn L into a string\n",
    "```\n",
    "\n"
   ]
  },
  {
   "cell_type": "code",
   "execution_count": 39,
   "metadata": {},
   "outputs": [],
   "source": [
    "### Your solution here\n"
   ]
  },
  {
   "cell_type": "markdown",
   "metadata": {},
   "source": [
    "#### Ex 1.6 review\n",
    "\n",
    "We solved the problem two different ways.  Which is better? Jupyter includes a `%%timeit` magic that will let us determine which solution is most efficient. \n",
    "\n",
    "Put `%%timeit` as the first line in each of the cells for your answers and re-run them.  Which algorithm is faster? \n",
    "\n",
    "Can you think of a reason why the faster algorithm was faster? \n",
    "\n"
   ]
  },
  {
   "cell_type": "code",
   "execution_count": 40,
   "metadata": {},
   "outputs": [
    {
     "name": "stdout",
     "output_type": "stream",
     "text": [
      "5.43 µs ± 18.1 ns per loop (mean ± std. dev. of 7 runs, 100000 loops each)\n"
     ]
    }
   ],
   "source": [
    "%%timeit\n",
    "s=\"\"\"One of nature's most intense spectacles can be tamed with humble sea salt, the same stuff that graces some dinner tables. Researchers recently found that the frequency of lightning decreases by up to 90 percent in the presence of salty sea spray.\"\"\"\n",
    "new =s\n",
    "for p in punc:\n",
    "    new = new.replace(p,'')\n",
    "new"
   ]
  },
  {
   "cell_type": "markdown",
   "metadata": {},
   "source": [
    "#### Ex 1.7\n",
    "\n",
    "Modify the code below so that it also computes the average length of a word in `s`. \n"
   ]
  },
  {
   "cell_type": "code",
   "execution_count": 26,
   "metadata": {},
   "outputs": [
    {
     "name": "stdout",
     "output_type": "stream",
     "text": [
      "3 One\n",
      "2 of\n",
      "8 nature's\n",
      "4 most\n",
      "7 intense\n",
      "10 spectacles\n",
      "3 can\n",
      "2 be\n",
      "5 tamed\n",
      "4 with\n",
      "6 humble\n",
      "3 sea\n",
      "5 salt,\n",
      "3 the\n",
      "4 same\n",
      "5 stuff\n",
      "4 that\n",
      "6 graces\n",
      "4 some\n",
      "6 dinner\n",
      "7 tables.\n",
      "11 Researchers\n",
      "8 recently\n",
      "5 found\n",
      "4 that\n",
      "3 the\n",
      "9 frequency\n",
      "2 of\n",
      "9 lightning\n",
      "9 decreases\n",
      "2 by\n",
      "2 up\n",
      "2 to\n",
      "2 90\n",
      "7 percent\n",
      "2 in\n",
      "3 the\n",
      "8 presence\n",
      "2 of\n",
      "5 salty\n",
      "3 sea\n",
      "6 spray.\n",
      "average:  4.880952380952381\n"
     ]
    }
   ],
   "source": [
    "s=\"\"\"One of nature's most intense spectacles can be tamed with humble sea salt, the same stuff that graces some dinner tables. Researchers recently found that the frequency of lightning decreases by up to 90 percent in the presence of salty sea spray.\"\"\"\n",
    "ss=map(len,s.split())\n",
    "lenght = 0\n",
    "for l,w in zip(ss,s.split()):\n",
    "    print(l,w)\n",
    "    lenght +=l\n",
    "\n",
    "avg = lenght/len(s.split())\n",
    "print('average: ',avg)"
   ]
  },
  {
   "cell_type": "markdown",
   "metadata": {},
   "source": [
    "#### Exercise 1.8\n",
    "\n",
    "In Python a *tuple* is a non-mutable version of a list.  \n",
    "\n",
    "Create an empty list an add 25 three-tuples (*ie* tuples of length three) to the list.\n",
    "\n",
    "The tuples should be of the form `(a,b,c)` where\n",
    "\n",
    "`a` is a random integer between -10 and 10\n",
    "\n",
    "`b` is a letter of the word \"rottweiler\" selected uniformly at random\n",
    "\n",
    "`c` is a floating point number chosen from the standard normal distribution.\n",
    "\n",
    "To recap, you are going to make a list of 25 randomly generated 3-tuples, where the tuples have the above form.\n",
    "\n",
    "Then print out the list in sorted order."
   ]
  },
  {
   "cell_type": "code",
   "execution_count": 44,
   "metadata": {},
   "outputs": [
    {
     "data": {
      "text/plain": [
       "[(-9, 'i', 1.7226342705571838),\n",
       " (-8, 'r', 1.6908574506792617),\n",
       " (-8, 'w', 1.872361417931272),\n",
       " (-7, 'o', 1.7531308067478228),\n",
       " (-6, 'e', 1.6229190376296205),\n",
       " (-6, 'o', 1.5717178021165819),\n",
       " (-5, 't', 1.5738344278531313),\n",
       " (-4, 'o', 1.551801764116041),\n",
       " (-4, 'o', 1.604111907194257),\n",
       " (-3, 'e', 1.7139408674472698),\n",
       " (-3, 't', 1.771554352104663),\n",
       " (-1, 'o', 1.6708652457897104),\n",
       " (-1, 'o', 1.8747321116049231),\n",
       " (0, 'w', 1.605129063038386),\n",
       " (1, 'o', 1.693756517588514),\n",
       " (2, 'e', 1.560663986056203),\n",
       " (2, 'i', 1.659326303621092),\n",
       " (3, 't', 1.741805807760192),\n",
       " (4, 'r', 1.6905062444184948),\n",
       " (5, 'e', 1.5756704381554143),\n",
       " (7, 't', 1.896250260705397),\n",
       " (9, 'l', 1.8495746069525212),\n",
       " (10, 'e', 1.5999250807823673),\n",
       " (10, 'r', 1.7042270947760163),\n",
       " (10, 'r', 1.8721965840256187)]"
      ]
     },
     "execution_count": 44,
     "metadata": {},
     "output_type": "execute_result"
    }
   ],
   "source": [
    "### Your solution here\n",
    "import random\n",
    "\n",
    "a = tuple((random.randint(-10,10),random.choice('rottweiler'),random.uniform(1.5, 1.9)) for i in range(1, 26))\n",
    "sorted(a)"
   ]
  },
  {
   "cell_type": "markdown",
   "metadata": {},
   "source": [
    "#### Exercise 1.9 part 1\n",
    "\n",
    "Using the Python `datetime` object, write a short program to make a list of all the dates of all Tuesdays and Thursdays between 8/25/22 and 12/13/22 (inclusive). \n",
    "\n"
   ]
  },
  {
   "cell_type": "code",
   "execution_count": 19,
   "metadata": {},
   "outputs": [
    {
     "data": {
      "text/html": [
       "<div>\n",
       "<style scoped>\n",
       "    .dataframe tbody tr th:only-of-type {\n",
       "        vertical-align: middle;\n",
       "    }\n",
       "\n",
       "    .dataframe tbody tr th {\n",
       "        vertical-align: top;\n",
       "    }\n",
       "\n",
       "    .dataframe thead th {\n",
       "        text-align: right;\n",
       "    }\n",
       "</style>\n",
       "<table border=\"1\" class=\"dataframe\">\n",
       "  <thead>\n",
       "    <tr style=\"text-align: right;\">\n",
       "      <th></th>\n",
       "      <th>time</th>\n",
       "    </tr>\n",
       "  </thead>\n",
       "  <tbody>\n",
       "    <tr>\n",
       "      <th>0</th>\n",
       "      <td>2022-08-25</td>\n",
       "    </tr>\n",
       "    <tr>\n",
       "      <th>1</th>\n",
       "      <td>2022-08-30</td>\n",
       "    </tr>\n",
       "    <tr>\n",
       "      <th>2</th>\n",
       "      <td>2022-09-01</td>\n",
       "    </tr>\n",
       "    <tr>\n",
       "      <th>3</th>\n",
       "      <td>2022-09-06</td>\n",
       "    </tr>\n",
       "    <tr>\n",
       "      <th>4</th>\n",
       "      <td>2022-09-08</td>\n",
       "    </tr>\n",
       "  </tbody>\n",
       "</table>\n",
       "</div>"
      ],
      "text/plain": [
       "        time\n",
       "0 2022-08-25\n",
       "1 2022-08-30\n",
       "2 2022-09-01\n",
       "3 2022-09-06\n",
       "4 2022-09-08"
      ]
     },
     "execution_count": 19,
     "metadata": {},
     "output_type": "execute_result"
    }
   ],
   "source": [
    "import datetime\n",
    "time = pd.date_range(start='8/25/22 ', end='12/13/22')\n",
    "\n",
    "time = pd.DataFrame(time,columns = ['time'])\n",
    "time['date'] = time.time.apply(lambda x: x.weekday())\n",
    "time = time[(time['date'] == 1) | (time['date'] == 3)].reset_index(drop = True).drop(columns = 'date')\n",
    "time.head()\n"
   ]
  },
  {
   "cell_type": "markdown",
   "metadata": {},
   "source": [
    "#### Exercise 1.9 part 2\n",
    "\n",
    "Take the list you made in part 1 and filter out the following dates: \n",
    "\n",
    "```python\n",
    "holidays = [(2022,9,27),(2022,9,29),(2022,10,4),(2022,11,24)]\n",
    "```\n",
    "\n",
    "Print the list and you have generated all of our meeting days for the current semester!\n",
    "\n"
   ]
  },
  {
   "cell_type": "code",
   "execution_count": 20,
   "metadata": {},
   "outputs": [
    {
     "data": {
      "text/html": [
       "<div>\n",
       "<style scoped>\n",
       "    .dataframe tbody tr th:only-of-type {\n",
       "        vertical-align: middle;\n",
       "    }\n",
       "\n",
       "    .dataframe tbody tr th {\n",
       "        vertical-align: top;\n",
       "    }\n",
       "\n",
       "    .dataframe thead th {\n",
       "        text-align: right;\n",
       "    }\n",
       "</style>\n",
       "<table border=\"1\" class=\"dataframe\">\n",
       "  <thead>\n",
       "    <tr style=\"text-align: right;\">\n",
       "      <th></th>\n",
       "      <th>time</th>\n",
       "    </tr>\n",
       "  </thead>\n",
       "  <tbody>\n",
       "    <tr>\n",
       "      <th>0</th>\n",
       "      <td>2022-08-25</td>\n",
       "    </tr>\n",
       "    <tr>\n",
       "      <th>1</th>\n",
       "      <td>2022-08-30</td>\n",
       "    </tr>\n",
       "    <tr>\n",
       "      <th>2</th>\n",
       "      <td>2022-09-01</td>\n",
       "    </tr>\n",
       "    <tr>\n",
       "      <th>3</th>\n",
       "      <td>2022-09-06</td>\n",
       "    </tr>\n",
       "    <tr>\n",
       "      <th>4</th>\n",
       "      <td>2022-09-08</td>\n",
       "    </tr>\n",
       "    <tr>\n",
       "      <th>5</th>\n",
       "      <td>2022-09-13</td>\n",
       "    </tr>\n",
       "    <tr>\n",
       "      <th>6</th>\n",
       "      <td>2022-09-15</td>\n",
       "    </tr>\n",
       "    <tr>\n",
       "      <th>7</th>\n",
       "      <td>2022-09-20</td>\n",
       "    </tr>\n",
       "    <tr>\n",
       "      <th>8</th>\n",
       "      <td>2022-09-22</td>\n",
       "    </tr>\n",
       "    <tr>\n",
       "      <th>12</th>\n",
       "      <td>2022-10-06</td>\n",
       "    </tr>\n",
       "    <tr>\n",
       "      <th>13</th>\n",
       "      <td>2022-10-11</td>\n",
       "    </tr>\n",
       "    <tr>\n",
       "      <th>14</th>\n",
       "      <td>2022-10-13</td>\n",
       "    </tr>\n",
       "    <tr>\n",
       "      <th>15</th>\n",
       "      <td>2022-10-18</td>\n",
       "    </tr>\n",
       "    <tr>\n",
       "      <th>16</th>\n",
       "      <td>2022-10-20</td>\n",
       "    </tr>\n",
       "    <tr>\n",
       "      <th>17</th>\n",
       "      <td>2022-10-25</td>\n",
       "    </tr>\n",
       "    <tr>\n",
       "      <th>18</th>\n",
       "      <td>2022-10-27</td>\n",
       "    </tr>\n",
       "    <tr>\n",
       "      <th>19</th>\n",
       "      <td>2022-11-01</td>\n",
       "    </tr>\n",
       "    <tr>\n",
       "      <th>20</th>\n",
       "      <td>2022-11-03</td>\n",
       "    </tr>\n",
       "    <tr>\n",
       "      <th>21</th>\n",
       "      <td>2022-11-08</td>\n",
       "    </tr>\n",
       "    <tr>\n",
       "      <th>22</th>\n",
       "      <td>2022-11-10</td>\n",
       "    </tr>\n",
       "    <tr>\n",
       "      <th>23</th>\n",
       "      <td>2022-11-15</td>\n",
       "    </tr>\n",
       "    <tr>\n",
       "      <th>24</th>\n",
       "      <td>2022-11-17</td>\n",
       "    </tr>\n",
       "    <tr>\n",
       "      <th>25</th>\n",
       "      <td>2022-11-22</td>\n",
       "    </tr>\n",
       "    <tr>\n",
       "      <th>27</th>\n",
       "      <td>2022-11-29</td>\n",
       "    </tr>\n",
       "    <tr>\n",
       "      <th>28</th>\n",
       "      <td>2022-12-01</td>\n",
       "    </tr>\n",
       "    <tr>\n",
       "      <th>29</th>\n",
       "      <td>2022-12-06</td>\n",
       "    </tr>\n",
       "    <tr>\n",
       "      <th>30</th>\n",
       "      <td>2022-12-08</td>\n",
       "    </tr>\n",
       "    <tr>\n",
       "      <th>31</th>\n",
       "      <td>2022-12-13</td>\n",
       "    </tr>\n",
       "  </tbody>\n",
       "</table>\n",
       "</div>"
      ],
      "text/plain": [
       "         time\n",
       "0  2022-08-25\n",
       "1  2022-08-30\n",
       "2  2022-09-01\n",
       "3  2022-09-06\n",
       "4  2022-09-08\n",
       "5  2022-09-13\n",
       "6  2022-09-15\n",
       "7  2022-09-20\n",
       "8  2022-09-22\n",
       "12 2022-10-06\n",
       "13 2022-10-11\n",
       "14 2022-10-13\n",
       "15 2022-10-18\n",
       "16 2022-10-20\n",
       "17 2022-10-25\n",
       "18 2022-10-27\n",
       "19 2022-11-01\n",
       "20 2022-11-03\n",
       "21 2022-11-08\n",
       "22 2022-11-10\n",
       "23 2022-11-15\n",
       "24 2022-11-17\n",
       "25 2022-11-22\n",
       "27 2022-11-29\n",
       "28 2022-12-01\n",
       "29 2022-12-06\n",
       "30 2022-12-08\n",
       "31 2022-12-13"
      ]
     },
     "execution_count": 20,
     "metadata": {},
     "output_type": "execute_result"
    }
   ],
   "source": [
    "holidays = ['2022-09-27','2022-09-29','2022-10-4','2022-11-24']\n",
    "c1 = time.time.isin(holidays)\n",
    "time = time[~(c1)]\n",
    "time.head(35)"
   ]
  },
  {
   "cell_type": "code",
   "execution_count": null,
   "metadata": {},
   "outputs": [],
   "source": []
  }
 ],
 "metadata": {
  "kernelspec": {
   "display_name": "Python 3",
   "language": "python",
   "name": "python3"
  },
  "language_info": {
   "codemirror_mode": {
    "name": "ipython",
    "version": 3
   },
   "file_extension": ".py",
   "mimetype": "text/x-python",
   "name": "python",
   "nbconvert_exporter": "python",
   "pygments_lexer": "ipython3",
   "version": "3.8.3"
  }
 },
 "nbformat": 4,
 "nbformat_minor": 5
}
