{
 "cells": [
  {
   "cell_type": "markdown",
   "metadata": {},
   "source": [
    "### Precision and Recall\n",
    "\n",
    "Sometimes classification data is not **balanced**.\n",
    "\n",
    "This means that one class is overwhelmingly over (or under) represented in the dataset.\n",
    "\n",
    "Example:  Identify a rare cancer from a photograph.\n",
    "\n",
    "Almost all instances will be \"benign\".\n",
    "\n",
    "This makes \"accuracy\" an unuseful measure of the performance of a model.\n",
    "\n",
    "Simply saying \"benign\" every time results in high accuracy.\n",
    "\n",
    "But what we really care about is avoiding \"false negatives\". \n",
    "\n",
    "---\n",
    "\n",
    "Two useful notions for dealing with unbalanced data are precision and recall.\n",
    "\n",
    "#### Precision\n",
    "\n",
    "Precision is the frequency with which a model is correct when it reports an instance to be \"positive\".\n",
    "\n",
    "$$precision = \\frac{TP}{FP+TP}$$\n",
    "\n",
    "We can maximize precision by having a very **high** standard for when something is declared to be a positive instance.\n",
    "\n",
    "Sometimes this is what we want:\n",
    "\n",
    "1. American justice system:  high standards for declaring guilt (ideally many guilty get away)\n",
    "\n",
    "2. Net nanny:  We want to be very sure that a website is okay before letting children view it\n",
    "\n",
    "Generally we like high precision when we are contemplating taking an action with grave consequences.\n",
    "\n",
    "\n",
    "#### Recall\n",
    "\n",
    "Recall is the fraction of positive instances that are reported by the algorithm.\n",
    "\n",
    "$$recall = \\frac{TP}{TP+FN}$$\n",
    "\n",
    "We can maximize recall by having a very **low** standard for when something is declared to be a positive instance.\n",
    "\n",
    "Sometimes this is what we want:\n",
    "\n",
    "1. Flagging someone as a danger to society\n",
    "\n",
    "2. Detecting cancer\n",
    "\n",
    "Often we want high recall when we are seeking to detect something dangerous.\n",
    "\n",
    "\n",
    "#### Balancing Precision and Recall\n",
    "\n",
    "In many generic situations with unbalanced data we want precision and recall both to be pretty good.\n",
    "\n",
    "A metric often used to measure the precision/recall tradeoff is [F1-score](https://en.wikipedia.org/wiki/F1_score).  \n",
    "\n",
    "$$F_1 = \\frac{2}{recall^{-1} + precision^{-1}}$$\n",
    "\n",
    "This is the harmonic mean of precision and recall. \n",
    "\n",
    "It is optimized when recall and precision are pretty close to one another.\n",
    "\n",
    "That is not always what we want. \n",
    "\n",
    "\n",
    "### Example with real data\n",
    "\n",
    "An example is given below with handwritten digit recognition. "
   ]
  },
  {
   "cell_type": "code",
   "execution_count": 1,
   "metadata": {},
   "outputs": [],
   "source": [
    "from sklearn.datasets import fetch_openml\n",
    "import matplotlib.pyplot as plt\n",
    "\n",
    "X, y = fetch_openml('mnist_784', version=1, return_X_y=True)"
   ]
  },
  {
   "cell_type": "code",
   "execution_count": 2,
   "metadata": {},
   "outputs": [
    {
     "data": {
      "image/png": "[encoded data removed]",
      "text/plain": [
       "<Figure size 432x288 with 8 Axes>"
      ]
     },
     "metadata": {
      "needs_background": "light"
     },
     "output_type": "display_data"
    }
   ],
   "source": [
    "_, axes = plt.subplots(2, 4)\n",
    "images_and_labels = list(zip(X, y))\n",
    "for ax, (image, label) in zip(axes[0, :], images_and_labels[:4]):\n",
    "    ax.set_axis_off()\n",
    "    ax.imshow(image.reshape(28,28), cmap=plt.cm.gray_r, interpolation='nearest')\n",
    "    ax.set_title('Training: {}'.format(label))\n",
    "for ax, (image, label) in zip(axes[1, :], images_and_labels[4:8]):\n",
    "    ax.set_axis_off()\n",
    "    ax.imshow(image.reshape(28,28), cmap=plt.cm.gray_r, interpolation='nearest')\n",
    "    ax.set_title('Training: {}'.format(label))"
   ]
  },
  {
   "cell_type": "code",
   "execution_count": 3,
   "metadata": {},
   "outputs": [
    {
     "name": "stderr",
     "output_type": "stream",
     "text": [
      "/usr/lib/python3/dist-packages/sklearn/linear_model/_logistic.py:762: ConvergenceWarning: lbfgs failed to converge (status=1):\n",
      "STOP: TOTAL NO. of ITERATIONS REACHED LIMIT.\n",
      "\n",
      "Increase the number of iterations (max_iter) or scale the data as shown in:\n",
      "    https://scikit-learn.org/stable/modules/preprocessing.html\n",
      "Please also refer to the documentation for alternative solver options:\n",
      "    https://scikit-learn.org/stable/modules/linear_model.html#logistic-regression\n",
      "  n_iter_i = _check_optimize_result(\n"
     ]
    },
    {
     "data": {
      "text/plain": [
       "LogisticRegression(max_iter=3000)"
      ]
     },
     "execution_count": 3,
     "metadata": {},
     "output_type": "execute_result"
    }
   ],
   "source": [
    "from sklearn.metrics import confusion_matrix\n",
    "from sklearn.neighbors import KNeighborsClassifier\n",
    "from sklearn.linear_model import LogisticRegression\n",
    "from sklearn.model_selection import train_test_split\n",
    "y_3 = (y=='3')*1\n",
    "\n",
    "X_train,X_test,y_train,y_test = train_test_split(X,y_3)\n",
    "\n",
    "max_iter = 3000\n",
    "model = LogisticRegression(max_iter=max_iter)\n",
    "model.fit(X_train,y_train)"
   ]
  },
  {
   "cell_type": "code",
   "execution_count": 4,
   "metadata": {},
   "outputs": [
    {
     "data": {
      "text/plain": [
       "array([[15579,   164],\n",
       "       [  265,  1492]])"
      ]
     },
     "execution_count": 4,
     "metadata": {},
     "output_type": "execute_result"
    }
   ],
   "source": [
    "y_hat = model.predict(X_test)\n",
    "confusion_matrix(y_test,y_hat)"
   ]
  },
  {
   "cell_type": "markdown",
   "metadata": {},
   "source": [
    "### Confusion matrix\n",
    "\n",
    "We are seeking to detect the character '3'.\n",
    "\n",
    "In the above confusion matrix, the entries have the form\n",
    "\n",
    "![img](http://www.theanalysisfactor.com/wp-content/uploads/2014/10/confusion-matrix.png)"
   ]
  },
  {
   "cell_type": "code",
   "execution_count": 5,
   "metadata": {},
   "outputs": [
    {
     "data": {
      "text/plain": [
       "(15579, 164, 265, 1492)"
      ]
     },
     "execution_count": 5,
     "metadata": {},
     "output_type": "execute_result"
    }
   ],
   "source": [
    "cm = confusion_matrix(y_test,y_hat)\n",
    "TN,FP = cm[0]\n",
    "FN,TP = cm[1]\n",
    "TN,FP,FN,TP"
   ]
  },
  {
   "cell_type": "code",
   "execution_count": 6,
   "metadata": {},
   "outputs": [
    {
     "data": {
      "text/plain": [
       "0.9009661835748792"
      ]
     },
     "execution_count": 6,
     "metadata": {},
     "output_type": "execute_result"
    }
   ],
   "source": [
    "## From the formula\n",
    "\n",
    "precision = TP/(FP+TP)\n",
    "precision"
   ]
  },
  {
   "cell_type": "code",
   "execution_count": 7,
   "metadata": {},
   "outputs": [
    {
     "data": {
      "text/plain": [
       "0.9009661835748792"
      ]
     },
     "execution_count": 7,
     "metadata": {},
     "output_type": "execute_result"
    }
   ],
   "source": [
    "from sklearn.metrics import precision_score, recall_score, f1_score, accuracy_score\n",
    "\n",
    "## From the library\n",
    "\n",
    "precision_score(y_test,y_hat)"
   ]
  },
  {
   "cell_type": "code",
   "execution_count": 8,
   "metadata": {},
   "outputs": [
    {
     "data": {
      "text/plain": [
       "0.8491747296528173"
      ]
     },
     "execution_count": 8,
     "metadata": {},
     "output_type": "execute_result"
    }
   ],
   "source": [
    "## From the formula\n",
    "\n",
    "recall = TP/(FN+TP)\n",
    "recall"
   ]
  },
  {
   "cell_type": "code",
   "execution_count": 9,
   "metadata": {},
   "outputs": [
    {
     "data": {
      "text/plain": [
       "0.8491747296528173"
      ]
     },
     "execution_count": 9,
     "metadata": {},
     "output_type": "execute_result"
    }
   ],
   "source": [
    "## From the library\n",
    "recall_score(y_test,y_hat)"
   ]
  },
  {
   "cell_type": "code",
   "execution_count": 10,
   "metadata": {},
   "outputs": [
    {
     "data": {
      "text/plain": [
       "0.9754857142857143"
      ]
     },
     "execution_count": 10,
     "metadata": {},
     "output_type": "execute_result"
    }
   ],
   "source": [
    "## This is simple accuracy \n",
    "\n",
    "model.score(X_test,y_test)"
   ]
  },
  {
   "cell_type": "code",
   "execution_count": 11,
   "metadata": {},
   "outputs": [
    {
     "data": {
      "text/plain": [
       "0.8743041312628186"
      ]
     },
     "execution_count": 11,
     "metadata": {},
     "output_type": "execute_result"
    }
   ],
   "source": [
    "## From the formula\n",
    "f1 = 2/(1/recall + 1/precision)\n",
    "f1"
   ]
  },
  {
   "cell_type": "code",
   "execution_count": 12,
   "metadata": {},
   "outputs": [
    {
     "data": {
      "text/plain": [
       "0.8743041312628186"
      ]
     },
     "execution_count": 12,
     "metadata": {},
     "output_type": "execute_result"
    }
   ],
   "source": [
    "## Using the library\n",
    "\n",
    "f1_score(y_test,y_hat)"
   ]
  },
  {
   "cell_type": "code",
   "execution_count": 3,
   "metadata": {},
   "outputs": [
    {
     "data": {
      "text/plain": [
       "RandomForestClassifier()"
      ]
     },
     "execution_count": 3,
     "metadata": {},
     "output_type": "execute_result"
    }
   ],
   "source": [
    "from sklearn.metrics import confusion_matrix\n",
    "from sklearn.neighbors import KNeighborsClassifier\n",
    "from sklearn.ensemble import RandomForestClassifier\n",
    "from sklearn.linear_model import LogisticRegression\n",
    "from sklearn.model_selection import train_test_split\n",
    "\n",
    "X_train,X_test,y_train,y_test = train_test_split(X,y,stratify=y)\n",
    "\n",
    "model = RandomForestClassifier()\n",
    "model.fit(X_train,y_train)"
   ]
  },
  {
   "cell_type": "code",
   "execution_count": 4,
   "metadata": {},
   "outputs": [
    {
     "data": {
      "text/plain": [
       "array([[1699,    0,    1,    0,    0,    5,    8,    1,   12,    0],\n",
       "       [   0, 1939,    9,    3,    2,    2,    4,    4,    4,    2],\n",
       "       [   6,    5, 1693,    8,    6,    0,    6,   12,   10,    2],\n",
       "       [   0,    1,   31, 1690,    0,   20,    1,   16,   14,   12],\n",
       "       [   4,    3,    4,    0, 1641,    1,    9,    3,    3,   38],\n",
       "       [   6,    2,    3,   17,    4, 1519,   10,    0,   10,    7],\n",
       "       [   9,    3,    1,    0,    3,    9, 1687,    0,    7,    0],\n",
       "       [   1,    5,   23,    0,   11,    0,    0, 1760,    3,   20],\n",
       "       [   1,    9,    8,   15,    7,   18,    4,    3, 1620,   21],\n",
       "       [  14,    6,    3,   16,   15,    8,    0,   13,    9, 1656]])"
      ]
     },
     "execution_count": 4,
     "metadata": {},
     "output_type": "execute_result"
    }
   ],
   "source": [
    "y_hat = model.predict(X_test)\n",
    "cm=confusion_matrix(y_test,y_hat)\n",
    "cm"
   ]
  },
  {
   "cell_type": "code",
   "execution_count": 7,
   "metadata": {},
   "outputs": [
    {
     "data": {
      "image/png": "[encoded data removed]",
      "text/plain": [
       "<Figure size 432x288 with 2 Axes>"
      ]
     },
     "metadata": {
      "needs_background": "light"
     },
     "output_type": "display_data"
    }
   ],
   "source": [
    "import matplotlib.pyplot as plt\n",
    "import numpy as np\n",
    "\n",
    "cm = cm / np.sum(cm,axis=1)\n",
    "plt.imshow(cm)\n",
    "plt.colorbar()\n",
    "plt.show()"
   ]
  },
  {
   "cell_type": "markdown",
   "metadata": {},
   "source": [
    "### Examples of false positives and false negatives\n",
    "\n",
    "Handwritten characters are very visual, so it might be interesting to look at a few FP and FN."
   ]
  },
  {
   "cell_type": "code",
   "execution_count": 14,
   "metadata": {},
   "outputs": [],
   "source": [
    "false_predictions = (y_test != y_hat)\n",
    "true_positive = (y_test == 1)\n",
    "true_negative = ~true_positive\n",
    "\n",
    "import numpy as np\n",
    "\n",
    "false_negative = false_predictions & true_positive\n",
    "assert(FN==np.sum(false_negative))\n",
    "\n",
    "false_positive = false_predictions & true_negative\n",
    "assert(FP==np.sum(false_positive))\n",
    "\n",
    "samp_FN = X_test[false_negative]\n",
    "samp_FP = X_test[false_positive]\n",
    "y_FN = y_test[false_negative]\n",
    "y_FP = y_test[false_positive]"
   ]
  },
  {
   "cell_type": "code",
   "execution_count": 15,
   "metadata": {},
   "outputs": [
    {
     "data": {
      "image/png": "[encoded data removed]",
      "text/plain": [
       "<Figure size 432x288 with 8 Axes>"
      ]
     },
     "metadata": {
      "needs_background": "light"
     },
     "output_type": "display_data"
    }
   ],
   "source": [
    "_, axes = plt.subplots(2, 4)\n",
    "images_and_labels = list(zip(samp_FN, y_FN))\n",
    "for ax, (image, label) in zip(axes[0, :], images_and_labels[:4]):\n",
    "    ax.set_axis_off()\n",
    "    ax.imshow(image.reshape(28,28), cmap=plt.cm.gray_r, interpolation='nearest')\n",
    "    ax.set_title('False Neg'.format(label))\n",
    "for ax, (image, label) in zip(axes[1, :], images_and_labels[4:8]):\n",
    "    ax.set_axis_off()\n",
    "    ax.imshow(image.reshape(28,28), cmap=plt.cm.gray_r, interpolation='nearest')\n",
    "    ax.set_title('False Neg'.format(label))\n",
    "    \n",
    "    "
   ]
  },
  {
   "cell_type": "code",
   "execution_count": 16,
   "metadata": {},
   "outputs": [
    {
     "data": {
      "image/png": "[encoded data removed]",
      "text/plain": [
       "<Figure size 432x288 with 16 Axes>"
      ]
     },
     "metadata": {
      "needs_background": "light"
     },
     "output_type": "display_data"
    }
   ],
   "source": [
    "_, axes = plt.subplots(2, 8)\n",
    "images_and_labels = list(zip(samp_FP, y_FP))\n",
    "for ax, (image, label) in zip(axes[0, :], images_and_labels[:8]):\n",
    "    ax.set_axis_off()\n",
    "    ax.imshow(image.reshape(28,28), cmap=plt.cm.gray_r, interpolation='nearest')\n",
    "    ax.set_title('FP'.format(label))\n",
    "for ax, (image, label) in zip(axes[1, :], images_and_labels[8:16]):\n",
    "    ax.set_axis_off()\n",
    "    ax.imshow(image.reshape(28,28), cmap=plt.cm.gray_r, interpolation='nearest')\n",
    "    ax.set_title('FP'.format(label))\n",
    "    \n",
    "   "
   ]
  },
  {
   "cell_type": "markdown",
   "metadata": {},
   "source": [
    "### Adjusting the threshold\n",
    "\n",
    "The model that we are using here is logistic regression.\n",
    "\n",
    "This model has a nice feature:  It can estimate probabilities.\n",
    "\n",
    "The default threshold for a \"positive\" instance is $p = 0.5$.\n",
    "\n",
    "But we can manually adjust this.\n",
    "\n",
    "As we make it harder to be labled positive\n",
    "\n",
    "* what happens to precision?\n",
    "* what happens to recall?\n",
    "\n"
   ]
  },
  {
   "cell_type": "code",
   "execution_count": 20,
   "metadata": {},
   "outputs": [
    {
     "data": {
      "text/plain": [
       "0.9725142857142857"
      ]
     },
     "execution_count": 20,
     "metadata": {},
     "output_type": "execute_result"
    }
   ],
   "source": [
    "probs = model.predict_proba(X_test)[:,1]\n",
    "\n",
    "y_hat = (probs >= 0.75)*1\n",
    "\n",
    "accuracy_score(y_hat,y_test)"
   ]
  },
  {
   "cell_type": "code",
   "execution_count": 21,
   "metadata": {},
   "outputs": [
    {
     "data": {
      "text/plain": [
       "(0.9544159544159544, 0.7626636311895276)"
      ]
     },
     "execution_count": 21,
     "metadata": {},
     "output_type": "execute_result"
    }
   ],
   "source": [
    "precision_score(y_test,y_hat),recall_score(y_test,y_hat)"
   ]
  },
  {
   "cell_type": "code",
   "execution_count": 22,
   "metadata": {},
   "outputs": [
    {
     "data": {
      "text/plain": [
       "0.8478329642518191"
      ]
     },
     "execution_count": 22,
     "metadata": {},
     "output_type": "execute_result"
    }
   ],
   "source": [
    "f1_score(y_test,y_hat)"
   ]
  },
  {
   "cell_type": "markdown",
   "metadata": {},
   "source": [
    "### Precision and recall as a function of threshold\n",
    "\n",
    "Below we make a plot of how the threshold affects both precision and recall.\n",
    "\n"
   ]
  },
  {
   "cell_type": "code",
   "execution_count": 23,
   "metadata": {},
   "outputs": [],
   "source": [
    "import numpy as np\n",
    "precs = []\n",
    "recs = []\n",
    "f1s = []\n",
    "p = np.linspace(0,1)[1:-1]\n",
    "for pp in p:\n",
    "    y_hat = (probs > pp)\n",
    "    precs.append(precision_score(y_test,y_hat))\n",
    "    recs.append(recall_score(y_test,y_hat))\n",
    "    f1s.append(f1_score(y_test,y_hat))"
   ]
  },
  {
   "cell_type": "code",
   "execution_count": 24,
   "metadata": {},
   "outputs": [
    {
     "data": {
      "image/png": "[encoded data removed]",
      "text/plain": [
       "<Figure size 432x288 with 1 Axes>"
      ]
     },
     "metadata": {
      "needs_background": "light"
     },
     "output_type": "display_data"
    },
    {
     "data": {
      "image/png": "[encoded data removed]",
      "text/plain": [
       "<Figure size 432x288 with 1 Axes>"
      ]
     },
     "metadata": {
      "needs_background": "light"
     },
     "output_type": "display_data"
    },
    {
     "data": {
      "image/png": "[encoded data removed]",
      "text/plain": [
       "<Figure size 432x288 with 1 Axes>"
      ]
     },
     "metadata": {
      "needs_background": "light"
     },
     "output_type": "display_data"
    }
   ],
   "source": [
    "plt.plot(p,recs)\n",
    "plt.xlabel(\"threshold\")\n",
    "plt.ylabel(\"recall\")\n",
    "plt.title(\"Recall as a function of threshold\")\n",
    "plt.show()\n",
    "\n",
    "plt.plot(p,precs)\n",
    "plt.xlabel(\"threshold\")\n",
    "plt.ylabel(\"precision\")\n",
    "plt.title(\"Precision as a function of threshold\")\n",
    "plt.show()\n",
    "\n",
    "\n",
    "plt.plot(p,f1s)\n",
    "plt.xlabel(\"threshold\")\n",
    "plt.ylabel(r\"$F_1$\")\n",
    "plt.title(r\"$F_1$ as a function of threshold\")\n",
    "plt.show()\n",
    "\n",
    "\n"
   ]
  },
  {
   "cell_type": "markdown",
   "metadata": {},
   "source": [
    "### Recall as a function of precision\n",
    "\n",
    "Below we plot recall as a function of precision.\n",
    "\n",
    "Ideally recall would be 1.0 for every value of precision.\n",
    "\n"
   ]
  },
  {
   "cell_type": "code",
   "execution_count": 25,
   "metadata": {},
   "outputs": [
    {
     "data": {
      "image/png": "[encoded data removed]",
      "text/plain": [
       "<Figure size 432x288 with 1 Axes>"
      ]
     },
     "metadata": {
      "needs_background": "light"
     },
     "output_type": "display_data"
    }
   ],
   "source": [
    "plt.plot(precs,recs)\n",
    "plt.xlabel(\"precision\")\n",
    "plt.ylabel(\"recall\")\n",
    "plt.title(\"Recall as a function of precision\")\n",
    "plt.show()"
   ]
  },
  {
   "cell_type": "markdown",
   "metadata": {},
   "source": [
    "### ROC Curves\n",
    "\n",
    "ROC = [Receiver Operator Characteristic](https://en.wikipedia.org/wiki/Receiver_operating_characteristic)\n",
    "\n",
    "The ROC curve plots *true positive rate* (aka recall or sensitivity) against the *false positive rate*.\n",
    "\n",
    "The false positive rate is \n",
    "\n",
    "$$\\frac{FP}{N} = \\frac{FP}{TN+FP}$$\n",
    "\n",
    "This is the \"probability of false alarm\".\n",
    "\n",
    "As the probability of false alarm goes to 1, recall also goes to 1.\n",
    "\n",
    "(Because the number of false positives approaches the number of negatives.)\n",
    "\n",
    "As the probability of false alarm goes to 0, recall also goes to 0. \n",
    "\n",
    "(Because fewer positives are predicted.)\n",
    "\n",
    "\n",
    "\n"
   ]
  },
  {
   "cell_type": "code",
   "execution_count": 26,
   "metadata": {},
   "outputs": [],
   "source": [
    "from sklearn.metrics import roc_curve\n",
    "\n",
    "fpr, tpr,thresholds = roc_curve(y_test,probs)"
   ]
  },
  {
   "cell_type": "code",
   "execution_count": 27,
   "metadata": {},
   "outputs": [
    {
     "data": {
      "image/png": "[encoded data removed]",
      "text/plain": [
       "<Figure size 432x288 with 1 Axes>"
      ]
     },
     "metadata": {
      "needs_background": "light"
     },
     "output_type": "display_data"
    }
   ],
   "source": [
    "def plot_roc_curve(fpr,tpr,label=None):\n",
    "    plt.plot(fpr,tpr,linewidth=2,label=label)\n",
    "    plt.plot([0,1],[0,1],'k--')\n",
    "    plt.axis([0,1,0,1])\n",
    "    plt.xlabel(\"False Positive Rate\")\n",
    "    plt.ylabel(\"True Positive Rate =  Recall\")\n",
    "    plt.title(\"ROC curve\")\n",
    "plot_roc_curve(fpr,tpr)\n",
    "plt.show()"
   ]
  },
  {
   "cell_type": "markdown",
   "metadata": {},
   "source": [
    "### ROC AUC\n",
    "\n",
    "A measure of the quality of a model is the area under the ROC curve (AUC).\n",
    "\n",
    "A perfect model will have a ROC AUC of 1.\n",
    "\n",
    "A random model will have a ROC AUC score of $\\frac{1}{2}$.\n",
    "\n",
    "---\n",
    "\n",
    "To determine a ROC curve you need the probability (or confidence) that the model has in each decision.\n"
   ]
  },
  {
   "cell_type": "code",
   "execution_count": 28,
   "metadata": {},
   "outputs": [
    {
     "data": {
      "text/plain": [
       "0.9780268224838418"
      ]
     },
     "execution_count": 28,
     "metadata": {},
     "output_type": "execute_result"
    }
   ],
   "source": [
    "from sklearn.metrics import roc_auc_score\n",
    "\n",
    "roc_auc_score(y_test,probs)"
   ]
  },
  {
   "cell_type": "code",
   "execution_count": 29,
   "metadata": {},
   "outputs": [
    {
     "data": {
      "text/plain": [
       "RandomForestClassifier()"
      ]
     },
     "execution_count": 29,
     "metadata": {},
     "output_type": "execute_result"
    }
   ],
   "source": [
    "from sklearn.ensemble import RandomForestClassifier\n",
    "\n",
    "model = RandomForestClassifier()\n",
    "\n",
    "model.fit(X_train,y_train)"
   ]
  },
  {
   "cell_type": "code",
   "execution_count": 33,
   "metadata": {},
   "outputs": [
    {
     "data": {
      "image/png": "[encoded data removed]",
      "text/plain": [
       "<Figure size 432x288 with 1 Axes>"
      ]
     },
     "metadata": {
      "needs_background": "light"
     },
     "output_type": "display_data"
    }
   ],
   "source": [
    "probs_RF = model.predict_proba(X_test)[:,1]\n",
    "\n",
    "fpr_RF, tpr_RF ,thresholds_RF = roc_curve(y_test,probs_RF)\n",
    "\n",
    "\n",
    "plot_roc_curve(fpr,tpr,\"Log Reg\")\n",
    "plot_roc_curve(fpr_RF,tpr_RF,\"Rand Forest\")\n",
    "plt.legend()\n",
    "plt.show()\n"
   ]
  },
  {
   "cell_type": "code",
   "execution_count": 34,
   "metadata": {},
   "outputs": [
    {
     "data": {
      "text/plain": [
       "0.9972158082310372"
      ]
     },
     "execution_count": 34,
     "metadata": {},
     "output_type": "execute_result"
    }
   ],
   "source": [
    "roc_auc_score(y_test,probs_RF)"
   ]
  },
  {
   "cell_type": "code",
   "execution_count": 35,
   "metadata": {},
   "outputs": [
    {
     "data": {
      "text/plain": [
       "(0.9953977646285339, 0.8616960728514513, 0.9237339841366687)"
      ]
     },
     "execution_count": 35,
     "metadata": {},
     "output_type": "execute_result"
    }
   ],
   "source": [
    "y_hat = model.predict(X_test)\n",
    "\n",
    "precision_score(y_test,y_hat), recall_score(y_test,y_hat), f1_score(y_test,y_hat)"
   ]
  },
  {
   "cell_type": "code",
   "execution_count": null,
   "metadata": {},
   "outputs": [],
   "source": []
  }
 ],
 "metadata": {
  "kernelspec": {
   "display_name": "Python 3",
   "language": "python",
   "name": "python3"
  },
  "language_info": {
   "codemirror_mode": {
    "name": "ipython",
    "version": 3
   },
   "file_extension": ".py",
   "mimetype": "text/x-python",
   "name": "python",
   "nbconvert_exporter": "python",
   "pygments_lexer": "ipython3",
   "version": "3.8.6"
  }
 },
 "nbformat": 4,
 "nbformat_minor": 2
}
