{
 "cells": [
  {
   "cell_type": "markdown",
   "id": "572ec98b",
   "metadata": {},
   "source": [
    "### Introduction to Machine Learning\n",
    "\n",
    "We will\n",
    "\n",
    "* Outline the three basic types of machine learning\n",
    "* Set out the notation we will use in the course\n",
    "\n",
    "The material comes from Chapter 1 of *Python Machine Learning* by Rascha and Mirjalili."
   ]
  },
  {
   "cell_type": "markdown",
   "id": "9815f411",
   "metadata": {},
   "source": [
    "### Three ways to learn\n",
    "\n",
    "Traditionally ML is broken up into three types.\n",
    "\n",
    "![types](types.png)\n"
   ]
  },
  {
   "cell_type": "markdown",
   "id": "b2d103ba-de2a-4181-b899-425998ce939f",
   "metadata": {},
   "source": [
    "### Online vs Offline\n",
    "\n",
    "Learning can furthermore be \"offline\" or \"online\".\n",
    "\n",
    "* **Online** The dataset is continually updated as more data comes in.\n",
    "\n",
    "* **Offline** The dataset is complete.\n",
    "\n",
    "All of the 3 categories mentioned above have online and offline techniques.\n"
   ]
  },
  {
   "cell_type": "markdown",
   "id": "ea523258-3380-4514-a95f-767b94dceddf",
   "metadata": {},
   "source": [
    "### Supervised Learning\n",
    "\n",
    "In supervised learning we are trying to predict a target variable from a list of features.\n",
    "\n",
    "Examples:\n",
    "\n",
    "* Given height, weight, age, BMI, income, zip code, etc. of a person, predict their five year cancer risk.\n",
    "\n",
    "* Given a 128x128 greyscale image, predict whether the image is of a cat.\n",
    "\n",
    "* Given a 128x128 greyscale image of a cow, predict its weight.\n",
    "\n",
    "Supervised learning happens when the *right answer* is included in the data we have.\n",
    "\n",
    "Sometimes this is called **labeled** data.  \n",
    "\n",
    "The labels were put there often by humans (but not always).\n",
    "\n",
    "\n"
   ]
  },
  {
   "cell_type": "markdown",
   "id": "bf726d6a-c486-460b-aa9d-ac524e5b6241",
   "metadata": {},
   "source": [
    "### Supervised Learning: Discrete Target\n",
    "\n",
    "Supervised learning when the target variable is discrete is called **classification**.  \n",
    "\n",
    "There are finitely many classes to which a data point might belong.\n",
    "\n",
    "Examples:\n",
    "\n",
    "* Given a 128x128 greyscale image, predict whether the image is of a cat.\n",
    "* Classify an email as spam or non spam.\n",
    "* Classify a political blog as conservative or liberal.\n",
    "* Classify a tweet as happy, sad, angry, or neutral.\n",
    "* Classify behavior on a server as normal or malicious.\n",
    "\n",
    "In each case the true label is one of finitely many possibilities.\n",
    "\n",
    "![classification](classification.png)"
   ]
  },
  {
   "cell_type": "markdown",
   "id": "ffacf316-ee53-45ca-b8f2-29aae7bcb3ae",
   "metadata": {},
   "source": [
    "### Supervised Learning: Continuous Target\n",
    "\n",
    "Supervised learning when the target variable is a continuous quantity is called **regression**.\n",
    "\n",
    "Examples:\n",
    "\n",
    "* Given a 128x128 greyscale image of a cow, predict its weight.\n",
    "* Given a chemical description of concrete, predict how long it will take to dry.\n",
    "* Given a description of the microbiome of a dead body, predict how long it has been dead.\n",
    "* Given the online behavior of an individual, predict his or her net worth.\n",
    "\n",
    "In each case the variable to be predicted is one of a large number of continuously varying possibilities.\n",
    "\n",
    "![regression](regression.png)\n"
   ]
  },
  {
   "cell_type": "markdown",
   "id": "2d7f6838-2509-4923-a521-2055d77f3b99",
   "metadata": {},
   "source": [
    "### Supervised ML, Overview\n",
    "\n",
    "![supervised](supervised.png)"
   ]
  },
  {
   "cell_type": "markdown",
   "id": "ac25d496-01f4-415f-ac04-aae6942cede1",
   "metadata": {},
   "source": [
    "### Unsupervised Machine Learning\n",
    "\n",
    "In unsupervised machine learning, we do not know the value of the target variable for the data instances.\n",
    "\n",
    "Examples:\n",
    "\n",
    "* A bunch of emails\n",
    "* A bunch of images of stuff\n",
    "* Data gathered from the James Webb Space Telescope\n",
    "* Logs from a server in a datacenter\n",
    "\n",
    "Notice that unlabeled data is **much** more readily available than labeled data.\n",
    "\n",
    "But what can you do with it?\n",
    "\n"
   ]
  },
  {
   "cell_type": "markdown",
   "id": "e17ee759-0a83-4cf0-8344-2061a11d1728",
   "metadata": {},
   "source": [
    "### Unsupervised ML: Clustering\n",
    "\n",
    "Sometimes it is possible that the data can neatly be organized into different types.  These are called **clusters** and discovering them is called **clustering**.\n",
    "\n",
    "![rocks](https://images.unsplash.com/photo-1507832321772-e86cc0452e9c?ixlib=rb-1.2.1&ixid=MnwxMjA3fDB8MHxzZWFyY2h8MXx8cm9ja3N8ZW58MHx8MHx8&w=1000&q=80)\n",
    "\n",
    "![clustering](clustering.png)"
   ]
  },
  {
   "cell_type": "markdown",
   "id": "7ed36714-b6e7-4b30-a2a4-eb9a5a5384eb",
   "metadata": {},
   "source": [
    "### Unsupervised ML: Dimensionality Reduction\n",
    "\n",
    "Often data appears to be high dimensional but actually mostly lies on a low dimensional manifold.\n",
    "\n",
    "![dimred](dimred.png)\n",
    "\n",
    "There are automatic methods of finding low dimensional representations of data.\n",
    "\n",
    "Even if the data is inherently high dimensional, we can still find the most informative low dimensional representation.\n",
    "\n",
    "This can speed up learning and provide interesting visualizations.\n"
   ]
  },
  {
   "cell_type": "markdown",
   "id": "b2db79d2-844c-4b01-abf6-fd6b47db9196",
   "metadata": {},
   "source": [
    "### Unsupervised ML: Hierarchical Clustering\n",
    "\n",
    "Sometimes things don't just cluster... they cluster \"hierarchically\".\n",
    "\n",
    "The tree of life is an example.\n",
    "\n",
    "![hcluster](hcluster.png)"
   ]
  },
  {
   "cell_type": "markdown",
   "id": "e4f802be-1ad5-4298-869f-a7b7473cabb8",
   "metadata": {},
   "source": [
    "### Reinforcement Learning\n",
    "\n",
    "In reinforcement learning the learner is an **agent** that interacts with an **environment**.  The agent encounters **states** of the environment and responds with **actions**.  In response to the action, the environment issues a positive or negative **reward** and updates the state.\n",
    "\n",
    "![reinforcement](reinforcement.png)\n",
    "\n",
    "Examples:\n",
    "\n",
    "* An agent learns to play Atari games by playing them over and over. Environment: images from the game.\n",
    "\n",
    "* An agent learns to play chess or go by playing itself over and over ([alphazero](https://en.wikipedia.org/wiki/AlphaZero)).  Beats \"stockfish\" the previous world champion engine in shock upset.\n",
    "\n",
    "* An agent learns to rotate a cube in a robotic hand.\n",
    "\n"
   ]
  },
  {
   "cell_type": "markdown",
   "id": "74d3b569-0277-40bd-87e4-616364409742",
   "metadata": {},
   "source": [
    "### Terminology and Notation\n",
    "\n",
    "There are many synonymous notations and names because ML emerged out of many disciplines.\n",
    "\n",
    "We think of datasets as matrices.  The rows are the **instances** or **data points**. The columns are **features**.\n",
    "\n",
    "In supervised learning there is often a **target** column.  The aim of supervised learning is to predict the target column using the other columns.\n",
    "\n",
    "![terminology](termnote.png)\n"
   ]
  },
  {
   "cell_type": "markdown",
   "id": "8474530b-521a-4ad9-a9d6-f6c79ba4f124",
   "metadata": {},
   "source": [
    "### Mathematical Notation\n",
    "\n",
    "\n",
    "Suppose we have some sample of data ${\\bf {x}}^{(1)},{\\bf{x}}^{(2)},\\ldots,{\\bf {x}}^{(n)}$ for some integer $n$ drawn from some natural source.\n",
    "\n",
    "Typically for all $i =1,2,\\ldots,n$, ${\\bf {x}}^{(i)} \\in \\mathbb{R}^d$ for some $d \\in \\mathbb{N}$.  \n",
    "\n",
    "The integer $d$ is the *dimension* of the data.\n",
    "\n",
    "The ${\\bf {x}}^{(i)}$ might be virtually anything.  Some examples...\n",
    "\n",
    "* Pictures of cats\n",
    "* Measurements of shellfish parts\n",
    "* Measurements of flower parts\n",
    "* *etc*\n",
    "\n",
    "We think of the data as being arranged in one large matrix $X$ with $n$ rows and $d$ columns.  The $i$th row of $X$ is the data point ${\\bf {x}}^{(i)}$.  (Because all vectors are column vectors by default, the $i$th row of $X$ is technically ${\\bf {x}}^{(i)T}$, the transpose of ${\\bf {x}}^{(i)}$.)\n",
    "\n",
    "Usually we have $n >> d$ and the matrix $X$ is \"tall and skinny\".\n"
   ]
  },
  {
   "cell_type": "markdown",
   "id": "d5dd6bef-b88f-43fb-b185-a5ea6d125f6a",
   "metadata": {},
   "source": [
    "![X matrix](Xmat.png)\n",
    "\n",
    "![more notation](moreNote.png)"
   ]
  },
  {
   "cell_type": "markdown",
   "id": "811a90c1-df32-44d6-8bd3-e11a7bea7605",
   "metadata": {},
   "source": [
    "### Feature Engineering\n",
    "\n",
    "Suppose you are in the position of selecting the features of an iris flower that will be useful for predicting the species.\n",
    "\n",
    "How would you go about selecting them?\n",
    "\n",
    "What about a column that is the **ratio** of sepal length to petal length? \n",
    "\n",
    "There can be additional computed columns in addition to the base observations.\n",
    "\n",
    "In a neural network often the lower layers transform the raw observations into a feature set that the higher layers process.\n",
    "\n",
    "For example the first few layers might standardize an image of a handwritten digit (centering it, straightening it, removing noise, removing color).\n",
    "\n",
    "Often we do not understand exactly how this \"automatic\" feature engineering works. \n",
    "\n",
    "![fe](https://www.researchgate.net/publication/337619475/figure/fig2/AS:830399039156224@1574993967836/The-general-structure-of-convolutional-neural-network-Convolutional-neural-network.png)\n",
    "\n",
    "### Cost/Benefit of more features\n",
    "\n",
    "As you add features you have more information about the problem and it usually becomes easier, at least on the training set.  \n",
    "\n",
    "But when $X$ is \"wide\" and \"short\", spurious corellations with the target variable can occur. \n",
    "\n",
    "This is a simple form of \"overfitting\" which becomes more problematic as the number of features increases.\n",
    "\n",
    "More features also usually means more training time. \n",
    "\n",
    "Also the points become \"further apart\" in high dimensional space and it is harder to see what the form of the data is.\n",
    "\n",
    "![curse](http://www.visiondummy.com/wp-content/uploads/2014/04/curseofdimensionality.png)\n"
   ]
  },
  {
   "cell_type": "markdown",
   "id": "78b4aeb6",
   "metadata": {},
   "source": [
    "### Models\n",
    "\n",
    "A model in ML refers to a learning algorithm plus a particular set of weights or parameters.\n",
    "\n",
    "For example a neural network with certain values for weights is a model.\n",
    "\n",
    "Neural networks are a class of models.\n",
    "\n",
    "A specific neural net with specific weights is a model.\n",
    "\n",
    "\n",
    "![per](https://www.allaboutcircuits.com/uploads/articles/how-to-train-a-basic-perceptron-neural-network_rk_aac_image1.jpg)\n"
   ]
  },
  {
   "cell_type": "markdown",
   "id": "b48ba531",
   "metadata": {},
   "source": [
    "### Model Selection\n",
    "\n",
    "Model **selection** refers to the process of finding the best model for the data you have.\n",
    "\n",
    "Usually you would pick a class of models (eg. linear regression).\n",
    "\n",
    "Then, using the data, you pick a specific model from this class.\n",
    "\n",
    "Your hope is that this will be the best performing model from your class on **new** data.\n"
   ]
  },
  {
   "cell_type": "markdown",
   "id": "927e5e2a",
   "metadata": {},
   "source": [
    "### Model Evaluation\n",
    "\n",
    "Model **evaluation** refers to estimating how well a model will perform **out of sample**.  That means on **new data** that it has never seen before.\n",
    "\n",
    "While we can use \"best performance on the training set\" for model selection, we cannot use training set performance for model evaluation.\n",
    "\n",
    "That is because good performance on the training set is partly because a model works well and partly because of luck.\n",
    "\n",
    "We cannot distinguish the two.\n",
    "\n",
    "When the model sees new data, the \"luck\" goes away, and performance seems to diminish.\n",
    "\n",
    "**Model evaluation** must be done with **test data** which is set aside and not used in training.\n"
   ]
  },
  {
   "cell_type": "code",
   "execution_count": null,
   "id": "4219bebd",
   "metadata": {},
   "outputs": [],
   "source": []
  }
 ],
 "metadata": {
  "kernelspec": {
   "display_name": "Python 3 (ipykernel)",
   "language": "python",
   "name": "python3"
  },
  "language_info": {
   "codemirror_mode": {
    "name": "ipython",
    "version": 3
   },
   "file_extension": ".py",
   "mimetype": "text/x-python",
   "name": "python",
   "nbconvert_exporter": "python",
   "pygments_lexer": "ipython3",
   "version": "3.10.6"
  }
 },
 "nbformat": 4,
 "nbformat_minor": 5
}
