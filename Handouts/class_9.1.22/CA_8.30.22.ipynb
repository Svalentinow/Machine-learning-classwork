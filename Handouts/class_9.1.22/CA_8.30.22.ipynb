{
 "cells": [
  {
   "cell_type": "markdown",
   "metadata": {
    "collapsed": false
   },
   "source": [
    "## Class activities for 8/30/22\n",
    "\n",
    "For these activities you should find some data in your `Handouts` folder in a directory called `some_data`.\n",
    "\n",
    "We will try to accomplish the following goals.\n",
    "\n",
    "1. Solve the Python Challenge about mapping students to graders.\n",
    "2. Load and analyze the data about genes using pandas\n",
    "3. Load the year of birth names data and do some analysis\n",
    "4. (Time permitting) Do some genetic analysis using `numpy`. \n",
    "\n"
   ]
  },
  {
   "cell_type": "code",
   "execution_count": 1,
   "metadata": {
    "collapsed": false
   },
   "outputs": [
   ],
   "source": [
    "### Your work here!\n",
    "\n",
    "### I will be solving the above problems in real time in my version of this notebook...\n",
    "\n",
    "### You can follow along and try your own solutions in this workspace. \n",
    "\n"
   ]
  },
  {
   "cell_type": "code",
   "execution_count": 3,
   "metadata": {
    "collapsed": false
   },
   "outputs": [
    {
     "data": {
      "text/plain": [
       "['A', 'B', 'C', 'D']"
      ]
     },
     "execution_count": 3,
     "metadata": {
     },
     "output_type": "execute_result"
    }
   ],
   "source": [
    "import numpy as np\n",
    "\n",
    "students = \"A B C D\".split()\n",
    "students"
   ]
  },
  {
   "cell_type": "code",
   "execution_count": 4,
   "metadata": {
    "collapsed": false
   },
   "outputs": [
   ],
   "source": [
    "students = np.array(students)"
   ]
  },
  {
   "cell_type": "code",
   "execution_count": 1,
   "metadata": {
    "collapsed": false
   },
   "outputs": [
   ],
   "source": [
    "import numpy as np\n"
   ]
  },
  {
   "cell_type": "code",
   "execution_count": 2,
   "metadata": {
    "collapsed": false
   },
   "outputs": [
   ],
   "source": [
    "students = np.array(\"A B C D\".split())"
   ]
  },
  {
   "cell_type": "code",
   "execution_count": 6,
   "metadata": {
    "collapsed": false
   },
   "outputs": [
    {
     "data": {
      "text/plain": [
       "array(['A', 'B', 'C', 'D'], dtype='<U1')"
      ]
     },
     "execution_count": 6,
     "metadata": {
     },
     "output_type": "execute_result"
    }
   ],
   "source": [
    "students\n"
   ]
  },
  {
   "cell_type": "code",
   "execution_count": 41,
   "metadata": {
    "collapsed": false
   },
   "outputs": [
    {
     "name": "stdin",
     "output_type": "stream",
     "text": [
      "students:  mark Mitchell pete\n"
     ]
    },
    {
     "name": "stdout",
     "output_type": "stream",
     "text": [
      "mark has been assigned pete and Mitchell as his or her graders\n",
      "Mitchell has been assigned mark and pete as his or her graders\n",
      "pete has been assigned Mitchell and mark as his or her graders\n"
     ]
    }
   ],
   "source": [
    "import numpy as np\n",
    "\n",
    "students = input(\"students: \").split()\n",
    "\n",
    "rnd = np.random\n",
    "\n",
    "while True:\n",
    "    students_scramble = rnd.choice(students,len(students),replace=False)\n",
    "    if (~(students_scramble == students)).all():\n",
    "        break\n",
    "        \n",
    "first_grader = np.copy(students_scramble)\n",
    "first_grader\n",
    "\n",
    "while True:\n",
    "    students_scramble = rnd.choice(students,len(students),replace=False)\n",
    "    if (~(students_scramble == students)).all() and (~(students_scramble == first_grader)).all():\n",
    "        break\n",
    "\n",
    "second_grader=np.copy(students_scramble)\n",
    "\n",
    "for s1,s2,s3 in zip(students,first_grader,second_grader):\n",
    "    print(f\"{s1} has been assigned {s2} and {s3} as his or her graders\")"
   ]
  },
  {
   "cell_type": "code",
   "execution_count": 30,
   "metadata": {
    "collapsed": false
   },
   "outputs": [
    {
     "data": {
      "text/plain": [
       "array(['D', 'A', 'B', 'C'], dtype='<U1')"
      ]
     },
     "execution_count": 30,
     "metadata": {
     },
     "output_type": "execute_result"
    }
   ],
   "source": [
    "first_grader"
   ]
  },
  {
   "cell_type": "code",
   "execution_count": 42,
   "metadata": {
    "collapsed": false
   },
   "outputs": [
    {
     "data": {
      "text/plain": [
       "array([ 7,  8,  9, 10, 11, 12, 13, 14, 15, 16])"
      ]
     },
     "execution_count": 42,
     "metadata": {
     },
     "output_type": "execute_result"
    }
   ],
   "source": [
    "A = np.arange(7,17)\n",
    "A"
   ]
  },
  {
   "cell_type": "code",
   "execution_count": 43,
   "metadata": {
    "collapsed": false
   },
   "outputs": [
    {
     "data": {
      "text/plain": [
       "array([14, 16, 18, 20, 22, 24, 26, 28, 30, 32])"
      ]
     },
     "execution_count": 43,
     "metadata": {
     },
     "output_type": "execute_result"
    }
   ],
   "source": [
    "A*2"
   ]
  },
  {
   "cell_type": "code",
   "execution_count": 51,
   "metadata": {
    "collapsed": false
   },
   "outputs": [
    {
     "data": {
      "text/html": [
       "<div>\n",
       "<style scoped>\n",
       "    .dataframe tbody tr th:only-of-type {\n",
       "        vertical-align: middle;\n",
       "    }\n",
       "\n",
       "    .dataframe tbody tr th {\n",
       "        vertical-align: top;\n",
       "    }\n",
       "\n",
       "    .dataframe thead th {\n",
       "        text-align: right;\n",
       "    }\n",
       "</style>\n",
       "<table border=\"1\" class=\"dataframe\">\n",
       "  <thead>\n",
       "    <tr style=\"text-align: right;\">\n",
       "      <th></th>\n",
       "      <th>mir</th>\n",
       "      <th>sapiens</th>\n",
       "      <th>denisovan</th>\n",
       "      <th>altai</th>\n",
       "      <th>vindja</th>\n",
       "      <th>chag</th>\n",
       "      <th>DiffSapDen</th>\n",
       "      <th>DiffSapVin</th>\n",
       "      <th>DiffSapAlt</th>\n",
       "      <th>DiffDenVin</th>\n",
       "      <th>DiffDenAlt</th>\n",
       "      <th>DiffAltVin</th>\n",
       "      <th>DiffSapCha</th>\n",
       "      <th>DiffVinCha</th>\n",
       "      <th>DiffDenCha</th>\n",
       "      <th>DiffAltCha</th>\n",
       "    </tr>\n",
       "  </thead>\n",
       "  <tbody>\n",
       "    <tr>\n",
       "      <th>0</th>\n",
       "      <td>miR-6819-5p</td>\n",
       "      <td>1</td>\n",
       "      <td>1</td>\n",
       "      <td>1</td>\n",
       "      <td>1</td>\n",
       "      <td>1</td>\n",
       "      <td>0</td>\n",
       "      <td>0</td>\n",
       "      <td>0</td>\n",
       "      <td>0</td>\n",
       "      <td>0</td>\n",
       "      <td>0</td>\n",
       "      <td>0</td>\n",
       "      <td>0</td>\n",
       "      <td>0</td>\n",
       "      <td>0</td>\n",
       "    </tr>\n",
       "    <tr>\n",
       "      <th>1</th>\n",
       "      <td>miR-668-5p</td>\n",
       "      <td>0</td>\n",
       "      <td>0</td>\n",
       "      <td>0</td>\n",
       "      <td>0</td>\n",
       "      <td>0</td>\n",
       "      <td>0</td>\n",
       "      <td>0</td>\n",
       "      <td>0</td>\n",
       "      <td>0</td>\n",
       "      <td>0</td>\n",
       "      <td>0</td>\n",
       "      <td>0</td>\n",
       "      <td>0</td>\n",
       "      <td>0</td>\n",
       "      <td>0</td>\n",
       "    </tr>\n",
       "    <tr>\n",
       "      <th>2</th>\n",
       "      <td>miR-10527-5p</td>\n",
       "      <td>0</td>\n",
       "      <td>0</td>\n",
       "      <td>0</td>\n",
       "      <td>0</td>\n",
       "      <td>0</td>\n",
       "      <td>0</td>\n",
       "      <td>0</td>\n",
       "      <td>0</td>\n",
       "      <td>0</td>\n",
       "      <td>0</td>\n",
       "      <td>0</td>\n",
       "      <td>0</td>\n",
       "      <td>0</td>\n",
       "      <td>0</td>\n",
       "      <td>0</td>\n",
       "    </tr>\n",
       "    <tr>\n",
       "      <th>3</th>\n",
       "      <td>miR-3689c</td>\n",
       "      <td>1</td>\n",
       "      <td>1</td>\n",
       "      <td>1</td>\n",
       "      <td>1</td>\n",
       "      <td>1</td>\n",
       "      <td>0</td>\n",
       "      <td>0</td>\n",
       "      <td>0</td>\n",
       "      <td>0</td>\n",
       "      <td>0</td>\n",
       "      <td>0</td>\n",
       "      <td>0</td>\n",
       "      <td>0</td>\n",
       "      <td>0</td>\n",
       "      <td>0</td>\n",
       "    </tr>\n",
       "    <tr>\n",
       "      <th>4</th>\n",
       "      <td>miR-552-3p</td>\n",
       "      <td>0</td>\n",
       "      <td>0</td>\n",
       "      <td>0</td>\n",
       "      <td>0</td>\n",
       "      <td>0</td>\n",
       "      <td>0</td>\n",
       "      <td>0</td>\n",
       "      <td>0</td>\n",
       "      <td>0</td>\n",
       "      <td>0</td>\n",
       "      <td>0</td>\n",
       "      <td>0</td>\n",
       "      <td>0</td>\n",
       "      <td>0</td>\n",
       "      <td>0</td>\n",
       "    </tr>\n",
       "  </tbody>\n",
       "</table>\n",
       "</div>"
      ],
      "text/plain": [
       "            mir  sapiens  denisovan  altai  vindja  chag  DiffSapDen  \\\n",
       "0   miR-6819-5p        1          1      1       1     1           0   \n",
       "1    miR-668-5p        0          0      0       0     0           0   \n",
       "2  miR-10527-5p        0          0      0       0     0           0   \n",
       "3     miR-3689c        1          1      1       1     1           0   \n",
       "4    miR-552-3p        0          0      0       0     0           0   \n",
       "\n",
       "   DiffSapVin  DiffSapAlt  DiffDenVin  DiffDenAlt  DiffAltVin  DiffSapCha  \\\n",
       "0           0           0           0           0           0           0   \n",
       "1           0           0           0           0           0           0   \n",
       "2           0           0           0           0           0           0   \n",
       "3           0           0           0           0           0           0   \n",
       "4           0           0           0           0           0           0   \n",
       "\n",
       "   DiffVinCha  DiffDenCha  DiffAltCha  \n",
       "0           0           0           0  \n",
       "1           0           0           0  \n",
       "2           0           0           0  \n",
       "3           0           0           0  \n",
       "4           0           0           0  "
      ]
     },
     "execution_count": 51,
     "metadata": {
     },
     "output_type": "execute_result"
    }
   ],
   "source": [
    "import pandas as pd\n",
    "\n",
    "df = pd.read_csv(\"../Handouts/some_data/genes/ID3.csv\")\n",
    "df.head(5)"
   ]
  },
  {
   "cell_type": "code",
   "execution_count": 54,
   "metadata": {
    "collapsed": false
   },
   "outputs": [
   ],
   "source": [
    "df=df.set_index(\"mir\")"
   ]
  },
  {
   "cell_type": "code",
   "execution_count": 58,
   "metadata": {
    "collapsed": false
   },
   "outputs": [
   ],
   "source": [
    "df_homo = df[[\"sapiens\",\"denisovan\",\"altai\",\"vindja\",\"chag\"]]"
   ]
  },
  {
   "cell_type": "code",
   "execution_count": 77,
   "metadata": {
    "collapsed": false
   },
   "outputs": [
    {
     "data": {
      "text/html": [
       "<div>\n",
       "<style scoped>\n",
       "    .dataframe tbody tr th:only-of-type {\n",
       "        vertical-align: middle;\n",
       "    }\n",
       "\n",
       "    .dataframe tbody tr th {\n",
       "        vertical-align: top;\n",
       "    }\n",
       "\n",
       "    .dataframe thead th {\n",
       "        text-align: right;\n",
       "    }\n",
       "</style>\n",
       "<table border=\"1\" class=\"dataframe\">\n",
       "  <thead>\n",
       "    <tr style=\"text-align: right;\">\n",
       "      <th></th>\n",
       "      <th>sapiens</th>\n",
       "      <th>denisovan</th>\n",
       "      <th>altai</th>\n",
       "      <th>vindja</th>\n",
       "      <th>chag</th>\n",
       "    </tr>\n",
       "  </thead>\n",
       "  <tbody>\n",
       "    <tr>\n",
       "      <th>sapiens</th>\n",
       "      <td>1.000000</td>\n",
       "      <td>0.978893</td>\n",
       "      <td>0.984923</td>\n",
       "      <td>0.985919</td>\n",
       "      <td>0.984923</td>\n",
       "    </tr>\n",
       "    <tr>\n",
       "      <th>denisovan</th>\n",
       "      <td>0.978893</td>\n",
       "      <td>1.000000</td>\n",
       "      <td>0.991964</td>\n",
       "      <td>0.992965</td>\n",
       "      <td>0.991964</td>\n",
       "    </tr>\n",
       "    <tr>\n",
       "      <th>altai</th>\n",
       "      <td>0.984923</td>\n",
       "      <td>0.991964</td>\n",
       "      <td>1.000000</td>\n",
       "      <td>0.998995</td>\n",
       "      <td>0.997991</td>\n",
       "    </tr>\n",
       "    <tr>\n",
       "      <th>vindja</th>\n",
       "      <td>0.985919</td>\n",
       "      <td>0.992965</td>\n",
       "      <td>0.998995</td>\n",
       "      <td>1.000000</td>\n",
       "      <td>0.998995</td>\n",
       "    </tr>\n",
       "    <tr>\n",
       "      <th>chag</th>\n",
       "      <td>0.984923</td>\n",
       "      <td>0.991964</td>\n",
       "      <td>0.997991</td>\n",
       "      <td>0.998995</td>\n",
       "      <td>1.000000</td>\n",
       "    </tr>\n",
       "  </tbody>\n",
       "</table>\n",
       "</div>"
      ],
      "text/plain": [
       "            sapiens  denisovan     altai    vindja      chag\n",
       "sapiens    1.000000   0.978893  0.984923  0.985919  0.984923\n",
       "denisovan  0.978893   1.000000  0.991964  0.992965  0.991964\n",
       "altai      0.984923   0.991964  1.000000  0.998995  0.997991\n",
       "vindja     0.985919   0.992965  0.998995  1.000000  0.998995\n",
       "chag       0.984923   0.991964  0.997991  0.998995  1.000000"
      ]
     },
     "execution_count": 77,
     "metadata": {
     },
     "output_type": "execute_result"
    }
   ],
   "source": [
    "homo_corr = df_homo.corr()\n",
    "homo_corr"
   ]
  },
  {
   "cell_type": "code",
   "execution_count": 71,
   "metadata": {
    "collapsed": false
   },
   "outputs": [
   ],
   "source": [
    "disagree = df_homo['sapiens'] != df_homo['denisovan']"
   ]
  },
  {
   "cell_type": "code",
   "execution_count": 72,
   "metadata": {
    "collapsed": false
   },
   "outputs": [
    {
     "data": {
      "text/plain": [
       "mir\n",
       "miR-6819-5p     False\n",
       "miR-668-5p      False\n",
       "miR-10527-5p    False\n",
       "miR-3689c       False\n",
       "miR-552-3p      False\n",
       "                ...  \n",
       "miR-4662a-3p    False\n",
       "miR-10397-5p    False\n",
       "miR-1178-3p     False\n",
       "miR-6769b-5p    False\n",
       "miR-432-5p      False\n",
       "Length: 2647, dtype: bool"
      ]
     },
     "execution_count": 72,
     "metadata": {
     },
     "output_type": "execute_result"
    }
   ],
   "source": [
    "disagree"
   ]
  },
  {
   "cell_type": "code",
   "execution_count": 74,
   "metadata": {
    "collapsed": false
   },
   "outputs": [
    {
     "data": {
      "text/plain": [
       "array([  53,  162,  285,  342,  433,  737,  741, 1114, 1210, 1262, 1289,\n",
       "       1340, 1351, 1530, 1546, 1616, 1671, 1968, 2257, 2433, 2496])"
      ]
     },
     "execution_count": 74,
     "metadata": {
     },
     "output_type": "execute_result"
    }
   ],
   "source": [
    "disag_loc = np.where(disagree)[0]\n",
    "disag_loc\n"
   ]
  },
  {
   "cell_type": "code",
   "execution_count": 76,
   "metadata": {
    "collapsed": false
   },
   "outputs": [
    {
     "data": {
      "text/plain": [
       "Index(['miR-4766-5p', 'miR-7161-5p', 'miR-548n', 'miR-609', 'miR-146a-3p',\n",
       "       'miR-3152-3p', 'miR-769-5p', 'miR-1270', 'miR-548ao-3p', 'miR-5687',\n",
       "       'miR-548u', 'miR-4478', 'miR-4804-5p', 'miR-5708', 'miR-4709-3p',\n",
       "       'miR-4465', 'miR-4786-5p', 'miR-6736-3p', 'miR-3179', 'miR-3667-5p',\n",
       "       'miR-6826-5p'],\n",
       "      dtype='object', name='mir')"
      ]
     },
     "execution_count": 76,
     "metadata": {
     },
     "output_type": "execute_result"
    }
   ],
   "source": [
    "df_homo.index[disag_loc]"
   ]
  },
  {
   "cell_type": "code",
   "execution_count": 81,
   "metadata": {
    "collapsed": false
   },
   "outputs": [
    {
     "data": {
      "image/png": "[encoded data removed]",
      "text/plain": "<Figure size 640x480 with 2 Axes>"
     },
     "metadata": {
     },
     "output_type": "display_data"
    }
   ],
   "source": [
    "import matplotlib.pyplot as plt\n",
    "import seaborn as sns\n",
    "\n",
    "sns.heatmap(homo_corr)\n",
    "plt.show()"
   ]
  },
  {
   "cell_type": "code",
   "execution_count": 84,
   "metadata": {
    "collapsed": false
   },
   "outputs": [
    {
     "data": {
      "text/plain": [
       "<AxesSubplot:xlabel='sapiens', ylabel='chag'>"
      ]
     },
     "execution_count": 84,
     "metadata": {
     },
     "output_type": "execute_result"
    },
    {
     "data": {
      "image/png": "[encoded data removed]",
      "text/plain": "<Figure size 640x480 with 1 Axes>"
     },
     "metadata": {
     },
     "output_type": "display_data"
    }
   ],
   "source": [
    "homo_corr.plot(x=\"sapiens\",y=\"chag\",kind=\"scatter\")"
   ]
  },
  {
   "cell_type": "code",
   "execution_count": 93,
   "metadata": {
    "collapsed": false
   },
   "outputs": [
    {
     "data": {
      "text/html": [
       "<div>\n",
       "<style scoped>\n",
       "    .dataframe tbody tr th:only-of-type {\n",
       "        vertical-align: middle;\n",
       "    }\n",
       "\n",
       "    .dataframe tbody tr th {\n",
       "        vertical-align: top;\n",
       "    }\n",
       "\n",
       "    .dataframe thead th {\n",
       "        text-align: right;\n",
       "    }\n",
       "</style>\n",
       "<table border=\"1\" class=\"dataframe\">\n",
       "  <thead>\n",
       "    <tr style=\"text-align: right;\">\n",
       "      <th></th>\n",
       "      <th>sex</th>\n",
       "      <th>count</th>\n",
       "    </tr>\n",
       "    <tr>\n",
       "      <th>name</th>\n",
       "      <th></th>\n",
       "      <th></th>\n",
       "    </tr>\n",
       "  </thead>\n",
       "  <tbody>\n",
       "    <tr>\n",
       "      <th>Mary</th>\n",
       "      <td>F</td>\n",
       "      <td>7065</td>\n",
       "    </tr>\n",
       "    <tr>\n",
       "      <th>Anna</th>\n",
       "      <td>F</td>\n",
       "      <td>2604</td>\n",
       "    </tr>\n",
       "    <tr>\n",
       "      <th>Emma</th>\n",
       "      <td>F</td>\n",
       "      <td>2003</td>\n",
       "    </tr>\n",
       "    <tr>\n",
       "      <th>Elizabeth</th>\n",
       "      <td>F</td>\n",
       "      <td>1939</td>\n",
       "    </tr>\n",
       "    <tr>\n",
       "      <th>Minnie</th>\n",
       "      <td>F</td>\n",
       "      <td>1746</td>\n",
       "    </tr>\n",
       "    <tr>\n",
       "      <th>...</th>\n",
       "      <td>...</td>\n",
       "      <td>...</td>\n",
       "    </tr>\n",
       "    <tr>\n",
       "      <th>Woodie</th>\n",
       "      <td>M</td>\n",
       "      <td>5</td>\n",
       "    </tr>\n",
       "    <tr>\n",
       "      <th>Worthy</th>\n",
       "      <td>M</td>\n",
       "      <td>5</td>\n",
       "    </tr>\n",
       "    <tr>\n",
       "      <th>Wright</th>\n",
       "      <td>M</td>\n",
       "      <td>5</td>\n",
       "    </tr>\n",
       "    <tr>\n",
       "      <th>York</th>\n",
       "      <td>M</td>\n",
       "      <td>5</td>\n",
       "    </tr>\n",
       "    <tr>\n",
       "      <th>Zachariah</th>\n",
       "      <td>M</td>\n",
       "      <td>5</td>\n",
       "    </tr>\n",
       "  </tbody>\n",
       "</table>\n",
       "<p>2000 rows × 2 columns</p>\n",
       "</div>"
      ],
      "text/plain": [
       "          sex  count\n",
       "name                \n",
       "Mary        F   7065\n",
       "Anna        F   2604\n",
       "Emma        F   2003\n",
       "Elizabeth   F   1939\n",
       "Minnie      F   1746\n",
       "...        ..    ...\n",
       "Woodie      M      5\n",
       "Worthy      M      5\n",
       "Wright      M      5\n",
       "York        M      5\n",
       "Zachariah   M      5\n",
       "\n",
       "[2000 rows x 2 columns]"
      ]
     },
     "execution_count": 93,
     "metadata": {
     },
     "output_type": "execute_result"
    }
   ],
   "source": [
    "columns = [\"name\",\"sex\",\"count\"]\n",
    "df=pd.read_csv(\"../Handouts/some_data/names/yob1880.txt\",header=None)\n",
    "df.columns = columns\n",
    "df=df.set_index(\"name\")\n",
    "df"
   ]
  },
  {
   "cell_type": "code",
   "execution_count": 0,
   "metadata": {
    "collapsed": false
   },
   "outputs": [
   ],
   "source": [
   ]
  },
  {
   "cell_type": "code",
   "execution_count": 0,
   "metadata": {
    "collapsed": false
   },
   "outputs": [
   ],
   "source": [
   ]
  },
  {
   "cell_type": "code",
   "execution_count": 0,
   "metadata": {
    "collapsed": false
   },
   "outputs": [
   ],
   "source": [
   ]
  }
 ],
 "metadata": {
  "kernelspec": {
   "display_name": "Python 3 (system-wide)",
   "language": "python",
   "metadata": {
    "cocalc": {
     "description": "Python 3 programming language",
     "priority": 100,
     "url": "https://www.python.org/"
    }
   },
   "name": "python3",
   "resource_dir": "/ext/jupyter/kernels/python3"
  },
  "language_info": {
   "codemirror_mode": {
    "name": "ipython",
    "version": 3
   },
   "file_extension": ".py",
   "mimetype": "text/x-python",
   "name": "python",
   "nbconvert_exporter": "python",
   "pygments_lexer": "ipython3",
   "version": "3.10.6"
  }
 },
 "nbformat": 4,
 "nbformat_minor": 4
}