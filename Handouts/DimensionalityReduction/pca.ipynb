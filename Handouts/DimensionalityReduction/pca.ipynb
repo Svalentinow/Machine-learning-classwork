{
 "cells": [
  {
   "cell_type": "markdown",
   "metadata": {},
   "source": [
    "## Dimensionality Reduction\n",
    "\n",
    "In these slides we look at the dimensionality reduction algorithm known as PCA.\n",
    "\n",
    "### What *is* dimensionality reduction? \n",
    "\n",
    "A simple example of dimensionality reduction is simply dropping irrelevant or redundant columns from the dataset.\n",
    "\n",
    "But more sophisticated approaches *transform* the dataset so that it lives in a lower-dimensional subspace.\n",
    "\n",
    "PCA is a dimensionality reduction technique in which the transformation is an orthogonal projection onto a subspace.\n",
    "\n",
    "There are other techniques (some of them are non-linear). \n",
    "\n",
    "\n",
    "### Why reduce dimensionality?\n",
    "\n",
    "Usually reducing dimensionality does not improve classifier/regression performance.\n",
    "\n",
    "By \"performance\" we mean $R^2$ or accuracy, etc (the usual performance metrics).\n",
    "\n",
    "#### Reason 1: speed\n",
    "\n",
    "But reducing dimensionality **does** improve performance in \n",
    "\n",
    "        * Training time\n",
    "        * Prediction time\n",
    "\n",
    "#### Reason 2: visualization\n",
    "\n",
    "Reducing dimensionality allows the visualization of high dimensional data. \n",
    "\n",
    "![img](bio.pca)\n",
    "\n",
    "#### Reason 3: inherent dimensionality of the data\n",
    "\n",
    "Sometimes the data naturally lives on or near a low dimensional sub-manifold of the input space.  \n",
    "\n",
    "In this case the extra dimensions are not essential to the problem and may even be preventing learning.\n",
    "\n",
    "Example: A 2-dimensional dataset in which all data actually live on or near a certain line. \n",
    "\n",
    "#### Reason 4: Information compression\n",
    "\n",
    "Usually dimensionality reduction is a kind of \"lossy\" compression.  \n",
    "\n",
    "That means that it saves space but loses information.\n",
    "\n",
    "However in an ideal case the information that it loses is really \"noise\".\n",
    "\n",
    "Sometimes doing PCA is an effective way to filter data (such as an image).\n",
    "\n",
    "![img](noisePCA.ppm)\n"
   ]
  },
  {
   "cell_type": "markdown",
   "metadata": {},
   "source": [
    "### Projections:  Principal Component Analysis (PCA)\n",
    "\n",
    "This is a highly effective dimensionality reduction technique first proposed by Karl Pearson in 1901.\n",
    "\n",
    "It is a projection method that simply projects the data onto a lower dimensional subspace. \n",
    "\n",
    "\n",
    "There are two equivalent points of view on how it basically works.\n",
    "\n",
    "1) The $d$-dimensional data is projected onto the $k < d$ dimensional hyperplane such that the variance of the data under the projection is maximal.\n",
    "\n",
    "2) The $d$-dimensional data is projected onto the $k <d$ dimensional hyperplane such that the mean squared distance between the dataset and the image points under the projection is minimal. \n",
    "\n",
    "\n",
    "A summary of (2):  PCA projects the $d$-dimensional data onto the \"closest $d'$ dimensional hyperplane\".\n",
    "\n",
    "![img](geron1.png)\n",
    "\n",
    "![img](geron2.png)"
   ]
  },
  {
   "cell_type": "markdown",
   "metadata": {},
   "source": [
    "![alt](PCA_PML1.png)"
   ]
  },
  {
   "cell_type": "markdown",
   "metadata": {},
   "source": [
    "![alt](PCA_PML2.png)"
   ]
  },
  {
   "cell_type": "markdown",
   "metadata": {},
   "source": [
    "### Step 1: Scaling the data\n",
    "\n",
    "We want to project onto a subspace -- subspaces go through the origin.\n",
    "\n",
    "For this reason we want the mean of the data to be at the origin.\n",
    "\n",
    "Variance is partly a function of scale.  \n",
    "\n",
    "By scaling we \"normalize out\" the variation in the existing dimensions.\n",
    "\n",
    "After the transformation, every feature of the data has mean=0 and variance=1. \n"
   ]
  },
  {
   "cell_type": "code",
   "execution_count": 166,
   "metadata": {},
   "outputs": [
    {
     "data": {
      "text/html": [
       "<div>\n",
       "<style scoped>\n",
       "    .dataframe tbody tr th:only-of-type {\n",
       "        vertical-align: middle;\n",
       "    }\n",
       "\n",
       "    .dataframe tbody tr th {\n",
       "        vertical-align: top;\n",
       "    }\n",
       "\n",
       "    .dataframe thead th {\n",
       "        text-align: right;\n",
       "    }\n",
       "</style>\n",
       "<table border=\"1\" class=\"dataframe\">\n",
       "  <thead>\n",
       "    <tr style=\"text-align: right;\">\n",
       "      <th></th>\n",
       "      <th>Cardio</th>\n",
       "      <th>Resp</th>\n",
       "      <th>Hypo</th>\n",
       "      <th>Adm</th>\n",
       "      <th>year</th>\n",
       "      <th>month</th>\n",
       "    </tr>\n",
       "  </thead>\n",
       "  <tbody>\n",
       "    <tr>\n",
       "      <th>0</th>\n",
       "      <td>1</td>\n",
       "      <td>0</td>\n",
       "      <td>0</td>\n",
       "      <td>413</td>\n",
       "      <td>1999</td>\n",
       "      <td>11</td>\n",
       "    </tr>\n",
       "    <tr>\n",
       "      <th>1</th>\n",
       "      <td>1</td>\n",
       "      <td>0</td>\n",
       "      <td>0</td>\n",
       "      <td>443</td>\n",
       "      <td>1999</td>\n",
       "      <td>12</td>\n",
       "    </tr>\n",
       "    <tr>\n",
       "      <th>2</th>\n",
       "      <td>1</td>\n",
       "      <td>0</td>\n",
       "      <td>0</td>\n",
       "      <td>378</td>\n",
       "      <td>2000</td>\n",
       "      <td>1</td>\n",
       "    </tr>\n",
       "    <tr>\n",
       "      <th>3</th>\n",
       "      <td>0</td>\n",
       "      <td>0</td>\n",
       "      <td>0</td>\n",
       "      <td>385</td>\n",
       "      <td>2000</td>\n",
       "      <td>2</td>\n",
       "    </tr>\n",
       "    <tr>\n",
       "      <th>4</th>\n",
       "      <td>1</td>\n",
       "      <td>0</td>\n",
       "      <td>0</td>\n",
       "      <td>388</td>\n",
       "      <td>2000</td>\n",
       "      <td>3</td>\n",
       "    </tr>\n",
       "  </tbody>\n",
       "</table>\n",
       "</div>"
      ],
      "text/plain": [
       "   Cardio  Resp  Hypo  Adm  year  month\n",
       "0       1     0     0  413  1999     11\n",
       "1       1     0     0  443  1999     12\n",
       "2       1     0     0  378  2000      1\n",
       "3       0     0     0  385  2000      2\n",
       "4       1     0     0  388  2000      3"
      ]
     },
     "execution_count": 166,
     "metadata": {},
     "output_type": "execute_result"
    }
   ],
   "source": [
    "import pandas as pd\n",
    "\n",
    "df = pd.read_csv(\"https://archive.ics.uci.edu/ml/machine-learning-databases/00549/HortonGeneralHospital.csv\")\n",
    "df = df.drop(\"Unnamed: 0\",axis=1) ## Drop ID \n",
    "\n",
    "df.head()"
   ]
  },
  {
   "cell_type": "code",
   "execution_count": 167,
   "metadata": {},
   "outputs": [
    {
     "data": {
      "text/plain": [
       "0    127\n",
       "1     12\n",
       "Name: Hypo, dtype: int64"
      ]
     },
     "execution_count": 167,
     "metadata": {},
     "output_type": "execute_result"
    }
   ],
   "source": [
    "df.Hypo.value_counts()"
   ]
  },
  {
   "cell_type": "code",
   "execution_count": 168,
   "metadata": {},
   "outputs": [
    {
     "data": {
      "text/plain": [
       "(array([1., 1., 1., 1., 1., 1.]),\n",
       " array([ 1.34185229e-16,  2.55590912e-17,  0.00000000e+00, -2.55590912e-16,\n",
       "        -1.51821002e-14,  2.87539776e-17]))"
      ]
     },
     "execution_count": 168,
     "metadata": {},
     "output_type": "execute_result"
    }
   ],
   "source": [
    "\n",
    "\n",
    "from sklearn.preprocessing import StandardScaler\n",
    "\n",
    "scaler = StandardScaler()\n",
    "X=scaler.fit_transform(df)\n",
    "\n",
    "X.var(axis=0),X.mean(axis=0)"
   ]
  },
  {
   "cell_type": "markdown",
   "metadata": {},
   "source": [
    "### Step 2: Construct the covariance matrix\n",
    "\n",
    "Recall that the covariance of the feature $j$ and feature $k$ is given by the formula below.\n",
    "\n",
    "This is basically the non-normalized correlation coefficient of the two columns.\n",
    "\n",
    "![img](PCA_PML3.png)\n",
    "\n",
    "The *covariance matrix* organizes the covariances of the features into a $d \\times d$ matrix.\n",
    "\n",
    "![img](covMat.png)"
   ]
  },
  {
   "cell_type": "code",
   "execution_count": 169,
   "metadata": {},
   "outputs": [
    {
     "data": {
      "text/plain": [
       "array([[ 1.00724638e+00, -1.83859905e-02,  2.01587895e-01,\n",
       "         9.04182745e-02, -1.36900504e-03, -3.72462651e-03],\n",
       "       [-1.83859905e-02,  1.00724638e+00, -9.87664807e-04,\n",
       "         1.41371346e-01, -1.73344437e-02,  6.76913683e-02],\n",
       "       [ 2.01587895e-01, -9.87664807e-04,  1.00724638e+00,\n",
       "         3.40541446e-02, -8.87109687e-02, -3.21654951e-02],\n",
       "       [ 9.04182745e-02,  1.41371346e-01,  3.40541446e-02,\n",
       "         1.00724638e+00,  4.49269733e-01,  1.55747969e-01],\n",
       "       [-1.36900504e-03, -1.73344437e-02, -8.87109687e-02,\n",
       "         4.49269733e-01,  1.00724638e+00, -1.01309634e-01],\n",
       "       [-3.72462651e-03,  6.76913683e-02, -3.21654951e-02,\n",
       "         1.55747969e-01, -1.01309634e-01,  1.00724638e+00]])"
      ]
     },
     "execution_count": 169,
     "metadata": {},
     "output_type": "execute_result"
    }
   ],
   "source": [
    "import numpy as np\n",
    "\n",
    "Sigma = np.cov(X.T)\n",
    "Sigma  ## A 6x6 matrix\n",
    "\n"
   ]
  },
  {
   "cell_type": "markdown",
   "metadata": {},
   "source": [
    "### Step 3: Get the eigenvectors and eigenvalues of the covariance matrix\n",
    "\n",
    "Recall that by an *eigenvector* of $\\Sigma$ we mean a vector ${\\bf v}$ such that for some scalar $\\lambda$,\n",
    "\n",
    "$$\\Sigma{\\bf v}=\\lambda {\\bf v}$$\n",
    "\n",
    "The scalar $\\lambda$ is the *eigenvalue* of the eigenvector ${\\bf v}$.\n",
    "\n",
    "In general eigenvalues can be complex, but square symmetric real matrices (like $\\Sigma$) always have real eigenvalues.\n",
    "\n",
    "The eigenvectors of the covariance matrix represent the principal components.\n",
    "\n",
    "They are the directions of maximum variance in the data.\n",
    "\n",
    "The corresponding eigenvalues express the magnitude of the variance in the direction of the eigenvector.\n",
    "\n"
   ]
  },
  {
   "cell_type": "code",
   "execution_count": 170,
   "metadata": {},
   "outputs": [
    {
     "data": {
      "text/plain": [
       "(array([0.4620462 , 1.48849378, 0.79374293, 0.94405986, 1.2249601 ,\n",
       "        1.13017539]),\n",
       " array([[-0.06964063, -0.11226552,  0.70177251,  0.12528636,  0.68445356,\n",
       "         -0.07673742],\n",
       "        [-0.160263  , -0.20172137,  0.15593419, -0.77633499, -0.00508958,\n",
       "          0.55370288],\n",
       "        [-0.13811853,  0.02940609, -0.67819192, -0.13364452,  0.70843992,\n",
       "         -0.01913914],\n",
       "        [ 0.67325659, -0.7190641 , -0.11747727,  0.07734649,  0.065263  ,\n",
       "          0.07503157],\n",
       "        [-0.63821948, -0.64239446, -0.0553571 ,  0.01100652, -0.15919536,\n",
       "         -0.38919986],\n",
       "        [-0.29965094, -0.12695037, -0.07993922,  0.59803247,  0.0028084 ,\n",
       "          0.72804664]]))"
      ]
     },
     "execution_count": 170,
     "metadata": {},
     "output_type": "execute_result"
    }
   ],
   "source": [
    "eigenvalues, eigenvectors = np.linalg.eig(Sigma)\n",
    "eigenvalues,eigenvectors"
   ]
  },
  {
   "cell_type": "markdown",
   "metadata": {},
   "source": [
    "### Step 4: Sort the eigenvalues and eigenvectors\n",
    "\n",
    "We sort the eigenvectors by the magnitude of the corresponding eigenvector.\n",
    "\n",
    "This gives us a list of $k$ \"principal components\".\n",
    "\n",
    "The eigenvector with the highest eigenvalue is the *first* **principal component**, the eigenvector with the second highest eigenvalue is the *second* principal component, *etc.*"
   ]
  },
  {
   "cell_type": "code",
   "execution_count": 171,
   "metadata": {},
   "outputs": [
    {
     "data": {
      "text/plain": [
       "array([1, 4, 5, 3, 2, 0])"
      ]
     },
     "execution_count": 171,
     "metadata": {},
     "output_type": "execute_result"
    }
   ],
   "source": [
    "abseigs = np.abs(eigenvalues)  ## we sort by magnitude, meaning absolute value\n",
    "order = np.argsort(-abseigs)\n",
    "order  ## this gives indexes in order of the magnitude of the entry"
   ]
  },
  {
   "cell_type": "code",
   "execution_count": 172,
   "metadata": {},
   "outputs": [
    {
     "data": {
      "text/plain": [
       "array([1.48849378, 1.2249601 , 1.13017539, 0.94405986, 0.79374293,\n",
       "       0.4620462 ])"
      ]
     },
     "execution_count": 172,
     "metadata": {},
     "output_type": "execute_result"
    }
   ],
   "source": [
    "eigenvalues[order]  ## increasing order"
   ]
  },
  {
   "cell_type": "code",
   "execution_count": 173,
   "metadata": {},
   "outputs": [
    {
     "data": {
      "text/plain": [
       "array([[-0.11226552,  0.68445356, -0.07673742,  0.12528636,  0.70177251,\n",
       "        -0.06964063],\n",
       "       [-0.20172137, -0.00508958,  0.55370288, -0.77633499,  0.15593419,\n",
       "        -0.160263  ],\n",
       "       [ 0.02940609,  0.70843992, -0.01913914, -0.13364452, -0.67819192,\n",
       "        -0.13811853],\n",
       "       [-0.7190641 ,  0.065263  ,  0.07503157,  0.07734649, -0.11747727,\n",
       "         0.67325659],\n",
       "       [-0.64239446, -0.15919536, -0.38919986,  0.01100652, -0.0553571 ,\n",
       "        -0.63821948],\n",
       "       [-0.12695037,  0.0028084 ,  0.72804664,  0.59803247, -0.07993922,\n",
       "        -0.29965094]])"
      ]
     },
     "execution_count": 173,
     "metadata": {},
     "output_type": "execute_result"
    }
   ],
   "source": [
    "principal_components = eigenvectors[:,order]\n",
    "principal_components"
   ]
  },
  {
   "cell_type": "markdown",
   "metadata": {},
   "source": [
    "### Step 5: Select k principal components\n",
    "\n",
    "We select the principal components with the $k$ highest eigenvectors. \n",
    "\n",
    "For visualization, usually $k$ is 2. \n",
    "\n",
    "But $k$ is a free choice that depends on the application.\n",
    "\n",
    "Here we plan to make a visual, so we will use $k=2$. \n",
    "\n",
    "### Step 6: Construct $W$\n",
    "\n",
    "The matrix $W$ is a $d \\times k$ matrix in which the first $k$ principal components are the columns.\n",
    "\n"
   ]
  },
  {
   "cell_type": "code",
   "execution_count": 174,
   "metadata": {},
   "outputs": [
    {
     "data": {
      "text/plain": [
       "array([[-0.11226552,  0.68445356],\n",
       "       [-0.20172137, -0.00508958],\n",
       "       [ 0.02940609,  0.70843992],\n",
       "       [-0.7190641 ,  0.065263  ],\n",
       "       [-0.64239446, -0.15919536],\n",
       "       [-0.12695037,  0.0028084 ]])"
      ]
     },
     "execution_count": 174,
     "metadata": {},
     "output_type": "execute_result"
    }
   ],
   "source": [
    "W_2 = principal_components[:,:2]\n",
    "W_2  ## The first two principal components are the columns of this matrix"
   ]
  },
  {
   "cell_type": "markdown",
   "metadata": {},
   "source": [
    "### Step 7: Transform $X$\n",
    "\n",
    "We transform the $d$-dimensional data $X$ using the matrix $W$ to get the $k$ dimensional projection of the data onto the first $k$ principal components."
   ]
  },
  {
   "cell_type": "code",
   "execution_count": 175,
   "metadata": {},
   "outputs": [
    {
     "data": {
      "text/plain": [
       "array([[ 2.27293247e+00,  7.93686447e-02],\n",
       "       [ 1.94052183e+00,  1.07042768e-01],\n",
       "       [ 2.79077353e+00, -7.39656935e-03],\n",
       "       [ 2.81742727e+00, -8.05660787e-01],\n",
       "       [ 2.61936768e+00,  3.16878461e-03],\n",
       "       [ 2.53747003e+00, -7.85243197e-01],\n",
       "       [ 2.07522387e+00,  1.63426279e+00],\n",
       "       [ 1.91947291e+00, -7.75643897e-01],\n",
       "       [ 1.60679889e+00, -7.49761090e-01],\n",
       "       [ 2.21058967e+00,  2.77908538e-02],\n",
       "       [ 2.31840464e+00,  2.54747872e+00],\n",
       "       [ 2.21075033e+00, -7.70564634e-01],\n",
       "       [ 1.99295412e+00,  4.00562534e-02],\n",
       "       [ 1.91711950e+00,  4.44432726e-02],\n",
       "       [ 2.24815613e+00, -8.16220857e-01],\n",
       "       [ 2.37955599e+00, -8.30642653e-01],\n",
       "       [ 1.81636898e+00,  1.13262589e-02],\n",
       "       [ 1.76248576e+00,  3.33903931e+00],\n",
       "       [ 1.99415920e+00, -8.03151070e-01],\n",
       "       [ 1.87885135e+00, -7.95181419e-01],\n",
       "       [ 1.67694349e+00,  2.54596650e+00],\n",
       "       [ 1.99964648e+00,  1.72083255e+00],\n",
       "       [ 1.48358625e+00, -7.66794179e-01],\n",
       "       [ 1.42368298e+00,  2.94961831e-02],\n",
       "       [ 9.99940179e-01,  2.39605693e-02],\n",
       "       [ 7.79886206e-01, -7.51912202e-01],\n",
       "       [ 1.74120669e+00, -8.34933118e-01],\n",
       "       [ 1.55301540e+00, -2.69992045e-02],\n",
       "       [ 1.25020969e+00, -2.01205506e-03],\n",
       "       [ 1.10149164e+00,  8.02339227e-01],\n",
       "       [ 7.78949313e-01,  8.29117692e-01],\n",
       "       [ 1.57913638e+00, -8.32702495e-01],\n",
       "       [ 1.88299355e-01, -7.50463640e-01],\n",
       "       [ 4.98298646e-01,  1.64045170e+00],\n",
       "       [ 6.92713628e-01,  8.26961296e-01],\n",
       "       [ 8.21855722e-01, -7.73954158e-01],\n",
       "       [-8.31764258e-02,  8.50891121e-01],\n",
       "       [ 1.03585019e-01,  3.36341373e+00],\n",
       "       [ 1.05662769e+00, -8.37523538e-01],\n",
       "       [ 1.71332159e-01,  7.85530425e-01],\n",
       "       [ 7.82353155e-02,  2.57160311e+00],\n",
       "       [ 9.53606574e-01, -4.23113742e-02],\n",
       "       [ 2.17883177e-01, -8.12880595e-01],\n",
       "       [ 4.20878581e-01, -7.92301338e-01],\n",
       "       [ 2.72160532e-01,  1.20499438e-02],\n",
       "       [-1.78929427e-01,  1.59569496e+00],\n",
       "       [-5.71382555e-02,  3.69458232e-02],\n",
       "       [-7.58481577e-01,  8.91453944e-01],\n",
       "       [-4.22105006e-01, -7.28270324e-01],\n",
       "       [-2.10667513e+00, -7.43869364e-01],\n",
       "       [-1.11703762e+00,  5.38806170e-03],\n",
       "       [-6.12232535e-01,  4.07574327e+00],\n",
       "       [-5.13680638e-01,  2.86334189e-02],\n",
       "       [-9.74379285e-01,  6.79510938e-02],\n",
       "       [-1.42520962e+00,  1.06373111e-01],\n",
       "       [-1.04329678e+00, -7.24134789e-01],\n",
       "       [-1.96426028e+00,  1.08807148e-01],\n",
       "       [-9.61931887e-01,  5.68381195e-02],\n",
       "       [-1.47582034e+00,  2.63295243e+00],\n",
       "       [-9.91376149e-01, -7.38830394e-01],\n",
       "       [-4.19707681e-01,  1.37865349e-04],\n",
       "       [-2.38966279e-01, -1.87622194e-02],\n",
       "       [-6.55663332e-01,  7.75137305e-01],\n",
       "       [-4.54915090e-02, -9.10936040e-01],\n",
       "       [-8.31407791e-02, -7.51663369e-02],\n",
       "       [-7.43722981e-01, -5.92061626e-02],\n",
       "       [-8.46645139e-01, -1.08615125e-02],\n",
       "       [-7.98682669e-02, -8.76300068e-01],\n",
       "       [-5.54240494e-01, -4.23920771e-02],\n",
       "       [ 2.38336031e-01, -1.16822948e-01],\n",
       "       [-2.95246047e-01,  7.22458990e-01],\n",
       "       [-6.79255992e-01, -8.31882256e-01],\n",
       "       [ 4.09369787e-01, -9.33182862e-01],\n",
       "       [-1.34080599e-01, -9.30052664e-02],\n",
       "       [-1.78889951e-02,  6.52528735e-01],\n",
       "       [ 1.44403676e-01, -1.99545350e-01],\n",
       "       [-5.19724177e-01, -9.35113518e-01],\n",
       "       [ 8.78718731e-02, -9.51256233e-01],\n",
       "       [ 9.51986975e-03, -9.88139871e-01],\n",
       "       [-1.60222682e-01,  6.52968042e-01],\n",
       "       [-1.19895364e-01, -9.39886491e-01],\n",
       "       [-3.41539837e-01,  2.40305274e+00],\n",
       "       [-3.32321956e-01,  1.45444981e+00],\n",
       "       [-2.52521404e-01, -1.41987354e-01],\n",
       "       [-6.38078855e-01,  6.83859717e-01],\n",
       "       [-7.39713127e-01, -1.02760949e-01],\n",
       "       [-2.11310334e-01, -9.81338235e-01],\n",
       "       [ 4.13504948e-01, -1.04054292e+00],\n",
       "       [-5.14809468e-01, -1.65434671e-01],\n",
       "       [-4.78871208e-02, -2.10308833e-01],\n",
       "       [-1.47263627e-01,  5.89564159e-01],\n",
       "       [-1.85882777e-01, -9.96125111e-01],\n",
       "       [-3.90005404e-01, -9.80094540e-01],\n",
       "       [-1.89527386e-01, -1.00078594e+00],\n",
       "       [-2.94966929e-01, -9.93711948e-01],\n",
       "       [-9.96310250e-01, -1.39203827e-01],\n",
       "       [-6.18202680e-01, -1.76017068e-01],\n",
       "       [-7.33510531e-01, -1.68047418e-01],\n",
       "       [ 3.86990769e-01, -1.10036417e+00],\n",
       "       [ 1.45652673e-01,  5.05742686e-01],\n",
       "       [-1.10069262e-01, -1.06024211e+00],\n",
       "       [-1.50235918e-01, -2.65743066e-01],\n",
       "       [-7.00978841e-01, -1.09460044e+00],\n",
       "       [ 2.75542966e-02, -1.08022039e+00],\n",
       "       [-4.76422856e-01, -2.43625430e-01],\n",
       "       [-4.93047623e-01, -2.44612358e-01],\n",
       "       [-8.58868457e-01,  5.79443397e-01],\n",
       "       [-1.09737116e+00, -1.02960337e+00],\n",
       "       [-1.42146100e+00,  1.37736341e+00],\n",
       "       [-1.56230888e+00, -9.50897628e-01],\n",
       "       [-1.17745818e+00,  3.09557096e+00],\n",
       "       [-3.67359807e-01, -3.05768575e-01],\n",
       "       [-1.45741542e+00,  3.11598855e+00],\n",
       "       [-1.05798074e+00, -1.04142801e+00],\n",
       "       [-1.95062719e+00,  6.23792265e-01],\n",
       "       [-1.24557755e+00, -2.77543001e-01],\n",
       "       [-1.13520220e+00,  5.44791835e-01],\n",
       "       [-1.15053908e+00, -2.91160409e-01],\n",
       "       [-1.07202641e+00, -1.05263226e+00],\n",
       "       [-1.60560849e+00, -2.13350320e-01],\n",
       "       [-1.08805672e+00, -1.09766809e+00],\n",
       "       [-1.83493631e+00, -1.03237633e+00],\n",
       "       [-1.03531404e+00, -3.07372067e-01],\n",
       "       [-7.34865047e-01, -1.17198536e+00],\n",
       "       [-1.09816850e+00, -3.06658949e-01],\n",
       "       [-6.96519036e-01, -1.13895816e+00],\n",
       "       [-1.90366347e+00, -2.80042151e-01],\n",
       "       [-1.32567235e+00, -2.93497892e-01],\n",
       "       [-1.17838414e+00,  2.22260734e+00],\n",
       "       [-1.57602467e+00, -2.75767275e-01],\n",
       "       [-1.00661397e+00, -1.12329267e+00],\n",
       "       [-1.29955137e+00, -1.09920118e+00],\n",
       "       [-2.20458352e+00,  5.25644097e-01],\n",
       "       [-1.62885016e+00, -1.07430530e+00],\n",
       "       [-7.88466766e-01, -1.18784898e+00],\n",
       "       [-1.27983521e-01, -4.56941642e-01],\n",
       "       [-1.44496724e+00,  1.24679192e+00],\n",
       "       [-7.63199871e-01, -4.04280370e-01],\n",
       "       [ 7.23963517e-01, -1.33510195e+00]])"
      ]
     },
     "execution_count": 175,
     "metadata": {},
     "output_type": "execute_result"
    }
   ],
   "source": [
    "X@W_2"
   ]
  },
  {
   "cell_type": "code",
   "execution_count": 176,
   "metadata": {},
   "outputs": [
    {
     "data": {
      "image/png": "[encoded data removed]",
      "text/plain": [
       "<Figure size 640x480 with 2 Axes>"
      ]
     },
     "metadata": {},
     "output_type": "display_data"
    }
   ],
   "source": [
    "import matplotlib.pyplot as plt\n",
    "\n",
    "prod = X@W_2\n",
    "col = 1\n",
    "name = df.columns[col]\n",
    "plt.scatter(prod[:,0],prod[:,1],c=df.iloc[:,col])\n",
    "plt.colorbar()\n",
    "plt.title(f\"PCA, colored by {name}\")\n",
    "plt.xlabel(\"principal component 1\")\n",
    "plt.ylabel(\"principal component 2\")\n",
    "plt.show()"
   ]
  },
  {
   "cell_type": "markdown",
   "metadata": {},
   "source": [
    "### Explained variance\n",
    "\n",
    "The **explained variance ratio** of an eigenvector is defined to be\n",
    "\n",
    "$$EVR(\\lambda_j) = \\frac{\\lambda_j}{\\sum_{i=1}^d \\lambda_i}$$\n",
    "\n",
    "Below we look at all the eigenvalues and their corresponding evr value.\n",
    "\n",
    "We interpret this as say that (for example) the first 3 principal components capture about 65% of the information in the full-dimensional dataset. "
   ]
  },
  {
   "cell_type": "code",
   "execution_count": 177,
   "metadata": {},
   "outputs": [
    {
     "name": "stdout",
     "output_type": "stream",
     "text": [
      "eigenval  explained variance ratio\n",
      "    1.49   0.25\n",
      "    1.22   0.20\n",
      "    1.13   0.19\n",
      "    0.94   0.16\n",
      "    0.79   0.13\n",
      "    0.46   0.08\n"
     ]
    }
   ],
   "source": [
    "def evr(eig_val):\n",
    "    return eig_val/sum(eigenvalues)\n",
    "\n",
    "ratios = zip(eigenvalues[order],map(evr,eigenvalues[order]))\n",
    "print(\"eigenval  explained variance ratio\")\n",
    "for r,ev in ratios:\n",
    "    print(f\"{r:8.2f} {ev:6.2f}\")"
   ]
  },
  {
   "cell_type": "markdown",
   "metadata": {},
   "source": [
    "### Using PCA with `sklearn`\n",
    "\n",
    "The `numpy` version of PCA we just computed was pretty easy.\n",
    "\n",
    "But it is easier with the `sklearn` PCA object.\n"
   ]
  },
  {
   "cell_type": "code",
   "execution_count": 198,
   "metadata": {},
   "outputs": [
    {
     "data": {
      "text/plain": [
       "array([[ 2.27293247,  0.07936864],\n",
       "       [ 1.94052183,  0.10704277],\n",
       "       [ 2.79077353, -0.00739657],\n",
       "       [ 2.81742727, -0.80566079],\n",
       "       [ 2.61936768,  0.00316878]])"
      ]
     },
     "execution_count": 198,
     "metadata": {},
     "output_type": "execute_result"
    }
   ],
   "source": [
    "from sklearn.decomposition import PCA\n",
    "pca = PCA(n_components = 2)\n",
    "\n",
    "X_pca = pca.fit_transform(X)\n",
    "\n",
    "X_pca[:5]"
   ]
  },
  {
   "cell_type": "markdown",
   "metadata": {},
   "source": [
    "### Double check\n",
    "\n",
    "Below we confirm that the library version of the transformed $X$ is the same as the homemade version.\n"
   ]
  },
  {
   "cell_type": "code",
   "execution_count": 185,
   "metadata": {},
   "outputs": [
    {
     "data": {
      "text/plain": [
       "True"
      ]
     },
     "execution_count": 185,
     "metadata": {},
     "output_type": "execute_result"
    }
   ],
   "source": [
    "library_version = sorted(X_pca,key = lambda x: x[0])\n",
    "homemade_version = sorted(X@W_2,key = lambda x: x[0])\n",
    "\n",
    "np.isclose(library_version,homemade_version).all()"
   ]
  },
  {
   "cell_type": "markdown",
   "metadata": {},
   "source": [
    "### Under the hood with `sklearn` PCA\n",
    "\n",
    "There are methods for retrieving the eigenvectors, the eigenvalues, and computing the explained variance ratios."
   ]
  },
  {
   "cell_type": "code",
   "execution_count": 187,
   "metadata": {},
   "outputs": [
    {
     "data": {
      "text/plain": [
       "array([[-0.11226552, -0.20172137,  0.02940609, -0.7190641 , -0.64239446,\n",
       "        -0.12695037],\n",
       "       [ 0.68445356, -0.00508958,  0.70843992,  0.065263  , -0.15919536,\n",
       "         0.0028084 ]])"
      ]
     },
     "execution_count": 187,
     "metadata": {},
     "output_type": "execute_result"
    }
   ],
   "source": [
    "pca.components_ ## The eigenvectors/principal components in *row* form"
   ]
  },
  {
   "cell_type": "code",
   "execution_count": 196,
   "metadata": {},
   "outputs": [
    {
     "data": {
      "text/plain": [
       "array([0.24629753, 0.20269124])"
      ]
     },
     "execution_count": 196,
     "metadata": {},
     "output_type": "execute_result"
    }
   ],
   "source": [
    "pca.explained_variance_ratio_  ## The eigenvalues divided by the sum of all eigenvalues"
   ]
  },
  {
   "cell_type": "code",
   "execution_count": 197,
   "metadata": {},
   "outputs": [
    {
     "data": {
      "text/plain": [
       "array([1.48849378, 1.2249601 ])"
      ]
     },
     "execution_count": 197,
     "metadata": {},
     "output_type": "execute_result"
    }
   ],
   "source": [
    "pca.explained_variance_  ## The eigenvalues"
   ]
  },
  {
   "cell_type": "code",
   "execution_count": null,
   "metadata": {},
   "outputs": [],
   "source": []
  }
 ],
 "metadata": {
  "kernelspec": {
   "display_name": "Python 3.10.6 64-bit",
   "language": "python",
   "name": "python3"
  },
  "language_info": {
   "codemirror_mode": {
    "name": "ipython",
    "version": 3
   },
   "file_extension": ".py",
   "mimetype": "text/x-python",
   "name": "python",
   "nbconvert_exporter": "python",
   "pygments_lexer": "ipython3",
   "version": "3.10.6"
  },
  "orig_nbformat": 4,
  "vscode": {
   "interpreter": {
    "hash": "aee8b7b246df8f9039afb4144a1f6fd8d2ca17a180786b69acc140d282b71a49"
   }
  }
 },
 "nbformat": 4,
 "nbformat_minor": 2
}
