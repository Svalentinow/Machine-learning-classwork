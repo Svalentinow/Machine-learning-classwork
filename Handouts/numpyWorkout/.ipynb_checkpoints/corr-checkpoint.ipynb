{
 "cells": [
  {
   "cell_type": "markdown",
   "id": "10fffdbe-8a53-4e27-a4b5-d5b5251d53c7",
   "metadata": {},
   "source": [
    "### Correlation coefficient\n",
    "\n",
    "As an excercise in numpy let's compute the correlation of two columns \"manually\". \n",
    "\n",
    "This will help us get used to \"broadcast\" operations.\n",
    "\n",
    "The formula for the correlation coefficient of two variables is below.\n",
    "\n",
    "We will make some artificial data, then try to implement the formula using broadcasting. \n",
    "\n",
    "Numpy can check our answer.\n",
    "\n",
    "\n",
    "<img src=\"formula.png\" alt=\"drawing\" width=\"800\"/>\n",
    "\n"
   ]
  },
  {
   "cell_type": "code",
   "execution_count": 3,
   "id": "fe1a0a35-f568-498f-b2ec-64c10d6ff60a",
   "metadata": {},
   "outputs": [
    {
     "data": {
      "text/plain": [
       "array([[17, 19],\n",
       "       [ 6,  7],\n",
       "       [ 1, 14],\n",
       "       [ 3,  6],\n",
       "       [ 8,  7],\n",
       "       [ 6, 16],\n",
       "       [18,  3],\n",
       "       [ 5, 18],\n",
       "       [ 1,  2],\n",
       "       [ 0, 13]])"
      ]
     },
     "execution_count": 3,
     "metadata": {},
     "output_type": "execute_result"
    }
   ],
   "source": [
    "import numpy as np\n",
    "\n",
    "### Make some data\n",
    "data = np.random.randint(20,size=20).reshape(10,2)\n",
    "data"
   ]
  },
  {
   "cell_type": "code",
   "execution_count": 8,
   "id": "b3fe9283-1775-4afe-a594-9a1d4a64ede1",
   "metadata": {},
   "outputs": [
    {
     "data": {
      "text/plain": [
       "(array([17,  6,  1,  3,  8,  6, 18,  5,  1,  0]),\n",
       " array([19,  7, 14,  6,  7, 16,  3, 18,  2, 13]))"
      ]
     },
     "execution_count": 8,
     "metadata": {},
     "output_type": "execute_result"
    }
   ],
   "source": [
    "## Use slicing to get the two columns\n",
    "\n",
    "c1 = data[:,0]\n",
    "c2 = data[:,1]\n",
    "\n",
    "c1,c2"
   ]
  },
  {
   "cell_type": "code",
   "execution_count": 12,
   "id": "e08ee586-c58c-4109-a93c-ad8c31e74c1f",
   "metadata": {},
   "outputs": [
    {
     "data": {
      "text/plain": [
       "12.5"
      ]
     },
     "execution_count": 12,
     "metadata": {},
     "output_type": "execute_result"
    }
   ],
   "source": [
    "## Get the numerator\n",
    "\n",
    "numerator=np.sum((c1-c1.mean())*(c2-c2.mean()))\n",
    "numerator"
   ]
  },
  {
   "cell_type": "code",
   "execution_count": 13,
   "id": "c1e1a971-3531-4e5b-99c3-4cc1f28c843c",
   "metadata": {},
   "outputs": [
    {
     "data": {
      "text/plain": [
       "356.4495055404061"
      ]
     },
     "execution_count": 13,
     "metadata": {},
     "output_type": "execute_result"
    }
   ],
   "source": [
    "## Get the denominator\n",
    "\n",
    "denominator= np.sum((c1-c1.mean())**2)**(1/2)*np.sum((c2-c2.mean())**2)**(1/2)\n",
    "denominator"
   ]
  },
  {
   "cell_type": "code",
   "execution_count": 14,
   "id": "bc3d389b-704f-496a-9b55-c5e60edd864d",
   "metadata": {},
   "outputs": [
    {
     "data": {
      "text/plain": [
       "0.0350680806277147"
      ]
     },
     "execution_count": 14,
     "metadata": {},
     "output_type": "execute_result"
    }
   ],
   "source": [
    "## Compute r\n",
    "\n",
    "r=numerator/denominator\n",
    "r"
   ]
  },
  {
   "cell_type": "code",
   "execution_count": 6,
   "id": "b8ccf0dc-9c64-4658-a484-0a20b02db9fe",
   "metadata": {},
   "outputs": [
    {
     "data": {
      "text/plain": [
       "array([[1.        , 0.03506808],\n",
       "       [0.03506808, 1.        ]])"
      ]
     },
     "execution_count": 6,
     "metadata": {},
     "output_type": "execute_result"
    }
   ],
   "source": [
    "## Numpy can tell us the true answer\n",
    "np.corrcoef(data.T)"
   ]
  },
  {
   "cell_type": "code",
   "execution_count": 7,
   "id": "95bf5eeb-cc0c-40ad-b481-e7726657aefb",
   "metadata": {},
   "outputs": [
    {
     "data": {
      "text/html": [
       "<div>\n",
       "<style scoped>\n",
       "    .dataframe tbody tr th:only-of-type {\n",
       "        vertical-align: middle;\n",
       "    }\n",
       "\n",
       "    .dataframe tbody tr th {\n",
       "        vertical-align: top;\n",
       "    }\n",
       "\n",
       "    .dataframe thead th {\n",
       "        text-align: right;\n",
       "    }\n",
       "</style>\n",
       "<table border=\"1\" class=\"dataframe\">\n",
       "  <thead>\n",
       "    <tr style=\"text-align: right;\">\n",
       "      <th></th>\n",
       "      <th>0</th>\n",
       "      <th>1</th>\n",
       "    </tr>\n",
       "  </thead>\n",
       "  <tbody>\n",
       "    <tr>\n",
       "      <th>0</th>\n",
       "      <td>1.000000</td>\n",
       "      <td>0.035068</td>\n",
       "    </tr>\n",
       "    <tr>\n",
       "      <th>1</th>\n",
       "      <td>0.035068</td>\n",
       "      <td>1.000000</td>\n",
       "    </tr>\n",
       "  </tbody>\n",
       "</table>\n",
       "</div>"
      ],
      "text/plain": [
       "          0         1\n",
       "0  1.000000  0.035068\n",
       "1  0.035068  1.000000"
      ]
     },
     "execution_count": 7,
     "metadata": {},
     "output_type": "execute_result"
    }
   ],
   "source": [
    "## Pandas can also tell us the true answer\n",
    "\n",
    "import pandas as pd\n",
    "\n",
    "pd.DataFrame(data).corr()"
   ]
  },
  {
   "cell_type": "markdown",
   "id": "bdb6beb7-491d-4784-a0b6-17c392616285",
   "metadata": {},
   "source": [
    "### Similar Challenge\n",
    "\n",
    "A similar challenge for you is to use numpy to compute the [mean squared error](https://en.wikipedia.org/wiki/Mean_squared_error) when you have a vector $\\hat{y}$ of predictions and a vector $\\bar{y}$ of true observations.\n",
    "\n",
    "Please try this for the data below.\n"
   ]
  },
  {
   "cell_type": "code",
   "execution_count": 27,
   "id": "91b6c9b9-ca28-4500-a362-fa890a88f687",
   "metadata": {},
   "outputs": [
    {
     "data": {
      "text/plain": [
       "(array([0, 1, 2, 3, 4, 5, 6, 7, 8, 9]),\n",
       " array([2.46675300e-03, 9.98465299e-01, 1.97799546e+00, 2.99571662e+00,\n",
       "        4.00104691e+00, 5.00533823e+00, 6.00466346e+00, 7.01071427e+00,\n",
       "        7.99140788e+00, 8.99986290e+00]))"
      ]
     },
     "execution_count": 27,
     "metadata": {},
     "output_type": "execute_result"
    }
   ],
   "source": [
    "ybar = np.arange(10)\n",
    "noise = np.random.randn(10)/100 ## some gaussian noise\n",
    "yhat = ybar + noise ## this is a broadcast sum\n",
    "ybar,yhat"
   ]
  },
  {
   "cell_type": "code",
   "execution_count": 28,
   "id": "30b7f88d-5be5-4fca-9225-3a0129a5e8be",
   "metadata": {},
   "outputs": [],
   "source": [
    "### Your work here\n",
    "\n"
   ]
  },
  {
   "cell_type": "markdown",
   "id": "58283f2b-2d0d-40ba-a9cb-bea60910b0ed",
   "metadata": {},
   "source": [
    "### Solving a system of equations\n",
    "\n",
    "Use numpy to solve the system of equations given by\n",
    "\n",
    "\\begin{align}\n",
    "x + 2y +z &= 1\\\\\n",
    "2x +3z &= 3 \\\\\n",
    "y+z &= 8\n",
    "\\end{align}\n",
    "\n"
   ]
  },
  {
   "cell_type": "code",
   "execution_count": 30,
   "id": "21ad0bb8-e48e-4402-9732-b18ffbc60261",
   "metadata": {},
   "outputs": [
    {
     "data": {
      "text/plain": [
       "(array([[1, 2, 1],\n",
       "        [2, 0, 3],\n",
       "        [0, 1, 1]]),\n",
       " array([1, 3, 8]))"
      ]
     },
     "execution_count": 30,
     "metadata": {},
     "output_type": "execute_result"
    }
   ],
   "source": [
    "A = np.array([[1,2,1],[2,0,3],[0,1,1]])\n",
    "v = np.array([1,3,8])\n",
    "A,v"
   ]
  },
  {
   "cell_type": "markdown",
   "id": "6451d020-1671-4c10-a562-b0d5f3cfa74b",
   "metadata": {},
   "source": [
    "$$A\\bar{x} = \\bar{v}$$\n",
    "\n",
    "To solve the above, we can apply $A^{-1}$ to both sides...\n",
    "\n",
    "$$\\bar{x} = A^{-1}\\bar{v}$$"
   ]
  },
  {
   "cell_type": "code",
   "execution_count": 32,
   "id": "7818f06b-24b6-40ad-8fbd-598c49de510d",
   "metadata": {},
   "outputs": [
    {
     "data": {
      "text/plain": [
       "array([-8.4,  1.4,  6.6])"
      ]
     },
     "execution_count": 32,
     "metadata": {},
     "output_type": "execute_result"
    }
   ],
   "source": [
    "x=np.linalg.inv(A)@v\n",
    "x"
   ]
  },
  {
   "cell_type": "code",
   "execution_count": 35,
   "id": "29bf15bf-b3f7-44eb-b096-36597c7296b8",
   "metadata": {},
   "outputs": [
    {
     "data": {
      "text/plain": [
       "array([1., 3., 8.])"
      ]
     },
     "execution_count": 35,
     "metadata": {},
     "output_type": "execute_result"
    }
   ],
   "source": [
    "## Check the answer\n",
    "\n",
    "A@x"
   ]
  },
  {
   "cell_type": "markdown",
   "id": "8ff57523-387f-4783-b276-1d53dd5d276b",
   "metadata": {},
   "source": [
    "### Similar challenge\n",
    "\n",
    "Try to solve the following system of equations.\n",
    "\n",
    "\\begin{align}\n",
    "-x -y -z &= 11\\\\\n",
    "2x +9y -2z &= 0\\\\\n",
    "x &= 9\n",
    "\\end{align}"
   ]
  },
  {
   "cell_type": "code",
   "execution_count": 38,
   "id": "691b1b8b-a5de-41cf-93c3-8d8137111358",
   "metadata": {},
   "outputs": [],
   "source": [
    "## Your work here\n"
   ]
  },
  {
   "cell_type": "code",
   "execution_count": null,
   "id": "c2c92325-d57c-4a03-a32d-eedcfdf447c3",
   "metadata": {},
   "outputs": [],
   "source": []
  },
  {
   "cell_type": "code",
   "execution_count": null,
   "id": "7d095657-ed97-418f-9cdb-def3b31dc2a1",
   "metadata": {},
   "outputs": [],
   "source": []
  }
 ],
 "metadata": {
  "kernelspec": {
   "display_name": "Python 3 (ipykernel)",
   "language": "python",
   "name": "python3"
  },
  "language_info": {
   "codemirror_mode": {
    "name": "ipython",
    "version": 3
   },
   "file_extension": ".py",
   "mimetype": "text/x-python",
   "name": "python",
   "nbconvert_exporter": "python",
   "pygments_lexer": "ipython3",
   "version": "3.10.6"
  }
 },
 "nbformat": 4,
 "nbformat_minor": 5
}
