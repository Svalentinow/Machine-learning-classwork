{
 "cells": [
  {
   "cell_type": "markdown",
   "id": "54f41e1d-8c56-41f3-8d64-5dca645fdb65",
   "metadata": {},
   "source": [
    "#### Data Analysis Exercises\n",
    "\n",
    "Plan:\n",
    "\n",
    "1. Load a data matrix X based on caveman DNA project\n",
    "2. Find locations where genotypes are unanimously identical (and where not)\n",
    "3. Select out columns of variation\n",
    "3. Measure pairwise differences and make a heatmap\n",
    "4. Select out Neanderthal rows, and ancient rows\n",
    "5. Change dtypes and measure effect on memory usage.\n"
   ]
  },
  {
   "cell_type": "code",
   "execution_count": 1,
   "id": "530cb265-fabb-4ab0-895c-641b7f7e69d1",
   "metadata": {},
   "outputs": [
    {
     "data": {
      "text/plain": [
       "{'Altai_': [array(['A', 'C', 'T', 'A', 'G', 'A', 'A', 'T', 'T', 'G', 'C', 'C', 'A',\n",
       "         'T', 'G', 'T', 'T', 'A', 'A', 'C', 'C', 'T', 'A', 'C', 'A', 'T',\n",
       "         'T', 'G', 'T', 'G', 'G', 'A', 'A', 'T', 'T', 'A', 'C', 'C', 'T',\n",
       "         'A', 'A', 'C', 'T', 'T', 'T', 'G', 'T', 'G', 'A', 'A', 'A', 'T',\n",
       "         'G', 'T', 'C', 'T', 'T', 'A', 'A', 'A', 'G', 'A', 'A', 'A', 'A',\n",
       "         'A', 'T', 'T', 'G', 'T', 'T', 'T', 'A', 'A', 'A', 'T', 'G', 'T',\n",
       "         'G', 'T', 'G', 'C', 'C', 'T', 'T', 'G', 'A', 'C', 'A', 'T', 'A',\n",
       "         'T', 'G', 'A', 'A', 'G', 'C', 'T', 'G', 'A', 'T', 'G', 'A', 'A',\n",
       "         'C', 'T', 'C', 'A', 'T', 'A', 'T', 'T', 'A', 'T', 'G', 'T', 'G',\n",
       "         'T', 'T', 'T', 'A', 'T', 'A', 'C', 'T', 'G', 'G', 'A', 'A', 'A',\n",
       "         'C', 'A', 'T', 'A', 'A', 'G', 'T', 'A', 'A', 'T', 'T', 'A', 'T',\n",
       "         'G', 'C', 'T', 'T', 'C', 'A', 'T', 'T', 'T', 'C', 'C', 'T', 'C',\n",
       "         'T', 'T', 'T', 'G', 'A', 'G', 'G', 'A', 'A', 'T', 'T', 'C', 'A',\n",
       "         'G', 'A', 'T', 'T', 'A', 'A', 'T', 'A', 'A', 'G', 'T', 'C', 'T',\n",
       "         'T', 'A', 'C', 'A', 'T', 'T', 'T', 'T', 'G', 'A', 'G', 'T', 'T',\n",
       "         'A', 'T', 'G', 'C', 'T', 'T'], dtype='<U1')],\n",
       " 'Chag_': [array(['A', 'C', 'T', 'A', 'G', 'A', 'A', 'T', 'T', 'G', 'C', 'C', 'A',\n",
       "         'T', 'G', 'T', 'T', 'A', 'A', 'C', 'C', 'T', 'A', 'C', 'A', 'T',\n",
       "         'T', 'G', 'T', 'G', 'G', 'A', 'A', 'T', 'T', 'A', 'C', 'C', 'T',\n",
       "         'A', 'A', 'C', 'T', 'T', 'T', 'G', 'T', 'G', 'A', 'A', 'A', 'T',\n",
       "         'G', 'T', 'C', 'T', 'T', 'A', 'A', 'A', 'G', 'A', 'A', 'A', 'A',\n",
       "         'A', 'T', 'T', 'G', 'T', 'T', 'T', 'A', 'A', 'A', 'T', 'G', 'T',\n",
       "         'G', 'T', 'G', 'C', 'C', 'T', 'T', 'G', 'A', 'C', 'A', 'T', 'A',\n",
       "         'T', 'G', 'A', 'A', 'G', 'C', 'T', 'G', 'A', 'T', 'G', 'A', 'A',\n",
       "         'C', 'T', 'C', 'A', 'T', 'A', 'T', 'T', 'A', 'T', 'G', 'T', 'G',\n",
       "         'T', 'T', 'T', 'A', 'T', 'A', 'C', 'T', 'G', 'G', 'A', 'A', 'A',\n",
       "         'C', 'A', 'T', 'A', 'A', 'G', 'T', 'A', 'A', 'T', 'T', 'A', 'T',\n",
       "         'G', 'C', 'T', 'T', 'C', 'A', 'T', 'T', 'T', 'C', 'C', 'T', 'C',\n",
       "         'T', 'T', 'T', 'G', 'A', 'G', 'G', 'A', 'A', 'T', 'T', 'C', 'A',\n",
       "         'G', 'A', 'T', 'T', 'A', 'A', 'T', 'A', 'A', 'G', 'T', 'C', 'T',\n",
       "         'T', 'A', 'C', 'A', 'T', 'T', 'T', 'T', 'G', 'A', 'G', 'T', 'T',\n",
       "         'A', 'T', 'G', 'C', 'T', 'T'], dtype='<U1')],\n",
       " 'Denisovan_': [array(['A', 'C', 'T', 'A', 'G', 'A', 'A', 'T', 'T', 'G', 'C', 'C', 'A',\n",
       "         'T', 'G', 'T', 'T', 'A', 'A', 'C', 'C', 'T', 'A', 'C', 'A', 'T',\n",
       "         'T', 'G', 'T', 'G', 'G', 'A', 'A', 'T', 'T', 'A', 'C', 'C', 'T',\n",
       "         'A', 'A', 'C', 'T', 'T', 'T', 'G', 'T', 'G', 'A', 'A', 'A', 'T',\n",
       "         'G', 'T', 'C', 'T', 'T', 'A', 'A', 'A', 'G', 'A', 'A', 'A', 'A',\n",
       "         'A', 'T', 'T', 'G', 'T', 'T', 'T', 'A', 'A', 'A', 'T', 'G', 'T',\n",
       "         'G', 'T', 'G', 'C', 'C', 'T', 'T', 'G', 'A', 'C', 'A', 'T', 'A',\n",
       "         'T', 'G', 'A', 'A', 'G', 'C', 'T', 'G', 'A', 'T', 'G', 'A', 'A',\n",
       "         'C', 'T', 'C', 'A', 'T', 'A', 'T', 'T', 'A', 'T', 'G', 'T', 'G',\n",
       "         'T', 'T', 'T', 'A', 'T', 'A', 'C', 'T', 'G', 'G', 'A', 'A', 'A',\n",
       "         'C', 'A', 'T', 'A', 'A', 'G', 'T', 'A', 'A', 'T', 'T', 'A', 'T',\n",
       "         'G', 'C', 'T', 'T', 'C', 'A', 'T', 'T', 'T', 'C', 'C', 'T', 'C',\n",
       "         'T', 'T', 'T', 'G', 'A', 'G', 'G', 'A', 'A', 'T', 'T', 'C', 'A',\n",
       "         'G', 'A', 'T', 'T', 'A', 'A', 'T', 'A', 'A', 'G', 'T', 'C', 'T',\n",
       "         'T', 'A', 'C', 'A', 'T', 'T', 'T', 'T', 'G', 'A', 'G', 'T', 'T',\n",
       "         'A', 'T', 'G', 'C', 'T', 'T'], dtype='<U1')],\n",
       " 'Vindija_': [array(['A', 'C', 'T', 'A', 'G', 'A', 'A', 'T', 'T', 'G', 'C', 'C', 'A',\n",
       "         'T', 'G', 'T', 'T', 'A', 'A', 'C', 'C', 'T', 'A', 'C', 'A', 'T',\n",
       "         'T', 'G', 'T', 'G', 'G', 'A', 'A', 'T', 'T', 'A', 'C', 'C', 'T',\n",
       "         'A', 'A', 'C', 'T', 'T', 'T', 'G', 'T', 'G', 'A', 'A', 'A', 'T',\n",
       "         'G', 'T', 'C', 'T', 'T', 'A', 'A', 'A', 'G', 'T', 'A', 'A', 'A',\n",
       "         'A', 'T', 'T', 'G', 'T', 'T', 'T', 'A', 'A', 'A', 'T', 'G', 'T',\n",
       "         'G', 'T', 'G', 'C', 'C', 'T', 'T', 'G', 'A', 'C', 'A', 'T', 'A',\n",
       "         'T', 'G', 'A', 'A', 'G', 'C', 'T', 'G', 'A', 'T', 'G', 'A', 'A',\n",
       "         'C', 'T', 'C', 'A', 'T', 'A', 'T', 'T', 'A', 'T', 'G', 'T', 'G',\n",
       "         'T', 'T', 'T', 'A', 'T', 'A', 'C', 'T', 'G', 'G', 'A', 'A', 'A',\n",
       "         'C', 'A', 'T', 'A', 'A', 'G', 'T', 'A', 'A', 'T', 'T', 'A', 'T',\n",
       "         'G', 'C', 'T', 'T', 'C', 'A', 'T', 'T', 'T', 'C', 'C', 'T', 'C',\n",
       "         'T', 'T', 'T', 'G', 'A', 'G', 'G', 'A', 'A', 'T', 'T', 'C', 'A',\n",
       "         'G', 'A', 'T', 'T', 'A', 'A', 'T', 'A', 'A', 'G', 'T', 'C', 'T',\n",
       "         'T', 'A', 'C', 'A', 'T', 'T', 'T', 'T', 'G', 'A', 'G', 'T', 'T',\n",
       "         'A', 'T', 'G', 'C', 'T', 'T'], dtype='<U1')],\n",
       " 'Sapiens_': [array(['A', 'C', 'T', 'A', 'G', 'A', 'A', 'T', 'T', 'G', 'C', 'C', 'A',\n",
       "         'T', 'G', 'T', 'T', 'A', 'A', 'C', 'C', 'T', 'A', 'C', 'A', 'T',\n",
       "         'T', 'G', 'T', 'G', 'G', 'A', 'A', 'T', 'T', 'A', 'C', 'C', 'T',\n",
       "         'A', 'A', 'C', 'T', 'T', 'T', 'G', 'T', 'G', 'A', 'A', 'A', 'T',\n",
       "         'G', 'T', 'C', 'T', 'T', 'A', 'A', 'A', 'G', 'A', 'A', 'A', 'A',\n",
       "         'A', 'T', 'T', 'G', 'T', 'T', 'T', 'A', 'A', 'A', 'T', 'G', 'T',\n",
       "         'G', 'T', 'G', 'C', 'C', 'T', 'T', 'G', 'A', 'C', 'A', 'T', 'A',\n",
       "         'T', 'G', 'A', 'A', 'G', 'C', 'T', 'G', 'A', 'T', 'G', 'A', 'A',\n",
       "         'C', 'T', 'C', 'A', 'T', 'A', 'T', 'T', 'A', 'T', 'G', 'T', 'G',\n",
       "         'T', 'T', 'T', 'A', 'T', 'A', 'C', 'T', 'G', 'G', 'A', 'A', 'A',\n",
       "         'C', 'A', 'T', 'A', 'A', 'G', 'T', 'A', 'A', 'T', 'T', 'A', 'T',\n",
       "         'G', 'C', 'T', 'T', 'C', 'A', 'T', 'T', 'T', 'C', 'C', 'T', 'C',\n",
       "         'T', 'T', 'T', 'G', 'A', 'G', 'G', 'A', 'A', 'T', 'T', 'C', 'A',\n",
       "         'G', 'A', 'T', 'T', 'A', 'A', 'T', 'A', 'A', 'G', 'T', 'C', 'T',\n",
       "         'T', 'A', 'C', 'A', 'T', 'T', 'T', 'T', 'G', 'A', 'G', 'T', 'T',\n",
       "         'A', 'T', 'G', 'C', 'T', 'T'], dtype='<U1')]}"
      ]
     },
     "execution_count": 1,
     "metadata": {},
     "output_type": "execute_result"
    }
   ],
   "source": [
    "keys = ['Altai_', 'Chag_', 'Denisovan_', 'Vindija_', 'Sapiens_']\n",
    "\n",
    "import pickle\n",
    "\n",
    "with open(\"hh.pkl\",'rb') as handle:\n",
    "    data_dict = pickle.load(handle)\n",
    "data_dict"
   ]
  },
  {
   "cell_type": "markdown",
   "id": "9efd425d-b736-4427-b68c-a93dd810f405",
   "metadata": {},
   "source": [
    "### Goal 1\n",
    "\n",
    "1. Load a data matrix X based on caveman DNA project\n",
    "\n"
   ]
  },
  {
   "cell_type": "code",
   "execution_count": 2,
   "id": "45b253c9-fc2c-4c2a-9673-0258b94f1154",
   "metadata": {},
   "outputs": [],
   "source": [
    "### Work here\n"
   ]
  },
  {
   "cell_type": "code",
   "execution_count": null,
   "id": "ea280ad3-80fe-4021-9698-8653745b9312",
   "metadata": {},
   "outputs": [],
   "source": []
  },
  {
   "cell_type": "markdown",
   "id": "b36f005c-9103-4971-941b-ed71ecd38325",
   "metadata": {},
   "source": [
    "### Goal 2\n",
    "2. Find locations where genotypes are unanimously identical (and where not)\n",
    "\n"
   ]
  },
  {
   "cell_type": "code",
   "execution_count": 2,
   "id": "d8f2999a-b593-40db-9717-01f5106a0976",
   "metadata": {},
   "outputs": [],
   "source": [
    "### Work here\n"
   ]
  },
  {
   "cell_type": "markdown",
   "id": "750ea4c6-bfa2-46f2-a694-b21c50bd510f",
   "metadata": {},
   "source": [
    "### Goal 3\n",
    "\n",
    "3. Select out columns of variation\n"
   ]
  },
  {
   "cell_type": "code",
   "execution_count": 2,
   "id": "6fbf2056-36f6-4eaf-9d27-0d9e2199c485",
   "metadata": {},
   "outputs": [],
   "source": [
    "### Work here\n"
   ]
  },
  {
   "cell_type": "markdown",
   "id": "ec1fa708-3920-4bcf-ac60-9b97cbd66305",
   "metadata": {},
   "source": [
    "### Goal 1\n",
    "\n",
    "1. Load a data matrix X based on caveman DNA project\n",
    "\n"
   ]
  },
  {
   "cell_type": "code",
   "execution_count": 2,
   "id": "11fa942e-e7d4-4078-b7d0-355c0e1c2388",
   "metadata": {},
   "outputs": [],
   "source": [
    "### Work here\n"
   ]
  }
 ],
 "metadata": {
  "kernelspec": {
   "display_name": "Python 3 (ipykernel)",
   "language": "python",
   "name": "python3"
  },
  "language_info": {
   "codemirror_mode": {
    "name": "ipython",
    "version": 3
   },
   "file_extension": ".py",
   "mimetype": "text/x-python",
   "name": "python",
   "nbconvert_exporter": "python",
   "pygments_lexer": "ipython3",
   "version": "3.9.7"
  }
 },
 "nbformat": 4,
 "nbformat_minor": 5
}
