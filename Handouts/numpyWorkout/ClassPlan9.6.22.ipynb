{
 "cells": [
  {
   "cell_type": "markdown",
   "id": "48927f96-d28e-4bac-923e-fcde86ab439e",
   "metadata": {},
   "source": [
    "\n",
    "### Goals\n",
    "\n",
    "Here is what we aim to accomplish today...\n",
    "\n",
    "1. Review assignment you're working on or just finished\n",
    "2. Go over magic squares\n",
    "3. Go through the notebook `corr.ipynb`.\n",
    "4. Go through the notebook `NumpyAncients.ipynb`. \n"
   ]
  },
  {
   "cell_type": "code",
   "execution_count": null,
   "id": "e3eba709-b718-4f95-855d-dfd1054a0448",
   "metadata": {},
   "outputs": [],
   "source": []
  }
 ],
 "metadata": {
  "kernelspec": {
   "display_name": "Python 3 (ipykernel)",
   "language": "python",
   "name": "python3"
  },
  "language_info": {
   "codemirror_mode": {
    "name": "ipython",
    "version": 3
   },
   "file_extension": ".py",
   "mimetype": "text/x-python",
   "name": "python",
   "nbconvert_exporter": "python",
   "pygments_lexer": "ipython3",
   "version": "3.10.6"
  }
 },
 "nbformat": 4,
 "nbformat_minor": 5
}
