{
 "cells": [
  {
   "attachments": {},
   "cell_type": "markdown",
   "metadata": {},
   "source": [
    "### Tensorflow\n",
    "\n",
    "In this worksheet we will build some neural network models using Keras and Tensorflow.\n",
    "\n",
    "Tensorflow is a library that supports the creation of complex architectures for neural nets.\n",
    "\n",
    "It also has built-in support for regularization, scaling, and initialization of neural nets.\n",
    "\n",
    "It can automate backpropagation, and has a varied selection of activation functions, loss functions, and optimization methods.\n",
    "\n",
    "Tensorflow is quite complex, both to use and to install.\n",
    "\n",
    "Rather than using Tensorflow directly, we will use a front-end called Keras. \n",
    "\n",
    "Keras can support many back-ends, not just Tensorflow.\n",
    "\n",
    "Below we use the version of `keras` that is a submodule of `tensorflow`, ensuring that Tensorflow is the back end ML system.\n",
    "\n",
    "All the code for these notes is copied from Chapter 10 of *Hands on Machine Learning with Scikit-Learn, Keras & TensorFlow* by Aurélien Géron.\n",
    "\n",
    "https://github.com/ageron/handson-ml2/blob/master/10_neural_nets_with_keras.ipynb\n",
    "\n",
    "A quick way to get access to a working TensorFlow installation is to use Colab.\n"
   ]
  },
  {
   "cell_type": "code",
   "execution_count": 65,
   "metadata": {},
   "outputs": [],
   "source": [
    "import tensorflow as tf\n",
    "from tensorflow import keras"
   ]
  },
  {
   "cell_type": "code",
   "execution_count": 66,
   "metadata": {},
   "outputs": [
    {
     "data": {
      "text/plain": [
       "'2.9.2'"
      ]
     },
     "execution_count": 66,
     "metadata": {},
     "output_type": "execute_result"
    }
   ],
   "source": [
    "tf.__version__"
   ]
  },
  {
   "cell_type": "code",
   "execution_count": 67,
   "metadata": {},
   "outputs": [
    {
     "data": {
      "text/plain": [
       "'2.9.0'"
      ]
     },
     "execution_count": 67,
     "metadata": {},
     "output_type": "execute_result"
    }
   ],
   "source": [
    "keras.__version__\n"
   ]
  },
  {
   "attachments": {},
   "cell_type": "markdown",
   "metadata": {},
   "source": [
    "### Fashion MNIST\n",
    "\n",
    "The dataset we use to illustrate classification is called *fashion MNIST*.\n",
    "\n",
    "Recall that in the original MNIST we worked with `28x28` matrixes of pixels, each one with a value between 0 and 255 (greyscale intensity), representing images of handwritten digits.\n",
    "\n",
    "Now, in fashion MNIST, the images are of clothing items.\n",
    "\n",
    "There are 10 possible clothing items.\n",
    "\n",
    "This dataset is more challenging than the handwritten digit version.\n",
    "\n",
    "Good linear classifiers have $\\approx$ 83% accuracy on fashion MNIST, compared with 91% accuracy on MNIST.\n",
    "\n"
   ]
  },
  {
   "cell_type": "code",
   "execution_count": 68,
   "metadata": {},
   "outputs": [],
   "source": [
    "fashion_mnist = keras.datasets.fashion_mnist\n",
    "(X_train_full,y_train_full),(X_test,y_test)= fashion_mnist.load_data()"
   ]
  },
  {
   "cell_type": "code",
   "execution_count": null,
   "metadata": {},
   "outputs": [
    {
     "data": {
      "text/plain": [
       "(60000, 28, 28)"
      ]
     },
     "execution_count": 29,
     "metadata": {},
     "output_type": "execute_result"
    }
   ],
   "source": [
    "X_train_full.shape"
   ]
  },
  {
   "cell_type": "code",
   "execution_count": null,
   "metadata": {},
   "outputs": [
    {
     "data": {
      "text/plain": [
       "dtype('uint8')"
      ]
     },
     "execution_count": 30,
     "metadata": {},
     "output_type": "execute_result"
    }
   ],
   "source": [
    "X_train_full.dtype"
   ]
  },
  {
   "attachments": {},
   "cell_type": "markdown",
   "metadata": {},
   "source": [
    "### Validation set\n",
    "\n",
    "We set aside a validation set.\n",
    "\n",
    "The purpose is to check overfitting as tensorflow fits the model through a number of epochs. "
   ]
  },
  {
   "cell_type": "code",
   "execution_count": null,
   "metadata": {},
   "outputs": [],
   "source": [
    "X_valid,X_train = X_train_full[:5000]/255.0,X_train_full[5000:]/255.0\n",
    "y_valid,y_train = y_train_full[:5000],y_train_full[5000:]\n",
    "\n",
    "class_names = [\"T-shirt/top\",\"Trouser\",\"Pullover\",\"Dress\",\"Coat\",\"Sandal\",\"Shirt\",\"Sneaker\",\"Bag\",\"Ankle boot\"]\n",
    "\n"
   ]
  },
  {
   "cell_type": "code",
   "execution_count": null,
   "metadata": {},
   "outputs": [
    {
     "name": "stdout",
     "output_type": "stream",
     "text": [
      "Trouser\n"
     ]
    },
    {
     "data": {
      "image/png": "[encoded data removed]",
      "text/plain": [
       "<Figure size 640x480 with 1 Axes>"
      ]
     },
     "metadata": {},
     "output_type": "display_data"
    }
   ],
   "source": [
    "i=3500\n",
    "img = X_train[i]\n",
    "import matplotlib.pyplot as plt\n",
    "\n",
    "plt.imshow(img)\n",
    "print(class_names[y_train[i]])\n",
    "plt.show()"
   ]
  },
  {
   "attachments": {},
   "cell_type": "markdown",
   "metadata": {},
   "source": [
    "![fminst](fminst.png)"
   ]
  },
  {
   "attachments": {},
   "cell_type": "markdown",
   "metadata": {},
   "source": [
    "### First model\n",
    "\n",
    "Below we make our first model.\n",
    "\n",
    "The input comes in `28x28` matrixes which are flattened in the first layer.\n",
    "\n",
    "We then have 2 hidden layers, densely connected, with 300 and 100 neurons, respectively (not counting bias nodes). \n",
    "\n",
    "The activation function in the hidden layers is `relu`. \n",
    "\n",
    "In the output layer we apply the `softmax` transformation.\n",
    "\n",
    "This converts the relative output strengths of the 10 output nodes to a probability distribution.\n",
    "\n",
    "https://en.wikipedia.org/wiki/Softmax_function\n",
    "\n",
    "The fact that the model is \"Sequential\" means that the layers sequentially form the network in the way we are used to.\n",
    "\n",
    "In more complex models the layers can connect in exotic ways (jumping the subsequent layer, for example)."
   ]
  },
  {
   "cell_type": "code",
   "execution_count": null,
   "metadata": {},
   "outputs": [],
   "source": [
    "model=keras.models.Sequential()\n",
    "model.add(keras.layers.Flatten(input_shape=[28,28]))\n",
    "model.add(keras.layers.Dense(300,activation=\"relu\"))\n",
    "model.add(keras.layers.Dense(100,activation=\"relu\"))\n",
    "model.add(keras.layers.Dense(10,activation=\"softmax\"))\n"
   ]
  },
  {
   "cell_type": "code",
   "execution_count": null,
   "metadata": {},
   "outputs": [
    {
     "name": "stdout",
     "output_type": "stream",
     "text": [
      "Model: \"sequential_1\"\n",
      "_________________________________________________________________\n",
      " Layer (type)                Output Shape              Param #   \n",
      "=================================================================\n",
      " flatten_1 (Flatten)         (None, 784)               0         \n",
      "                                                                 \n",
      " dense_3 (Dense)             (None, 300)               235500    \n",
      "                                                                 \n",
      " dense_4 (Dense)             (None, 100)               30100     \n",
      "                                                                 \n",
      " dense_5 (Dense)             (None, 10)                1010      \n",
      "                                                                 \n",
      "=================================================================\n",
      "Total params: 266,610\n",
      "Trainable params: 266,610\n",
      "Non-trainable params: 0\n",
      "_________________________________________________________________\n"
     ]
    }
   ],
   "source": [
    "model.summary()"
   ]
  },
  {
   "cell_type": "code",
   "execution_count": null,
   "metadata": {},
   "outputs": [
    {
     "data": {
      "text/plain": [
       "[<keras.layers.reshaping.flatten.Flatten at 0x29658da00>,\n",
       " <keras.layers.core.dense.Dense at 0x29658deb0>,\n",
       " <keras.layers.core.dense.Dense at 0x16f89e940>,\n",
       " <keras.layers.core.dense.Dense at 0x2a6db5e80>]"
      ]
     },
     "execution_count": 35,
     "metadata": {},
     "output_type": "execute_result"
    }
   ],
   "source": [
    "model.layers"
   ]
  },
  {
   "cell_type": "code",
   "execution_count": null,
   "metadata": {},
   "outputs": [
    {
     "data": {
      "text/plain": [
       "'dense_3'"
      ]
     },
     "execution_count": 36,
     "metadata": {},
     "output_type": "execute_result"
    }
   ],
   "source": [
    "hidden1=model.layers[1]\n",
    "hidden1.name"
   ]
  },
  {
   "cell_type": "code",
   "execution_count": null,
   "metadata": {},
   "outputs": [
    {
     "data": {
      "text/plain": [
       "array([[-0.02800443,  0.04855824,  0.02751914, ...,  0.00960008,\n",
       "        -0.00796123, -0.0133522 ],\n",
       "       [ 0.01611954,  0.00144831, -0.02820668, ...,  0.00065094,\n",
       "         0.01651683,  0.04379861],\n",
       "       [-0.0437861 ,  0.00658993, -0.05881778, ..., -0.04739716,\n",
       "        -0.03433928,  0.03154709],\n",
       "       ...,\n",
       "       [-0.00350509,  0.04625763,  0.02062563, ...,  0.03252264,\n",
       "        -0.00028712, -0.05172993],\n",
       "       [ 0.04167175,  0.01196171,  0.00652634, ..., -0.07023708,\n",
       "         0.03556088,  0.0264007 ],\n",
       "       [ 0.01406019, -0.02540822, -0.0418445 , ..., -0.06002566,\n",
       "        -0.03875675, -0.05263955]], dtype=float32)"
      ]
     },
     "execution_count": 37,
     "metadata": {},
     "output_type": "execute_result"
    }
   ],
   "source": [
    "weights,biases = hidden1.get_weights()\n",
    "weights"
   ]
  },
  {
   "cell_type": "code",
   "execution_count": null,
   "metadata": {},
   "outputs": [
    {
     "data": {
      "text/plain": [
       "(784, 300)"
      ]
     },
     "execution_count": 38,
     "metadata": {},
     "output_type": "execute_result"
    }
   ],
   "source": [
    "weights.shape"
   ]
  },
  {
   "cell_type": "code",
   "execution_count": null,
   "metadata": {},
   "outputs": [
    {
     "data": {
      "text/plain": [
       "array([0., 0., 0., 0., 0., 0., 0., 0., 0., 0., 0., 0., 0., 0., 0., 0., 0.,\n",
       "       0., 0., 0., 0., 0., 0., 0., 0., 0., 0., 0., 0., 0., 0., 0., 0., 0.,\n",
       "       0., 0., 0., 0., 0., 0., 0., 0., 0., 0., 0., 0., 0., 0., 0., 0., 0.,\n",
       "       0., 0., 0., 0., 0., 0., 0., 0., 0., 0., 0., 0., 0., 0., 0., 0., 0.,\n",
       "       0., 0., 0., 0., 0., 0., 0., 0., 0., 0., 0., 0., 0., 0., 0., 0., 0.,\n",
       "       0., 0., 0., 0., 0., 0., 0., 0., 0., 0., 0., 0., 0., 0., 0., 0., 0.,\n",
       "       0., 0., 0., 0., 0., 0., 0., 0., 0., 0., 0., 0., 0., 0., 0., 0., 0.,\n",
       "       0., 0., 0., 0., 0., 0., 0., 0., 0., 0., 0., 0., 0., 0., 0., 0., 0.,\n",
       "       0., 0., 0., 0., 0., 0., 0., 0., 0., 0., 0., 0., 0., 0., 0., 0., 0.,\n",
       "       0., 0., 0., 0., 0., 0., 0., 0., 0., 0., 0., 0., 0., 0., 0., 0., 0.,\n",
       "       0., 0., 0., 0., 0., 0., 0., 0., 0., 0., 0., 0., 0., 0., 0., 0., 0.,\n",
       "       0., 0., 0., 0., 0., 0., 0., 0., 0., 0., 0., 0., 0., 0., 0., 0., 0.,\n",
       "       0., 0., 0., 0., 0., 0., 0., 0., 0., 0., 0., 0., 0., 0., 0., 0., 0.,\n",
       "       0., 0., 0., 0., 0., 0., 0., 0., 0., 0., 0., 0., 0., 0., 0., 0., 0.,\n",
       "       0., 0., 0., 0., 0., 0., 0., 0., 0., 0., 0., 0., 0., 0., 0., 0., 0.,\n",
       "       0., 0., 0., 0., 0., 0., 0., 0., 0., 0., 0., 0., 0., 0., 0., 0., 0.,\n",
       "       0., 0., 0., 0., 0., 0., 0., 0., 0., 0., 0., 0., 0., 0., 0., 0., 0.,\n",
       "       0., 0., 0., 0., 0., 0., 0., 0., 0., 0., 0.], dtype=float32)"
      ]
     },
     "execution_count": 39,
     "metadata": {},
     "output_type": "execute_result"
    }
   ],
   "source": [
    "biases"
   ]
  },
  {
   "attachments": {},
   "cell_type": "markdown",
   "metadata": {},
   "source": [
    "### Compiling the model\n",
    "\n",
    "Below we \"compile\" the model.\n",
    "\n",
    "This sets the loss function, the optimization algorithm, and the output metrics.\n",
    "\n",
    "Below we use \"sparse categorical crossentropy\" as out loss function.\n",
    "\n",
    "\"Crossentropy\" is a generalization of the loss function we used for logistic regression to more than 2 classes. \n",
    "\n",
    "This basically measures how close the output probability distribution (from softmax) comes to the true conditional probability $P(y | x)$. \n",
    "\n",
    "This loss will form the basis for $\\delta^L$, the final sensitivity vector.  \n",
    "\n",
    "Its influence will be pushed back through the network using backpropagation during training.\n",
    "\n",
    "\n",
    "The `sparse` part means that `y` values look like `2` rather than `[0,0,1,0,0,0,0,0,0,0]`.\n",
    "\n"
   ]
  },
  {
   "cell_type": "code",
   "execution_count": null,
   "metadata": {},
   "outputs": [],
   "source": [
    "model.compile(loss=\"sparse_categorical_crossentropy\",optimizer=\"sgd\",metrics=[\"accuracy\"])"
   ]
  },
  {
   "attachments": {},
   "cell_type": "markdown",
   "metadata": {},
   "source": [
    "### Fitting the model\n",
    "\n",
    "We now fit the model.\n",
    "\n",
    "The validation set is optional and is used only for output in this case.\n",
    "\n",
    "Validation data can be used to fit hyperparameters, but we don't consider any hyperparameters here.\n",
    "\n",
    "As the training goes through epochs, notice that\n",
    "\n",
    "1) The loss trends downwards\n",
    "2) The accuracy trends upwards\n",
    "3) The validation loss and training loss are correlated but slightly different.\n"
   ]
  },
  {
   "cell_type": "code",
   "execution_count": null,
   "metadata": {},
   "outputs": [
    {
     "name": "stdout",
     "output_type": "stream",
     "text": [
      "Epoch 1/30\n",
      "  11/1719 [..............................] - ETA: 18s - loss: 2.3055 - accuracy: 0.1591"
     ]
    },
    {
     "name": "stderr",
     "output_type": "stream",
     "text": [
      "2022-12-12 14:34:19.650433: I tensorflow/core/grappler/optimizers/custom_graph_optimizer_registry.cc:113] Plugin optimizer for device_type GPU is enabled.\n"
     ]
    },
    {
     "name": "stdout",
     "output_type": "stream",
     "text": [
      "1715/1719 [============================>.] - ETA: 0s - loss: 0.7260 - accuracy: 0.7614"
     ]
    },
    {
     "name": "stderr",
     "output_type": "stream",
     "text": [
      "2022-12-12 14:34:30.121311: I tensorflow/core/grappler/optimizers/custom_graph_optimizer_registry.cc:113] Plugin optimizer for device_type GPU is enabled.\n"
     ]
    },
    {
     "name": "stdout",
     "output_type": "stream",
     "text": [
      "1719/1719 [==============================] - 11s 6ms/step - loss: 0.7253 - accuracy: 0.7616 - val_loss: 0.5080 - val_accuracy: 0.8256\n",
      "Epoch 2/30\n",
      "1719/1719 [==============================] - 11s 6ms/step - loss: 0.4879 - accuracy: 0.8296 - val_loss: 0.4336 - val_accuracy: 0.8550\n",
      "Epoch 3/30\n",
      "1719/1719 [==============================] - 11s 6ms/step - loss: 0.4416 - accuracy: 0.8441 - val_loss: 0.4229 - val_accuracy: 0.8556\n",
      "Epoch 4/30\n",
      "1719/1719 [==============================] - 11s 6ms/step - loss: 0.4146 - accuracy: 0.8545 - val_loss: 0.4092 - val_accuracy: 0.8608\n",
      "Epoch 5/30\n",
      "1719/1719 [==============================] - 10s 6ms/step - loss: 0.3928 - accuracy: 0.8628 - val_loss: 0.3875 - val_accuracy: 0.8650\n",
      "Epoch 6/30\n",
      "1719/1719 [==============================] - 10s 6ms/step - loss: 0.3772 - accuracy: 0.8683 - val_loss: 0.3711 - val_accuracy: 0.8724\n",
      "Epoch 7/30\n",
      "1719/1719 [==============================] - 10s 6ms/step - loss: 0.3634 - accuracy: 0.8731 - val_loss: 0.3664 - val_accuracy: 0.8716\n",
      "Epoch 8/30\n",
      "1719/1719 [==============================] - 10s 6ms/step - loss: 0.3522 - accuracy: 0.8763 - val_loss: 0.3573 - val_accuracy: 0.8742\n",
      "Epoch 9/30\n",
      "1719/1719 [==============================] - 10s 6ms/step - loss: 0.3421 - accuracy: 0.8784 - val_loss: 0.3527 - val_accuracy: 0.8750\n",
      "Epoch 10/30\n",
      "1719/1719 [==============================] - 11s 6ms/step - loss: 0.3321 - accuracy: 0.8808 - val_loss: 0.3431 - val_accuracy: 0.8762\n",
      "Epoch 11/30\n",
      "1719/1719 [==============================] - 12s 7ms/step - loss: 0.3246 - accuracy: 0.8850 - val_loss: 0.3332 - val_accuracy: 0.8808\n",
      "Epoch 12/30\n",
      "1719/1719 [==============================] - 10s 6ms/step - loss: 0.3161 - accuracy: 0.8875 - val_loss: 0.3418 - val_accuracy: 0.8770\n",
      "Epoch 13/30\n",
      "1719/1719 [==============================] - 10s 6ms/step - loss: 0.3093 - accuracy: 0.8889 - val_loss: 0.3182 - val_accuracy: 0.8840\n",
      "Epoch 14/30\n",
      "1719/1719 [==============================] - 10s 6ms/step - loss: 0.3025 - accuracy: 0.8929 - val_loss: 0.3251 - val_accuracy: 0.8838\n",
      "Epoch 15/30\n",
      "1719/1719 [==============================] - 10s 6ms/step - loss: 0.2956 - accuracy: 0.8948 - val_loss: 0.3263 - val_accuracy: 0.8820\n",
      "Epoch 16/30\n",
      "1719/1719 [==============================] - 10s 6ms/step - loss: 0.2902 - accuracy: 0.8964 - val_loss: 0.3177 - val_accuracy: 0.8834\n",
      "Epoch 17/30\n",
      "1719/1719 [==============================] - 10s 6ms/step - loss: 0.2838 - accuracy: 0.8983 - val_loss: 0.3213 - val_accuracy: 0.8840\n",
      "Epoch 18/30\n",
      "1719/1719 [==============================] - 10s 6ms/step - loss: 0.2784 - accuracy: 0.9003 - val_loss: 0.3290 - val_accuracy: 0.8848\n",
      "Epoch 19/30\n",
      "1719/1719 [==============================] - 11s 6ms/step - loss: 0.2724 - accuracy: 0.9024 - val_loss: 0.3117 - val_accuracy: 0.8872\n",
      "Epoch 20/30\n",
      "1719/1719 [==============================] - 11s 7ms/step - loss: 0.2683 - accuracy: 0.9053 - val_loss: 0.3132 - val_accuracy: 0.8880\n",
      "Epoch 21/30\n",
      "1719/1719 [==============================] - 10s 6ms/step - loss: 0.2621 - accuracy: 0.9051 - val_loss: 0.3203 - val_accuracy: 0.8864\n",
      "Epoch 22/30\n",
      "1719/1719 [==============================] - 10s 6ms/step - loss: 0.2584 - accuracy: 0.9067 - val_loss: 0.3082 - val_accuracy: 0.8874\n",
      "Epoch 23/30\n",
      "1719/1719 [==============================] - 11s 6ms/step - loss: 0.2542 - accuracy: 0.9087 - val_loss: 0.3047 - val_accuracy: 0.8868\n",
      "Epoch 24/30\n",
      "1719/1719 [==============================] - 10s 6ms/step - loss: 0.2496 - accuracy: 0.9104 - val_loss: 0.2976 - val_accuracy: 0.8928\n",
      "Epoch 25/30\n",
      "1719/1719 [==============================] - 10s 6ms/step - loss: 0.2451 - accuracy: 0.9112 - val_loss: 0.3077 - val_accuracy: 0.8902\n",
      "Epoch 26/30\n",
      "1719/1719 [==============================] - 10s 6ms/step - loss: 0.2417 - accuracy: 0.9127 - val_loss: 0.2980 - val_accuracy: 0.8922\n",
      "Epoch 27/30\n",
      "1719/1719 [==============================] - 11s 6ms/step - loss: 0.2365 - accuracy: 0.9153 - val_loss: 0.2950 - val_accuracy: 0.8956\n",
      "Epoch 28/30\n",
      "1719/1719 [==============================] - 12s 7ms/step - loss: 0.2332 - accuracy: 0.9161 - val_loss: 0.3005 - val_accuracy: 0.8898\n",
      "Epoch 29/30\n",
      "1719/1719 [==============================] - 10s 6ms/step - loss: 0.2300 - accuracy: 0.9176 - val_loss: 0.3019 - val_accuracy: 0.8930\n",
      "Epoch 30/30\n",
      "1719/1719 [==============================] - 10s 6ms/step - loss: 0.2256 - accuracy: 0.9187 - val_loss: 0.3085 - val_accuracy: 0.8894\n"
     ]
    }
   ],
   "source": [
    "history = model.fit(X_train,y_train,epochs=30,validation_data=(X_valid,y_valid))"
   ]
  },
  {
   "cell_type": "code",
   "execution_count": null,
   "metadata": {},
   "outputs": [
    {
     "data": {
      "image/png": "[encoded data removed]",
      "text/plain": [
       "<Figure size 800x500 with 1 Axes>"
      ]
     },
     "metadata": {},
     "output_type": "display_data"
    }
   ],
   "source": [
    "import pandas as pd\n",
    "pd.DataFrame(history.history).plot(figsize=(8,5))\n",
    "plt.grid(True)\n",
    "plt.gca().set_ylim(0,1 )\n",
    "plt.show()"
   ]
  },
  {
   "cell_type": "code",
   "execution_count": null,
   "metadata": {},
   "outputs": [
    {
     "name": "stdout",
     "output_type": "stream",
     "text": [
      " 22/313 [=>............................] - ETA: 1s - loss: 49.0732 - accuracy: 0.8594"
     ]
    },
    {
     "name": "stderr",
     "output_type": "stream",
     "text": [
      "2022-12-12 14:39:36.033038: I tensorflow/core/grappler/optimizers/custom_graph_optimizer_registry.cc:113] Plugin optimizer for device_type GPU is enabled.\n"
     ]
    },
    {
     "name": "stdout",
     "output_type": "stream",
     "text": [
      "313/313 [==============================] - 2s 5ms/step - loss: 63.7754 - accuracy: 0.8447\n"
     ]
    },
    {
     "data": {
      "text/plain": [
       "[63.775447845458984, 0.844700038433075]"
      ]
     },
     "execution_count": 43,
     "metadata": {},
     "output_type": "execute_result"
    }
   ],
   "source": [
    "model.evaluate(X_test,y_test)\n"
   ]
  },
  {
   "cell_type": "code",
   "execution_count": null,
   "metadata": {},
   "outputs": [
    {
     "name": "stdout",
     "output_type": "stream",
     "text": [
      "1/1 [==============================] - 0s 37ms/step\n"
     ]
    },
    {
     "name": "stderr",
     "output_type": "stream",
     "text": [
      "2022-12-12 14:39:37.647000: I tensorflow/core/grappler/optimizers/custom_graph_optimizer_registry.cc:113] Plugin optimizer for device_type GPU is enabled.\n"
     ]
    },
    {
     "data": {
      "text/plain": [
       "array([[0., 0., 0., 0., 0., 0., 0., 0., 0., 1.],\n",
       "       [0., 0., 1., 0., 0., 0., 0., 0., 0., 0.],\n",
       "       [0., 1., 0., 0., 0., 0., 0., 0., 0., 0.]], dtype=float32)"
      ]
     },
     "execution_count": 44,
     "metadata": {},
     "output_type": "execute_result"
    }
   ],
   "source": [
    "X_new = X_test[:3]\n",
    "y_proba = model.predict(X_new)\n",
    "y_proba.round(2)"
   ]
  },
  {
   "cell_type": "code",
   "execution_count": null,
   "metadata": {},
   "outputs": [
    {
     "ename": "AttributeError",
     "evalue": "'Sequential' object has no attribute 'predict_classes'",
     "output_type": "error",
     "traceback": [
      "\u001b[0;31m---------------------------------------------------------------------------\u001b[0m",
      "\u001b[0;31mAttributeError\u001b[0m                            Traceback (most recent call last)",
      "\u001b[1;32m/Users/hunterjohnson/Dropbox (John Jay College)/Courses/ML/classManager/Handouts/Tensorflow_Keras/tf.ipynb Cell 27\u001b[0m in \u001b[0;36m<cell line: 1>\u001b[0;34m()\u001b[0m\n\u001b[0;32m----> <a href='vscode-notebook-cell:/Users/hunterjohnson/Dropbox%20%28John%20Jay%20College%29/Courses/ML/classManager/Handouts/Tensorflow_Keras/tf.ipynb#X43sZmlsZQ%3D%3D?line=0'>1</a>\u001b[0m y_pred \u001b[39m=\u001b[39m model\u001b[39m.\u001b[39;49mpredict_classes(X_new)\n\u001b[1;32m      <a href='vscode-notebook-cell:/Users/hunterjohnson/Dropbox%20%28John%20Jay%20College%29/Courses/ML/classManager/Handouts/Tensorflow_Keras/tf.ipynb#X43sZmlsZQ%3D%3D?line=1'>2</a>\u001b[0m y_pred\n",
      "\u001b[0;31mAttributeError\u001b[0m: 'Sequential' object has no attribute 'predict_classes'"
     ]
    }
   ],
   "source": [
    "y_pred = model.predict_classes(X_new)\n",
    "y_pred"
   ]
  },
  {
   "cell_type": "code",
   "execution_count": null,
   "metadata": {},
   "outputs": [],
   "source": [
    "np.array(class_names)[y_pred]"
   ]
  },
  {
   "cell_type": "code",
   "execution_count": null,
   "metadata": {},
   "outputs": [],
   "source": [
    "np.array(class_names)[y_test[:3]]"
   ]
  },
  {
   "attachments": {},
   "cell_type": "markdown",
   "metadata": {},
   "source": [
    "### Regression\n",
    "\n",
    "Above we saw how to use TensorFlow to solve a classification problem.\n",
    "\n",
    "The book (see above) uses the California Housing dataset for this purpose.\n",
    "\n",
    "I decided to use a tough regression dataset that Jian is using for Project 2.\n",
    "\n",
    "No sklearn models can get a very high R2 score on this problem.\n",
    "\n",
    "Can TensorFlow do better?  \n",
    "\n",
    "Let's see.\n",
    "\n",
    "First we load the data and scale it.\n",
    "\n"
   ]
  },
  {
   "cell_type": "code",
   "execution_count": null,
   "metadata": {},
   "outputs": [
    {
     "data": {
      "text/html": [
       "<div>\n",
       "<style scoped>\n",
       "    .dataframe tbody tr th:only-of-type {\n",
       "        vertical-align: middle;\n",
       "    }\n",
       "\n",
       "    .dataframe tbody tr th {\n",
       "        vertical-align: top;\n",
       "    }\n",
       "\n",
       "    .dataframe thead th {\n",
       "        text-align: right;\n",
       "    }\n",
       "</style>\n",
       "<table border=\"1\" class=\"dataframe\">\n",
       "  <thead>\n",
       "    <tr style=\"text-align: right;\">\n",
       "      <th></th>\n",
       "      <th>url</th>\n",
       "      <th>timedelta</th>\n",
       "      <th>n_tokens_title</th>\n",
       "      <th>n_tokens_content</th>\n",
       "      <th>n_unique_tokens</th>\n",
       "      <th>n_non_stop_words</th>\n",
       "      <th>n_non_stop_unique_tokens</th>\n",
       "      <th>num_hrefs</th>\n",
       "      <th>num_self_hrefs</th>\n",
       "      <th>num_imgs</th>\n",
       "      <th>...</th>\n",
       "      <th>min_positive_polarity</th>\n",
       "      <th>max_positive_polarity</th>\n",
       "      <th>avg_negative_polarity</th>\n",
       "      <th>min_negative_polarity</th>\n",
       "      <th>max_negative_polarity</th>\n",
       "      <th>title_subjectivity</th>\n",
       "      <th>title_sentiment_polarity</th>\n",
       "      <th>abs_title_subjectivity</th>\n",
       "      <th>abs_title_sentiment_polarity</th>\n",
       "      <th>shares</th>\n",
       "    </tr>\n",
       "  </thead>\n",
       "  <tbody>\n",
       "    <tr>\n",
       "      <th>5849</th>\n",
       "      <td>http://mashable.com/2013/04/24/kickstarter-res...</td>\n",
       "      <td>624.0</td>\n",
       "      <td>9.0</td>\n",
       "      <td>1119.0</td>\n",
       "      <td>0.433092</td>\n",
       "      <td>1.0</td>\n",
       "      <td>0.655738</td>\n",
       "      <td>20.0</td>\n",
       "      <td>5.0</td>\n",
       "      <td>8.0</td>\n",
       "      <td>...</td>\n",
       "      <td>0.033333</td>\n",
       "      <td>1.00</td>\n",
       "      <td>-0.273810</td>\n",
       "      <td>-1.0000</td>\n",
       "      <td>-0.1000</td>\n",
       "      <td>0.000000</td>\n",
       "      <td>0.00</td>\n",
       "      <td>0.500000</td>\n",
       "      <td>0.00</td>\n",
       "      <td>1600</td>\n",
       "    </tr>\n",
       "    <tr>\n",
       "      <th>14970</th>\n",
       "      <td>http://mashable.com/2013/10/22/nokia-lumia-1520/</td>\n",
       "      <td>443.0</td>\n",
       "      <td>12.0</td>\n",
       "      <td>606.0</td>\n",
       "      <td>0.504318</td>\n",
       "      <td>1.0</td>\n",
       "      <td>0.702703</td>\n",
       "      <td>9.0</td>\n",
       "      <td>7.0</td>\n",
       "      <td>1.0</td>\n",
       "      <td>...</td>\n",
       "      <td>0.136364</td>\n",
       "      <td>0.80</td>\n",
       "      <td>-0.198214</td>\n",
       "      <td>-0.5000</td>\n",
       "      <td>-0.0500</td>\n",
       "      <td>0.333333</td>\n",
       "      <td>0.25</td>\n",
       "      <td>0.166667</td>\n",
       "      <td>0.25</td>\n",
       "      <td>1800</td>\n",
       "    </tr>\n",
       "    <tr>\n",
       "      <th>8498</th>\n",
       "      <td>http://mashable.com/2013/06/17/batman-arkham-o...</td>\n",
       "      <td>570.0</td>\n",
       "      <td>11.0</td>\n",
       "      <td>509.0</td>\n",
       "      <td>0.510121</td>\n",
       "      <td>1.0</td>\n",
       "      <td>0.620061</td>\n",
       "      <td>17.0</td>\n",
       "      <td>9.0</td>\n",
       "      <td>6.0</td>\n",
       "      <td>...</td>\n",
       "      <td>0.100000</td>\n",
       "      <td>1.00</td>\n",
       "      <td>-0.187500</td>\n",
       "      <td>-0.1875</td>\n",
       "      <td>-0.1875</td>\n",
       "      <td>0.000000</td>\n",
       "      <td>0.00</td>\n",
       "      <td>0.500000</td>\n",
       "      <td>0.00</td>\n",
       "      <td>847</td>\n",
       "    </tr>\n",
       "    <tr>\n",
       "      <th>25822</th>\n",
       "      <td>http://mashable.com/2014/05/26/apple-smart-hom...</td>\n",
       "      <td>227.0</td>\n",
       "      <td>10.0</td>\n",
       "      <td>517.0</td>\n",
       "      <td>0.487448</td>\n",
       "      <td>1.0</td>\n",
       "      <td>0.599388</td>\n",
       "      <td>1.0</td>\n",
       "      <td>1.0</td>\n",
       "      <td>10.0</td>\n",
       "      <td>...</td>\n",
       "      <td>0.100000</td>\n",
       "      <td>0.85</td>\n",
       "      <td>-0.200000</td>\n",
       "      <td>-0.2500</td>\n",
       "      <td>-0.1000</td>\n",
       "      <td>0.000000</td>\n",
       "      <td>0.00</td>\n",
       "      <td>0.500000</td>\n",
       "      <td>0.00</td>\n",
       "      <td>1500</td>\n",
       "    </tr>\n",
       "    <tr>\n",
       "      <th>23321</th>\n",
       "      <td>http://mashable.com/2014/04/10/linkedin-intern...</td>\n",
       "      <td>273.0</td>\n",
       "      <td>9.0</td>\n",
       "      <td>1117.0</td>\n",
       "      <td>0.451072</td>\n",
       "      <td>1.0</td>\n",
       "      <td>0.621118</td>\n",
       "      <td>11.0</td>\n",
       "      <td>5.0</td>\n",
       "      <td>6.0</td>\n",
       "      <td>...</td>\n",
       "      <td>0.062500</td>\n",
       "      <td>1.00</td>\n",
       "      <td>-0.271429</td>\n",
       "      <td>-0.5000</td>\n",
       "      <td>-0.1000</td>\n",
       "      <td>1.000000</td>\n",
       "      <td>0.00</td>\n",
       "      <td>0.500000</td>\n",
       "      <td>0.00</td>\n",
       "      <td>2300</td>\n",
       "    </tr>\n",
       "  </tbody>\n",
       "</table>\n",
       "<p>5 rows × 61 columns</p>\n",
       "</div>"
      ],
      "text/plain": [
       "                                                     url   timedelta  \\\n",
       "5849   http://mashable.com/2013/04/24/kickstarter-res...       624.0   \n",
       "14970   http://mashable.com/2013/10/22/nokia-lumia-1520/       443.0   \n",
       "8498   http://mashable.com/2013/06/17/batman-arkham-o...       570.0   \n",
       "25822  http://mashable.com/2014/05/26/apple-smart-hom...       227.0   \n",
       "23321  http://mashable.com/2014/04/10/linkedin-intern...       273.0   \n",
       "\n",
       "        n_tokens_title   n_tokens_content   n_unique_tokens  \\\n",
       "5849               9.0             1119.0          0.433092   \n",
       "14970             12.0              606.0          0.504318   \n",
       "8498              11.0              509.0          0.510121   \n",
       "25822             10.0              517.0          0.487448   \n",
       "23321              9.0             1117.0          0.451072   \n",
       "\n",
       "        n_non_stop_words   n_non_stop_unique_tokens   num_hrefs  \\\n",
       "5849                 1.0                   0.655738        20.0   \n",
       "14970                1.0                   0.702703         9.0   \n",
       "8498                 1.0                   0.620061        17.0   \n",
       "25822                1.0                   0.599388         1.0   \n",
       "23321                1.0                   0.621118        11.0   \n",
       "\n",
       "        num_self_hrefs   num_imgs  ...   min_positive_polarity  \\\n",
       "5849               5.0        8.0  ...                0.033333   \n",
       "14970              7.0        1.0  ...                0.136364   \n",
       "8498               9.0        6.0  ...                0.100000   \n",
       "25822              1.0       10.0  ...                0.100000   \n",
       "23321              5.0        6.0  ...                0.062500   \n",
       "\n",
       "        max_positive_polarity   avg_negative_polarity   min_negative_polarity  \\\n",
       "5849                     1.00               -0.273810                 -1.0000   \n",
       "14970                    0.80               -0.198214                 -0.5000   \n",
       "8498                     1.00               -0.187500                 -0.1875   \n",
       "25822                    0.85               -0.200000                 -0.2500   \n",
       "23321                    1.00               -0.271429                 -0.5000   \n",
       "\n",
       "        max_negative_polarity   title_subjectivity   title_sentiment_polarity  \\\n",
       "5849                  -0.1000             0.000000                       0.00   \n",
       "14970                 -0.0500             0.333333                       0.25   \n",
       "8498                  -0.1875             0.000000                       0.00   \n",
       "25822                 -0.1000             0.000000                       0.00   \n",
       "23321                 -0.1000             1.000000                       0.00   \n",
       "\n",
       "        abs_title_subjectivity   abs_title_sentiment_polarity   shares  \n",
       "5849                  0.500000                           0.00     1600  \n",
       "14970                 0.166667                           0.25     1800  \n",
       "8498                  0.500000                           0.00      847  \n",
       "25822                 0.500000                           0.00     1500  \n",
       "23321                 0.500000                           0.00     2300  \n",
       "\n",
       "[5 rows x 61 columns]"
      ]
     },
     "execution_count": 47,
     "metadata": {},
     "output_type": "execute_result"
    }
   ],
   "source": [
    "df =pd.read_csv(\"OnlineNewsPopularity.csv\")\n",
    "df.sample(5)"
   ]
  },
  {
   "cell_type": "code",
   "execution_count": null,
   "metadata": {},
   "outputs": [
    {
     "data": {
      "text/plain": [
       "Index(['url', ' timedelta', ' n_tokens_title', ' n_tokens_content',\n",
       "       ' n_unique_tokens', ' n_non_stop_words', ' n_non_stop_unique_tokens',\n",
       "       ' num_hrefs', ' num_self_hrefs', ' num_imgs', ' num_videos',\n",
       "       ' average_token_length', ' num_keywords', ' data_channel_is_lifestyle',\n",
       "       ' data_channel_is_entertainment', ' data_channel_is_bus',\n",
       "       ' data_channel_is_socmed', ' data_channel_is_tech',\n",
       "       ' data_channel_is_world', ' kw_min_min', ' kw_max_min', ' kw_avg_min',\n",
       "       ' kw_min_max', ' kw_max_max', ' kw_avg_max', ' kw_min_avg',\n",
       "       ' kw_max_avg', ' kw_avg_avg', ' self_reference_min_shares',\n",
       "       ' self_reference_max_shares', ' self_reference_avg_sharess',\n",
       "       ' weekday_is_monday', ' weekday_is_tuesday', ' weekday_is_wednesday',\n",
       "       ' weekday_is_thursday', ' weekday_is_friday', ' weekday_is_saturday',\n",
       "       ' weekday_is_sunday', ' is_weekend', ' LDA_00', ' LDA_01', ' LDA_02',\n",
       "       ' LDA_03', ' LDA_04', ' global_subjectivity',\n",
       "       ' global_sentiment_polarity', ' global_rate_positive_words',\n",
       "       ' global_rate_negative_words', ' rate_positive_words',\n",
       "       ' rate_negative_words', ' avg_positive_polarity',\n",
       "       ' min_positive_polarity', ' max_positive_polarity',\n",
       "       ' avg_negative_polarity', ' min_negative_polarity',\n",
       "       ' max_negative_polarity', ' title_subjectivity',\n",
       "       ' title_sentiment_polarity', ' abs_title_subjectivity',\n",
       "       ' abs_title_sentiment_polarity', ' shares'],\n",
       "      dtype='object')"
      ]
     },
     "execution_count": 50,
     "metadata": {},
     "output_type": "execute_result"
    }
   ],
   "source": [
    "df.columns"
   ]
  },
  {
   "cell_type": "code",
   "execution_count": null,
   "metadata": {},
   "outputs": [],
   "source": [
    "df = df.drop(columns=['url',' timedelta'],axis=1)  # not a factor for final share number"
   ]
  },
  {
   "cell_type": "code",
   "execution_count": null,
   "metadata": {},
   "outputs": [],
   "source": [
    "# def X and y\n",
    "import numpy as np\n",
    "X = df.iloc[:,:-1]\n",
    "y = df[\" shares\"]\n",
    "\n",
    "y = np.log(y)"
   ]
  },
  {
   "cell_type": "code",
   "execution_count": 109,
   "metadata": {},
   "outputs": [
    {
     "data": {
      "text/plain": [
       "((29733, 58), (9911, 58))"
      ]
     },
     "execution_count": 109,
     "metadata": {},
     "output_type": "execute_result"
    }
   ],
   "source": [
    "from sklearn.model_selection import train_test_split\n",
    "from sklearn.preprocessing import StandardScaler\n",
    "\n",
    "scaler = StandardScaler()\n",
    "\n",
    "X_train,X_test,y_train,y_test = train_test_split(X,y)\n",
    "#X = scaler.fit_transform(X)\n",
    "scaler.fit(X_train)\n",
    "\n",
    "X_train = scaler.transform(X_train)\n",
    "X_test = scaler.transform(X_test)\n",
    "X_train.shape,X_test.shape"
   ]
  },
  {
   "cell_type": "code",
   "execution_count": null,
   "metadata": {},
   "outputs": [
    {
     "data": {
      "text/plain": [
       "array([[-0.6586575 , -1.00045867,  0.04473786, ...,  0.2443954 ,\n",
       "        -1.80976538, -0.08633729],\n",
       "       [ 0.75724818, -0.53310938,  0.01529469, ...,  0.48410183,\n",
       "        -0.22118184,  0.19468419],\n",
       "       [ 0.75724818, -0.37591008,  0.00392472, ..., -1.77598738,\n",
       "        -1.28023753,  1.07789453],\n",
       "       ...,\n",
       "       [ 1.22921674, -0.422645  ,  0.0156142 , ..., -0.26926124,\n",
       "         0.83787386, -0.68852616],\n",
       "       [ 0.28527962, -0.19109468, -0.01335272, ..., -0.26926124,\n",
       "         0.83787386, -0.68852616],\n",
       "       [ 0.75724818,  0.78184156, -0.02231411, ..., -0.14370073,\n",
       "         0.4848553 , -0.54132444]])"
      ]
     },
     "execution_count": 63,
     "metadata": {},
     "output_type": "execute_result"
    }
   ],
   "source": [
    "X_train"
   ]
  },
  {
   "attachments": {},
   "cell_type": "markdown",
   "metadata": {},
   "source": [
    "### Designing the network\n",
    "\n",
    "There are a few new things to consider with regression.\n",
    "\n",
    "First, the input layer is already 1D -- we do not need to flatten it.\n",
    "\n",
    "Second, the output layer does not need an activation function (since this is regression).\n",
    "\n",
    "Third, we change the loss function to MSE.\n",
    "\n",
    "It would be nice to add R2 score as a metric, but for some reason this is not easy to do in Keras.\n",
    "\n",
    "Observe that rather than explicitly setting aside a validation set, this time we do\n",
    "\n",
    "`validation_split=0.1`\n",
    "\n",
    "This tells the model to use the final 10% of the training data for validation (before shuffling)."
   ]
  },
  {
   "cell_type": "code",
   "execution_count": 70,
   "metadata": {},
   "outputs": [
    {
     "name": "stdout",
     "output_type": "stream",
     "text": [
      "Epoch 1/8\n",
      "  8/837 [..............................] - ETA: 6s - loss: 44.8681  "
     ]
    },
    {
     "name": "stderr",
     "output_type": "stream",
     "text": [
      "2022-12-12 14:55:39.931391: I tensorflow/core/grappler/optimizers/custom_graph_optimizer_registry.cc:113] Plugin optimizer for device_type GPU is enabled.\n"
     ]
    },
    {
     "name": "stdout",
     "output_type": "stream",
     "text": [
      "837/837 [==============================] - ETA: 0s - loss: 3.8470"
     ]
    },
    {
     "name": "stderr",
     "output_type": "stream",
     "text": [
      "2022-12-12 14:55:45.076095: I tensorflow/core/grappler/optimizers/custom_graph_optimizer_registry.cc:113] Plugin optimizer for device_type GPU is enabled.\n"
     ]
    },
    {
     "name": "stdout",
     "output_type": "stream",
     "text": [
      "837/837 [==============================] - 6s 6ms/step - loss: 3.8470 - val_loss: 0.9424\n",
      "Epoch 2/8\n",
      "837/837 [==============================] - 5s 7ms/step - loss: 1.1476 - val_loss: 0.8291\n",
      "Epoch 3/8\n",
      "837/837 [==============================] - 5s 6ms/step - loss: 1.0024 - val_loss: 0.8081\n",
      "Epoch 4/8\n",
      "837/837 [==============================] - 5s 6ms/step - loss: 0.9100 - val_loss: 0.8088\n",
      "Epoch 5/8\n",
      "837/837 [==============================] - 5s 6ms/step - loss: 0.8294 - val_loss: 0.7975\n",
      "Epoch 6/8\n",
      "837/837 [==============================] - 5s 6ms/step - loss: 0.7615 - val_loss: 0.7815\n",
      "Epoch 7/8\n",
      "837/837 [==============================] - 5s 6ms/step - loss: 0.7420 - val_loss: 0.7794\n",
      "Epoch 8/8\n",
      "837/837 [==============================] - 5s 6ms/step - loss: 0.7456 - val_loss: 0.8006\n"
     ]
    }
   ],
   "source": [
    "model = keras.models.Sequential([\n",
    "    keras.layers.InputLayer(input_shape=X_train.shape[1]),\n",
    "    keras.layers.Dense(100,activation='relu'),\n",
    "    keras.layers.Dense(1)])\n",
    "    \n",
    "model.compile(loss=\"mean_squared_error\")\n",
    "\n",
    "history= model.fit(X_train,y_train,epochs=8,validation_split=0.1)"
   ]
  },
  {
   "cell_type": "code",
   "execution_count": 73,
   "metadata": {},
   "outputs": [
    {
     "name": "stdout",
     "output_type": "stream",
     "text": [
      " 84/310 [=======>......................] - ETA: 0s"
     ]
    },
    {
     "name": "stderr",
     "output_type": "stream",
     "text": [
      "2022-12-12 14:57:43.324314: I tensorflow/core/grappler/optimizers/custom_graph_optimizer_registry.cc:113] Plugin optimizer for device_type GPU is enabled.\n"
     ]
    },
    {
     "name": "stdout",
     "output_type": "stream",
     "text": [
      "310/310 [==============================] - 1s 2ms/step\n"
     ]
    },
    {
     "data": {
      "text/plain": [
       "array([[7.2969565],\n",
       "       [6.8704176],\n",
       "       [7.3340206],\n",
       "       ...,\n",
       "       [7.7515097],\n",
       "       [8.1663475],\n",
       "       [7.584839 ]], dtype=float32)"
      ]
     },
     "execution_count": 73,
     "metadata": {},
     "output_type": "execute_result"
    }
   ],
   "source": [
    "yhat = model.predict(X_test)\n",
    "yhat"
   ]
  },
  {
   "attachments": {},
   "cell_type": "markdown",
   "metadata": {},
   "source": [
    "### Performance of first attempt\n",
    "\n",
    "The R2 score we got was only about .11.  \n",
    "\n",
    "That is not good in an absolute sense, but it is about what the `sklearn` models were getting.\n"
   ]
  },
  {
   "cell_type": "code",
   "execution_count": 75,
   "metadata": {},
   "outputs": [
    {
     "data": {
      "text/plain": [
       "0.10908181761552915"
      ]
     },
     "execution_count": 75,
     "metadata": {},
     "output_type": "execute_result"
    }
   ],
   "source": [
    "from sklearn.metrics import r2_score\n",
    "\n",
    "r2_score(y_test,yhat)"
   ]
  },
  {
   "attachments": {},
   "cell_type": "markdown",
   "metadata": {},
   "source": [
    "### Try harder?\n",
    "\n",
    "We will try a more complex model and more epochs.\n",
    "\n",
    "If this doesn't work then we will give up for now.\n"
   ]
  },
  {
   "cell_type": "code",
   "execution_count": 86,
   "metadata": {},
   "outputs": [
    {
     "name": "stdout",
     "output_type": "stream",
     "text": [
      "Epoch 1/40\n"
     ]
    },
    {
     "name": "stderr",
     "output_type": "stream",
     "text": [
      "2022-12-12 15:16:19.296822: I tensorflow/core/grappler/optimizers/custom_graph_optimizer_registry.cc:113] Plugin optimizer for device_type GPU is enabled.\n"
     ]
    },
    {
     "name": "stdout",
     "output_type": "stream",
     "text": [
      "837/837 [==============================] - ETA: 0s - loss: 3.4499"
     ]
    },
    {
     "name": "stderr",
     "output_type": "stream",
     "text": [
      "2022-12-12 15:16:25.457379: I tensorflow/core/grappler/optimizers/custom_graph_optimizer_registry.cc:113] Plugin optimizer for device_type GPU is enabled.\n"
     ]
    },
    {
     "name": "stdout",
     "output_type": "stream",
     "text": [
      "837/837 [==============================] - 7s 7ms/step - loss: 3.4499 - val_loss: 1.0277\n",
      "Epoch 2/40\n",
      "837/837 [==============================] - 6s 7ms/step - loss: 0.8186 - val_loss: 0.8243\n",
      "Epoch 3/40\n",
      "837/837 [==============================] - 6s 7ms/step - loss: 0.7663 - val_loss: 0.8353\n",
      "Epoch 4/40\n",
      "837/837 [==============================] - 6s 7ms/step - loss: 0.7483 - val_loss: 0.7842\n",
      "Epoch 5/40\n",
      "837/837 [==============================] - 6s 7ms/step - loss: 0.7389 - val_loss: 0.7678\n",
      "Epoch 6/40\n",
      "837/837 [==============================] - 6s 7ms/step - loss: 0.7260 - val_loss: 0.8557\n",
      "Epoch 7/40\n",
      "837/837 [==============================] - 6s 7ms/step - loss: 0.7158 - val_loss: 0.8323\n",
      "Epoch 8/40\n",
      "837/837 [==============================] - 6s 7ms/step - loss: 0.7069 - val_loss: 0.8200\n",
      "Epoch 9/40\n",
      "837/837 [==============================] - 6s 7ms/step - loss: 0.6949 - val_loss: 0.7817\n",
      "Epoch 10/40\n",
      "837/837 [==============================] - 6s 7ms/step - loss: 0.6827 - val_loss: 0.8110\n",
      "Epoch 11/40\n",
      "837/837 [==============================] - 6s 7ms/step - loss: 0.6709 - val_loss: 0.8137\n",
      "Epoch 12/40\n",
      "837/837 [==============================] - 6s 7ms/step - loss: 0.6562 - val_loss: 0.7946\n",
      "Epoch 13/40\n",
      "837/837 [==============================] - 6s 7ms/step - loss: 0.6432 - val_loss: 0.8674\n",
      "Epoch 14/40\n",
      "837/837 [==============================] - 6s 7ms/step - loss: 0.6312 - val_loss: 0.8275\n",
      "Epoch 15/40\n",
      "837/837 [==============================] - 6s 7ms/step - loss: 0.6160 - val_loss: 0.8931\n",
      "Epoch 16/40\n",
      "837/837 [==============================] - 6s 7ms/step - loss: 0.6008 - val_loss: 0.8759\n",
      "Epoch 17/40\n",
      "837/837 [==============================] - 6s 7ms/step - loss: 0.5888 - val_loss: 0.8633\n",
      "Epoch 18/40\n",
      "837/837 [==============================] - 6s 7ms/step - loss: 0.5727 - val_loss: 0.8732\n",
      "Epoch 19/40\n",
      "837/837 [==============================] - 6s 7ms/step - loss: 0.5579 - val_loss: 0.8544\n",
      "Epoch 20/40\n",
      "837/837 [==============================] - 6s 7ms/step - loss: 0.5440 - val_loss: 0.9011\n",
      "Epoch 21/40\n",
      "837/837 [==============================] - 6s 7ms/step - loss: 0.5272 - val_loss: 0.8928\n",
      "Epoch 22/40\n",
      "837/837 [==============================] - 6s 7ms/step - loss: 0.5122 - val_loss: 0.9149\n",
      "Epoch 23/40\n",
      "837/837 [==============================] - 6s 7ms/step - loss: 0.4987 - val_loss: 0.9053\n",
      "Epoch 24/40\n",
      "837/837 [==============================] - 6s 7ms/step - loss: 0.4823 - val_loss: 0.9738\n",
      "Epoch 25/40\n",
      "837/837 [==============================] - 6s 7ms/step - loss: 0.4686 - val_loss: 0.9591\n",
      "Epoch 26/40\n",
      "837/837 [==============================] - 6s 7ms/step - loss: 0.4545 - val_loss: 0.9444\n",
      "Epoch 27/40\n",
      "837/837 [==============================] - 6s 7ms/step - loss: 0.4415 - val_loss: 0.9660\n",
      "Epoch 28/40\n",
      "837/837 [==============================] - 6s 7ms/step - loss: 0.4294 - val_loss: 0.9847\n",
      "Epoch 29/40\n",
      "837/837 [==============================] - 6s 7ms/step - loss: 0.4139 - val_loss: 1.0753\n",
      "Epoch 30/40\n",
      "837/837 [==============================] - 6s 7ms/step - loss: 0.3990 - val_loss: 1.0478\n",
      "Epoch 31/40\n",
      "837/837 [==============================] - 6s 7ms/step - loss: 0.3904 - val_loss: 1.1152\n",
      "Epoch 32/40\n",
      "837/837 [==============================] - 6s 7ms/step - loss: 0.3742 - val_loss: 1.0176\n",
      "Epoch 33/40\n",
      "837/837 [==============================] - 6s 7ms/step - loss: 0.3641 - val_loss: 1.0573\n",
      "Epoch 34/40\n",
      "837/837 [==============================] - 6s 7ms/step - loss: 0.3501 - val_loss: 1.0402\n",
      "Epoch 35/40\n",
      "837/837 [==============================] - 6s 7ms/step - loss: 0.3384 - val_loss: 1.1329\n",
      "Epoch 36/40\n",
      "837/837 [==============================] - 6s 7ms/step - loss: 0.3271 - val_loss: 1.1480\n",
      "Epoch 37/40\n",
      "837/837 [==============================] - 6s 7ms/step - loss: 0.3175 - val_loss: 1.0780\n",
      "Epoch 38/40\n",
      "837/837 [==============================] - 6s 7ms/step - loss: 0.3063 - val_loss: 1.0973\n",
      "Epoch 39/40\n",
      "837/837 [==============================] - 6s 7ms/step - loss: 0.2955 - val_loss: 1.1051\n",
      "Epoch 40/40\n",
      "837/837 [==============================] - 6s 7ms/step - loss: 0.2857 - val_loss: 1.1583\n"
     ]
    }
   ],
   "source": [
    "model = keras.models.Sequential([\n",
    "    keras.layers.InputLayer(input_shape=X_train.shape[1]),\n",
    "    keras.layers.Dense(200,activation='tanh'),\n",
    "    keras.layers.Dense(200,activation='tanh'),\n",
    "    keras.layers.Dense(1)])\n",
    "    \n",
    "model.compile(loss=\"mean_squared_error\")\n",
    "\n",
    "history= model.fit(X_train,y_train,epochs=40,validation_split=0.1)"
   ]
  },
  {
   "cell_type": "code",
   "execution_count": 87,
   "metadata": {},
   "outputs": [
    {
     "name": "stdout",
     "output_type": "stream",
     "text": [
      " 85/310 [=======>......................] - ETA: 0s"
     ]
    },
    {
     "name": "stderr",
     "output_type": "stream",
     "text": [
      "2022-12-12 15:20:53.168049: I tensorflow/core/grappler/optimizers/custom_graph_optimizer_registry.cc:113] Plugin optimizer for device_type GPU is enabled.\n"
     ]
    },
    {
     "name": "stdout",
     "output_type": "stream",
     "text": [
      "310/310 [==============================] - 1s 2ms/step\n"
     ]
    },
    {
     "data": {
      "text/plain": [
       "-0.2719203507763035"
      ]
     },
     "execution_count": 87,
     "metadata": {},
     "output_type": "execute_result"
    }
   ],
   "source": [
    "yhat = model.predict(X_test)\n",
    "r2_score(y_test,yhat)"
   ]
  },
  {
   "cell_type": "code",
   "execution_count": 88,
   "metadata": {},
   "outputs": [
    {
     "data": {
      "image/png": "[encoded data removed]",
      "text/plain": [
       "<Figure size 800x500 with 1 Axes>"
      ]
     },
     "metadata": {},
     "output_type": "display_data"
    }
   ],
   "source": [
    "pd.DataFrame(history.history).plot(figsize=(8,5))\n",
    "plt.grid(True)\n",
    "plt.gca()\n",
    "plt.show()"
   ]
  },
  {
   "attachments": {},
   "cell_type": "markdown",
   "metadata": {},
   "source": [
    "## Massive overfitting!\n",
    "\n",
    "Above we see that we overfit the data considerably.\n",
    "\n",
    "Maybe we can add regularization to improve things?\n",
    "\n",
    "How do you even do that?\n",
    "\n"
   ]
  },
  {
   "cell_type": "code",
   "execution_count": 89,
   "metadata": {},
   "outputs": [
    {
     "name": "stdout",
     "output_type": "stream",
     "text": [
      "Epoch 1/40\n"
     ]
    },
    {
     "name": "stderr",
     "output_type": "stream",
     "text": [
      "2022-12-12 15:24:11.582777: I tensorflow/core/grappler/optimizers/custom_graph_optimizer_registry.cc:113] Plugin optimizer for device_type GPU is enabled.\n"
     ]
    },
    {
     "name": "stdout",
     "output_type": "stream",
     "text": [
      "837/837 [==============================] - ETA: 0s - loss: 118.1718"
     ]
    },
    {
     "name": "stderr",
     "output_type": "stream",
     "text": [
      "2022-12-12 15:24:18.514727: I tensorflow/core/grappler/optimizers/custom_graph_optimizer_registry.cc:113] Plugin optimizer for device_type GPU is enabled.\n"
     ]
    },
    {
     "name": "stdout",
     "output_type": "stream",
     "text": [
      "837/837 [==============================] - 8s 8ms/step - loss: 118.1718 - val_loss: 5.5857\n",
      "Epoch 2/40\n",
      "837/837 [==============================] - 7s 8ms/step - loss: 4.1026 - val_loss: 3.1130\n",
      "Epoch 3/40\n",
      "837/837 [==============================] - 7s 8ms/step - loss: 2.7801 - val_loss: 2.4699\n",
      "Epoch 4/40\n",
      "837/837 [==============================] - 7s 8ms/step - loss: 2.2793 - val_loss: 2.1448\n",
      "Epoch 5/40\n",
      "837/837 [==============================] - 7s 8ms/step - loss: 1.9721 - val_loss: 2.0212\n",
      "Epoch 6/40\n",
      "837/837 [==============================] - 7s 8ms/step - loss: 1.7419 - val_loss: 1.6488\n",
      "Epoch 7/40\n",
      "837/837 [==============================] - 7s 8ms/step - loss: 1.5597 - val_loss: 1.4904\n",
      "Epoch 8/40\n",
      "837/837 [==============================] - 7s 8ms/step - loss: 1.4199 - val_loss: 1.4282\n",
      "Epoch 9/40\n",
      "837/837 [==============================] - 7s 8ms/step - loss: 1.3084 - val_loss: 1.3175\n",
      "Epoch 10/40\n",
      "837/837 [==============================] - 7s 8ms/step - loss: 1.2336 - val_loss: 1.2234\n",
      "Epoch 11/40\n",
      "837/837 [==============================] - 7s 8ms/step - loss: 1.1704 - val_loss: 1.1669\n",
      "Epoch 12/40\n",
      "837/837 [==============================] - 7s 8ms/step - loss: 1.1258 - val_loss: 1.1348\n",
      "Epoch 13/40\n",
      "837/837 [==============================] - 7s 8ms/step - loss: 1.0963 - val_loss: 1.1874\n",
      "Epoch 14/40\n",
      "837/837 [==============================] - 7s 8ms/step - loss: 1.0691 - val_loss: 1.1431\n",
      "Epoch 15/40\n",
      "837/837 [==============================] - 7s 8ms/step - loss: 1.0517 - val_loss: 1.0681\n",
      "Epoch 16/40\n",
      "837/837 [==============================] - 7s 8ms/step - loss: 1.0425 - val_loss: 1.1733\n",
      "Epoch 17/40\n",
      "837/837 [==============================] - 7s 8ms/step - loss: 1.0322 - val_loss: 1.1918\n",
      "Epoch 18/40\n",
      "837/837 [==============================] - 7s 8ms/step - loss: 1.0265 - val_loss: 1.0626\n",
      "Epoch 19/40\n",
      "837/837 [==============================] - 7s 8ms/step - loss: 1.0232 - val_loss: 1.1302\n",
      "Epoch 20/40\n",
      "837/837 [==============================] - 7s 9ms/step - loss: 1.0207 - val_loss: 1.1341\n",
      "Epoch 21/40\n",
      "837/837 [==============================] - 7s 8ms/step - loss: 1.0183 - val_loss: 1.0338\n",
      "Epoch 22/40\n",
      "837/837 [==============================] - 7s 9ms/step - loss: 1.0175 - val_loss: 1.0785\n",
      "Epoch 23/40\n",
      "837/837 [==============================] - 7s 9ms/step - loss: 1.0166 - val_loss: 1.1989\n",
      "Epoch 24/40\n",
      "837/837 [==============================] - 7s 8ms/step - loss: 1.0166 - val_loss: 1.0990\n",
      "Epoch 25/40\n",
      "837/837 [==============================] - 7s 9ms/step - loss: 1.0140 - val_loss: 1.2418\n",
      "Epoch 26/40\n",
      "837/837 [==============================] - 7s 8ms/step - loss: 1.0142 - val_loss: 1.0208\n",
      "Epoch 27/40\n",
      "837/837 [==============================] - 7s 8ms/step - loss: 1.0145 - val_loss: 1.0270\n",
      "Epoch 28/40\n",
      "837/837 [==============================] - 7s 8ms/step - loss: 1.0138 - val_loss: 1.1249\n",
      "Epoch 29/40\n",
      "837/837 [==============================] - 7s 8ms/step - loss: 1.0133 - val_loss: 1.2951\n",
      "Epoch 30/40\n",
      "837/837 [==============================] - 7s 8ms/step - loss: 1.0146 - val_loss: 1.0226\n",
      "Epoch 31/40\n",
      "837/837 [==============================] - 7s 8ms/step - loss: 1.0146 - val_loss: 1.0737\n",
      "Epoch 32/40\n",
      "837/837 [==============================] - 7s 8ms/step - loss: 1.0137 - val_loss: 1.0878\n",
      "Epoch 33/40\n",
      "837/837 [==============================] - 7s 8ms/step - loss: 1.0150 - val_loss: 1.0228\n",
      "Epoch 34/40\n",
      "837/837 [==============================] - 6s 8ms/step - loss: 1.0139 - val_loss: 1.1459\n",
      "Epoch 35/40\n",
      "837/837 [==============================] - 7s 8ms/step - loss: 1.0152 - val_loss: 1.0586\n",
      "Epoch 36/40\n",
      "837/837 [==============================] - 7s 8ms/step - loss: 1.0145 - val_loss: 1.1615\n",
      "Epoch 37/40\n",
      "837/837 [==============================] - 7s 8ms/step - loss: 1.0134 - val_loss: 1.2776\n",
      "Epoch 38/40\n",
      "837/837 [==============================] - 7s 8ms/step - loss: 1.0106 - val_loss: 1.0518\n",
      "Epoch 39/40\n",
      "837/837 [==============================] - 7s 8ms/step - loss: 1.0131 - val_loss: 1.0650\n",
      "Epoch 40/40\n",
      "837/837 [==============================] - 7s 8ms/step - loss: 1.0115 - val_loss: 1.0760\n"
     ]
    }
   ],
   "source": [
    "model = keras.models.Sequential([\n",
    "    keras.layers.InputLayer(input_shape=X_train.shape[1]),\n",
    "    keras.layers.Dense(200,activation='tanh',kernel_regularizer=keras.regularizers.l2(10)),\n",
    "    keras.layers.Dense(200,activation='tanh',kernel_regularizer=keras.regularizers.l2(10)),\n",
    "    keras.layers.Dense(1,kernel_regularizer=keras.regularizers.l2(10))])\n",
    "    \n",
    "model.compile(loss=\"mean_squared_error\")\n",
    "\n",
    "history= model.fit(X_train,y_train,epochs=40,validation_split=0.1)"
   ]
  },
  {
   "cell_type": "code",
   "execution_count": 90,
   "metadata": {},
   "outputs": [
    {
     "name": "stdout",
     "output_type": "stream",
     "text": [
      " 82/310 [======>.......................] - ETA: 0s"
     ]
    },
    {
     "name": "stderr",
     "output_type": "stream",
     "text": [
      "2022-12-12 15:28:42.676927: I tensorflow/core/grappler/optimizers/custom_graph_optimizer_registry.cc:113] Plugin optimizer for device_type GPU is enabled.\n"
     ]
    },
    {
     "name": "stdout",
     "output_type": "stream",
     "text": [
      "310/310 [==============================] - 1s 2ms/step\n"
     ]
    },
    {
     "data": {
      "text/plain": [
       "-0.07518371339205254"
      ]
     },
     "execution_count": 90,
     "metadata": {},
     "output_type": "execute_result"
    }
   ],
   "source": [
    "yhat = model.predict(X_test)\n",
    "r2_score(y_test,yhat)"
   ]
  },
  {
   "attachments": {},
   "cell_type": "markdown",
   "metadata": {},
   "source": [
    "### Thoughts\n",
    "\n",
    "We retained the powerful model but fixed the overfitting problem.\n",
    "\n",
    "However performance is still bad.\n",
    "\n",
    "Let's try one more technique: Dropout"
   ]
  },
  {
   "cell_type": "code",
   "execution_count": 91,
   "metadata": {},
   "outputs": [
    {
     "data": {
      "image/png": "[encoded data removed]",
      "text/plain": [
       "<Figure size 800x500 with 1 Axes>"
      ]
     },
     "metadata": {},
     "output_type": "display_data"
    }
   ],
   "source": [
    "pd.DataFrame(history.history).plot(figsize=(8,5))\n",
    "plt.grid(True)\n",
    "plt.gca()\n",
    "plt.show()"
   ]
  },
  {
   "cell_type": "code",
   "execution_count": 92,
   "metadata": {},
   "outputs": [
    {
     "name": "stdout",
     "output_type": "stream",
     "text": [
      "Epoch 1/40\n"
     ]
    },
    {
     "name": "stderr",
     "output_type": "stream",
     "text": [
      "2022-12-12 15:28:43.643948: I tensorflow/core/grappler/optimizers/custom_graph_optimizer_registry.cc:113] Plugin optimizer for device_type GPU is enabled.\n"
     ]
    },
    {
     "name": "stdout",
     "output_type": "stream",
     "text": [
      "837/837 [==============================] - ETA: 0s - loss: 118.1609"
     ]
    },
    {
     "name": "stderr",
     "output_type": "stream",
     "text": [
      "2022-12-12 15:28:51.183701: I tensorflow/core/grappler/optimizers/custom_graph_optimizer_registry.cc:113] Plugin optimizer for device_type GPU is enabled.\n"
     ]
    },
    {
     "name": "stdout",
     "output_type": "stream",
     "text": [
      "837/837 [==============================] - 8s 9ms/step - loss: 118.1609 - val_loss: 6.3767\n",
      "Epoch 2/40\n",
      "837/837 [==============================] - 7s 9ms/step - loss: 4.0836 - val_loss: 3.1970\n",
      "Epoch 3/40\n",
      "837/837 [==============================] - 7s 9ms/step - loss: 2.7771 - val_loss: 2.5481\n",
      "Epoch 4/40\n",
      "837/837 [==============================] - 7s 9ms/step - loss: 2.2812 - val_loss: 2.1664\n",
      "Epoch 5/40\n",
      "837/837 [==============================] - 7s 9ms/step - loss: 1.9723 - val_loss: 1.8667\n",
      "Epoch 6/40\n",
      "837/837 [==============================] - 7s 9ms/step - loss: 1.7419 - val_loss: 1.8260\n",
      "Epoch 7/40\n",
      "837/837 [==============================] - 7s 9ms/step - loss: 1.5615 - val_loss: 1.5192\n",
      "Epoch 8/40\n",
      "837/837 [==============================] - 7s 9ms/step - loss: 1.4160 - val_loss: 1.3695\n",
      "Epoch 9/40\n",
      "837/837 [==============================] - 7s 9ms/step - loss: 1.3076 - val_loss: 1.2890\n",
      "Epoch 10/40\n",
      "837/837 [==============================] - 7s 9ms/step - loss: 1.2303 - val_loss: 1.2743\n",
      "Epoch 11/40\n",
      "837/837 [==============================] - 7s 9ms/step - loss: 1.1700 - val_loss: 1.4021\n",
      "Epoch 12/40\n",
      "837/837 [==============================] - 7s 9ms/step - loss: 1.1237 - val_loss: 1.1387\n",
      "Epoch 13/40\n",
      "837/837 [==============================] - 7s 9ms/step - loss: 1.0934 - val_loss: 1.0867\n",
      "Epoch 14/40\n",
      "837/837 [==============================] - 7s 9ms/step - loss: 1.0697 - val_loss: 1.0702\n",
      "Epoch 15/40\n",
      "837/837 [==============================] - 7s 9ms/step - loss: 1.0531 - val_loss: 1.0853\n",
      "Epoch 16/40\n",
      "837/837 [==============================] - 460s 551ms/step - loss: 1.0414 - val_loss: 1.0467\n",
      "Epoch 17/40\n",
      "837/837 [==============================] - 7s 8ms/step - loss: 1.0331 - val_loss: 1.0777\n",
      "Epoch 18/40\n",
      "837/837 [==============================] - 7s 9ms/step - loss: 1.0288 - val_loss: 1.0821\n",
      "Epoch 19/40\n",
      "837/837 [==============================] - 67s 80ms/step - loss: 1.0248 - val_loss: 1.0465\n",
      "Epoch 20/40\n",
      "837/837 [==============================] - 7s 8ms/step - loss: 1.0194 - val_loss: 1.1151\n",
      "Epoch 21/40\n",
      "837/837 [==============================] - 7s 8ms/step - loss: 1.0190 - val_loss: 1.0413\n",
      "Epoch 22/40\n",
      "837/837 [==============================] - 7s 9ms/step - loss: 1.0213 - val_loss: 1.0230\n",
      "Epoch 23/40\n",
      "837/837 [==============================] - 7s 8ms/step - loss: 1.0195 - val_loss: 1.0747\n",
      "Epoch 24/40\n",
      "837/837 [==============================] - 7s 8ms/step - loss: 1.0159 - val_loss: 1.0681\n",
      "Epoch 25/40\n",
      "837/837 [==============================] - 7s 8ms/step - loss: 1.0159 - val_loss: 1.0209\n",
      "Epoch 26/40\n",
      "837/837 [==============================] - 7s 8ms/step - loss: 1.0156 - val_loss: 1.2031\n",
      "Epoch 27/40\n",
      "837/837 [==============================] - 7s 8ms/step - loss: 1.0171 - val_loss: 1.1470\n",
      "Epoch 28/40\n",
      "837/837 [==============================] - 7s 8ms/step - loss: 1.0153 - val_loss: 1.0550\n",
      "Epoch 29/40\n",
      "837/837 [==============================] - 26s 31ms/step - loss: 1.0144 - val_loss: 1.0393\n",
      "Epoch 30/40\n",
      "837/837 [==============================] - 7s 8ms/step - loss: 1.0163 - val_loss: 1.0717\n",
      "Epoch 31/40\n",
      "837/837 [==============================] - 7s 8ms/step - loss: 1.0156 - val_loss: 1.0343\n",
      "Epoch 32/40\n",
      "837/837 [==============================] - 7s 8ms/step - loss: 1.0158 - val_loss: 1.0234\n",
      "Epoch 33/40\n",
      "837/837 [==============================] - 7s 8ms/step - loss: 1.0148 - val_loss: 1.0727\n",
      "Epoch 34/40\n",
      "837/837 [==============================] - 8s 9ms/step - loss: 1.0155 - val_loss: 1.1026\n",
      "Epoch 35/40\n",
      "837/837 [==============================] - 8s 9ms/step - loss: 1.0155 - val_loss: 1.0444\n",
      "Epoch 36/40\n",
      "837/837 [==============================] - 8s 9ms/step - loss: 1.0139 - val_loss: 1.0948\n",
      "Epoch 37/40\n",
      "837/837 [==============================] - 8s 10ms/step - loss: 1.0163 - val_loss: 1.0306\n",
      "Epoch 38/40\n",
      "837/837 [==============================] - 8s 9ms/step - loss: 1.0139 - val_loss: 1.1795\n",
      "Epoch 39/40\n",
      "837/837 [==============================] - 8s 10ms/step - loss: 1.0131 - val_loss: 1.0483\n",
      "Epoch 40/40\n",
      "837/837 [==============================] - 8s 10ms/step - loss: 1.0151 - val_loss: 1.1202\n"
     ]
    }
   ],
   "source": [
    "model = keras.models.Sequential([\n",
    "    keras.layers.InputLayer(input_shape=X_train.shape[1]),\n",
    "    keras.layers.Dropout(rate=0.2,),\n",
    "    keras.layers.Dense(200,activation='tanh',kernel_regularizer=keras.regularizers.l2(10)),\n",
    "    keras.layers.Dropout(rate=0.2,),\n",
    "    keras.layers.Dense(200,activation='tanh',kernel_regularizer=keras.regularizers.l2(10)),\n",
    "    keras.layers.Dropout(rate=0.2,),\n",
    "    keras.layers.Dense(1,kernel_regularizer=keras.regularizers.l2(10))])\n",
    "    \n",
    "model.compile(loss=\"mean_squared_error\")\n",
    "\n",
    "history= model.fit(X_train,y_train,epochs=40,validation_split=0.1)"
   ]
  },
  {
   "cell_type": "code",
   "execution_count": 93,
   "metadata": {},
   "outputs": [
    {
     "name": "stdout",
     "output_type": "stream",
     "text": [
      " 75/310 [======>.......................] - ETA: 0s"
     ]
    },
    {
     "name": "stderr",
     "output_type": "stream",
     "text": [
      "2022-12-12 15:42:26.535482: I tensorflow/core/grappler/optimizers/custom_graph_optimizer_registry.cc:113] Plugin optimizer for device_type GPU is enabled.\n"
     ]
    },
    {
     "name": "stdout",
     "output_type": "stream",
     "text": [
      "310/310 [==============================] - 1s 2ms/step\n"
     ]
    },
    {
     "data": {
      "text/plain": [
       "-0.09173350999043883"
      ]
     },
     "execution_count": 93,
     "metadata": {},
     "output_type": "execute_result"
    }
   ],
   "source": [
    "yhat = model.predict(X_test)\n",
    "r2_score(y_test,yhat)"
   ]
  },
  {
   "attachments": {},
   "cell_type": "markdown",
   "metadata": {},
   "source": [
    "### Dropout results\n",
    "\n",
    "Dropout does a great job of fixing overfitting, but the model is still not able to learn this data.\n",
    "\n",
    "C'est la vie."
   ]
  },
  {
   "cell_type": "code",
   "execution_count": 95,
   "metadata": {},
   "outputs": [
    {
     "data": {
      "image/png": "[encoded data removed]",
      "text/plain": [
       "<Figure size 800x500 with 1 Axes>"
      ]
     },
     "metadata": {},
     "output_type": "display_data"
    }
   ],
   "source": [
    "pd.DataFrame(history.history).plot(figsize=(8,5))\n",
    "plt.grid(True)\n",
    "plt.gca().set_ylim(0,2)\n",
    "plt.show()"
   ]
  },
  {
   "attachments": {},
   "cell_type": "markdown",
   "metadata": {},
   "source": [
    "### More complex models\n",
    "\n",
    "We will now explore TensorFlow's ability to train nets with exotic architectures.\n",
    "\n",
    "First we will try a \"wide and deep\" model.\n",
    "\n"
   ]
  },
  {
   "cell_type": "code",
   "execution_count": 117,
   "metadata": {},
   "outputs": [],
   "source": [
    "\n",
    "input_ = keras.layers.Input(shape=X_train.shape[1])\n",
    "hidden1 = keras.layers.Dense(30, activation=\"relu\")(input_)\n",
    "hidden2 = keras.layers.Dense(30, activation=\"relu\")(hidden1)\n",
    "concat = keras.layers.concatenate([input_, hidden2])\n",
    "output = keras.layers.Dense(1)(concat)\n",
    "model = keras.models.Model(inputs=[input_], outputs=[output])"
   ]
  },
  {
   "cell_type": "code",
   "execution_count": 118,
   "metadata": {},
   "outputs": [
    {
     "name": "stdout",
     "output_type": "stream",
     "text": [
      "Model: \"model_2\"\n",
      "__________________________________________________________________________________________________\n",
      " Layer (type)                   Output Shape         Param #     Connected to                     \n",
      "==================================================================================================\n",
      " input_17 (InputLayer)          [(None, 58)]         0           []                               \n",
      "                                                                                                  \n",
      " dense_42 (Dense)               (None, 30)           1770        ['input_17[0][0]']               \n",
      "                                                                                                  \n",
      " dense_43 (Dense)               (None, 30)           930         ['dense_42[0][0]']               \n",
      "                                                                                                  \n",
      " concatenate_2 (Concatenate)    (None, 88)           0           ['input_17[0][0]',               \n",
      "                                                                  'dense_43[0][0]']               \n",
      "                                                                                                  \n",
      " dense_44 (Dense)               (None, 1)            89          ['concatenate_2[0][0]']          \n",
      "                                                                                                  \n",
      "==================================================================================================\n",
      "Total params: 2,789\n",
      "Trainable params: 2,789\n",
      "Non-trainable params: 0\n",
      "__________________________________________________________________________________________________\n"
     ]
    }
   ],
   "source": [
    "model.summary()"
   ]
  },
  {
   "cell_type": "code",
   "execution_count": 120,
   "metadata": {},
   "outputs": [
    {
     "name": "stdout",
     "output_type": "stream",
     "text": [
      "Epoch 1/20\n"
     ]
    },
    {
     "name": "stderr",
     "output_type": "stream",
     "text": [
      "2022-12-12 15:59:20.936315: I tensorflow/core/grappler/optimizers/custom_graph_optimizer_registry.cc:113] Plugin optimizer for device_type GPU is enabled.\n"
     ]
    },
    {
     "name": "stdout",
     "output_type": "stream",
     "text": [
      "835/837 [============================>.] - ETA: 0s - loss: nan"
     ]
    },
    {
     "name": "stderr",
     "output_type": "stream",
     "text": [
      "2022-12-12 15:59:26.978541: I tensorflow/core/grappler/optimizers/custom_graph_optimizer_registry.cc:113] Plugin optimizer for device_type GPU is enabled.\n"
     ]
    },
    {
     "name": "stdout",
     "output_type": "stream",
     "text": [
      "837/837 [==============================] - 7s 7ms/step - loss: nan - val_loss: nan\n",
      "Epoch 2/20\n",
      "527/837 [=================>............] - ETA: 2s - loss: nan"
     ]
    },
    {
     "ename": "KeyboardInterrupt",
     "evalue": "",
     "output_type": "error",
     "traceback": [
      "\u001b[0;31m---------------------------------------------------------------------------\u001b[0m",
      "\u001b[0;31mKeyboardInterrupt\u001b[0m                         Traceback (most recent call last)",
      "\u001b[1;32m/Users/hunterjohnson/Dropbox (John Jay College)/Courses/ML/classManager/Handouts/Tensorflow_Keras/tf.ipynb Cell 59\u001b[0m in \u001b[0;36m<cell line: 2>\u001b[0;34m()\u001b[0m\n\u001b[1;32m      <a href='vscode-notebook-cell:/Users/hunterjohnson/Dropbox%20%28John%20Jay%20College%29/Courses/ML/classManager/Handouts/Tensorflow_Keras/tf.ipynb#Y126sZmlsZQ%3D%3D?line=0'>1</a>\u001b[0m model\u001b[39m.\u001b[39mcompile(loss\u001b[39m=\u001b[39m\u001b[39m\"\u001b[39m\u001b[39mmean_squared_error\u001b[39m\u001b[39m\"\u001b[39m)\n\u001b[0;32m----> <a href='vscode-notebook-cell:/Users/hunterjohnson/Dropbox%20%28John%20Jay%20College%29/Courses/ML/classManager/Handouts/Tensorflow_Keras/tf.ipynb#Y126sZmlsZQ%3D%3D?line=1'>2</a>\u001b[0m history \u001b[39m=\u001b[39m model\u001b[39m.\u001b[39;49mfit(X_train, y_train, epochs\u001b[39m=\u001b[39;49m\u001b[39m20\u001b[39;49m,\n\u001b[1;32m      <a href='vscode-notebook-cell:/Users/hunterjohnson/Dropbox%20%28John%20Jay%20College%29/Courses/ML/classManager/Handouts/Tensorflow_Keras/tf.ipynb#Y126sZmlsZQ%3D%3D?line=2'>3</a>\u001b[0m                     validation_split\u001b[39m=\u001b[39;49m\u001b[39m0.1\u001b[39;49m)\n",
      "File \u001b[0;32m~/miniconda3/envs/tensorflow/lib/python3.9/site-packages/keras/utils/traceback_utils.py:64\u001b[0m, in \u001b[0;36mfilter_traceback.<locals>.error_handler\u001b[0;34m(*args, **kwargs)\u001b[0m\n\u001b[1;32m     62\u001b[0m filtered_tb \u001b[39m=\u001b[39m \u001b[39mNone\u001b[39;00m\n\u001b[1;32m     63\u001b[0m \u001b[39mtry\u001b[39;00m:\n\u001b[0;32m---> 64\u001b[0m   \u001b[39mreturn\u001b[39;00m fn(\u001b[39m*\u001b[39;49margs, \u001b[39m*\u001b[39;49m\u001b[39m*\u001b[39;49mkwargs)\n\u001b[1;32m     65\u001b[0m \u001b[39mexcept\u001b[39;00m \u001b[39mException\u001b[39;00m \u001b[39mas\u001b[39;00m e:  \u001b[39m# pylint: disable=broad-except\u001b[39;00m\n\u001b[1;32m     66\u001b[0m   filtered_tb \u001b[39m=\u001b[39m _process_traceback_frames(e\u001b[39m.\u001b[39m__traceback__)\n",
      "File \u001b[0;32m~/miniconda3/envs/tensorflow/lib/python3.9/site-packages/keras/engine/training.py:1409\u001b[0m, in \u001b[0;36mModel.fit\u001b[0;34m(self, x, y, batch_size, epochs, verbose, callbacks, validation_split, validation_data, shuffle, class_weight, sample_weight, initial_epoch, steps_per_epoch, validation_steps, validation_batch_size, validation_freq, max_queue_size, workers, use_multiprocessing)\u001b[0m\n\u001b[1;32m   1402\u001b[0m \u001b[39mwith\u001b[39;00m tf\u001b[39m.\u001b[39mprofiler\u001b[39m.\u001b[39mexperimental\u001b[39m.\u001b[39mTrace(\n\u001b[1;32m   1403\u001b[0m     \u001b[39m'\u001b[39m\u001b[39mtrain\u001b[39m\u001b[39m'\u001b[39m,\n\u001b[1;32m   1404\u001b[0m     epoch_num\u001b[39m=\u001b[39mepoch,\n\u001b[1;32m   1405\u001b[0m     step_num\u001b[39m=\u001b[39mstep,\n\u001b[1;32m   1406\u001b[0m     batch_size\u001b[39m=\u001b[39mbatch_size,\n\u001b[1;32m   1407\u001b[0m     _r\u001b[39m=\u001b[39m\u001b[39m1\u001b[39m):\n\u001b[1;32m   1408\u001b[0m   callbacks\u001b[39m.\u001b[39mon_train_batch_begin(step)\n\u001b[0;32m-> 1409\u001b[0m   tmp_logs \u001b[39m=\u001b[39m \u001b[39mself\u001b[39;49m\u001b[39m.\u001b[39;49mtrain_function(iterator)\n\u001b[1;32m   1410\u001b[0m   \u001b[39mif\u001b[39;00m data_handler\u001b[39m.\u001b[39mshould_sync:\n\u001b[1;32m   1411\u001b[0m     context\u001b[39m.\u001b[39masync_wait()\n",
      "File \u001b[0;32m~/miniconda3/envs/tensorflow/lib/python3.9/site-packages/tensorflow/python/util/traceback_utils.py:150\u001b[0m, in \u001b[0;36mfilter_traceback.<locals>.error_handler\u001b[0;34m(*args, **kwargs)\u001b[0m\n\u001b[1;32m    148\u001b[0m filtered_tb \u001b[39m=\u001b[39m \u001b[39mNone\u001b[39;00m\n\u001b[1;32m    149\u001b[0m \u001b[39mtry\u001b[39;00m:\n\u001b[0;32m--> 150\u001b[0m   \u001b[39mreturn\u001b[39;00m fn(\u001b[39m*\u001b[39;49margs, \u001b[39m*\u001b[39;49m\u001b[39m*\u001b[39;49mkwargs)\n\u001b[1;32m    151\u001b[0m \u001b[39mexcept\u001b[39;00m \u001b[39mException\u001b[39;00m \u001b[39mas\u001b[39;00m e:\n\u001b[1;32m    152\u001b[0m   filtered_tb \u001b[39m=\u001b[39m _process_traceback_frames(e\u001b[39m.\u001b[39m__traceback__)\n",
      "File \u001b[0;32m~/miniconda3/envs/tensorflow/lib/python3.9/site-packages/tensorflow/python/eager/def_function.py:915\u001b[0m, in \u001b[0;36mFunction.__call__\u001b[0;34m(self, *args, **kwds)\u001b[0m\n\u001b[1;32m    912\u001b[0m compiler \u001b[39m=\u001b[39m \u001b[39m\"\u001b[39m\u001b[39mxla\u001b[39m\u001b[39m\"\u001b[39m \u001b[39mif\u001b[39;00m \u001b[39mself\u001b[39m\u001b[39m.\u001b[39m_jit_compile \u001b[39melse\u001b[39;00m \u001b[39m\"\u001b[39m\u001b[39mnonXla\u001b[39m\u001b[39m\"\u001b[39m\n\u001b[1;32m    914\u001b[0m \u001b[39mwith\u001b[39;00m OptionalXlaContext(\u001b[39mself\u001b[39m\u001b[39m.\u001b[39m_jit_compile):\n\u001b[0;32m--> 915\u001b[0m   result \u001b[39m=\u001b[39m \u001b[39mself\u001b[39;49m\u001b[39m.\u001b[39;49m_call(\u001b[39m*\u001b[39;49margs, \u001b[39m*\u001b[39;49m\u001b[39m*\u001b[39;49mkwds)\n\u001b[1;32m    917\u001b[0m new_tracing_count \u001b[39m=\u001b[39m \u001b[39mself\u001b[39m\u001b[39m.\u001b[39mexperimental_get_tracing_count()\n\u001b[1;32m    918\u001b[0m without_tracing \u001b[39m=\u001b[39m (tracing_count \u001b[39m==\u001b[39m new_tracing_count)\n",
      "File \u001b[0;32m~/miniconda3/envs/tensorflow/lib/python3.9/site-packages/tensorflow/python/eager/def_function.py:947\u001b[0m, in \u001b[0;36mFunction._call\u001b[0;34m(self, *args, **kwds)\u001b[0m\n\u001b[1;32m    944\u001b[0m   \u001b[39mself\u001b[39m\u001b[39m.\u001b[39m_lock\u001b[39m.\u001b[39mrelease()\n\u001b[1;32m    945\u001b[0m   \u001b[39m# In this case we have created variables on the first call, so we run the\u001b[39;00m\n\u001b[1;32m    946\u001b[0m   \u001b[39m# defunned version which is guaranteed to never create variables.\u001b[39;00m\n\u001b[0;32m--> 947\u001b[0m   \u001b[39mreturn\u001b[39;00m \u001b[39mself\u001b[39;49m\u001b[39m.\u001b[39;49m_stateless_fn(\u001b[39m*\u001b[39;49margs, \u001b[39m*\u001b[39;49m\u001b[39m*\u001b[39;49mkwds)  \u001b[39m# pylint: disable=not-callable\u001b[39;00m\n\u001b[1;32m    948\u001b[0m \u001b[39melif\u001b[39;00m \u001b[39mself\u001b[39m\u001b[39m.\u001b[39m_stateful_fn \u001b[39mis\u001b[39;00m \u001b[39mnot\u001b[39;00m \u001b[39mNone\u001b[39;00m:\n\u001b[1;32m    949\u001b[0m   \u001b[39m# Release the lock early so that multiple threads can perform the call\u001b[39;00m\n\u001b[1;32m    950\u001b[0m   \u001b[39m# in parallel.\u001b[39;00m\n\u001b[1;32m    951\u001b[0m   \u001b[39mself\u001b[39m\u001b[39m.\u001b[39m_lock\u001b[39m.\u001b[39mrelease()\n",
      "File \u001b[0;32m~/miniconda3/envs/tensorflow/lib/python3.9/site-packages/tensorflow/python/eager/function.py:2453\u001b[0m, in \u001b[0;36mFunction.__call__\u001b[0;34m(self, *args, **kwargs)\u001b[0m\n\u001b[1;32m   2450\u001b[0m \u001b[39mwith\u001b[39;00m \u001b[39mself\u001b[39m\u001b[39m.\u001b[39m_lock:\n\u001b[1;32m   2451\u001b[0m   (graph_function,\n\u001b[1;32m   2452\u001b[0m    filtered_flat_args) \u001b[39m=\u001b[39m \u001b[39mself\u001b[39m\u001b[39m.\u001b[39m_maybe_define_function(args, kwargs)\n\u001b[0;32m-> 2453\u001b[0m \u001b[39mreturn\u001b[39;00m graph_function\u001b[39m.\u001b[39;49m_call_flat(\n\u001b[1;32m   2454\u001b[0m     filtered_flat_args, captured_inputs\u001b[39m=\u001b[39;49mgraph_function\u001b[39m.\u001b[39;49mcaptured_inputs)\n",
      "File \u001b[0;32m~/miniconda3/envs/tensorflow/lib/python3.9/site-packages/tensorflow/python/eager/function.py:1860\u001b[0m, in \u001b[0;36mConcreteFunction._call_flat\u001b[0;34m(self, args, captured_inputs, cancellation_manager)\u001b[0m\n\u001b[1;32m   1856\u001b[0m possible_gradient_type \u001b[39m=\u001b[39m gradients_util\u001b[39m.\u001b[39mPossibleTapeGradientTypes(args)\n\u001b[1;32m   1857\u001b[0m \u001b[39mif\u001b[39;00m (possible_gradient_type \u001b[39m==\u001b[39m gradients_util\u001b[39m.\u001b[39mPOSSIBLE_GRADIENT_TYPES_NONE\n\u001b[1;32m   1858\u001b[0m     \u001b[39mand\u001b[39;00m executing_eagerly):\n\u001b[1;32m   1859\u001b[0m   \u001b[39m# No tape is watching; skip to running the function.\u001b[39;00m\n\u001b[0;32m-> 1860\u001b[0m   \u001b[39mreturn\u001b[39;00m \u001b[39mself\u001b[39m\u001b[39m.\u001b[39m_build_call_outputs(\u001b[39mself\u001b[39;49m\u001b[39m.\u001b[39;49m_inference_function\u001b[39m.\u001b[39;49mcall(\n\u001b[1;32m   1861\u001b[0m       ctx, args, cancellation_manager\u001b[39m=\u001b[39;49mcancellation_manager))\n\u001b[1;32m   1862\u001b[0m forward_backward \u001b[39m=\u001b[39m \u001b[39mself\u001b[39m\u001b[39m.\u001b[39m_select_forward_and_backward_functions(\n\u001b[1;32m   1863\u001b[0m     args,\n\u001b[1;32m   1864\u001b[0m     possible_gradient_type,\n\u001b[1;32m   1865\u001b[0m     executing_eagerly)\n\u001b[1;32m   1866\u001b[0m forward_function, args_with_tangents \u001b[39m=\u001b[39m forward_backward\u001b[39m.\u001b[39mforward()\n",
      "File \u001b[0;32m~/miniconda3/envs/tensorflow/lib/python3.9/site-packages/tensorflow/python/eager/function.py:534\u001b[0m, in \u001b[0;36m_EagerDefinedFunction.call\u001b[0;34m(self, ctx, args, cancellation_manager)\u001b[0m\n\u001b[1;32m    525\u001b[0m         outputs \u001b[39m=\u001b[39m functional_ops\u001b[39m.\u001b[39mpartitioned_call(\n\u001b[1;32m    526\u001b[0m             args\u001b[39m=\u001b[39margs,\n\u001b[1;32m    527\u001b[0m             f\u001b[39m=\u001b[39m\u001b[39mself\u001b[39m,\n\u001b[0;32m   (...)\u001b[0m\n\u001b[1;32m    530\u001b[0m             config\u001b[39m=\u001b[39mconfig,\n\u001b[1;32m    531\u001b[0m             executor_type\u001b[39m=\u001b[39mexecutor_type)\n\u001b[1;32m    533\u001b[0m \u001b[39mfor\u001b[39;00m i, func_graph_output \u001b[39min\u001b[39;00m \u001b[39menumerate\u001b[39m(\u001b[39mself\u001b[39m\u001b[39m.\u001b[39m_func_graph_outputs):\n\u001b[0;32m--> 534\u001b[0m   handle_data_util\u001b[39m.\u001b[39;49mcopy_handle_data(func_graph_output, outputs[i])\n\u001b[1;32m    535\u001b[0m \u001b[39mif\u001b[39;00m executing_eagerly:\n\u001b[1;32m    536\u001b[0m   \u001b[39mreturn\u001b[39;00m outputs\n",
      "File \u001b[0;32m~/miniconda3/envs/tensorflow/lib/python3.9/site-packages/tensorflow/python/ops/handle_data_util.py:40\u001b[0m, in \u001b[0;36mcopy_handle_data\u001b[0;34m(source_t, target_t)\u001b[0m\n\u001b[1;32m     25\u001b[0m \u001b[39mdef\u001b[39;00m \u001b[39mcopy_handle_data\u001b[39m(source_t, target_t):\n\u001b[1;32m     26\u001b[0m   \u001b[39m\"\"\"Copies HandleData for variant and resource type tensors if available.\u001b[39;00m\n\u001b[1;32m     27\u001b[0m \n\u001b[1;32m     28\u001b[0m \u001b[39m  The CppShapeInferenceResult::HandleData proto contains information about the\u001b[39;00m\n\u001b[0;32m   (...)\u001b[0m\n\u001b[1;32m     38\u001b[0m \u001b[39m    target_t: The tensor to copy HandleData to.\u001b[39;00m\n\u001b[1;32m     39\u001b[0m \u001b[39m  \"\"\"\u001b[39;00m\n\u001b[0;32m---> 40\u001b[0m   \u001b[39mif\u001b[39;00m (target_t\u001b[39m.\u001b[39;49mdtype \u001b[39m==\u001b[39m dtypes\u001b[39m.\u001b[39mresource \u001b[39mor\u001b[39;00m\n\u001b[1;32m     41\u001b[0m       target_t\u001b[39m.\u001b[39mdtype \u001b[39m==\u001b[39m dtypes\u001b[39m.\u001b[39mvariant):\n\u001b[1;32m     42\u001b[0m     \u001b[39mif\u001b[39;00m \u001b[39misinstance\u001b[39m(source_t, ops\u001b[39m.\u001b[39mEagerTensor):\n\u001b[1;32m     43\u001b[0m       handle_data \u001b[39m=\u001b[39m source_t\u001b[39m.\u001b[39m_handle_data  \u001b[39m# pylint: disable=protected-access\u001b[39;00m\n",
      "File \u001b[0;32m~/miniconda3/envs/tensorflow/lib/python3.9/site-packages/tensorflow/python/framework/ops.py:1133\u001b[0m, in \u001b[0;36m_EagerTensorBase.dtype\u001b[0;34m(self)\u001b[0m\n\u001b[1;32m   1129\u001b[0m \u001b[39m@property\u001b[39m\n\u001b[1;32m   1130\u001b[0m \u001b[39mdef\u001b[39;00m \u001b[39mdtype\u001b[39m(\u001b[39mself\u001b[39m):\n\u001b[1;32m   1131\u001b[0m   \u001b[39m# Note: using the intern table directly here as this is\u001b[39;00m\n\u001b[1;32m   1132\u001b[0m   \u001b[39m# performance-sensitive in some models.\u001b[39;00m\n\u001b[0;32m-> 1133\u001b[0m   \u001b[39mreturn\u001b[39;00m dtypes\u001b[39m.\u001b[39;49m_INTERN_TABLE[\u001b[39mself\u001b[39;49m\u001b[39m.\u001b[39;49m_datatype_enum()]\n",
      "\u001b[0;31mKeyboardInterrupt\u001b[0m: "
     ]
    }
   ],
   "source": [
    "model.compile(loss=\"mean_squared_error\")\n",
    "history = model.fit(X_train, y_train, epochs=20,\n",
    "                    validation_split=0.1)\n",
    "#y_pred = model.predict(X_test)\n"
   ]
  },
  {
   "cell_type": "code",
   "execution_count": 105,
   "metadata": {},
   "outputs": [
    {
     "data": {
      "text/plain": [
       "(29733, 58)"
      ]
     },
     "execution_count": 105,
     "metadata": {},
     "output_type": "execute_result"
    }
   ],
   "source": [
    "X_train.shape"
   ]
  },
  {
   "cell_type": "code",
   "execution_count": null,
   "metadata": {},
   "outputs": [],
   "source": []
  }
 ],
 "metadata": {
  "kernelspec": {
   "display_name": "tensorflow",
   "language": "python",
   "name": "python3"
  },
  "language_info": {
   "codemirror_mode": {
    "name": "ipython",
    "version": 3
   },
   "file_extension": ".py",
   "mimetype": "text/x-python",
   "name": "python",
   "nbconvert_exporter": "python",
   "pygments_lexer": "ipython3",
   "version": "3.9.13"
  },
  "orig_nbformat": 4,
  "vscode": {
   "interpreter": {
    "hash": "a4b9f664f63574d9e74947e6323486bf1c2e3fcb6437df17ac4d42f17bc66430"
   }
  }
 },
 "nbformat": 4,
 "nbformat_minor": 2
}
