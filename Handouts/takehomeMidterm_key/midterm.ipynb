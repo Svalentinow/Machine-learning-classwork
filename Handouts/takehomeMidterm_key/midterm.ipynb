{
 "cells": [
  {
   "cell_type": "markdown",
   "metadata": {},
   "source": [
    "## Midterm\n",
    "\n",
    "This is the midterm.\n",
    "\n",
    "You can use the web. \n",
    "\n",
    "In problems 9 and 10 please do not copy prose from others.  \n",
    "\n",
    "For the bonus please do not submit the code of others.\n",
    "\n",
    "Collaboration with others is not allowed. \n",
    "\n",
    "\n"
   ]
  },
  {
   "cell_type": "markdown",
   "metadata": {},
   "source": [
    "#### Problem 1\n",
    "\n",
    "Below we load the file `codon_usage.csv` as a dataframe. This data comes from [here](https://archive.ics.uci.edu/ml/datasets/Codon+usage).\n",
    "\n",
    "It might make the work more enjoyable to briefly review the meaning of [codon](https://www.genome.gov/genetics-glossary/Codon).\n",
    "\n",
    "Print out a random sample of five rows after you load the data.\n"
   ]
  },
  {
   "cell_type": "code",
   "execution_count": 1,
   "metadata": {},
   "outputs": [
    {
     "name": "stderr",
     "output_type": "stream",
     "text": [
      "/var/folders/ht/7rqyw9hs3fj63k5lvf08qhdh0000gn/T/ipykernel_49452/1616626130.py:3: DtypeWarning: Columns (5,6) have mixed types. Specify dtype option on import or set low_memory=False.\n",
      "  df = pd.read_csv(\"codon_usage.csv\")\n"
     ]
    },
    {
     "data": {
      "text/html": [
       "<div>\n",
       "<style scoped>\n",
       "    .dataframe tbody tr th:only-of-type {\n",
       "        vertical-align: middle;\n",
       "    }\n",
       "\n",
       "    .dataframe tbody tr th {\n",
       "        vertical-align: top;\n",
       "    }\n",
       "\n",
       "    .dataframe thead th {\n",
       "        text-align: right;\n",
       "    }\n",
       "</style>\n",
       "<table border=\"1\" class=\"dataframe\">\n",
       "  <thead>\n",
       "    <tr style=\"text-align: right;\">\n",
       "      <th></th>\n",
       "      <th>Kingdom</th>\n",
       "      <th>DNAtype</th>\n",
       "      <th>SpeciesID</th>\n",
       "      <th>Ncodons</th>\n",
       "      <th>SpeciesName</th>\n",
       "      <th>UUU</th>\n",
       "      <th>UUC</th>\n",
       "      <th>UUA</th>\n",
       "      <th>UUG</th>\n",
       "      <th>CUU</th>\n",
       "      <th>...</th>\n",
       "      <th>CGG</th>\n",
       "      <th>AGA</th>\n",
       "      <th>AGG</th>\n",
       "      <th>GAU</th>\n",
       "      <th>GAC</th>\n",
       "      <th>GAA</th>\n",
       "      <th>GAG</th>\n",
       "      <th>UAA</th>\n",
       "      <th>UAG</th>\n",
       "      <th>UGA</th>\n",
       "    </tr>\n",
       "  </thead>\n",
       "  <tbody>\n",
       "    <tr>\n",
       "      <th>12479</th>\n",
       "      <td>mam</td>\n",
       "      <td>1</td>\n",
       "      <td>94117</td>\n",
       "      <td>3430</td>\n",
       "      <td>mitochondrion Pteropus scapulatus</td>\n",
       "      <td>0.01924</td>\n",
       "      <td>0.0379</td>\n",
       "      <td>0.02303</td>\n",
       "      <td>0.00350</td>\n",
       "      <td>0.01224</td>\n",
       "      <td>...</td>\n",
       "      <td>0.00029</td>\n",
       "      <td>0.00000</td>\n",
       "      <td>0.00029</td>\n",
       "      <td>0.00466</td>\n",
       "      <td>0.01283</td>\n",
       "      <td>0.01983</td>\n",
       "      <td>0.00437</td>\n",
       "      <td>0.00233</td>\n",
       "      <td>0.00087</td>\n",
       "      <td>0.02362</td>\n",
       "    </tr>\n",
       "    <tr>\n",
       "      <th>9081</th>\n",
       "      <td>inv</td>\n",
       "      <td>1</td>\n",
       "      <td>340064</td>\n",
       "      <td>3348</td>\n",
       "      <td>mitochondrion Ixodes philipi</td>\n",
       "      <td>0.08005</td>\n",
       "      <td>0.01673</td>\n",
       "      <td>0.07527</td>\n",
       "      <td>0.00597</td>\n",
       "      <td>0.02031</td>\n",
       "      <td>...</td>\n",
       "      <td>0.00119</td>\n",
       "      <td>0.01314</td>\n",
       "      <td>0.00119</td>\n",
       "      <td>0.01553</td>\n",
       "      <td>0.00239</td>\n",
       "      <td>0.00717</td>\n",
       "      <td>0.00358</td>\n",
       "      <td>0.00239</td>\n",
       "      <td>0.00000</td>\n",
       "      <td>0.02270</td>\n",
       "    </tr>\n",
       "    <tr>\n",
       "      <th>11057</th>\n",
       "      <td>vrt</td>\n",
       "      <td>1</td>\n",
       "      <td>334896</td>\n",
       "      <td>1784</td>\n",
       "      <td>mitochondrion Monodactylus argenteus</td>\n",
       "      <td>0.03083</td>\n",
       "      <td>0.03756</td>\n",
       "      <td>0.01570</td>\n",
       "      <td>0.00841</td>\n",
       "      <td>0.03083</td>\n",
       "      <td>...</td>\n",
       "      <td>0.00336</td>\n",
       "      <td>0.00000</td>\n",
       "      <td>0.00000</td>\n",
       "      <td>0.00673</td>\n",
       "      <td>0.01177</td>\n",
       "      <td>0.01738</td>\n",
       "      <td>0.00785</td>\n",
       "      <td>0.00280</td>\n",
       "      <td>0.00056</td>\n",
       "      <td>0.02298</td>\n",
       "    </tr>\n",
       "    <tr>\n",
       "      <th>5338</th>\n",
       "      <td>bct</td>\n",
       "      <td>0</td>\n",
       "      <td>40324</td>\n",
       "      <td>46564</td>\n",
       "      <td>Stenotrophomonas maltophilia</td>\n",
       "      <td>0.00434</td>\n",
       "      <td>0.02876</td>\n",
       "      <td>0.00148</td>\n",
       "      <td>0.00771</td>\n",
       "      <td>0.00513</td>\n",
       "      <td>...</td>\n",
       "      <td>0.01003</td>\n",
       "      <td>0.00112</td>\n",
       "      <td>0.00256</td>\n",
       "      <td>0.01892</td>\n",
       "      <td>0.03647</td>\n",
       "      <td>0.02569</td>\n",
       "      <td>0.02637</td>\n",
       "      <td>0.00056</td>\n",
       "      <td>0.00028</td>\n",
       "      <td>0.00189</td>\n",
       "    </tr>\n",
       "    <tr>\n",
       "      <th>9890</th>\n",
       "      <td>inv</td>\n",
       "      <td>0</td>\n",
       "      <td>77054</td>\n",
       "      <td>4766</td>\n",
       "      <td>Theileria lestoquardi</td>\n",
       "      <td>0.01175</td>\n",
       "      <td>0.01574</td>\n",
       "      <td>0.01112</td>\n",
       "      <td>0.01007</td>\n",
       "      <td>0.01217</td>\n",
       "      <td>...</td>\n",
       "      <td>0.00084</td>\n",
       "      <td>0.01553</td>\n",
       "      <td>0.00336</td>\n",
       "      <td>0.06882</td>\n",
       "      <td>0.01553</td>\n",
       "      <td>0.12232</td>\n",
       "      <td>0.03252</td>\n",
       "      <td>0.00126</td>\n",
       "      <td>0.00000</td>\n",
       "      <td>0.00084</td>\n",
       "    </tr>\n",
       "  </tbody>\n",
       "</table>\n",
       "<p>5 rows × 69 columns</p>\n",
       "</div>"
      ],
      "text/plain": [
       "      Kingdom  DNAtype  SpeciesID  Ncodons  \\\n",
       "12479     mam        1      94117     3430   \n",
       "9081      inv        1     340064     3348   \n",
       "11057     vrt        1     334896     1784   \n",
       "5338      bct        0      40324    46564   \n",
       "9890      inv        0      77054     4766   \n",
       "\n",
       "                                SpeciesName      UUU      UUC      UUA  \\\n",
       "12479     mitochondrion Pteropus scapulatus  0.01924   0.0379  0.02303   \n",
       "9081           mitochondrion Ixodes philipi  0.08005  0.01673  0.07527   \n",
       "11057  mitochondrion Monodactylus argenteus  0.03083  0.03756  0.01570   \n",
       "5338           Stenotrophomonas maltophilia  0.00434  0.02876  0.00148   \n",
       "9890                  Theileria lestoquardi  0.01175  0.01574  0.01112   \n",
       "\n",
       "           UUG      CUU  ...      CGG      AGA      AGG      GAU      GAC  \\\n",
       "12479  0.00350  0.01224  ...  0.00029  0.00000  0.00029  0.00466  0.01283   \n",
       "9081   0.00597  0.02031  ...  0.00119  0.01314  0.00119  0.01553  0.00239   \n",
       "11057  0.00841  0.03083  ...  0.00336  0.00000  0.00000  0.00673  0.01177   \n",
       "5338   0.00771  0.00513  ...  0.01003  0.00112  0.00256  0.01892  0.03647   \n",
       "9890   0.01007  0.01217  ...  0.00084  0.01553  0.00336  0.06882  0.01553   \n",
       "\n",
       "           GAA      GAG      UAA      UAG      UGA  \n",
       "12479  0.01983  0.00437  0.00233  0.00087  0.02362  \n",
       "9081   0.00717  0.00358  0.00239  0.00000  0.02270  \n",
       "11057  0.01738  0.00785  0.00280  0.00056  0.02298  \n",
       "5338   0.02569  0.02637  0.00056  0.00028  0.00189  \n",
       "9890   0.12232  0.03252  0.00126  0.00000  0.00084  \n",
       "\n",
       "[5 rows x 69 columns]"
      ]
     },
     "execution_count": 1,
     "metadata": {},
     "output_type": "execute_result"
    }
   ],
   "source": [
    "import pandas as pd\n",
    "\n",
    "df = pd.read_csv(\"codon_usage.csv\")\n",
    "df.sample(5)"
   ]
  },
  {
   "cell_type": "markdown",
   "metadata": {},
   "source": [
    "#### Problem 2\n",
    "\n",
    "On the above load you might have noticed this warning:\n",
    "\n",
    "    DtypeWarning: Columns (5,6) have mixed types. Specify dtype option on import or set low_memory=False.\n",
    "\n",
    "Find the weird entries in columns 5 and 6 and print them out. \n",
    "\n",
    "Then update the dataframe by deleting the rows in which they occur.\n",
    "\n",
    "Then convert the columns to type np.float64.\n",
    "\n",
    "To test your work do:\n",
    "\n",
    "    print(ddf.dtypes[:10])\n",
    "\n",
    "The output should be:\n",
    "\n",
    "    Kingdom         object\n",
    "    DNAtype          int64\n",
    "    SpeciesID        int64\n",
    "    Ncodons          int64\n",
    "    SpeciesName     object\n",
    "    UUU            float64\n",
    "    UUC            float64\n",
    "    UUA            float64\n",
    "    UUG            float64\n",
    "    CUU            float64\n",
    "\n",
    "The new shape of the dataframe should be\n",
    "\n",
    "    (13026, 69)\n",
    "\n"
   ]
  },
  {
   "cell_type": "code",
   "execution_count": 2,
   "metadata": {},
   "outputs": [
    {
     "name": "stdout",
     "output_type": "stream",
     "text": [
      "weird character in column 5, row 486: non-B hepatitis virus\n",
      "weird character in column 5, row 5063: 12;I\n",
      "weird character in column 6, row 5063: -\n",
      "(13026, 69)\n"
     ]
    }
   ],
   "source": [
    "import numpy as np\n",
    "\n",
    "for col in [5,6]:\n",
    "    for idx in df.index:\n",
    "        item = df.iloc[idx,col]\n",
    "        try:\n",
    "            float(item)\n",
    "        except:\n",
    "            print(f\"weird character in column {col}, row {idx}: {item}\")\n",
    "\n",
    "ddf = df.drop([486,5063],axis=0)\n",
    "\n",
    "ddf.iloc[:,5] = ddf.iloc[:,5].astype(np.float64)\n",
    "ddf.iloc[:,6] = ddf.iloc[:,6].astype(np.float64)\n",
    "\n",
    "print(ddf.shape)"
   ]
  },
  {
   "cell_type": "markdown",
   "metadata": {},
   "source": [
    "#### Problem 3\n",
    "\n",
    "a) What is the SpeciesName for the organism with the highest value for Ncodons? \n",
    "\n",
    "b) List all the codons (3 letter sequence column names).\n",
    "\n",
    "c) Which codon has the highest variance in its column?\n",
    "\n"
   ]
  },
  {
   "cell_type": "code",
   "execution_count": 3,
   "metadata": {},
   "outputs": [
    {
     "data": {
      "text/plain": [
       "'mitochondrion Pongo pygmaeus abelii'"
      ]
     },
     "execution_count": 3,
     "metadata": {},
     "output_type": "execute_result"
    }
   ],
   "source": [
    "winner=np.argmax(ddf[\"Ncodons\"])\n",
    "ddf.loc[winner,\"SpeciesName\"]"
   ]
  },
  {
   "cell_type": "code",
   "execution_count": 4,
   "metadata": {},
   "outputs": [
    {
     "data": {
      "text/plain": [
       "Index(['UUU', 'UUC', 'UUA', 'UUG', 'CUU', 'CUC', 'CUA', 'CUG', 'AUU', 'AUC',\n",
       "       'AUA', 'AUG', 'GUU', 'GUC', 'GUA', 'GUG', 'GCU', 'GCC', 'GCA', 'GCG',\n",
       "       'CCU', 'CCC', 'CCA', 'CCG', 'UGG', 'GGU', 'GGC', 'GGA', 'GGG', 'UCU',\n",
       "       'UCC', 'UCA', 'UCG', 'AGU', 'AGC', 'ACU', 'ACC', 'ACA', 'ACG', 'UAU',\n",
       "       'UAC', 'CAA', 'CAG', 'AAU', 'AAC', 'UGU', 'UGC', 'CAU', 'CAC', 'AAA',\n",
       "       'AAG', 'CGU', 'CGC', 'CGA', 'CGG', 'AGA', 'AGG', 'GAU', 'GAC', 'GAA',\n",
       "       'GAG', 'UAA', 'UAG', 'UGA'],\n",
       "      dtype='object')"
      ]
     },
     "execution_count": 4,
     "metadata": {},
     "output_type": "execute_result"
    }
   ],
   "source": [
    "s = ddf.columns[5:]\n",
    "s"
   ]
  },
  {
   "cell_type": "code",
   "execution_count": 5,
   "metadata": {},
   "outputs": [
    {
     "data": {
      "text/plain": [
       "UAG    7.775001e-07\n",
       "UAA    3.186059e-06\n",
       "CGA    2.288939e-05\n",
       "UCG    3.745950e-05\n",
       "UGU    3.883116e-05\n",
       "           ...     \n",
       "AUU    3.064776e-04\n",
       "UUU    3.107393e-04\n",
       "AAA    3.200475e-04\n",
       "UUA    4.289243e-04\n",
       "CUA    5.881686e-04\n",
       "Length: 64, dtype: float64"
      ]
     },
     "execution_count": 5,
     "metadata": {},
     "output_type": "execute_result"
    }
   ],
   "source": [
    "ddf[s].var(axis=0).sort_values()  ## CUA"
   ]
  },
  {
   "cell_type": "markdown",
   "metadata": {},
   "source": [
    "#### Problem 4\n",
    "\n",
    "Drop the SpeciesName and SpeciesID columns. Be sure the change is reflected in an updated dataframe.\n"
   ]
  },
  {
   "cell_type": "code",
   "execution_count": 6,
   "metadata": {},
   "outputs": [
    {
     "data": {
      "text/html": [
       "<div>\n",
       "<style scoped>\n",
       "    .dataframe tbody tr th:only-of-type {\n",
       "        vertical-align: middle;\n",
       "    }\n",
       "\n",
       "    .dataframe tbody tr th {\n",
       "        vertical-align: top;\n",
       "    }\n",
       "\n",
       "    .dataframe thead th {\n",
       "        text-align: right;\n",
       "    }\n",
       "</style>\n",
       "<table border=\"1\" class=\"dataframe\">\n",
       "  <thead>\n",
       "    <tr style=\"text-align: right;\">\n",
       "      <th></th>\n",
       "      <th>Kingdom</th>\n",
       "      <th>DNAtype</th>\n",
       "      <th>Ncodons</th>\n",
       "      <th>UUU</th>\n",
       "      <th>UUC</th>\n",
       "      <th>UUA</th>\n",
       "      <th>UUG</th>\n",
       "      <th>CUU</th>\n",
       "      <th>CUC</th>\n",
       "      <th>CUA</th>\n",
       "      <th>...</th>\n",
       "      <th>CGG</th>\n",
       "      <th>AGA</th>\n",
       "      <th>AGG</th>\n",
       "      <th>GAU</th>\n",
       "      <th>GAC</th>\n",
       "      <th>GAA</th>\n",
       "      <th>GAG</th>\n",
       "      <th>UAA</th>\n",
       "      <th>UAG</th>\n",
       "      <th>UGA</th>\n",
       "    </tr>\n",
       "  </thead>\n",
       "  <tbody>\n",
       "    <tr>\n",
       "      <th>0</th>\n",
       "      <td>vrl</td>\n",
       "      <td>0</td>\n",
       "      <td>1995</td>\n",
       "      <td>0.01654</td>\n",
       "      <td>0.01203</td>\n",
       "      <td>0.00050</td>\n",
       "      <td>0.00351</td>\n",
       "      <td>0.01203</td>\n",
       "      <td>0.03208</td>\n",
       "      <td>0.00100</td>\n",
       "      <td>...</td>\n",
       "      <td>0.00451</td>\n",
       "      <td>0.01303</td>\n",
       "      <td>0.03559</td>\n",
       "      <td>0.01003</td>\n",
       "      <td>0.04612</td>\n",
       "      <td>0.01203</td>\n",
       "      <td>0.04361</td>\n",
       "      <td>0.00251</td>\n",
       "      <td>0.00050</td>\n",
       "      <td>0.00000</td>\n",
       "    </tr>\n",
       "    <tr>\n",
       "      <th>1</th>\n",
       "      <td>vrl</td>\n",
       "      <td>0</td>\n",
       "      <td>1474</td>\n",
       "      <td>0.02714</td>\n",
       "      <td>0.01357</td>\n",
       "      <td>0.00068</td>\n",
       "      <td>0.00678</td>\n",
       "      <td>0.00407</td>\n",
       "      <td>0.02849</td>\n",
       "      <td>0.00204</td>\n",
       "      <td>...</td>\n",
       "      <td>0.00136</td>\n",
       "      <td>0.01696</td>\n",
       "      <td>0.03596</td>\n",
       "      <td>0.01221</td>\n",
       "      <td>0.04545</td>\n",
       "      <td>0.01560</td>\n",
       "      <td>0.04410</td>\n",
       "      <td>0.00271</td>\n",
       "      <td>0.00068</td>\n",
       "      <td>0.00000</td>\n",
       "    </tr>\n",
       "    <tr>\n",
       "      <th>2</th>\n",
       "      <td>vrl</td>\n",
       "      <td>0</td>\n",
       "      <td>4862</td>\n",
       "      <td>0.01974</td>\n",
       "      <td>0.02180</td>\n",
       "      <td>0.01357</td>\n",
       "      <td>0.01543</td>\n",
       "      <td>0.00782</td>\n",
       "      <td>0.01111</td>\n",
       "      <td>0.01028</td>\n",
       "      <td>...</td>\n",
       "      <td>0.00596</td>\n",
       "      <td>0.01974</td>\n",
       "      <td>0.02489</td>\n",
       "      <td>0.03126</td>\n",
       "      <td>0.02036</td>\n",
       "      <td>0.02242</td>\n",
       "      <td>0.02468</td>\n",
       "      <td>0.00391</td>\n",
       "      <td>0.00000</td>\n",
       "      <td>0.00144</td>\n",
       "    </tr>\n",
       "    <tr>\n",
       "      <th>3</th>\n",
       "      <td>vrl</td>\n",
       "      <td>0</td>\n",
       "      <td>1915</td>\n",
       "      <td>0.01775</td>\n",
       "      <td>0.02245</td>\n",
       "      <td>0.01619</td>\n",
       "      <td>0.00992</td>\n",
       "      <td>0.01567</td>\n",
       "      <td>0.01358</td>\n",
       "      <td>0.00940</td>\n",
       "      <td>...</td>\n",
       "      <td>0.00366</td>\n",
       "      <td>0.01410</td>\n",
       "      <td>0.01671</td>\n",
       "      <td>0.03760</td>\n",
       "      <td>0.01932</td>\n",
       "      <td>0.03029</td>\n",
       "      <td>0.03446</td>\n",
       "      <td>0.00261</td>\n",
       "      <td>0.00157</td>\n",
       "      <td>0.00000</td>\n",
       "    </tr>\n",
       "    <tr>\n",
       "      <th>4</th>\n",
       "      <td>vrl</td>\n",
       "      <td>0</td>\n",
       "      <td>22831</td>\n",
       "      <td>0.02816</td>\n",
       "      <td>0.01371</td>\n",
       "      <td>0.00767</td>\n",
       "      <td>0.03679</td>\n",
       "      <td>0.01380</td>\n",
       "      <td>0.00548</td>\n",
       "      <td>0.00473</td>\n",
       "      <td>...</td>\n",
       "      <td>0.00604</td>\n",
       "      <td>0.01494</td>\n",
       "      <td>0.01734</td>\n",
       "      <td>0.04148</td>\n",
       "      <td>0.02483</td>\n",
       "      <td>0.03359</td>\n",
       "      <td>0.03679</td>\n",
       "      <td>0.00000</td>\n",
       "      <td>0.00044</td>\n",
       "      <td>0.00131</td>\n",
       "    </tr>\n",
       "  </tbody>\n",
       "</table>\n",
       "<p>5 rows × 67 columns</p>\n",
       "</div>"
      ],
      "text/plain": [
       "  Kingdom  DNAtype  Ncodons      UUU      UUC      UUA      UUG      CUU  \\\n",
       "0     vrl        0     1995  0.01654  0.01203  0.00050  0.00351  0.01203   \n",
       "1     vrl        0     1474  0.02714  0.01357  0.00068  0.00678  0.00407   \n",
       "2     vrl        0     4862  0.01974  0.02180  0.01357  0.01543  0.00782   \n",
       "3     vrl        0     1915  0.01775  0.02245  0.01619  0.00992  0.01567   \n",
       "4     vrl        0    22831  0.02816  0.01371  0.00767  0.03679  0.01380   \n",
       "\n",
       "       CUC      CUA  ...      CGG      AGA      AGG      GAU      GAC  \\\n",
       "0  0.03208  0.00100  ...  0.00451  0.01303  0.03559  0.01003  0.04612   \n",
       "1  0.02849  0.00204  ...  0.00136  0.01696  0.03596  0.01221  0.04545   \n",
       "2  0.01111  0.01028  ...  0.00596  0.01974  0.02489  0.03126  0.02036   \n",
       "3  0.01358  0.00940  ...  0.00366  0.01410  0.01671  0.03760  0.01932   \n",
       "4  0.00548  0.00473  ...  0.00604  0.01494  0.01734  0.04148  0.02483   \n",
       "\n",
       "       GAA      GAG      UAA      UAG      UGA  \n",
       "0  0.01203  0.04361  0.00251  0.00050  0.00000  \n",
       "1  0.01560  0.04410  0.00271  0.00068  0.00000  \n",
       "2  0.02242  0.02468  0.00391  0.00000  0.00144  \n",
       "3  0.03029  0.03446  0.00261  0.00157  0.00000  \n",
       "4  0.03359  0.03679  0.00000  0.00044  0.00131  \n",
       "\n",
       "[5 rows x 67 columns]"
      ]
     },
     "execution_count": 6,
     "metadata": {},
     "output_type": "execute_result"
    }
   ],
   "source": [
    "ddf.drop([\"SpeciesName\",\"SpeciesID\"],axis=1,inplace=True)\n",
    "ddf.head()"
   ]
  },
  {
   "cell_type": "markdown",
   "metadata": {},
   "source": [
    "#### Problem 5\n",
    "\n",
    "Print out the count for each value in the Kingdom column.  The output should be\n",
    "\n",
    "    bct    2919\n",
    "    vrl    2831\n",
    "    pln    2523\n",
    "    vrt    2077\n",
    "    inv    1345\n",
    "    mam     572\n",
    "    phg     220\n",
    "    rod     215\n",
    "    pri     180\n",
    "    arc     126\n",
    "    plm      18\n",
    "    Name: Kingdom, dtype: int64"
   ]
  },
  {
   "cell_type": "code",
   "execution_count": 7,
   "metadata": {},
   "outputs": [
    {
     "data": {
      "text/plain": [
       "bct    2919\n",
       "vrl    2831\n",
       "pln    2523\n",
       "vrt    2077\n",
       "inv    1345\n",
       "mam     572\n",
       "phg     220\n",
       "rod     215\n",
       "pri     180\n",
       "arc     126\n",
       "plm      18\n",
       "Name: Kingdom, dtype: int64"
      ]
     },
     "execution_count": 7,
     "metadata": {},
     "output_type": "execute_result"
    }
   ],
   "source": [
    "ddf[\"Kingdom\"].value_counts()"
   ]
  },
  {
   "cell_type": "markdown",
   "metadata": {},
   "source": [
    "#### Problem 6\n",
    "\n",
    "Now let's define `X` and `y`.\n",
    "\n",
    "Let `X` be all the columns except for Kingdom.\n",
    "\n",
    "Let `y` be a vector of $\\pm 1$ where `y` is 1 if the Kingdom is `bct` and -1 otherwise."
   ]
  },
  {
   "cell_type": "code",
   "execution_count": 8,
   "metadata": {},
   "outputs": [],
   "source": [
    "X = ddf.iloc[:,1:].values\n",
    "y =(ddf.iloc[:,0]=='bct')*2-1\n"
   ]
  },
  {
   "cell_type": "markdown",
   "metadata": {},
   "source": [
    "#### Problem 7\n",
    "\n",
    "Do a train-test split of `X` and `y` and scale the data."
   ]
  },
  {
   "cell_type": "code",
   "execution_count": 9,
   "metadata": {},
   "outputs": [],
   "source": [
    "from sklearn.model_selection import train_test_split\n",
    "from sklearn.preprocessing import StandardScaler\n",
    "\n",
    "X_train,X_test,y_train,y_test = train_test_split(X,y)\n",
    "\n",
    "sclr = StandardScaler()\n",
    "\n",
    "sclr.fit(X_train)\n",
    "\n",
    "X_train_scl = sclr.transform(X_train)\n",
    "X_test_scl = sclr.transform(X_test)\n",
    "\n",
    "\n"
   ]
  },
  {
   "cell_type": "markdown",
   "metadata": {},
   "source": [
    "#### Problem 8\n",
    "\n",
    "Get the highest accuracy you can on the test set using `sklearn` classifier libraries.\n",
    "\n",
    "You are allowed to adjust hyperparameters. \n"
   ]
  },
  {
   "cell_type": "code",
   "execution_count": 10,
   "metadata": {},
   "outputs": [
    {
     "data": {
      "text/plain": [
       "(0.9831132944427388, 0.9960077797113318)"
      ]
     },
     "execution_count": 10,
     "metadata": {},
     "output_type": "execute_result"
    }
   ],
   "source": [
    "from sklearn.svm import SVC\n",
    "\n",
    "clf = SVC(C=10)\n",
    "\n",
    "clf.fit(X_train_scl,y_train)\n",
    "clf.score(X_test_scl,y_test),clf.score(X_train_scl,y_train)"
   ]
  },
  {
   "cell_type": "markdown",
   "metadata": {},
   "source": [
    "#### Problem 9\n",
    "\n",
    "Personally I tried two models:  An SVC with default (rbf) kernel and `C=10` and another SVC with default kernel, but `C=1`.\n",
    "\n",
    "When I did this experiment, the `C=10` model had both higher test accuracy and higher training set accuracy.\n",
    "\n",
    "Use your understanding of `bias`, `variance`,`underfitting`,`overfitting` and `slack variables` to explain:\n",
    "\n",
    "1) Why the training accuracy went up with the higher `C`\n",
    "2) Why the test accuracy went up with the higher `C`. "
   ]
  },
  {
   "cell_type": "markdown",
   "metadata": {},
   "source": [
    "The $C$ hyperparameter trades off against two aims of the SVM optimization problem:\n",
    "\n",
    "1. Maximizing the classification margin\n",
    "2. Classifying each training point correctly\n",
    "\n",
    "When $C$ is large, the **slack variables** are emphasized in the optimization objective function, and fewer training set misclassifications are tolerated. \n",
    "\n",
    "When $C$ is small, the optimizer cares less about the slack variables (ie misclassifications) and more about $||{\\bf w}||$ (ie maximizing the margin). \n",
    "\n",
    "Thus when $C$ is small, the model has relatively high **bias**.  It gives a simple boundary at the expense of high training error. \n",
    "\n",
    "When I tried `C=1` this was a small value of $C$ and the model was too simple to fit the training data well.  This was **underfitting**. Both training and test error were low. \n",
    "\n",
    "When I tried `C=10` the model was complex enough to fit the data, but not so complex that **overfitting** occurred.  Error due to bias went down much more than error due to **variance** went up. This was an appropriate fit. \n",
    "\n",
    "When I tried `C=100` the model was highly complex and **overfit** the training data.  This made training error low.  But test error went up, because the classification boundary was too sensitive to the particular training set used. As we moved from `C=10` to `C=100`, test error due to bias went down a bit, but test error due to variance increased a lot.  Therefore overall test error went up. \n"
   ]
  },
  {
   "cell_type": "markdown",
   "metadata": {},
   "source": [
    "#### Problem 10\n",
    "\n",
    "Then I tried another experiment.  I set `C=100` in the SVC model.  \n",
    "\n",
    "The training accuracy got even better but the test accuracy went down. \n",
    "\n",
    "Use your understanding of `bias`, `variance`,`underfitting`,`overfitting` and `slack variables` to explain:\n",
    "\n",
    "1) Why the training accuracy went up with the higher `C`\n",
    "2) Why the test accuracy went **down** with the higher `C`. \n"
   ]
  },
  {
   "cell_type": "code",
   "execution_count": 11,
   "metadata": {},
   "outputs": [
    {
     "data": {
      "text/plain": [
       "(0.9766656432299662, 0.9998976353772137)"
      ]
     },
     "execution_count": 11,
     "metadata": {},
     "output_type": "execute_result"
    }
   ],
   "source": [
    "clf = SVC(C=100)\n",
    "\n",
    "clf.fit(X_train_scl,y_train)\n",
    "clf.score(X_test_scl,y_test),clf.score(X_train_scl,y_train)"
   ]
  },
  {
   "cell_type": "markdown",
   "metadata": {},
   "source": [
    "#### Problem 11\n",
    "\n",
    "Use a LogisticRegression model to fit the training data.\n",
    "\n",
    "Then find the instance in your test set such that your model classifies it as 1, but is \"least certain\" about this classification among all positively classified test instances. "
   ]
  },
  {
   "cell_type": "code",
   "execution_count": 35,
   "metadata": {},
   "outputs": [
    {
     "data": {
      "text/plain": [
       "(0.5037508177243634, 512, 0.9680687749462695)"
      ]
     },
     "execution_count": 35,
     "metadata": {},
     "output_type": "execute_result"
    }
   ],
   "source": [
    "from sklearn.linear_model import LogisticRegression\n",
    "\n",
    "clf = LogisticRegression()\n",
    "\n",
    "clf.fit(X_train_scl,y_train)\n",
    "prob1  = clf.predict_proba(X_test_scl)[:,1]\n",
    "prob1[prob1>= 0.5].min(),prob1[prob1>= 0.5].argmin(),clf.score(X_test_scl,y_test)\n",
    "\n"
   ]
  },
  {
   "cell_type": "markdown",
   "metadata": {},
   "source": []
  },
  {
   "cell_type": "markdown",
   "metadata": {},
   "source": []
  },
  {
   "cell_type": "markdown",
   "metadata": {},
   "source": [
    "#### Bonus 1\n",
    "\n",
    "Modify our homemade linear classifier code to do L1 regularization.  \n",
    "\n",
    "That means weight decay based on the L1 metric.\n",
    "\n",
    "Use a parameter `alpha` to control the level of L1 regularization.\n",
    "\n",
    "How does it do on this data? \n",
    "\n"
   ]
  },
  {
   "cell_type": "code",
   "execution_count": 43,
   "metadata": {},
   "outputs": [
    {
     "data": {
      "text/plain": [
       "0.9091188210009211"
      ]
     },
     "execution_count": 43,
     "metadata": {},
     "output_type": "execute_result"
    }
   ],
   "source": [
    "def fit_linear(X,y,algorithm=\"perceptron\",eta=0.1,max_epochs=100,alpha=0):\n",
    "    assert algorithm in [\"perceptron\",\"adaline\",\"logreg\"]\n",
    "    if algorithm==\"perceptron\":\n",
    "        assert set(y) == set([-1,1])\n",
    "        phi = lambda z: (z>0)*2 -1 \n",
    "    elif algorithm==\"logreg\":\n",
    "        if set(y) == set([-1,1]):\n",
    "            y = (y+1)/2  ## make set(y) == {0,1}\n",
    "        phi = lambda z: 1/(1+np.exp(-z))\n",
    "    else:  ## adaline\n",
    "        assert set(y) == set([-1,1])\n",
    "        phi = lambda z: z\n",
    "    w = np.random.randn(X.shape[1])/10\n",
    "    for _ in range(max_epochs):\n",
    "        yhat = phi(X@w)\n",
    "        grad = (y-yhat)@X/X.shape[0]+ alpha*np.sign(w) ## l1 regularization\n",
    "        w += eta*grad\n",
    "    return w\n",
    "\n",
    "def predict_linear(X,w,algorithm=\"perceptron\"):\n",
    "    assert algorithm in [\"perceptron\",\"adaline\",\"logreg\"]\n",
    "    if algorithm==\"perceptron\" or algorithm=='adaline':\n",
    "        phi = lambda z: (z>0)*2 -1 \n",
    "        return phi(X@w)\n",
    "    elif algorithm==\"logreg\":\n",
    "        phi = lambda z: (1/(1+np.exp(-z)) >0.5)*1\n",
    "        yhat =  phi(X@w)\n",
    "        return yhat*2-1\n",
    "\n",
    "\n",
    "alg=\"logreg\"\n",
    "w=fit_linear(X_train_scl,y_train,eta=.01,max_epochs=6000,algorithm=alg,alpha=.0001)\n",
    "yhat = predict_linear(X_test_scl,w,algorithm=alg)\n",
    "acc = (yhat==y_test).sum()/len(y_test)\n",
    "acc\n"
   ]
  },
  {
   "cell_type": "markdown",
   "metadata": {},
   "source": [
    "### Bonus 2\n",
    "\n",
    "Use the `sklearn` RandomForestClassifier to rank the codons in terms of their importance in making the classification. \n"
   ]
  },
  {
   "cell_type": "code",
   "execution_count": 14,
   "metadata": {},
   "outputs": [
    {
     "data": {
      "text/html": [
       "<style>#sk-container-id-1 {color: black;background-color: white;}#sk-container-id-1 pre{padding: 0;}#sk-container-id-1 div.sk-toggleable {background-color: white;}#sk-container-id-1 label.sk-toggleable__label {cursor: pointer;display: block;width: 100%;margin-bottom: 0;padding: 0.3em;box-sizing: border-box;text-align: center;}#sk-container-id-1 label.sk-toggleable__label-arrow:before {content: \"▸\";float: left;margin-right: 0.25em;color: #696969;}#sk-container-id-1 label.sk-toggleable__label-arrow:hover:before {color: black;}#sk-container-id-1 div.sk-estimator:hover label.sk-toggleable__label-arrow:before {color: black;}#sk-container-id-1 div.sk-toggleable__content {max-height: 0;max-width: 0;overflow: hidden;text-align: left;background-color: #f0f8ff;}#sk-container-id-1 div.sk-toggleable__content pre {margin: 0.2em;color: black;border-radius: 0.25em;background-color: #f0f8ff;}#sk-container-id-1 input.sk-toggleable__control:checked~div.sk-toggleable__content {max-height: 200px;max-width: 100%;overflow: auto;}#sk-container-id-1 input.sk-toggleable__control:checked~label.sk-toggleable__label-arrow:before {content: \"▾\";}#sk-container-id-1 div.sk-estimator input.sk-toggleable__control:checked~label.sk-toggleable__label {background-color: #d4ebff;}#sk-container-id-1 div.sk-label input.sk-toggleable__control:checked~label.sk-toggleable__label {background-color: #d4ebff;}#sk-container-id-1 input.sk-hidden--visually {border: 0;clip: rect(1px 1px 1px 1px);clip: rect(1px, 1px, 1px, 1px);height: 1px;margin: -1px;overflow: hidden;padding: 0;position: absolute;width: 1px;}#sk-container-id-1 div.sk-estimator {font-family: monospace;background-color: #f0f8ff;border: 1px dotted black;border-radius: 0.25em;box-sizing: border-box;margin-bottom: 0.5em;}#sk-container-id-1 div.sk-estimator:hover {background-color: #d4ebff;}#sk-container-id-1 div.sk-parallel-item::after {content: \"\";width: 100%;border-bottom: 1px solid gray;flex-grow: 1;}#sk-container-id-1 div.sk-label:hover label.sk-toggleable__label {background-color: #d4ebff;}#sk-container-id-1 div.sk-serial::before {content: \"\";position: absolute;border-left: 1px solid gray;box-sizing: border-box;top: 0;bottom: 0;left: 50%;z-index: 0;}#sk-container-id-1 div.sk-serial {display: flex;flex-direction: column;align-items: center;background-color: white;padding-right: 0.2em;padding-left: 0.2em;position: relative;}#sk-container-id-1 div.sk-item {position: relative;z-index: 1;}#sk-container-id-1 div.sk-parallel {display: flex;align-items: stretch;justify-content: center;background-color: white;position: relative;}#sk-container-id-1 div.sk-item::before, #sk-container-id-1 div.sk-parallel-item::before {content: \"\";position: absolute;border-left: 1px solid gray;box-sizing: border-box;top: 0;bottom: 0;left: 50%;z-index: -1;}#sk-container-id-1 div.sk-parallel-item {display: flex;flex-direction: column;z-index: 1;position: relative;background-color: white;}#sk-container-id-1 div.sk-parallel-item:first-child::after {align-self: flex-end;width: 50%;}#sk-container-id-1 div.sk-parallel-item:last-child::after {align-self: flex-start;width: 50%;}#sk-container-id-1 div.sk-parallel-item:only-child::after {width: 0;}#sk-container-id-1 div.sk-dashed-wrapped {border: 1px dashed gray;margin: 0 0.4em 0.5em 0.4em;box-sizing: border-box;padding-bottom: 0.4em;background-color: white;}#sk-container-id-1 div.sk-label label {font-family: monospace;font-weight: bold;display: inline-block;line-height: 1.2em;}#sk-container-id-1 div.sk-label-container {text-align: center;}#sk-container-id-1 div.sk-container {/* jupyter's `normalize.less` sets `[hidden] { display: none; }` but bootstrap.min.css set `[hidden] { display: none !important; }` so we also need the `!important` here to be able to override the default hidden behavior on the sphinx rendered scikit-learn.org. See: https://github.com/scikit-learn/scikit-learn/issues/21755 */display: inline-block !important;position: relative;}#sk-container-id-1 div.sk-text-repr-fallback {display: none;}</style><div id=\"sk-container-id-1\" class=\"sk-top-container\"><div class=\"sk-text-repr-fallback\"><pre>RandomForestClassifier()</pre><b>In a Jupyter environment, please rerun this cell to show the HTML representation or trust the notebook. <br />On GitHub, the HTML representation is unable to render, please try loading this page with nbviewer.org.</b></div><div class=\"sk-container\" hidden><div class=\"sk-item\"><div class=\"sk-estimator sk-toggleable\"><input class=\"sk-toggleable__control sk-hidden--visually\" id=\"sk-estimator-id-1\" type=\"checkbox\" checked><label for=\"sk-estimator-id-1\" class=\"sk-toggleable__label sk-toggleable__label-arrow\">RandomForestClassifier</label><div class=\"sk-toggleable__content\"><pre>RandomForestClassifier()</pre></div></div></div></div></div>"
      ],
      "text/plain": [
       "RandomForestClassifier()"
      ]
     },
     "execution_count": 14,
     "metadata": {},
     "output_type": "execute_result"
    }
   ],
   "source": [
    "from sklearn.ensemble import RandomForestClassifier\n",
    "\n",
    "clf = RandomForestClassifier()\n",
    "clf.fit(X_train_scl,y_train)"
   ]
  },
  {
   "cell_type": "code",
   "execution_count": 15,
   "metadata": {},
   "outputs": [
    {
     "name": "stdout",
     "output_type": "stream",
     "text": [
      "Top ten most important features (in increasing order of importance)\n",
      "Index(['AAA', 'UGC', 'ACU', 'CGC', 'UCU', 'CCG', 'GGC', 'GAA', 'UGU', 'GCG'], dtype='object')\n",
      "[0.03061558 0.03251179 0.03257001 0.03365153 0.03366789 0.03822758\n",
      " 0.03881527 0.04366275 0.04577981 0.06174901]\n"
     ]
    }
   ],
   "source": [
    "print(\"Top ten most important features (in increasing order of importance)\")\n",
    "feature_sort=clf.feature_importances_.argsort()\n",
    "print(ddf.columns[1:][feature_sort[-10:]])\n",
    "print(clf.feature_importances_[feature_sort[-10:]])\n"
   ]
  },
  {
   "cell_type": "markdown",
   "metadata": {},
   "source": [
    "### Editorial\n",
    "\n",
    "The most important codon, namely GCG, corresponds to the amino acid alanine.  \n",
    "\n",
    "A little googling reveals that it is an important component of the bacterial cell wall:\n",
    "\n",
    "https://www.ncbi.nlm.nih.gov/pmc/articles/PMC6134093/\n",
    "\n",
    "No wonder it is good for recognizing bacteria!"
   ]
  },
  {
   "cell_type": "markdown",
   "metadata": {},
   "source": [
    "### Bonus 3\n",
    "\n",
    "1. Write (or find) a function that returns the euclidean distance between two vectors.\n",
    "2. Write a function `neighbor_predict` that takes a feature vector `x` and a training set `X_train_scl` and returns the mode class of the five instances in `X_train_scl` that are closest to `x`. \n",
    "\n",
    "In other words, for the provided instance `x`, the function finds the five closest data points in the training set and returns the class label that occurs most often among these five.  \n",
    "\n",
    "3. What accuracy does this give on the test set? "
   ]
  },
  {
   "cell_type": "code",
   "execution_count": 16,
   "metadata": {},
   "outputs": [
    {
     "data": {
      "text/plain": [
       "0.9828062634326067"
      ]
     },
     "execution_count": 16,
     "metadata": {},
     "output_type": "execute_result"
    }
   ],
   "source": [
    "distMat = lambda x1,x2: np.sqrt(np.sum((x1-x2)**2,axis=1))\n",
    "dist = lambda x1,x2: np.sqrt(np.sum((x1-x2)**2))\n",
    "\n",
    "import statistics as stats\n",
    "def neighbor_predict(x,X,y,k=5):\n",
    "    ### assumes x,X,y are numpy types, not pandas\n",
    "    D=distMat(x,X_train_scl).argsort()[:k]\n",
    "    return stats.mode(y[D])\n",
    "    \n",
    "def predict_whole_matrix(X_test,X_train,y_train,k=5):\n",
    "    y_test = []\n",
    "    y_train = np.array(y_train)\n",
    "    for x in X_test:\n",
    "        y_test.append(neighbor_predict(x,X_train,y_train,k))\n",
    "    return np.array(y_test)\n",
    "\n",
    "yhat = predict_whole_matrix(X_test_scl,X_train_scl,y_train)\n",
    "\n",
    "(yhat == y_test).sum()/len(y_test)\n",
    "\n"
   ]
  },
  {
   "cell_type": "code",
   "execution_count": 17,
   "metadata": {},
   "outputs": [
    {
     "data": {
      "text/plain": [
       "0.9828062634326067"
      ]
     },
     "execution_count": 17,
     "metadata": {},
     "output_type": "execute_result"
    }
   ],
   "source": [
    "from sklearn.neighbors import KNeighborsClassifier\n",
    "\n",
    "clf = KNeighborsClassifier(n_neighbors=5)\n",
    "clf.fit(X_train_scl,y_train)\n",
    "clf.score(X_test_scl,y_test)\n"
   ]
  },
  {
   "cell_type": "markdown",
   "metadata": {},
   "source": []
  }
 ],
 "metadata": {
  "kernelspec": {
   "display_name": "Python 3.10.6 64-bit",
   "language": "python",
   "name": "python3"
  },
  "language_info": {
   "codemirror_mode": {
    "name": "ipython",
    "version": 3
   },
   "file_extension": ".py",
   "mimetype": "text/x-python",
   "name": "python",
   "nbconvert_exporter": "python",
   "pygments_lexer": "ipython3",
   "version": "3.10.6"
  },
  "orig_nbformat": 4,
  "vscode": {
   "interpreter": {
    "hash": "aee8b7b246df8f9039afb4144a1f6fd8d2ca17a180786b69acc140d282b71a49"
   }
  }
 },
 "nbformat": 4,
 "nbformat_minor": 2
}
