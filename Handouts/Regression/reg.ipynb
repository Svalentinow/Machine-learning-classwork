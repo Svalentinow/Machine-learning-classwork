{
 "cells": [
  {
   "cell_type": "markdown",
   "metadata": {},
   "source": [
    "## Regression\n",
    "\n",
    "So far we have focused on classification.\n",
    "\n",
    "We were trying to learn a function $f:\\mathcal{X} \\rightarrow \\mathcal{Y}$ where $\\mathcal{Y}$ was discrete.\n",
    "\n",
    "Usually we had $\\mathcal{Y} = \\{-1,1\\}$.\n",
    "\n",
    "In **regression** we try to learn a function $f:\\mathcal{X} \\rightarrow \\mathcal{Y}$ where $\\mathcal{Y}$ is continuous.  \n",
    "\n",
    "---\n",
    "\n",
    "Just as there are many algorithms for classiciation, there are also many algorithms for regression.\n",
    "\n",
    "Most popular ML algorithms have both classification and regression versions. \n",
    "\n",
    "---\n",
    "\n",
    "### Linear Regression\n",
    "\n",
    "The study of regression usually starts with linear regression.\n",
    "\n",
    "We have an unknown function $f:\\mathcal{X} \\rightarrow \\mathbb{R}$.\n",
    "\n",
    "Typically $\\mathcal{X} = \\mathbb{R}^d$ for some $d \\in \\mathbb{N}$.\n",
    "\n",
    "We get to see some \"examples\" of $f$: $\\{({\\bf x}^{(1)},y^{(1)}),({\\bf x}^{(2)},y^{(2)}),\\ldots,({\\bf x}^{(N)},y^{(N)})\\}$\n",
    "\n",
    "We then find some ${\\bf w} \\in \\mathbb{R}^{d+1}$ such that ${\\bf w}^T{\\bf x} \\approx f({\\bf x})$.\n",
    "\n",
    "(we assume ${\\bf x}$ begins with a bias 1)\n",
    "\n",
    "This is done by finding the ${\\bf w}$ that minimizes some error function $J({\\bf w})$. \n",
    "\n",
    "Usually we used the mean squared error:\n",
    "\n",
    "$$J({\\bf w}) = \\frac{1}{2N} \\sum_{i=1}^N (y^{(i)}-{\\bf w}^T{\\bf x}^{(i)})$$\n",
    "\n",
    "![img](https://i0.wp.com/statisticsbyjim.com/wp-content/uploads/2017/04/residuals-300x186.png?resize=300%2C186)\n",
    "\n",
    "### Adaline?  Is that you?\n",
    "\n",
    "When $J({\\bf w})$ is minimized by gradient descent we call the algorithm Adaline.\n",
    "\n",
    "We have already discussed it!\n",
    "\n",
    "The only difference is that at prediction time you do not threshold.\n",
    "\n",
    "$$\\hat{y} = X{\\bf w}$$\n",
    "\n",
    "whereas for classification we were doing\n",
    "\n",
    "\n",
    "$$\\hat{y} = \\phi(X{\\bf w})$$\n",
    "\n",
    "\n",
    "---\n",
    "\n",
    "### Another approach to linear regression\n",
    "\n",
    "For the simple mean squared error function it is also possible to simply solve $\\nabla_{\\bf w} J({\\bf w}) = {\\bf 0}$ for ${\\bf w}$.\n",
    "\n",
    "(Let's do it)\n",
    "\n",
    "The derivation is simplified using two formulas.\n",
    "\n",
    "1) $\\nabla_{\\bf w} {\\bf w^T}{\\bf b} = {\\bf b}$\n",
    "2) $\\nabla_{\\bf w} {\\bf w^T}A{\\bf w} = 2A{\\bf w}$  (when $A$ symmetric)\n",
    "\n",
    "These are the \"matrix versions\" of\n",
    "\n",
    "1) $\\frac{d}{dx} bx = b$\n",
    "2) $\\frac{d}{dx} ax^2 = 2ax$\n",
    "\n",
    "We begin by rewriting\n",
    "\n",
    "$$J({\\bf w}) = \\frac{1}{2N}(y-X{\\bf w})^T(y-X{\\bf w})$$\n",
    "\n",
    "After FOIL, collecting like terms, and using the formulas, we get\n",
    "\n",
    "$$\\nabla_{\\bf w} J({\\bf w}) = -Xy + X^TX{\\bf w} = {\\bf 0}$$\n",
    "\n",
    "Then\n",
    "\n",
    "${\\bf w} = (X^TX)^{-1}X^Ty$\n",
    "\n",
    "The funny expression $(X^TX)^{-1}X^T$ actually has a name: [pseudoinverse](https://en.wikipedia.org/wiki/Moore%E2%80%93Penrose_inverse)\n",
    "\n",
    "Often we denote it $X^{\\dagger} = (X^TX)^{-1}X^T$.\n",
    "\n",
    "Note that $X^{\\dagger}X = I$, even if $X$ is not square!\n",
    "\n",
    "There is a hidden assumption that $X^TX$ is invertible.\n",
    "\n",
    "It is not logically necessary that $X^TX$ is invertible, but in practice it almost always is.\n",
    "\n",
    "In `numpy` it is `np.linalg.pinv(X)`.\n",
    "\n",
    "---\n",
    "\n",
    "### Scaling\n",
    "\n",
    "Scaling the data is important for regression just as it was for classification.\n",
    "\n",
    "Adaline usually needs scaled data to converge.\n",
    "\n",
    "Unscaled data may even cause numerical problems for the closed form solution.\n",
    "\n"
   ]
  },
  {
   "cell_type": "markdown",
   "metadata": {},
   "source": []
  },
  {
   "cell_type": "code",
   "execution_count": 10,
   "metadata": {},
   "outputs": [
    {
     "data": {
      "text/plain": [
       "(array([[ 0.44773767,  0.36590024,  0.24678207],\n",
       "        [-1.04114685, -0.03338108, -0.67883134],\n",
       "        [-0.09778322,  0.31869046,  0.41456231],\n",
       "        [-0.62962622, -2.01062291,  0.01686539],\n",
       "        [-0.15639842,  0.02121024, -1.26702907]]),\n",
       " array([ 1,  1, -1, -1, -1]))"
      ]
     },
     "execution_count": 10,
     "metadata": {},
     "output_type": "execute_result"
    }
   ],
   "source": [
    "import numpy as np\n",
    "\n",
    "X = np.random.randn(5,3)\n",
    "y = np.random.choice([-1,1],size=5,replace=True)\n",
    "X,y"
   ]
  },
  {
   "cell_type": "code",
   "execution_count": 11,
   "metadata": {},
   "outputs": [
    {
     "data": {
      "text/plain": [
       "array([-0.5717831 ,  0.64348832,  0.36373679])"
      ]
     },
     "execution_count": 11,
     "metadata": {},
     "output_type": "execute_result"
    }
   ],
   "source": [
    "inv = np.linalg.inv \n",
    "(inv(X.T@X)@X.T)@y"
   ]
  },
  {
   "cell_type": "code",
   "execution_count": 12,
   "metadata": {},
   "outputs": [
    {
     "data": {
      "text/plain": [
       "array([-0.5717831 ,  0.64348832,  0.36373679])"
      ]
     },
     "execution_count": 12,
     "metadata": {},
     "output_type": "execute_result"
    }
   ],
   "source": [
    "np.linalg.pinv(X)@y"
   ]
  },
  {
   "cell_type": "code",
   "execution_count": 13,
   "metadata": {},
   "outputs": [
    {
     "data": {
      "text/plain": [
       "array([[1.71490698, 1.43004299, 0.96426196],\n",
       "       [1.43004299, 4.27961523, 0.18429086],\n",
       "       [0.96426196, 0.18429086, 2.2992224 ]])"
      ]
     },
     "execution_count": 13,
     "metadata": {},
     "output_type": "execute_result"
    }
   ],
   "source": [
    "X.T@X"
   ]
  },
  {
   "cell_type": "code",
   "execution_count": 14,
   "metadata": {},
   "outputs": [
    {
     "data": {
      "text/plain": [
       "array([[ 1.13451668, -0.35985421, -0.44695695],\n",
       "       [-0.35985421,  0.34861634,  0.12297502],\n",
       "       [-0.44695695,  0.12297502,  0.61252031]])"
      ]
     },
     "execution_count": 14,
     "metadata": {},
     "output_type": "execute_result"
    }
   ],
   "source": [
    "inv(X.T@X)"
   ]
  },
  {
   "cell_type": "markdown",
   "metadata": {},
   "source": [
    "### Error metrics\n",
    "\n",
    "For classification we had nice \"portable\" notions of performance:\n",
    "\n",
    "accuracy, precision, recall, f1-score, roc-auc\n",
    "\n",
    "These measures are all in the interval $[0,1]$ and we can tell how \"good\" a model is just by how close the measures are to 1. \n",
    "\n",
    "In regression we *can* use MSE as an error metric.\n",
    "\n",
    "However it will not really be comparable between problems.\n",
    "\n",
    "Visualizing the residuals is a nice way to estimate error:\n",
    "\n",
    "![residuals](residuals.png)\n",
    "\n",
    "#### Mean absolute error\n",
    "\n",
    "\n",
    "Another common measure of performance in regression is mean absolute error (MAE).\n",
    "\n",
    "The \"mean absolute error\" metric has a similar problem to MSE: \n",
    "\n",
    "distances are bigger in higher dimensions and the measure is not really portable.\n",
    "\n",
    "### A \"normalized\" MSE\n",
    "\n",
    "Consider the expression \n",
    "\n",
    "$$\\frac{\\sum_{i=1}^N (y^{(i)} - \\hat{y}^{(i)})^2}{\\sum_{i=1}^N (y^{(i)} - \\mu)^2}$$\n",
    "\n",
    "where\n",
    "\n",
    "1) $\\hat{y}^{(i)} = {\\bf w^T}{\\bf x}^{(i)}$\n",
    "2) ${\\bf w}$ minimizes $J({\\bf w})$ (MSE)\n",
    "3) $\\mu = \\frac{1}{N} \\sum_{i=1}^N{y}^{(i)}$\n",
    "\n",
    "Because $y=\\mu$ is itself a line and ${\\bf w}$ minimizes $J({\\bf w})$ over all lines, this fraction is in the range $[0,1]$.\n",
    "\n",
    "Near 0 $\\rightarrow$ \"predictions are great\"\n",
    "\n",
    "Near 1 $\\rightarrow$ \"predictions are awful\"\n",
    "\n",
    "\n",
    "It would be more intuitive if 1 $\\approx$ \"good\" and 0 $\\approx$ \"bad\", as is the case with accuracy, f1-score, etc. \n",
    "\n",
    "This gives us $R^2$, the **coefficient of determination**:\n",
    "\n",
    "$$R^2 = 1-\\frac{\\sum_{i=1}^N (y^{(i)} - \\hat{y}^{(i)})^2}{\\sum_{i=1}^N (y^{(i)} - \\mu)^2}.$$\n",
    "\n",
    "$R^2 \\approx 1 \\rightarrow$ \"predictions are great\"\n",
    "\n",
    "$R^2 \\approx 0 \\rightarrow$ \"predictions are awful\"\n",
    "\n",
    "It is actually possible for $R^2$ to be **negative** on the training set, if the predictions are even worse than just predicting the mean $y$ value.\n",
    "\n",
    "This means that the model is doing worse than you could do without even seeing $X$.\n",
    "\n"
   ]
  },
  {
   "cell_type": "markdown",
   "metadata": {},
   "source": [
    "### Exercise\n",
    "\n",
    "Below is some minimally functional code for doing 1d linear regression.\n",
    "\n",
    "Can you find the $R^2$ score?\n",
    "\n",
    "What happens if we add a big outlier?"
   ]
  },
  {
   "cell_type": "code",
   "execution_count": 20,
   "metadata": {},
   "outputs": [
    {
     "name": "stdout",
     "output_type": "stream",
     "text": [
      "[-0.48518726 -0.26458221]\n"
     ]
    },
    {
     "data": {
      "image/png": "[encoded data removed]",
      "text/plain": [
       "<Figure size 640x480 with 1 Axes>"
      ]
     },
     "metadata": {},
     "output_type": "display_data"
    }
   ],
   "source": [
    "###\n",
    "import matplotlib.pyplot as plt\n",
    "import numpy as np\n",
    "\n",
    "\n",
    "def plot_w(w,label=\"\"):\n",
    "    x = np.linspace(-10,10)\n",
    "    b,m = w\n",
    "    plt.plot(x,m*x +b,label=label)\n",
    "    plt.ylim(-10,10)\n",
    "    \n",
    "def make_blob(w,sigma):\n",
    "    xpts = np.random.choice(np.linspace(-10,10),20)\n",
    "    b,m = w\n",
    "    ypts = m*xpts + b\n",
    "\n",
    "    plt.plot(xpts,ypts,\":\",alpha=0.5,label=\"f\")\n",
    "    noise = np.random.randn(len(ypts))\n",
    "    ypts = ypts + noise\n",
    "    plt.scatter(xpts,ypts,c='r')\n",
    "    X = np.ones(2*len(ypts)).reshape(len(ypts),2)\n",
    "    X[:,1] = xpts\n",
    "    plt.ylim(-10,10)\n",
    "    plt.xlim(-10,10)\n",
    "    return X,ypts\n",
    "\n",
    "w = np.array([-.5,-0.2])\n",
    "\n",
    "#plot_w(w)\n",
    "X,y=make_blob(w,5)    \n",
    "\n",
    "w_lin = np.linalg.pinv(X)@y\n",
    "print(w_lin)\n",
    "plot_w(w_lin,\"h\")\n",
    "plt.legend()\n",
    "plt.show()"
   ]
  },
  {
   "cell_type": "markdown",
   "metadata": {},
   "source": [
    "### Regularization\n",
    "\n",
    "We can add regularization to a regression model just as we did with a classification model.\n",
    "\n",
    "#### Ridge regression\n",
    "\n",
    "This is just a another term for the L2 penalty. \n",
    "\n",
    "![img](ridge.png)\n",
    "\n",
    "\n",
    "#### Lasso regression\n",
    "\n",
    "This is another term for the L1 penalty.\n",
    "\n",
    "![img](lasso.png)\n",
    "\n",
    "![img](L1_vs_L2.png)"
   ]
  },
  {
   "cell_type": "markdown",
   "metadata": {},
   "source": [
    "### Implementing regularization\n",
    "\n",
    "Turning on either L1 or L2 penalties in Adaline will yield Ridge and Lasso, respectively.\n",
    "\n",
    "There is also an analytical solution to ridge regression:\n",
    "\n",
    "$${\\bf w}=\\left [ \\frac{1}{N}X^TX + \\lambda I \\right ]^{-1}\\frac{1}{N}X^Ty $$\n",
    "\n",
    "You can set `I[0][0]=0` to avoid regularizing the intercept term.\n",
    "\n",
    "You can find a derivation here: https://web.mit.edu/zoya/www/linearRegression.pdf\n"
   ]
  },
  {
   "cell_type": "code",
   "execution_count": null,
   "metadata": {},
   "outputs": [],
   "source": []
  },
  {
   "cell_type": "markdown",
   "metadata": {},
   "source": [
    "### Outliers\n",
    "\n",
    "Just as in classification, outliers can cause problems with performance.\n",
    "\n",
    "The toy situation below lets us experiment with a serious outlier. \n"
   ]
  },
  {
   "cell_type": "code",
   "execution_count": 34,
   "metadata": {},
   "outputs": [
    {
     "name": "stdout",
     "output_type": "stream",
     "text": [
      "[-3.19017149 -0.87493677]\n"
     ]
    },
    {
     "data": {
      "image/png": "[encoded data removed]",
      "text/plain": [
       "<Figure size 640x480 with 1 Axes>"
      ]
     },
     "metadata": {},
     "output_type": "display_data"
    },
    {
     "data": {
      "text/plain": [
       "0.19363178665256442"
      ]
     },
     "execution_count": 34,
     "metadata": {},
     "output_type": "execute_result"
    }
   ],
   "source": [
    "###\n",
    "import matplotlib.pyplot as plt\n",
    "import numpy as np\n",
    "\n",
    "\n",
    "def plot_w(w,label=\"\"):\n",
    "    x = np.linspace(-10,10)\n",
    "    b,m = w\n",
    "    plt.plot(x,m*x +b,label=label)\n",
    "    #plt.ylim(-10,10)\n",
    "    \n",
    "def make_blob(w,sigma):\n",
    "    np.random.seed(42)\n",
    "    xpts = np.random.choice(np.linspace(-10,10),20)\n",
    "    b,m = w\n",
    "    ypts = m*xpts + b\n",
    "\n",
    "    plt.plot(xpts,ypts,\":\",alpha=0.5,label=\"f\")\n",
    "    noise = np.random.randn(len(ypts))\n",
    "    ypts = ypts + noise\n",
    "    ypts[-1] *= 15\n",
    "    plt.scatter(xpts,ypts,c='r')\n",
    "    X = np.ones(2*len(ypts)).reshape(len(ypts),2)\n",
    "    X[:,1] = xpts\n",
    "    #plt.ylim(-10,10)\n",
    "    #plt.xlim(-10,10)\n",
    "    return X,ypts\n",
    "\n",
    "w = np.array([-.5,-0.2])\n",
    "R2 = lambda X,y,w : 1-((y-X@w)**2).sum()/((y-np.mean(y))**2).sum()\n",
    "#plot_w(w)\n",
    "X,y=make_blob(w,5)    \n",
    "\n",
    "w_lin = np.linalg.pinv(X)@y\n",
    "print(w_lin)\n",
    "plot_w(w_lin,\"h\")\n",
    "plt.legend()\n",
    "plt.show()\n",
    "R2(X,y,w_lin)"
   ]
  },
  {
   "cell_type": "markdown",
   "metadata": {},
   "source": [
    "\n",
    "![ransac](RANSAC.png)"
   ]
  },
  {
   "cell_type": "code",
   "execution_count": null,
   "metadata": {},
   "outputs": [],
   "source": []
  },
  {
   "cell_type": "code",
   "execution_count": null,
   "metadata": {},
   "outputs": [],
   "source": []
  }
 ],
 "metadata": {
  "kernelspec": {
   "display_name": "Python 3.10.6 64-bit",
   "language": "python",
   "name": "python3"
  },
  "language_info": {
   "codemirror_mode": {
    "name": "ipython",
    "version": 3
   },
   "file_extension": ".py",
   "mimetype": "text/x-python",
   "name": "python",
   "nbconvert_exporter": "python",
   "pygments_lexer": "ipython3",
   "version": "3.10.6"
  },
  "orig_nbformat": 4,
  "vscode": {
   "interpreter": {
    "hash": "aee8b7b246df8f9039afb4144a1f6fd8d2ca17a180786b69acc140d282b71a49"
   }
  }
 },
 "nbformat": 4,
 "nbformat_minor": 2
}
