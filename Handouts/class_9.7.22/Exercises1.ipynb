{
 "cells": [
  {
   "cell_type": "markdown",
   "id": "1e3158db",
   "metadata": {},
   "source": [
    "### Exercises 1\n",
    "\n",
    "These exercises are intended to help you become more familiar with the basics of Python.\n"
   ]
  },
  {
   "cell_type": "markdown",
   "id": "88fb0bda",
   "metadata": {},
   "source": [
    "#### Ex 1.1\n",
    "\n",
    "In the cell below we have defined a string called `a`.\n",
    "\n",
    "Like all types in Python, this string is an object. \n",
    "\n",
    "Use tab completion to see which methods are available for the string type.\n",
    "\n",
    "Use the question mark operator to find out how the `count` method works.\n",
    "\n",
    "Use the `count` method to count the number of *a* characters that occur in `a`. \n",
    "\n",
    "Try out some of the other methods as well."
   ]
  },
  {
   "cell_type": "code",
   "execution_count": 30,
   "id": "63df7b43",
   "metadata": {},
   "outputs": [],
   "source": [
    "a=\"a string is an object\"\n",
    "# type a.<Press Tab>\n"
   ]
  },
  {
   "cell_type": "markdown",
   "id": "0548c292",
   "metadata": {},
   "source": [
    "#### Ex 1.2\n",
    "\n",
    "Use the string `split()` method to get a list of the words in the string `a` from the previous exercise.\n",
    "\n",
    "Then use a list-based sorting method to sort the resulting list of words in alphabetical order. \n",
    "\n",
    "If `b` is the list of words in `a`, try both\n",
    "\n",
    "```python\n",
    "b.sort()\n",
    "```\n",
    "\n",
    "and\n",
    "\n",
    "```python\n",
    "sorted(b)\n",
    "```\n",
    "\n",
    "What is the difference between these approaches? (*Hint:* use the question mark operator)\n"
   ]
  },
  {
   "cell_type": "code",
   "execution_count": 32,
   "id": "1c32d9ae",
   "metadata": {},
   "outputs": [],
   "source": [
    "### Your solution here\n"
   ]
  },
  {
   "cell_type": "markdown",
   "id": "00f0cda0",
   "metadata": {},
   "source": [
    "#### Ex 1.3\n",
    "\n",
    "Jupyter allows shell commands to be issued from inside a notebook by using the `!` operator.\n",
    "For instance, to see the current working directory you can type\n",
    "\n",
    "```python\n",
    "!pwd\n",
    "```\n",
    "\n",
    "in a cell and run it.\n",
    "\n",
    "Use shell commands from within the notebook to \n",
    "\n",
    "1. List the other files in the current directory (*Hint:* the Linux command is `ls`).\n",
    "2. Create a new subdirectory (*Hint:* the Linux command is `mkdir <dirname>`)."
   ]
  },
  {
   "cell_type": "code",
   "execution_count": 33,
   "id": "83c56425",
   "metadata": {},
   "outputs": [],
   "source": [
    "### Your solution here\n"
   ]
  },
  {
   "cell_type": "markdown",
   "id": "925f8c8a",
   "metadata": {},
   "source": [
    "#### Ex 1.4\n",
    "\n",
    "Explain what the following cell is doing."
   ]
  },
  {
   "cell_type": "code",
   "execution_count": 6,
   "id": "cf022484",
   "metadata": {},
   "outputs": [
    {
     "data": {
      "text/plain": [
       "['Exercises1.ipynb',\n",
       " 'Experiments.ipynb',\n",
       " 'k_armed_bandit.ipynb',\n",
       " 'topic_date_matcher.ipynb']"
      ]
     },
     "execution_count": 6,
     "metadata": {},
     "output_type": "execute_result"
    }
   ],
   "source": [
    "a = !ls\n",
    "a"
   ]
  },
  {
   "cell_type": "markdown",
   "id": "f9a933e0",
   "metadata": {},
   "source": [
    "#### Ex 1.5\n",
    "\n",
    "Explain what the following cell is doing.\n",
    "\n",
    "*Hint:* [touch](https://www.geeksforgeeks.org/touch-command-in-linux-with-examples/)\n",
    "\n",
    "*Hint:* [grep](https://docs.oracle.com/cd/E19504-01/802-5826/6i9iclf5k/index.html)\n"
   ]
  },
  {
   "cell_type": "code",
   "execution_count": 7,
   "id": "dd96230f",
   "metadata": {},
   "outputs": [
    {
     "name": "stdout",
     "output_type": "stream",
     "text": [
      "-rw-r--r--  1 hunterjohnson  staff       0 Aug 18 13:10 \u001b[01;31m\u001b[Kravenclaw\u001b[m\u001b[K\n"
     ]
    }
   ],
   "source": [
    "filename = \"ravenclaw\"\n",
    "!touch {filename}\n",
    "!ls -l | grep {filename}"
   ]
  },
  {
   "cell_type": "markdown",
   "id": "f962fe8d",
   "metadata": {},
   "source": [
    "#### Ex 1.6\n",
    "\n",
    "Consider the string below.\n",
    "\n",
    "```python\n",
    "s=\"\"\"One of nature's most intense spectacles can be tamed with humble sea salt, the same stuff that graces some dinner tables. Researchers recently found that the frequency of lightning decreases by up to 90 percent in the presence of salty sea spray.\"\"\"\n",
    "```\n",
    "\n",
    "Often in Natural Language Processing (NLP) we need to filter out punctuation from a string, and break it into a list of indivivual words.\n",
    "\n",
    "Breaking into a list of words is easy, because of the built-in string method `split()`.\n",
    "\n",
    "Use `split()` to turn the string below into a list of words.\n"
   ]
  },
  {
   "cell_type": "code",
   "execution_count": 12,
   "id": "1e6f1fa0",
   "metadata": {},
   "outputs": [],
   "source": [
    "s=\"\"\"One of nature's most intense spectacles can be tamed with humble sea salt, the same stuff that graces some dinner tables. Researchers recently found that the frequency of lightning decreases by up to 90 percent in the presence of salty sea spray.\"\"\"\n"
   ]
  },
  {
   "cell_type": "markdown",
   "id": "fcfb295d",
   "metadata": {},
   "source": [
    "#### Ex 1.6 cont\n",
    "\n",
    "Now we will filter out the punctuation from `s`, leaving only letters.\n",
    "\n",
    "There are many ways of doing this.\n",
    "\n",
    "To help, we generate a string containing all common punctuation symbols below, called `punc`."
   ]
  },
  {
   "cell_type": "code",
   "execution_count": 11,
   "id": "7ebded73",
   "metadata": {},
   "outputs": [
    {
     "data": {
      "text/plain": [
       "'!\"#$%&\\'()*+,-./:;<=>?@[\\\\]^_`{|}~'"
      ]
     },
     "execution_count": 11,
     "metadata": {},
     "output_type": "execute_result"
    }
   ],
   "source": [
    "## Be sure to run this cell, or the kernel will not know what `punc` means\n",
    "import string\n",
    "\n",
    "punc=string.punctuation\n",
    "\n",
    "\n",
    "punc"
   ]
  },
  {
   "cell_type": "markdown",
   "id": "dbe8b1dc",
   "metadata": {},
   "source": [
    "#### Ex 1.6 cont\n",
    "\n",
    "Now write a program that will turn the following pseudocode into Python.\n",
    "\n",
    "```\n",
    "for each punctuation symbol `p` in `punc`\n",
    "    replace all occurrences of `p` in `s` with the emptystring \n",
    "```\n"
   ]
  },
  {
   "cell_type": "code",
   "execution_count": 28,
   "id": "aa7511eb",
   "metadata": {},
   "outputs": [],
   "source": [
    "### Your solution here\n",
    "\n",
    "s=\"\"\"One of nature's most intense spectacles can be tamed with humble sea salt, the same stuff that graces some dinner tables. Researchers recently found that the frequency of lightning decreases by up to 90 percent in the presence of salty sea spray.\"\"\"\n",
    "  "
   ]
  },
  {
   "cell_type": "markdown",
   "id": "1fd261ac",
   "metadata": {},
   "source": [
    "#### Ex 1.6 Solution approach 2\n",
    "\n",
    "Try this version of the punctuation removal algorithm.  It uses the built-in string method `isalnum()`, which returns `True` if a character is alpha-numeric and `False` otherwise.\n",
    "\n",
    "Pseudocode:\n",
    "\n",
    "```\n",
    "create an empty list L\n",
    "for each character `c` in `s`\n",
    "    if `c` is alphanumeric or space then put `c` into L\n",
    "turn L into a string\n",
    "```\n",
    "\n"
   ]
  },
  {
   "cell_type": "code",
   "execution_count": 27,
   "id": "f9bbffcd",
   "metadata": {},
   "outputs": [],
   "source": [
    "### Your solution here\n",
    "s=\"\"\"One of nature's most intense spectacles can be tamed with humble sea salt, the same stuff that graces some dinner tables. Researchers recently found that the frequency of lightning decreases by up to 90 percent in the presence of salty sea spray.\"\"\"\n"
   ]
  },
  {
   "cell_type": "markdown",
   "id": "f2d2afa2",
   "metadata": {},
   "source": [
    "#### Ex 1.6 review\n",
    "\n",
    "We solved the problem two different ways.  Which is better? Jupyter includes a `%%timeit` magic that will let us determine which solution is most efficient. \n",
    "\n",
    "Put `%%timeit` as the first line in each of the cells for your answers and re-run them.  Which algorithm is faster? \n",
    "\n",
    "Can you think of a reason why the faster algorithm was faster? \n",
    "\n"
   ]
  },
  {
   "cell_type": "code",
   "execution_count": null,
   "id": "a8542679",
   "metadata": {},
   "outputs": [],
   "source": []
  },
  {
   "cell_type": "markdown",
   "id": "35899a57",
   "metadata": {},
   "source": [
    "#### Ex 1.7\n",
    "\n",
    "Modify the code below so that it also computes the average length of a word in `s`. \n"
   ]
  },
  {
   "cell_type": "code",
   "execution_count": 14,
   "id": "7efd773f",
   "metadata": {},
   "outputs": [
    {
     "name": "stdout",
     "output_type": "stream",
     "text": [
      "3 One\n",
      "2 of\n",
      "8 nature's\n",
      "4 most\n",
      "7 intense\n",
      "10 spectacles\n",
      "3 can\n",
      "2 be\n",
      "5 tamed\n",
      "4 with\n",
      "6 humble\n",
      "3 sea\n",
      "5 salt,\n",
      "3 the\n",
      "4 same\n",
      "5 stuff\n",
      "4 that\n",
      "6 graces\n",
      "4 some\n",
      "6 dinner\n",
      "7 tables.\n",
      "11 Researchers\n",
      "8 recently\n",
      "5 found\n",
      "4 that\n",
      "3 the\n",
      "9 frequency\n",
      "2 of\n",
      "9 lightning\n",
      "9 decreases\n",
      "2 by\n",
      "2 up\n",
      "2 to\n",
      "2 90\n",
      "7 percent\n",
      "2 in\n",
      "3 the\n",
      "8 presence\n",
      "2 of\n",
      "5 salty\n",
      "3 sea\n",
      "6 spray.\n"
     ]
    }
   ],
   "source": [
    "s=\"\"\"One of nature's most intense spectacles can be tamed with humble sea salt, the same stuff that graces some dinner tables. Researchers recently found that the frequency of lightning decreases by up to 90 percent in the presence of salty sea spray.\"\"\"\n",
    "ss=map(len,s.split())\n",
    "\n",
    "for l,w in zip(ss,s.split()):\n",
    "    print(l,w)"
   ]
  },
  {
   "cell_type": "markdown",
   "id": "72d2df26",
   "metadata": {},
   "source": [
    "#### Exercise 1.8\n",
    "\n",
    "In Python a *tuple* is a non-mutable version of a list.  \n",
    "\n",
    "Create an empty list an add 25 three-tuples (*ie* tuples of length three) to the list.\n",
    "\n",
    "The tuples should be of the form `(a,b,c)` where\n",
    "\n",
    "`a` is a random integer between -10 and 10\n",
    "\n",
    "`b` is a letter of the word \"rottweiler\" selected uniformly at random\n",
    "\n",
    "`c` is a floating point number chosen from the standard normal distribution.\n",
    "\n",
    "To recap, you are going to make a list of 25 randomly generated 3-tuples, where the tuples have the above form.\n",
    "\n",
    "Then print out the list in sorted order."
   ]
  },
  {
   "cell_type": "code",
   "execution_count": 34,
   "id": "63767e2d",
   "metadata": {},
   "outputs": [],
   "source": [
    "### Your solution here\n",
    "\n"
   ]
  },
  {
   "cell_type": "markdown",
   "id": "712e79ac",
   "metadata": {},
   "source": [
    "#### Exercise 1.9 part 1\n",
    "\n",
    "Using the Python `datetime` object, write a short program to make a list of all the dates of all Tuesdays and Thursdays between 8/25/22 and 12/13/22 (inclusive). \n",
    "\n"
   ]
  },
  {
   "cell_type": "code",
   "execution_count": null,
   "id": "76d6b53d",
   "metadata": {},
   "outputs": [],
   "source": []
  },
  {
   "cell_type": "markdown",
   "id": "66019709",
   "metadata": {},
   "source": [
    "#### Exercise 1.9 part 2\n",
    "\n",
    "Take the list you made in part 1 and filter out the following dates: \n",
    "\n",
    "```python\n",
    "holidays = [(2022,9,27),(2022,9,29),(2022,10,4),(2022,11,24)]\n",
    "```\n",
    "\n",
    "Print the list and you have generated all of our meeting days for the current semester!\n",
    "\n"
   ]
  },
  {
   "cell_type": "code",
   "execution_count": null,
   "id": "33e23e1a",
   "metadata": {},
   "outputs": [],
   "source": []
  }
 ],
 "metadata": {
  "kernelspec": {
   "display_name": "Python 3 (ipykernel)",
   "language": "python",
   "name": "python3"
  },
  "language_info": {
   "codemirror_mode": {
    "name": "ipython",
    "version": 3
   },
   "file_extension": ".py",
   "mimetype": "text/x-python",
   "name": "python",
   "nbconvert_exporter": "python",
   "pygments_lexer": "ipython3",
   "version": "3.10.6"
  }
 },
 "nbformat": 4,
 "nbformat_minor": 5
}
