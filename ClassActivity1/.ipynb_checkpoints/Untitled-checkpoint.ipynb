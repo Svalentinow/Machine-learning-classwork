{
 "cells": [
  {
   "cell_type": "markdown",
   "id": "99c84475",
   "metadata": {},
   "source": [
    "## Class activities for 8/30/22\n",
    "\n",
    "For these activities you should find some data in your `Handouts` folder in a directory called `some_data`.\n",
    "\n",
    "We will try to accomplish the following goals.\n",
    "\n",
    "1. Solve the Python Challenge about mapping students to graders.\n",
    "2. Load and analyze the data about genes using pandas\n",
    "3. Load the year of birth names data and do some analysis\n",
    "4. (Time permitting) Do some genetic analysis using `numpy`. \n",
    "\n"
   ]
  },
  {
   "cell_type": "code",
   "execution_count": 1,
   "id": "9ee12dd0",
   "metadata": {},
   "outputs": [],
   "source": [
    "### Your work here!\n",
    "\n",
    "### I will be solving the above problems in real time in my version of this notebook...\n",
    "\n",
    "### You can follow along and try your own solutions in this workspace. \n",
    "\n"
   ]
  },
  {
   "cell_type": "code",
   "execution_count": null,
   "id": "90412c52",
   "metadata": {},
   "outputs": [],
   "source": []
  }
 ],
 "metadata": {
  "kernelspec": {
   "display_name": "Python 3 (ipykernel)",
   "language": "python",
   "name": "python3"
  },
  "language_info": {
   "codemirror_mode": {
    "name": "ipython",
    "version": 3
   },
   "file_extension": ".py",
   "mimetype": "text/x-python",
   "name": "python",
   "nbconvert_exporter": "python",
   "pygments_lexer": "ipython3",
   "version": "3.10.6"
  }
 },
 "nbformat": 4,
 "nbformat_minor": 5
}
