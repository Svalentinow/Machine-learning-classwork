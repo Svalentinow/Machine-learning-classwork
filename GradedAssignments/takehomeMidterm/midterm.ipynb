{
 "cells": [
  {
   "cell_type": "markdown",
   "metadata": {},
   "source": [
    "## Midterm\n",
    "\n",
    "This is the midterm.\n",
    "\n",
    "You can use the web. \n",
    "\n",
    "In problems 9 and 10 please do not copy prose from others.  \n",
    "\n",
    "For the bonus please do not submit the code of others.\n",
    "\n",
    "Collaboration with others is not allowed. \n",
    "\n",
    "\n"
   ]
  },
  {
   "cell_type": "markdown",
   "metadata": {},
   "source": [
    "#### Problem 1\n",
    "\n",
    "Below we load the file `codon_usage.csv` as a dataframe. This data comes from [here](https://archive.ics.uci.edu/ml/datasets/Codon+usage).\n",
    "\n",
    "It might make the work more enjoyable to briefly review the meaning of [codon](https://www.genome.gov/genetics-glossary/Codon).\n",
    "\n",
    "Print out a random sample of five rows after you load the data.\n"
   ]
  },
  {
   "cell_type": "code",
   "execution_count": 1,
   "metadata": {},
   "outputs": [],
   "source": [
    "import pandas as pd\n",
    "import re\n",
    "import string\n",
    "from sklearn.model_selection import train_test_split\n",
    "from sklearn.preprocessing import StandardScaler\n",
    "\n",
    "from sklearn.linear_model import LogisticRegression\n",
    "from sklearn.ensemble import RandomForestClassifier\n",
    "from sklearn.svm import SVC\n",
    "from sklearn.model_selection import GridSearchCV"
   ]
  },
  {
   "cell_type": "code",
   "execution_count": 42,
   "metadata": {},
   "outputs": [
    {
     "name": "stderr",
     "output_type": "stream",
     "text": [
      "C:\\Users\\Stephen Williams\\AppData\\Local\\Temp\\ipykernel_12980\\2212089834.py:1: DtypeWarning: Columns (5,6) have mixed types. Specify dtype option on import or set low_memory=False.\n",
      "  df = pd.read_csv(\"codon_usage.csv\")\n"
     ]
    },
    {
     "data": {
      "text/html": [
       "<div>\n",
       "<style scoped>\n",
       "    .dataframe tbody tr th:only-of-type {\n",
       "        vertical-align: middle;\n",
       "    }\n",
       "\n",
       "    .dataframe tbody tr th {\n",
       "        vertical-align: top;\n",
       "    }\n",
       "\n",
       "    .dataframe thead th {\n",
       "        text-align: right;\n",
       "    }\n",
       "</style>\n",
       "<table border=\"1\" class=\"dataframe\">\n",
       "  <thead>\n",
       "    <tr style=\"text-align: right;\">\n",
       "      <th></th>\n",
       "      <th>Kingdom</th>\n",
       "      <th>DNAtype</th>\n",
       "      <th>SpeciesID</th>\n",
       "      <th>Ncodons</th>\n",
       "      <th>SpeciesName</th>\n",
       "      <th>UUU</th>\n",
       "      <th>UUC</th>\n",
       "      <th>UUA</th>\n",
       "      <th>UUG</th>\n",
       "      <th>CUU</th>\n",
       "      <th>...</th>\n",
       "      <th>CGG</th>\n",
       "      <th>AGA</th>\n",
       "      <th>AGG</th>\n",
       "      <th>GAU</th>\n",
       "      <th>GAC</th>\n",
       "      <th>GAA</th>\n",
       "      <th>GAG</th>\n",
       "      <th>UAA</th>\n",
       "      <th>UAG</th>\n",
       "      <th>UGA</th>\n",
       "    </tr>\n",
       "  </thead>\n",
       "  <tbody>\n",
       "    <tr>\n",
       "      <th>2088</th>\n",
       "      <td>vrl</td>\n",
       "      <td>0</td>\n",
       "      <td>37665</td>\n",
       "      <td>74188</td>\n",
       "      <td>Ectocarpus siliculosus virus 1</td>\n",
       "      <td>0.01662</td>\n",
       "      <td>0.02415</td>\n",
       "      <td>0.00376</td>\n",
       "      <td>0.01675</td>\n",
       "      <td>0.01368</td>\n",
       "      <td>...</td>\n",
       "      <td>0.00799</td>\n",
       "      <td>0.01181</td>\n",
       "      <td>0.01275</td>\n",
       "      <td>0.02138</td>\n",
       "      <td>0.03989</td>\n",
       "      <td>0.02840</td>\n",
       "      <td>0.03048</td>\n",
       "      <td>0.00123</td>\n",
       "      <td>0.00058</td>\n",
       "      <td>0.00131</td>\n",
       "    </tr>\n",
       "    <tr>\n",
       "      <th>7299</th>\n",
       "      <td>pln</td>\n",
       "      <td>0</td>\n",
       "      <td>36779</td>\n",
       "      <td>2086</td>\n",
       "      <td>Gaeumannomyces graminis var. tritici</td>\n",
       "      <td>0.00815</td>\n",
       "      <td>0.03643</td>\n",
       "      <td>0.00000</td>\n",
       "      <td>0.00240</td>\n",
       "      <td>0.00767</td>\n",
       "      <td>...</td>\n",
       "      <td>0.00863</td>\n",
       "      <td>0.00096</td>\n",
       "      <td>0.00623</td>\n",
       "      <td>0.00959</td>\n",
       "      <td>0.04362</td>\n",
       "      <td>0.00192</td>\n",
       "      <td>0.03356</td>\n",
       "      <td>0.00096</td>\n",
       "      <td>0.00000</td>\n",
       "      <td>0.00096</td>\n",
       "    </tr>\n",
       "    <tr>\n",
       "      <th>10203</th>\n",
       "      <td>vrt</td>\n",
       "      <td>0</td>\n",
       "      <td>143350</td>\n",
       "      <td>30158</td>\n",
       "      <td>Pagrus major</td>\n",
       "      <td>0.01313</td>\n",
       "      <td>0.02523</td>\n",
       "      <td>0.00255</td>\n",
       "      <td>0.00922</td>\n",
       "      <td>0.01084</td>\n",
       "      <td>...</td>\n",
       "      <td>0.00361</td>\n",
       "      <td>0.01297</td>\n",
       "      <td>0.01180</td>\n",
       "      <td>0.01598</td>\n",
       "      <td>0.03263</td>\n",
       "      <td>0.01651</td>\n",
       "      <td>0.04430</td>\n",
       "      <td>0.00106</td>\n",
       "      <td>0.00036</td>\n",
       "      <td>0.00136</td>\n",
       "    </tr>\n",
       "    <tr>\n",
       "      <th>12190</th>\n",
       "      <td>mam</td>\n",
       "      <td>1</td>\n",
       "      <td>229053</td>\n",
       "      <td>3828</td>\n",
       "      <td>mitochondrion Microgale principula (greater lo...</td>\n",
       "      <td>0.01437</td>\n",
       "      <td>0.02299</td>\n",
       "      <td>0.02743</td>\n",
       "      <td>0.00601</td>\n",
       "      <td>0.01750</td>\n",
       "      <td>...</td>\n",
       "      <td>0.00000</td>\n",
       "      <td>0.00000</td>\n",
       "      <td>0.00000</td>\n",
       "      <td>0.00131</td>\n",
       "      <td>0.00496</td>\n",
       "      <td>0.00940</td>\n",
       "      <td>0.00392</td>\n",
       "      <td>0.00000</td>\n",
       "      <td>0.00287</td>\n",
       "      <td>0.02116</td>\n",
       "    </tr>\n",
       "    <tr>\n",
       "      <th>6345</th>\n",
       "      <td>pln</td>\n",
       "      <td>0</td>\n",
       "      <td>138011</td>\n",
       "      <td>5366</td>\n",
       "      <td>Brassica napus var. napus</td>\n",
       "      <td>0.02534</td>\n",
       "      <td>0.02274</td>\n",
       "      <td>0.01211</td>\n",
       "      <td>0.02031</td>\n",
       "      <td>0.02460</td>\n",
       "      <td>...</td>\n",
       "      <td>0.00615</td>\n",
       "      <td>0.02013</td>\n",
       "      <td>0.01155</td>\n",
       "      <td>0.03224</td>\n",
       "      <td>0.02255</td>\n",
       "      <td>0.03075</td>\n",
       "      <td>0.03205</td>\n",
       "      <td>0.00037</td>\n",
       "      <td>0.00075</td>\n",
       "      <td>0.00130</td>\n",
       "    </tr>\n",
       "  </tbody>\n",
       "</table>\n",
       "<p>5 rows × 69 columns</p>\n",
       "</div>"
      ],
      "text/plain": [
       "      Kingdom  DNAtype  SpeciesID  Ncodons  \\\n",
       "2088      vrl        0      37665    74188   \n",
       "7299      pln        0      36779     2086   \n",
       "10203     vrt        0     143350    30158   \n",
       "12190     mam        1     229053     3828   \n",
       "6345      pln        0     138011     5366   \n",
       "\n",
       "                                             SpeciesName      UUU      UUC  \\\n",
       "2088                      Ectocarpus siliculosus virus 1  0.01662  0.02415   \n",
       "7299                Gaeumannomyces graminis var. tritici  0.00815  0.03643   \n",
       "10203                                       Pagrus major  0.01313  0.02523   \n",
       "12190  mitochondrion Microgale principula (greater lo...  0.01437  0.02299   \n",
       "6345                           Brassica napus var. napus  0.02534  0.02274   \n",
       "\n",
       "           UUA      UUG      CUU  ...      CGG      AGA      AGG      GAU  \\\n",
       "2088   0.00376  0.01675  0.01368  ...  0.00799  0.01181  0.01275  0.02138   \n",
       "7299   0.00000  0.00240  0.00767  ...  0.00863  0.00096  0.00623  0.00959   \n",
       "10203  0.00255  0.00922  0.01084  ...  0.00361  0.01297  0.01180  0.01598   \n",
       "12190  0.02743  0.00601  0.01750  ...  0.00000  0.00000  0.00000  0.00131   \n",
       "6345   0.01211  0.02031  0.02460  ...  0.00615  0.02013  0.01155  0.03224   \n",
       "\n",
       "           GAC      GAA      GAG      UAA      UAG      UGA  \n",
       "2088   0.03989  0.02840  0.03048  0.00123  0.00058  0.00131  \n",
       "7299   0.04362  0.00192  0.03356  0.00096  0.00000  0.00096  \n",
       "10203  0.03263  0.01651  0.04430  0.00106  0.00036  0.00136  \n",
       "12190  0.00496  0.00940  0.00392  0.00000  0.00287  0.02116  \n",
       "6345   0.02255  0.03075  0.03205  0.00037  0.00075  0.00130  \n",
       "\n",
       "[5 rows x 69 columns]"
      ]
     },
     "execution_count": 42,
     "metadata": {},
     "output_type": "execute_result"
    }
   ],
   "source": [
    "df = pd.read_csv(\"codon_usage.csv\")\n",
    "df.sample(5)"
   ]
  },
  {
   "cell_type": "markdown",
   "metadata": {},
   "source": [
    "#### Problem 2\n",
    "\n",
    "On the above load you might have noticed this warning:\n",
    "\n",
    "    DtypeWarning: Columns (5,6) have mixed types. Specify dtype option on import or set low_memory=False.\n",
    "\n",
    "Find the weird entries in columns 5 and 6 and print them out. \n",
    "\n",
    "Then update the dataframe by deleting the rows in which they occur.\n",
    "\n",
    "Then convert the columns to type np.float64.\n",
    "\n",
    "To test your work do:\n",
    "\n",
    "    print(ddf.dtypes[:10])\n",
    "\n",
    "The output should be:\n",
    "\n",
    "    Kingdom         object\n",
    "    DNAtype          int64\n",
    "    SpeciesID        int64\n",
    "    Ncodons          int64\n",
    "    SpeciesName     object\n",
    "    UUU            float64\n",
    "    UUC            float64\n",
    "    UUA            float64\n",
    "    UUG            float64\n",
    "    CUU            float64\n",
    "\n",
    "The new shape of the dataframe should be\n",
    "\n",
    "    (13026, 69)\n",
    "\n"
   ]
  },
  {
   "cell_type": "code",
   "execution_count": 43,
   "metadata": {},
   "outputs": [],
   "source": [
    "def num(s):\n",
    "    try:\n",
    "        d = float(s)\n",
    "        return True\n",
    "    except:\n",
    "        return False"
   ]
  },
  {
   "cell_type": "code",
   "execution_count": 44,
   "metadata": {},
   "outputs": [
    {
     "name": "stdout",
     "output_type": "stream",
     "text": [
      "non-B hepatitis virus\n",
      "12;I\n"
     ]
    }
   ],
   "source": [
    "df[\"UUU\"] = df.UUU.apply(lambda x: x if type(x) ==float else (x if num(x) else print(x) and x == None))"
   ]
  },
  {
   "cell_type": "code",
   "execution_count": 45,
   "metadata": {},
   "outputs": [
    {
     "name": "stdout",
     "output_type": "stream",
     "text": [
      "-\n"
     ]
    }
   ],
   "source": [
    "df[\"UUC\"] = df.UUC.apply(lambda x: x if type(x) ==float else (x if num(x) else print(x) and x == None))"
   ]
  },
  {
   "cell_type": "code",
   "execution_count": 46,
   "metadata": {},
   "outputs": [
    {
     "data": {
      "text/plain": [
       "(13026, 69)"
      ]
     },
     "execution_count": 46,
     "metadata": {},
     "output_type": "execute_result"
    }
   ],
   "source": [
    "df = df.dropna()\n",
    "\n",
    "df.shape"
   ]
  },
  {
   "cell_type": "code",
   "execution_count": 47,
   "metadata": {},
   "outputs": [
    {
     "data": {
      "text/plain": [
       "Kingdom         object\n",
       "DNAtype          int64\n",
       "SpeciesID        int64\n",
       "Ncodons          int64\n",
       "SpeciesName     object\n",
       "UUU            float64\n",
       "UUC            float64\n",
       "UUA            float64\n",
       "UUG            float64\n",
       "CUU            float64\n",
       "dtype: object"
      ]
     },
     "execution_count": 47,
     "metadata": {},
     "output_type": "execute_result"
    }
   ],
   "source": [
    "df['UUU'] = pd.to_numeric(df['UUU'])\n",
    "df['UUC'] = pd.to_numeric(df['UUC'])\n",
    "df.dtypes[:10]"
   ]
  },
  {
   "cell_type": "code",
   "execution_count": 48,
   "metadata": {},
   "outputs": [
    {
     "data": {
      "text/plain": [
       "(13026, 69)"
      ]
     },
     "execution_count": 48,
     "metadata": {},
     "output_type": "execute_result"
    }
   ],
   "source": [
    "df.shape"
   ]
  },
  {
   "cell_type": "markdown",
   "metadata": {},
   "source": [
    "#### Problem 3\n",
    "\n",
    "a) What is the SpeciesName for the organism with the highest value for Ncodons? \n",
    "\n",
    "b) List all the codons (3 letter sequence column names).\n",
    "\n",
    "c) Which codon has the highest variance in its column?\n",
    "\n"
   ]
  },
  {
   "cell_type": "markdown",
   "metadata": {},
   "source": [
    "### (a) Homo sapiens"
   ]
  },
  {
   "cell_type": "code",
   "execution_count": 13,
   "metadata": {},
   "outputs": [
    {
     "data": {
      "text/html": [
       "<div>\n",
       "<style scoped>\n",
       "    .dataframe tbody tr th:only-of-type {\n",
       "        vertical-align: middle;\n",
       "    }\n",
       "\n",
       "    .dataframe tbody tr th {\n",
       "        vertical-align: top;\n",
       "    }\n",
       "\n",
       "    .dataframe thead th {\n",
       "        text-align: right;\n",
       "    }\n",
       "</style>\n",
       "<table border=\"1\" class=\"dataframe\">\n",
       "  <thead>\n",
       "    <tr style=\"text-align: right;\">\n",
       "      <th></th>\n",
       "      <th>SpeciesName</th>\n",
       "      <th>Ncodons</th>\n",
       "    </tr>\n",
       "  </thead>\n",
       "  <tbody>\n",
       "    <tr>\n",
       "      <th>13026</th>\n",
       "      <td>Homo sapiens</td>\n",
       "      <td>40662582</td>\n",
       "    </tr>\n",
       "    <tr>\n",
       "      <th>7000</th>\n",
       "      <td>Oryza sativa</td>\n",
       "      <td>34132283</td>\n",
       "    </tr>\n",
       "    <tr>\n",
       "      <th>7313</th>\n",
       "      <td>Arabidopsis thaliana</td>\n",
       "      <td>31098475</td>\n",
       "    </tr>\n",
       "    <tr>\n",
       "      <th>12658</th>\n",
       "      <td>Mus musculus</td>\n",
       "      <td>24533776</td>\n",
       "    </tr>\n",
       "    <tr>\n",
       "      <th>9796</th>\n",
       "      <td>Drosophila melanogaster</td>\n",
       "      <td>21945319</td>\n",
       "    </tr>\n",
       "    <tr>\n",
       "      <th>...</th>\n",
       "      <td>...</td>\n",
       "      <td>...</td>\n",
       "    </tr>\n",
       "    <tr>\n",
       "      <th>6846</th>\n",
       "      <td>chloroplast Nothofagus glauca</td>\n",
       "      <td>1000</td>\n",
       "    </tr>\n",
       "    <tr>\n",
       "      <th>6875</th>\n",
       "      <td>chloroplast Satyrium erectum</td>\n",
       "      <td>1000</td>\n",
       "    </tr>\n",
       "    <tr>\n",
       "      <th>9941</th>\n",
       "      <td>Astropecten brasiliensis</td>\n",
       "      <td>1000</td>\n",
       "    </tr>\n",
       "    <tr>\n",
       "      <th>7950</th>\n",
       "      <td>chloroplast Rhododendron albiflorum</td>\n",
       "      <td>1000</td>\n",
       "    </tr>\n",
       "    <tr>\n",
       "      <th>3723</th>\n",
       "      <td>Desulfitobacterium sp. PCE1</td>\n",
       "      <td>1000</td>\n",
       "    </tr>\n",
       "  </tbody>\n",
       "</table>\n",
       "<p>13026 rows × 2 columns</p>\n",
       "</div>"
      ],
      "text/plain": [
       "                               SpeciesName   Ncodons\n",
       "13026                         Homo sapiens  40662582\n",
       "7000                          Oryza sativa  34132283\n",
       "7313                  Arabidopsis thaliana  31098475\n",
       "12658                         Mus musculus  24533776\n",
       "9796               Drosophila melanogaster  21945319\n",
       "...                                    ...       ...\n",
       "6846         chloroplast Nothofagus glauca      1000\n",
       "6875          chloroplast Satyrium erectum      1000\n",
       "9941              Astropecten brasiliensis      1000\n",
       "7950   chloroplast Rhododendron albiflorum      1000\n",
       "3723           Desulfitobacterium sp. PCE1      1000\n",
       "\n",
       "[13026 rows x 2 columns]"
      ]
     },
     "execution_count": 13,
     "metadata": {},
     "output_type": "execute_result"
    }
   ],
   "source": [
    "df[['SpeciesName','Ncodons']].sort_values('Ncodons',ascending = False)"
   ]
  },
  {
   "cell_type": "markdown",
   "metadata": {},
   "source": [
    "### (b)"
   ]
  },
  {
   "cell_type": "code",
   "execution_count": 49,
   "metadata": {
    "scrolled": true
   },
   "outputs": [
    {
     "data": {
      "text/html": [
       "<div>\n",
       "<style scoped>\n",
       "    .dataframe tbody tr th:only-of-type {\n",
       "        vertical-align: middle;\n",
       "    }\n",
       "\n",
       "    .dataframe tbody tr th {\n",
       "        vertical-align: top;\n",
       "    }\n",
       "\n",
       "    .dataframe thead th {\n",
       "        text-align: right;\n",
       "    }\n",
       "</style>\n",
       "<table border=\"1\" class=\"dataframe\">\n",
       "  <thead>\n",
       "    <tr style=\"text-align: right;\">\n",
       "      <th></th>\n",
       "      <th>UUU</th>\n",
       "      <th>UUC</th>\n",
       "      <th>UUA</th>\n",
       "      <th>UUG</th>\n",
       "      <th>CUU</th>\n",
       "      <th>CUC</th>\n",
       "      <th>CUA</th>\n",
       "      <th>CUG</th>\n",
       "      <th>AUU</th>\n",
       "      <th>AUC</th>\n",
       "      <th>...</th>\n",
       "      <th>CGG</th>\n",
       "      <th>AGA</th>\n",
       "      <th>AGG</th>\n",
       "      <th>GAU</th>\n",
       "      <th>GAC</th>\n",
       "      <th>GAA</th>\n",
       "      <th>GAG</th>\n",
       "      <th>UAA</th>\n",
       "      <th>UAG</th>\n",
       "      <th>UGA</th>\n",
       "    </tr>\n",
       "  </thead>\n",
       "  <tbody>\n",
       "    <tr>\n",
       "      <th>0</th>\n",
       "      <td>0.01654</td>\n",
       "      <td>0.01203</td>\n",
       "      <td>0.00050</td>\n",
       "      <td>0.00351</td>\n",
       "      <td>0.01203</td>\n",
       "      <td>0.03208</td>\n",
       "      <td>0.00100</td>\n",
       "      <td>0.04010</td>\n",
       "      <td>0.00551</td>\n",
       "      <td>0.02005</td>\n",
       "      <td>...</td>\n",
       "      <td>0.00451</td>\n",
       "      <td>0.01303</td>\n",
       "      <td>0.03559</td>\n",
       "      <td>0.01003</td>\n",
       "      <td>0.04612</td>\n",
       "      <td>0.01203</td>\n",
       "      <td>0.04361</td>\n",
       "      <td>0.00251</td>\n",
       "      <td>0.00050</td>\n",
       "      <td>0.00000</td>\n",
       "    </tr>\n",
       "    <tr>\n",
       "      <th>1</th>\n",
       "      <td>0.02714</td>\n",
       "      <td>0.01357</td>\n",
       "      <td>0.00068</td>\n",
       "      <td>0.00678</td>\n",
       "      <td>0.00407</td>\n",
       "      <td>0.02849</td>\n",
       "      <td>0.00204</td>\n",
       "      <td>0.04410</td>\n",
       "      <td>0.01153</td>\n",
       "      <td>0.02510</td>\n",
       "      <td>...</td>\n",
       "      <td>0.00136</td>\n",
       "      <td>0.01696</td>\n",
       "      <td>0.03596</td>\n",
       "      <td>0.01221</td>\n",
       "      <td>0.04545</td>\n",
       "      <td>0.01560</td>\n",
       "      <td>0.04410</td>\n",
       "      <td>0.00271</td>\n",
       "      <td>0.00068</td>\n",
       "      <td>0.00000</td>\n",
       "    </tr>\n",
       "    <tr>\n",
       "      <th>2</th>\n",
       "      <td>0.01974</td>\n",
       "      <td>0.02180</td>\n",
       "      <td>0.01357</td>\n",
       "      <td>0.01543</td>\n",
       "      <td>0.00782</td>\n",
       "      <td>0.01111</td>\n",
       "      <td>0.01028</td>\n",
       "      <td>0.01193</td>\n",
       "      <td>0.02283</td>\n",
       "      <td>0.01604</td>\n",
       "      <td>...</td>\n",
       "      <td>0.00596</td>\n",
       "      <td>0.01974</td>\n",
       "      <td>0.02489</td>\n",
       "      <td>0.03126</td>\n",
       "      <td>0.02036</td>\n",
       "      <td>0.02242</td>\n",
       "      <td>0.02468</td>\n",
       "      <td>0.00391</td>\n",
       "      <td>0.00000</td>\n",
       "      <td>0.00144</td>\n",
       "    </tr>\n",
       "    <tr>\n",
       "      <th>3</th>\n",
       "      <td>0.01775</td>\n",
       "      <td>0.02245</td>\n",
       "      <td>0.01619</td>\n",
       "      <td>0.00992</td>\n",
       "      <td>0.01567</td>\n",
       "      <td>0.01358</td>\n",
       "      <td>0.00940</td>\n",
       "      <td>0.01723</td>\n",
       "      <td>0.02402</td>\n",
       "      <td>0.02245</td>\n",
       "      <td>...</td>\n",
       "      <td>0.00366</td>\n",
       "      <td>0.01410</td>\n",
       "      <td>0.01671</td>\n",
       "      <td>0.03760</td>\n",
       "      <td>0.01932</td>\n",
       "      <td>0.03029</td>\n",
       "      <td>0.03446</td>\n",
       "      <td>0.00261</td>\n",
       "      <td>0.00157</td>\n",
       "      <td>0.00000</td>\n",
       "    </tr>\n",
       "    <tr>\n",
       "      <th>4</th>\n",
       "      <td>0.02816</td>\n",
       "      <td>0.01371</td>\n",
       "      <td>0.00767</td>\n",
       "      <td>0.03679</td>\n",
       "      <td>0.01380</td>\n",
       "      <td>0.00548</td>\n",
       "      <td>0.00473</td>\n",
       "      <td>0.02076</td>\n",
       "      <td>0.02716</td>\n",
       "      <td>0.00867</td>\n",
       "      <td>...</td>\n",
       "      <td>0.00604</td>\n",
       "      <td>0.01494</td>\n",
       "      <td>0.01734</td>\n",
       "      <td>0.04148</td>\n",
       "      <td>0.02483</td>\n",
       "      <td>0.03359</td>\n",
       "      <td>0.03679</td>\n",
       "      <td>0.00000</td>\n",
       "      <td>0.00044</td>\n",
       "      <td>0.00131</td>\n",
       "    </tr>\n",
       "    <tr>\n",
       "      <th>...</th>\n",
       "      <td>...</td>\n",
       "      <td>...</td>\n",
       "      <td>...</td>\n",
       "      <td>...</td>\n",
       "      <td>...</td>\n",
       "      <td>...</td>\n",
       "      <td>...</td>\n",
       "      <td>...</td>\n",
       "      <td>...</td>\n",
       "      <td>...</td>\n",
       "      <td>...</td>\n",
       "      <td>...</td>\n",
       "      <td>...</td>\n",
       "      <td>...</td>\n",
       "      <td>...</td>\n",
       "      <td>...</td>\n",
       "      <td>...</td>\n",
       "      <td>...</td>\n",
       "      <td>...</td>\n",
       "      <td>...</td>\n",
       "      <td>...</td>\n",
       "    </tr>\n",
       "    <tr>\n",
       "      <th>13023</th>\n",
       "      <td>0.02552</td>\n",
       "      <td>0.03555</td>\n",
       "      <td>0.00547</td>\n",
       "      <td>0.01367</td>\n",
       "      <td>0.01276</td>\n",
       "      <td>0.02097</td>\n",
       "      <td>0.00820</td>\n",
       "      <td>0.03555</td>\n",
       "      <td>0.01459</td>\n",
       "      <td>0.03920</td>\n",
       "      <td>...</td>\n",
       "      <td>0.00820</td>\n",
       "      <td>0.01367</td>\n",
       "      <td>0.01094</td>\n",
       "      <td>0.01367</td>\n",
       "      <td>0.02279</td>\n",
       "      <td>0.02005</td>\n",
       "      <td>0.04102</td>\n",
       "      <td>0.00091</td>\n",
       "      <td>0.00091</td>\n",
       "      <td>0.00638</td>\n",
       "    </tr>\n",
       "    <tr>\n",
       "      <th>13024</th>\n",
       "      <td>0.01258</td>\n",
       "      <td>0.03193</td>\n",
       "      <td>0.01984</td>\n",
       "      <td>0.00629</td>\n",
       "      <td>0.01451</td>\n",
       "      <td>0.05322</td>\n",
       "      <td>0.07644</td>\n",
       "      <td>0.01258</td>\n",
       "      <td>0.03096</td>\n",
       "      <td>0.06386</td>\n",
       "      <td>...</td>\n",
       "      <td>0.00145</td>\n",
       "      <td>0.00000</td>\n",
       "      <td>0.00048</td>\n",
       "      <td>0.00194</td>\n",
       "      <td>0.01306</td>\n",
       "      <td>0.01838</td>\n",
       "      <td>0.00677</td>\n",
       "      <td>0.00242</td>\n",
       "      <td>0.00097</td>\n",
       "      <td>0.01887</td>\n",
       "    </tr>\n",
       "    <tr>\n",
       "      <th>13025</th>\n",
       "      <td>0.01423</td>\n",
       "      <td>0.03321</td>\n",
       "      <td>0.01661</td>\n",
       "      <td>0.00356</td>\n",
       "      <td>0.01127</td>\n",
       "      <td>0.05042</td>\n",
       "      <td>0.09609</td>\n",
       "      <td>0.01068</td>\n",
       "      <td>0.02728</td>\n",
       "      <td>0.06643</td>\n",
       "      <td>...</td>\n",
       "      <td>0.00000</td>\n",
       "      <td>0.00000</td>\n",
       "      <td>0.00000</td>\n",
       "      <td>0.00178</td>\n",
       "      <td>0.01661</td>\n",
       "      <td>0.02788</td>\n",
       "      <td>0.00297</td>\n",
       "      <td>0.00356</td>\n",
       "      <td>0.00119</td>\n",
       "      <td>0.02017</td>\n",
       "    </tr>\n",
       "    <tr>\n",
       "      <th>13026</th>\n",
       "      <td>0.01757</td>\n",
       "      <td>0.02028</td>\n",
       "      <td>0.00767</td>\n",
       "      <td>0.01293</td>\n",
       "      <td>0.01319</td>\n",
       "      <td>0.01959</td>\n",
       "      <td>0.00715</td>\n",
       "      <td>0.03964</td>\n",
       "      <td>0.01600</td>\n",
       "      <td>0.02082</td>\n",
       "      <td>...</td>\n",
       "      <td>0.01142</td>\n",
       "      <td>0.01217</td>\n",
       "      <td>0.01196</td>\n",
       "      <td>0.02178</td>\n",
       "      <td>0.02510</td>\n",
       "      <td>0.02896</td>\n",
       "      <td>0.03959</td>\n",
       "      <td>0.00099</td>\n",
       "      <td>0.00079</td>\n",
       "      <td>0.00156</td>\n",
       "    </tr>\n",
       "    <tr>\n",
       "      <th>13027</th>\n",
       "      <td>0.01778</td>\n",
       "      <td>0.03724</td>\n",
       "      <td>0.01732</td>\n",
       "      <td>0.00600</td>\n",
       "      <td>0.01689</td>\n",
       "      <td>0.03854</td>\n",
       "      <td>0.07000</td>\n",
       "      <td>0.01308</td>\n",
       "      <td>0.03391</td>\n",
       "      <td>0.05137</td>\n",
       "      <td>...</td>\n",
       "      <td>0.00083</td>\n",
       "      <td>0.00041</td>\n",
       "      <td>0.00041</td>\n",
       "      <td>0.00451</td>\n",
       "      <td>0.01402</td>\n",
       "      <td>0.01651</td>\n",
       "      <td>0.00783</td>\n",
       "      <td>0.00156</td>\n",
       "      <td>0.00114</td>\n",
       "      <td>0.02161</td>\n",
       "    </tr>\n",
       "  </tbody>\n",
       "</table>\n",
       "<p>13026 rows × 64 columns</p>\n",
       "</div>"
      ],
      "text/plain": [
       "           UUU      UUC      UUA      UUG      CUU      CUC      CUA      CUG  \\\n",
       "0      0.01654  0.01203  0.00050  0.00351  0.01203  0.03208  0.00100  0.04010   \n",
       "1      0.02714  0.01357  0.00068  0.00678  0.00407  0.02849  0.00204  0.04410   \n",
       "2      0.01974  0.02180  0.01357  0.01543  0.00782  0.01111  0.01028  0.01193   \n",
       "3      0.01775  0.02245  0.01619  0.00992  0.01567  0.01358  0.00940  0.01723   \n",
       "4      0.02816  0.01371  0.00767  0.03679  0.01380  0.00548  0.00473  0.02076   \n",
       "...        ...      ...      ...      ...      ...      ...      ...      ...   \n",
       "13023  0.02552  0.03555  0.00547  0.01367  0.01276  0.02097  0.00820  0.03555   \n",
       "13024  0.01258  0.03193  0.01984  0.00629  0.01451  0.05322  0.07644  0.01258   \n",
       "13025  0.01423  0.03321  0.01661  0.00356  0.01127  0.05042  0.09609  0.01068   \n",
       "13026  0.01757  0.02028  0.00767  0.01293  0.01319  0.01959  0.00715  0.03964   \n",
       "13027  0.01778  0.03724  0.01732  0.00600  0.01689  0.03854  0.07000  0.01308   \n",
       "\n",
       "           AUU      AUC  ...      CGG      AGA      AGG      GAU      GAC  \\\n",
       "0      0.00551  0.02005  ...  0.00451  0.01303  0.03559  0.01003  0.04612   \n",
       "1      0.01153  0.02510  ...  0.00136  0.01696  0.03596  0.01221  0.04545   \n",
       "2      0.02283  0.01604  ...  0.00596  0.01974  0.02489  0.03126  0.02036   \n",
       "3      0.02402  0.02245  ...  0.00366  0.01410  0.01671  0.03760  0.01932   \n",
       "4      0.02716  0.00867  ...  0.00604  0.01494  0.01734  0.04148  0.02483   \n",
       "...        ...      ...  ...      ...      ...      ...      ...      ...   \n",
       "13023  0.01459  0.03920  ...  0.00820  0.01367  0.01094  0.01367  0.02279   \n",
       "13024  0.03096  0.06386  ...  0.00145  0.00000  0.00048  0.00194  0.01306   \n",
       "13025  0.02728  0.06643  ...  0.00000  0.00000  0.00000  0.00178  0.01661   \n",
       "13026  0.01600  0.02082  ...  0.01142  0.01217  0.01196  0.02178  0.02510   \n",
       "13027  0.03391  0.05137  ...  0.00083  0.00041  0.00041  0.00451  0.01402   \n",
       "\n",
       "           GAA      GAG      UAA      UAG      UGA  \n",
       "0      0.01203  0.04361  0.00251  0.00050  0.00000  \n",
       "1      0.01560  0.04410  0.00271  0.00068  0.00000  \n",
       "2      0.02242  0.02468  0.00391  0.00000  0.00144  \n",
       "3      0.03029  0.03446  0.00261  0.00157  0.00000  \n",
       "4      0.03359  0.03679  0.00000  0.00044  0.00131  \n",
       "...        ...      ...      ...      ...      ...  \n",
       "13023  0.02005  0.04102  0.00091  0.00091  0.00638  \n",
       "13024  0.01838  0.00677  0.00242  0.00097  0.01887  \n",
       "13025  0.02788  0.00297  0.00356  0.00119  0.02017  \n",
       "13026  0.02896  0.03959  0.00099  0.00079  0.00156  \n",
       "13027  0.01651  0.00783  0.00156  0.00114  0.02161  \n",
       "\n",
       "[13026 rows x 64 columns]"
      ]
     },
     "execution_count": 49,
     "metadata": {},
     "output_type": "execute_result"
    }
   ],
   "source": [
    "codons = df.iloc[:, 5 : ]\n",
    "codons"
   ]
  },
  {
   "cell_type": "markdown",
   "metadata": {},
   "source": [
    "### (C) CUA  has the highest variance"
   ]
  },
  {
   "cell_type": "code",
   "execution_count": 50,
   "metadata": {},
   "outputs": [
    {
     "data": {
      "text/plain": [
       "count    UUU\n",
       "mean     AAA\n",
       "std      CUA\n",
       "min      UUU\n",
       "25%      GAA\n",
       "50%      GAA\n",
       "75%      AUU\n",
       "max      AGC\n",
       "dtype: object"
      ]
     },
     "execution_count": 50,
     "metadata": {},
     "output_type": "execute_result"
    }
   ],
   "source": [
    "codons.describe().idxmax(axis=1)"
   ]
  },
  {
   "cell_type": "code",
   "execution_count": 51,
   "metadata": {},
   "outputs": [
    {
     "data": {
      "text/plain": [
       "count    13026.000000\n",
       "mean         0.019045\n",
       "std          0.024252\n",
       "min          0.000000\n",
       "25%          0.005302\n",
       "50%          0.009680\n",
       "75%          0.017255\n",
       "max          0.163920\n",
       "Name: CUA, dtype: float64"
      ]
     },
     "execution_count": 51,
     "metadata": {},
     "output_type": "execute_result"
    }
   ],
   "source": [
    "codons.CUA.describe()"
   ]
  },
  {
   "cell_type": "markdown",
   "metadata": {},
   "source": [
    "#### Problem 4\n",
    "\n",
    "Drop the SpeciesName and SpeciesID columns. Be sure the change is reflected in an updated dataframe.\n"
   ]
  },
  {
   "cell_type": "code",
   "execution_count": 52,
   "metadata": {},
   "outputs": [
    {
     "data": {
      "text/html": [
       "<div>\n",
       "<style scoped>\n",
       "    .dataframe tbody tr th:only-of-type {\n",
       "        vertical-align: middle;\n",
       "    }\n",
       "\n",
       "    .dataframe tbody tr th {\n",
       "        vertical-align: top;\n",
       "    }\n",
       "\n",
       "    .dataframe thead th {\n",
       "        text-align: right;\n",
       "    }\n",
       "</style>\n",
       "<table border=\"1\" class=\"dataframe\">\n",
       "  <thead>\n",
       "    <tr style=\"text-align: right;\">\n",
       "      <th></th>\n",
       "      <th>Kingdom</th>\n",
       "      <th>DNAtype</th>\n",
       "      <th>Ncodons</th>\n",
       "      <th>UUU</th>\n",
       "      <th>UUC</th>\n",
       "      <th>UUA</th>\n",
       "      <th>UUG</th>\n",
       "      <th>CUU</th>\n",
       "      <th>CUC</th>\n",
       "      <th>CUA</th>\n",
       "      <th>...</th>\n",
       "      <th>CGG</th>\n",
       "      <th>AGA</th>\n",
       "      <th>AGG</th>\n",
       "      <th>GAU</th>\n",
       "      <th>GAC</th>\n",
       "      <th>GAA</th>\n",
       "      <th>GAG</th>\n",
       "      <th>UAA</th>\n",
       "      <th>UAG</th>\n",
       "      <th>UGA</th>\n",
       "    </tr>\n",
       "  </thead>\n",
       "  <tbody>\n",
       "    <tr>\n",
       "      <th>0</th>\n",
       "      <td>vrl</td>\n",
       "      <td>0</td>\n",
       "      <td>1995</td>\n",
       "      <td>0.01654</td>\n",
       "      <td>0.01203</td>\n",
       "      <td>0.00050</td>\n",
       "      <td>0.00351</td>\n",
       "      <td>0.01203</td>\n",
       "      <td>0.03208</td>\n",
       "      <td>0.00100</td>\n",
       "      <td>...</td>\n",
       "      <td>0.00451</td>\n",
       "      <td>0.01303</td>\n",
       "      <td>0.03559</td>\n",
       "      <td>0.01003</td>\n",
       "      <td>0.04612</td>\n",
       "      <td>0.01203</td>\n",
       "      <td>0.04361</td>\n",
       "      <td>0.00251</td>\n",
       "      <td>0.00050</td>\n",
       "      <td>0.00000</td>\n",
       "    </tr>\n",
       "    <tr>\n",
       "      <th>1</th>\n",
       "      <td>vrl</td>\n",
       "      <td>0</td>\n",
       "      <td>1474</td>\n",
       "      <td>0.02714</td>\n",
       "      <td>0.01357</td>\n",
       "      <td>0.00068</td>\n",
       "      <td>0.00678</td>\n",
       "      <td>0.00407</td>\n",
       "      <td>0.02849</td>\n",
       "      <td>0.00204</td>\n",
       "      <td>...</td>\n",
       "      <td>0.00136</td>\n",
       "      <td>0.01696</td>\n",
       "      <td>0.03596</td>\n",
       "      <td>0.01221</td>\n",
       "      <td>0.04545</td>\n",
       "      <td>0.01560</td>\n",
       "      <td>0.04410</td>\n",
       "      <td>0.00271</td>\n",
       "      <td>0.00068</td>\n",
       "      <td>0.00000</td>\n",
       "    </tr>\n",
       "    <tr>\n",
       "      <th>2</th>\n",
       "      <td>vrl</td>\n",
       "      <td>0</td>\n",
       "      <td>4862</td>\n",
       "      <td>0.01974</td>\n",
       "      <td>0.02180</td>\n",
       "      <td>0.01357</td>\n",
       "      <td>0.01543</td>\n",
       "      <td>0.00782</td>\n",
       "      <td>0.01111</td>\n",
       "      <td>0.01028</td>\n",
       "      <td>...</td>\n",
       "      <td>0.00596</td>\n",
       "      <td>0.01974</td>\n",
       "      <td>0.02489</td>\n",
       "      <td>0.03126</td>\n",
       "      <td>0.02036</td>\n",
       "      <td>0.02242</td>\n",
       "      <td>0.02468</td>\n",
       "      <td>0.00391</td>\n",
       "      <td>0.00000</td>\n",
       "      <td>0.00144</td>\n",
       "    </tr>\n",
       "    <tr>\n",
       "      <th>3</th>\n",
       "      <td>vrl</td>\n",
       "      <td>0</td>\n",
       "      <td>1915</td>\n",
       "      <td>0.01775</td>\n",
       "      <td>0.02245</td>\n",
       "      <td>0.01619</td>\n",
       "      <td>0.00992</td>\n",
       "      <td>0.01567</td>\n",
       "      <td>0.01358</td>\n",
       "      <td>0.00940</td>\n",
       "      <td>...</td>\n",
       "      <td>0.00366</td>\n",
       "      <td>0.01410</td>\n",
       "      <td>0.01671</td>\n",
       "      <td>0.03760</td>\n",
       "      <td>0.01932</td>\n",
       "      <td>0.03029</td>\n",
       "      <td>0.03446</td>\n",
       "      <td>0.00261</td>\n",
       "      <td>0.00157</td>\n",
       "      <td>0.00000</td>\n",
       "    </tr>\n",
       "    <tr>\n",
       "      <th>4</th>\n",
       "      <td>vrl</td>\n",
       "      <td>0</td>\n",
       "      <td>22831</td>\n",
       "      <td>0.02816</td>\n",
       "      <td>0.01371</td>\n",
       "      <td>0.00767</td>\n",
       "      <td>0.03679</td>\n",
       "      <td>0.01380</td>\n",
       "      <td>0.00548</td>\n",
       "      <td>0.00473</td>\n",
       "      <td>...</td>\n",
       "      <td>0.00604</td>\n",
       "      <td>0.01494</td>\n",
       "      <td>0.01734</td>\n",
       "      <td>0.04148</td>\n",
       "      <td>0.02483</td>\n",
       "      <td>0.03359</td>\n",
       "      <td>0.03679</td>\n",
       "      <td>0.00000</td>\n",
       "      <td>0.00044</td>\n",
       "      <td>0.00131</td>\n",
       "    </tr>\n",
       "  </tbody>\n",
       "</table>\n",
       "<p>5 rows × 67 columns</p>\n",
       "</div>"
      ],
      "text/plain": [
       "  Kingdom  DNAtype  Ncodons      UUU      UUC      UUA      UUG      CUU  \\\n",
       "0     vrl        0     1995  0.01654  0.01203  0.00050  0.00351  0.01203   \n",
       "1     vrl        0     1474  0.02714  0.01357  0.00068  0.00678  0.00407   \n",
       "2     vrl        0     4862  0.01974  0.02180  0.01357  0.01543  0.00782   \n",
       "3     vrl        0     1915  0.01775  0.02245  0.01619  0.00992  0.01567   \n",
       "4     vrl        0    22831  0.02816  0.01371  0.00767  0.03679  0.01380   \n",
       "\n",
       "       CUC      CUA  ...      CGG      AGA      AGG      GAU      GAC  \\\n",
       "0  0.03208  0.00100  ...  0.00451  0.01303  0.03559  0.01003  0.04612   \n",
       "1  0.02849  0.00204  ...  0.00136  0.01696  0.03596  0.01221  0.04545   \n",
       "2  0.01111  0.01028  ...  0.00596  0.01974  0.02489  0.03126  0.02036   \n",
       "3  0.01358  0.00940  ...  0.00366  0.01410  0.01671  0.03760  0.01932   \n",
       "4  0.00548  0.00473  ...  0.00604  0.01494  0.01734  0.04148  0.02483   \n",
       "\n",
       "       GAA      GAG      UAA      UAG      UGA  \n",
       "0  0.01203  0.04361  0.00251  0.00050  0.00000  \n",
       "1  0.01560  0.04410  0.00271  0.00068  0.00000  \n",
       "2  0.02242  0.02468  0.00391  0.00000  0.00144  \n",
       "3  0.03029  0.03446  0.00261  0.00157  0.00000  \n",
       "4  0.03359  0.03679  0.00000  0.00044  0.00131  \n",
       "\n",
       "[5 rows x 67 columns]"
      ]
     },
     "execution_count": 52,
     "metadata": {},
     "output_type": "execute_result"
    }
   ],
   "source": [
    "df = df.drop(columns = ['SpeciesName','SpeciesID'],axis =1)\n",
    "df.head()"
   ]
  },
  {
   "cell_type": "markdown",
   "metadata": {},
   "source": [
    "#### Problem 5\n",
    "\n",
    "Print out the count for each value in the Kingdom column.  The output should be\n",
    "\n",
    "    bct    2919\n",
    "    vrl    2831\n",
    "    pln    2523\n",
    "    vrt    2077\n",
    "    inv    1345\n",
    "    mam     572\n",
    "    phg     220\n",
    "    rod     215\n",
    "    pri     180\n",
    "    arc     126\n",
    "    plm      18\n",
    "    Name: Kingdom, dtype: int64"
   ]
  },
  {
   "cell_type": "code",
   "execution_count": 53,
   "metadata": {},
   "outputs": [
    {
     "data": {
      "text/plain": [
       "bct    2919\n",
       "vrl    2831\n",
       "pln    2523\n",
       "vrt    2077\n",
       "inv    1345\n",
       "mam     572\n",
       "phg     220\n",
       "rod     215\n",
       "pri     180\n",
       "arc     126\n",
       "plm      18\n",
       "Name: Kingdom, dtype: int64"
      ]
     },
     "execution_count": 53,
     "metadata": {},
     "output_type": "execute_result"
    }
   ],
   "source": [
    "df.Kingdom.value_counts()"
   ]
  },
  {
   "cell_type": "markdown",
   "metadata": {},
   "source": [
    "#### Problem 6\n",
    "\n",
    "Now let's define `X` and `y`.\n",
    "\n",
    "Let `X` be all the columns except for Kingdom.\n",
    "\n",
    "Let `y` be a vector of $\\pm 1$ where `y` is 1 if the Kingdom is `bct` and -1 otherwise."
   ]
  },
  {
   "cell_type": "code",
   "execution_count": 54,
   "metadata": {},
   "outputs": [
    {
     "data": {
      "text/plain": [
       "-1    10107\n",
       " 1     2919\n",
       "Name: Kingdom, dtype: int64"
      ]
     },
     "execution_count": 54,
     "metadata": {},
     "output_type": "execute_result"
    }
   ],
   "source": [
    "X = df.drop('Kingdom',axis = 1)\n",
    "y = df.Kingdom.apply(lambda x: 1 if x == 'bct' else -1)\n",
    "y.value_counts()"
   ]
  },
  {
   "cell_type": "markdown",
   "metadata": {},
   "source": [
    "#### Problem 7\n",
    "\n",
    "Do a train-test split of `X` and `y` and scale the data."
   ]
  },
  {
   "cell_type": "code",
   "execution_count": 55,
   "metadata": {},
   "outputs": [],
   "source": [
    "X_train,X_test,y_train,y_test = train_test_split(X,y,test_size =.2,random_state =45)\n",
    "scl = StandardScaler()\n",
    "X_train = scl.fit_transform(X_train)\n",
    "X_test = scl.fit_transform(X_test)"
   ]
  },
  {
   "cell_type": "markdown",
   "metadata": {},
   "source": [
    "#### Problem 8\n",
    "\n",
    "Get the highest accuracy you can on the test set using `sklearn` classifier libraries.\n",
    "\n",
    "You are allowed to adjust hyperparameters. \n"
   ]
  },
  {
   "cell_type": "code",
   "execution_count": 56,
   "metadata": {},
   "outputs": [],
   "source": [
    "logit = LogisticRegression()\n",
    "svc = SVC()\n"
   ]
  },
  {
   "cell_type": "markdown",
   "metadata": {},
   "source": [
    "# Logistic regression"
   ]
  },
  {
   "cell_type": "code",
   "execution_count": 57,
   "metadata": {},
   "outputs": [
    {
     "data": {
      "text/plain": [
       "0.9608595548733692"
      ]
     },
     "execution_count": 57,
     "metadata": {},
     "output_type": "execute_result"
    }
   ],
   "source": [
    "logit.fit(X_train,y_train)\n",
    "print(\"logistic accuracy\")\n",
    "logit.score(X_test,y_test)"
   ]
  },
  {
   "cell_type": "markdown",
   "metadata": {},
   "source": [
    "# SVC"
   ]
  },
  {
   "cell_type": "code",
   "execution_count": 58,
   "metadata": {},
   "outputs": [
    {
     "data": {
      "text/plain": [
       "0.9808135072908672"
      ]
     },
     "execution_count": 58,
     "metadata": {},
     "output_type": "execute_result"
    }
   ],
   "source": [
    "svc.fit(X_train,y_train)\n",
    "print(\"svc accuracy\")\n",
    "svc.score(X_test,y_test)"
   ]
  },
  {
   "cell_type": "markdown",
   "metadata": {},
   "source": [
    "# Gridsearch random forest"
   ]
  },
  {
   "cell_type": "code",
   "execution_count": 24,
   "metadata": {},
   "outputs": [],
   "source": [
    "params = {\n",
    "    'criterion' : ['gini', 'entropy'],\n",
    "}\n",
    "\n",
    "grid_search_cv = GridSearchCV( \n",
    "    estimator=RandomForestClassifier(), \n",
    "    param_grid=params,\n",
    "    scoring='accuracy', )\n",
    "\n",
    "grid_search_cv.fit(X_train, y_train)\n",
    "rf = grid_search_cv.best_estimator_\n",
    "\n"
   ]
  },
  {
   "cell_type": "code",
   "execution_count": 25,
   "metadata": {},
   "outputs": [
    {
     "data": {
      "text/plain": [
       "0.9696853415195702"
      ]
     },
     "execution_count": 25,
     "metadata": {},
     "output_type": "execute_result"
    }
   ],
   "source": [
    "rf.score(X_test,y_test)"
   ]
  },
  {
   "cell_type": "markdown",
   "metadata": {},
   "source": [
    "#### Problem 9\n",
    "\n",
    "Personally I tried two models:  An SVC with default (rbf) kernel and `C=10` and another SVC with default kernel, but `C=1`.\n",
    "\n",
    "When I did this experiment, the `C=10` model had both higher test accuracy and higher training set accuracy.\n",
    "\n",
    "Use your understanding of `bias`, `variance`,`underfitting`,`overfitting` and `slack variables` to explain:\n",
    "\n",
    "1) Why the training accuracy went up with the higher `C`\n",
    "2) Why the test accuracy went up with the higher `C`. \n",
    "\n",
    "This should be at least 100 or 200 words."
   ]
  },
  {
   "cell_type": "markdown",
   "metadata": {},
   "source": [
    "###  It seems to be that  when C = 1, we are putting alot of constraints on the model. More regularization This can lead to underfitting where the model cannot learn much and as such, leads to poor performance on both training and tests set. On the underhand, with C = 10, we are placing less constraints on the model to learn. With that, we can see an increase in both training and test sets. The model C=10  has a higher variance and low bias compared to C=1 "
   ]
  },
  {
   "cell_type": "markdown",
   "metadata": {},
   "source": []
  },
  {
   "cell_type": "markdown",
   "metadata": {},
   "source": [
    "#### Problem 10\n",
    "\n",
    "Then I tried another experiment.  I set `C=100` in the SVC model.  \n",
    "\n",
    "The training accuracy got even better but the test accuracy went down. \n",
    "\n",
    "Use your understanding of `bias`, `variance`,`underfitting`,`overfitting` and `slack variables` to explain:\n",
    "\n",
    "1) Why the training accuracy went up with the higher `C`\n",
    "2) Why the test accuracy went **down** with the higher `C`. \n"
   ]
  },
  {
   "cell_type": "markdown",
   "metadata": {},
   "source": [
    "### This is a prime example of overfitting. By increasing C , we are allowing the model to learn the nuances of the training set. This is less regularization.It 'overlearned' the training set leading to higher accuracy. And as of result, the model will not do well on test sets or data it has not seen. It has poor generalization. The variance is higher and bias is lower compared to C=10. I suggest that you decrease C"
   ]
  },
  {
   "cell_type": "markdown",
   "metadata": {},
   "source": [
    "#### Problem 11\n",
    "\n",
    "Use a LogisticRegression model to fit the training data.\n",
    "\n",
    "Then find the instance in your test set such that your model classifies it as 1, but is \"least certain\" about this classification among all positively classified test instances. "
   ]
  },
  {
   "cell_type": "markdown",
   "metadata": {},
   "source": [
    "### 7.094330e-29 sure that it classified it 1"
   ]
  },
  {
   "cell_type": "code",
   "execution_count": 39,
   "metadata": {},
   "outputs": [
    {
     "data": {
      "text/plain": [
       "y_probability_true    7.094330e-29\n",
       "dtype: float64"
      ]
     },
     "execution_count": 39,
     "metadata": {},
     "output_type": "execute_result"
    }
   ],
   "source": [
    "y_pred = logit.predict(X_test)\n",
    "y_pred_proba = logit.predict_proba(X_test)[:,1]\n",
    "y_pred_proba.round(2)\n",
    "pred_df = pd.DataFrame.from_dict({'y_probability_true':y_pred_proba})\n",
    "pred_df.min()\n",
    "\n",
    "\n",
    "\n"
   ]
  },
  {
   "cell_type": "markdown",
   "metadata": {},
   "source": [
    "#### Bonus 1\n",
    "\n",
    "Modify our homemade linear classifier code to do L1 regularization.  \n",
    "\n",
    "That means weight decay based on the L1 metric.\n",
    "\n",
    "Use a parameter `alpha` to control the level of L1 regularization.\n",
    "\n",
    "How does it do on this data? \n",
    "\n"
   ]
  },
  {
   "cell_type": "markdown",
   "metadata": {},
   "source": [
    "### Bonus 2\n",
    "\n",
    "Use the `sklearn` RandomForestClassifier to rank the codons in terms of their importance in making the classification. \n"
   ]
  },
  {
   "cell_type": "code",
   "execution_count": 60,
   "metadata": {},
   "outputs": [],
   "source": [
    "l = list(X.columns)\n"
   ]
  },
  {
   "cell_type": "code",
   "execution_count": 61,
   "metadata": {},
   "outputs": [
    {
     "data": {
      "text/plain": [
       "GCG        0.058813\n",
       "GAA        0.046704\n",
       "UGU        0.044943\n",
       "CGC        0.044041\n",
       "UGC        0.041819\n",
       "DNAtype    0.037793\n",
       "CCG        0.034935\n",
       "AGG        0.033947\n",
       "GGC        0.032362\n",
       "ACU        0.032008\n",
       "dtype: float64"
      ]
     },
     "execution_count": 61,
     "metadata": {},
     "output_type": "execute_result"
    }
   ],
   "source": [
    "feature_imp = pd.Series(rf.feature_importances_,index=l).sort_values(ascending=False)\n",
    "feature_imp[:10]"
   ]
  },
  {
   "cell_type": "markdown",
   "metadata": {},
   "source": [
    "### Bonus 3\n",
    "\n",
    "1. Write (or find) a function that returns the euclidean distance between two vectors.\n",
    "2. Write a function `neighbor_predict` that takes a feature vector `x` and a training set `X_train_scl` and returns the mode class of the five instances in `X_train_scl` that are closest to `x`. \n",
    "\n",
    "In other words, for the provided instance `x`, the function finds the five closest data points in the training set and returns the class label that occurs most often among these five.  \n",
    "\n",
    "3. What accuracy does this give on the test set? "
   ]
  },
  {
   "cell_type": "markdown",
   "metadata": {},
   "source": []
  }
 ],
 "metadata": {
  "kernelspec": {
   "display_name": "Python 3",
   "language": "python",
   "name": "python3"
  },
  "language_info": {
   "codemirror_mode": {
    "name": "ipython",
    "version": 3
   },
   "file_extension": ".py",
   "mimetype": "text/x-python",
   "name": "python",
   "nbconvert_exporter": "python",
   "pygments_lexer": "ipython3",
   "version": "3.9.6"
  },
  "vscode": {
   "interpreter": {
    "hash": "aee8b7b246df8f9039afb4144a1f6fd8d2ca17a180786b69acc140d282b71a49"
   }
  }
 },
 "nbformat": 4,
 "nbformat_minor": 2
}
