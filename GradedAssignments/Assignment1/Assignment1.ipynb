{
 "cells": [
  {
   "cell_type": "markdown",
   "id": "c7011945",
   "metadata": {},
   "source": [
    "### Data wrangling with pandas\n",
    "\n",
    "Read this notebook carefully and try to understand how everything works.  Do variations on your own and explore.\n",
    "\n",
    "Then try to answer the questions at the bottom.\n",
    "\n",
    "\n",
    "In this exercise you will use pandas to do some analysis of the \"name\" data located in the folder\n",
    "\n",
    "```\n",
    "../Handouts/some_data/names/\n",
    "```\n",
    "\n",
    "If you are working in your Assignments directory, then you can see this directory thusly:\n",
    "\n"
   ]
  },
  {
   "cell_type": "code",
   "execution_count": 1,
   "id": "1e8778fa",
   "metadata": {},
   "outputs": [
    {
     "name": "stdout",
     "output_type": "stream",
     "text": [
      "\u001b[31myob1880.txt\u001b[m\u001b[m \u001b[31myob1904.txt\u001b[m\u001b[m \u001b[31myob1928.txt\u001b[m\u001b[m \u001b[31myob1952.txt\u001b[m\u001b[m \u001b[31myob1976.txt\u001b[m\u001b[m \u001b[31myob2000.txt\u001b[m\u001b[m\n",
      "\u001b[31myob1881.txt\u001b[m\u001b[m \u001b[31myob1905.txt\u001b[m\u001b[m \u001b[31myob1929.txt\u001b[m\u001b[m \u001b[31myob1953.txt\u001b[m\u001b[m \u001b[31myob1977.txt\u001b[m\u001b[m \u001b[31myob2001.txt\u001b[m\u001b[m\n",
      "\u001b[31myob1882.txt\u001b[m\u001b[m \u001b[31myob1906.txt\u001b[m\u001b[m \u001b[31myob1930.txt\u001b[m\u001b[m \u001b[31myob1954.txt\u001b[m\u001b[m \u001b[31myob1978.txt\u001b[m\u001b[m \u001b[31myob2002.txt\u001b[m\u001b[m\n",
      "\u001b[31myob1883.txt\u001b[m\u001b[m \u001b[31myob1907.txt\u001b[m\u001b[m \u001b[31myob1931.txt\u001b[m\u001b[m \u001b[31myob1955.txt\u001b[m\u001b[m \u001b[31myob1979.txt\u001b[m\u001b[m \u001b[31myob2003.txt\u001b[m\u001b[m\n",
      "\u001b[31myob1884.txt\u001b[m\u001b[m \u001b[31myob1908.txt\u001b[m\u001b[m \u001b[31myob1932.txt\u001b[m\u001b[m \u001b[31myob1956.txt\u001b[m\u001b[m \u001b[31myob1980.txt\u001b[m\u001b[m \u001b[31myob2004.txt\u001b[m\u001b[m\n",
      "\u001b[31myob1885.txt\u001b[m\u001b[m \u001b[31myob1909.txt\u001b[m\u001b[m \u001b[31myob1933.txt\u001b[m\u001b[m \u001b[31myob1957.txt\u001b[m\u001b[m \u001b[31myob1981.txt\u001b[m\u001b[m \u001b[31myob2005.txt\u001b[m\u001b[m\n",
      "\u001b[31myob1886.txt\u001b[m\u001b[m \u001b[31myob1910.txt\u001b[m\u001b[m \u001b[31myob1934.txt\u001b[m\u001b[m \u001b[31myob1958.txt\u001b[m\u001b[m \u001b[31myob1982.txt\u001b[m\u001b[m \u001b[31myob2006.txt\u001b[m\u001b[m\n",
      "\u001b[31myob1887.txt\u001b[m\u001b[m \u001b[31myob1911.txt\u001b[m\u001b[m \u001b[31myob1935.txt\u001b[m\u001b[m \u001b[31myob1959.txt\u001b[m\u001b[m \u001b[31myob1983.txt\u001b[m\u001b[m \u001b[31myob2007.txt\u001b[m\u001b[m\n",
      "\u001b[31myob1888.txt\u001b[m\u001b[m \u001b[31myob1912.txt\u001b[m\u001b[m \u001b[31myob1936.txt\u001b[m\u001b[m \u001b[31myob1960.txt\u001b[m\u001b[m \u001b[31myob1984.txt\u001b[m\u001b[m \u001b[31myob2008.txt\u001b[m\u001b[m\n",
      "\u001b[31myob1889.txt\u001b[m\u001b[m \u001b[31myob1913.txt\u001b[m\u001b[m \u001b[31myob1937.txt\u001b[m\u001b[m \u001b[31myob1961.txt\u001b[m\u001b[m \u001b[31myob1985.txt\u001b[m\u001b[m \u001b[31myob2009.txt\u001b[m\u001b[m\n",
      "\u001b[31myob1890.txt\u001b[m\u001b[m \u001b[31myob1914.txt\u001b[m\u001b[m \u001b[31myob1938.txt\u001b[m\u001b[m \u001b[31myob1962.txt\u001b[m\u001b[m \u001b[31myob1986.txt\u001b[m\u001b[m \u001b[31myob2010.txt\u001b[m\u001b[m\n",
      "\u001b[31myob1891.txt\u001b[m\u001b[m \u001b[31myob1915.txt\u001b[m\u001b[m \u001b[31myob1939.txt\u001b[m\u001b[m \u001b[31myob1963.txt\u001b[m\u001b[m \u001b[31myob1987.txt\u001b[m\u001b[m \u001b[31myob2011.txt\u001b[m\u001b[m\n",
      "\u001b[31myob1892.txt\u001b[m\u001b[m \u001b[31myob1916.txt\u001b[m\u001b[m \u001b[31myob1940.txt\u001b[m\u001b[m \u001b[31myob1964.txt\u001b[m\u001b[m \u001b[31myob1988.txt\u001b[m\u001b[m \u001b[31myob2012.txt\u001b[m\u001b[m\n",
      "\u001b[31myob1893.txt\u001b[m\u001b[m \u001b[31myob1917.txt\u001b[m\u001b[m \u001b[31myob1941.txt\u001b[m\u001b[m \u001b[31myob1965.txt\u001b[m\u001b[m \u001b[31myob1989.txt\u001b[m\u001b[m \u001b[31myob2013.txt\u001b[m\u001b[m\n",
      "\u001b[31myob1894.txt\u001b[m\u001b[m \u001b[31myob1918.txt\u001b[m\u001b[m \u001b[31myob1942.txt\u001b[m\u001b[m \u001b[31myob1966.txt\u001b[m\u001b[m \u001b[31myob1990.txt\u001b[m\u001b[m \u001b[31myob2014.txt\u001b[m\u001b[m\n",
      "\u001b[31myob1895.txt\u001b[m\u001b[m \u001b[31myob1919.txt\u001b[m\u001b[m \u001b[31myob1943.txt\u001b[m\u001b[m \u001b[31myob1967.txt\u001b[m\u001b[m \u001b[31myob1991.txt\u001b[m\u001b[m \u001b[31myob2015.txt\u001b[m\u001b[m\n",
      "\u001b[31myob1896.txt\u001b[m\u001b[m \u001b[31myob1920.txt\u001b[m\u001b[m \u001b[31myob1944.txt\u001b[m\u001b[m \u001b[31myob1968.txt\u001b[m\u001b[m \u001b[31myob1992.txt\u001b[m\u001b[m \u001b[31myob2016.txt\u001b[m\u001b[m\n",
      "\u001b[31myob1897.txt\u001b[m\u001b[m \u001b[31myob1921.txt\u001b[m\u001b[m \u001b[31myob1945.txt\u001b[m\u001b[m \u001b[31myob1969.txt\u001b[m\u001b[m \u001b[31myob1993.txt\u001b[m\u001b[m \u001b[31myob2017.txt\u001b[m\u001b[m\n",
      "\u001b[31myob1898.txt\u001b[m\u001b[m \u001b[31myob1922.txt\u001b[m\u001b[m \u001b[31myob1946.txt\u001b[m\u001b[m \u001b[31myob1970.txt\u001b[m\u001b[m \u001b[31myob1994.txt\u001b[m\u001b[m \u001b[31myob2018.txt\u001b[m\u001b[m\n",
      "\u001b[31myob1899.txt\u001b[m\u001b[m \u001b[31myob1923.txt\u001b[m\u001b[m \u001b[31myob1947.txt\u001b[m\u001b[m \u001b[31myob1971.txt\u001b[m\u001b[m \u001b[31myob1995.txt\u001b[m\u001b[m \u001b[31myob2019.txt\u001b[m\u001b[m\n",
      "\u001b[31myob1900.txt\u001b[m\u001b[m \u001b[31myob1924.txt\u001b[m\u001b[m \u001b[31myob1948.txt\u001b[m\u001b[m \u001b[31myob1972.txt\u001b[m\u001b[m \u001b[31myob1996.txt\u001b[m\u001b[m \u001b[31myob2020.txt\u001b[m\u001b[m\n",
      "\u001b[31myob1901.txt\u001b[m\u001b[m \u001b[31myob1925.txt\u001b[m\u001b[m \u001b[31myob1949.txt\u001b[m\u001b[m \u001b[31myob1973.txt\u001b[m\u001b[m \u001b[31myob1997.txt\u001b[m\u001b[m \u001b[31myob2021.txt\u001b[m\u001b[m\n",
      "\u001b[31myob1902.txt\u001b[m\u001b[m \u001b[31myob1926.txt\u001b[m\u001b[m \u001b[31myob1950.txt\u001b[m\u001b[m \u001b[31myob1974.txt\u001b[m\u001b[m \u001b[31myob1998.txt\u001b[m\u001b[m\n",
      "\u001b[31myob1903.txt\u001b[m\u001b[m \u001b[31myob1927.txt\u001b[m\u001b[m \u001b[31myob1951.txt\u001b[m\u001b[m \u001b[31myob1975.txt\u001b[m\u001b[m \u001b[31myob1999.txt\u001b[m\u001b[m\n"
     ]
    }
   ],
   "source": [
    "\n",
    "!ls ../Handouts/some_data/names/\n",
    "\n"
   ]
  },
  {
   "cell_type": "code",
   "execution_count": 15,
   "id": "f2eb0495",
   "metadata": {},
   "outputs": [],
   "source": [
    "import pandas as pd\n",
    "import numpy as np\n",
    "import seaborn as sns\n",
    "import matplotlib.pyplot as plt\n",
    "%matplotlib inline\n",
    "from pandas.errors import MergeError"
   ]
  },
  {
   "cell_type": "markdown",
   "id": "dacc8efe",
   "metadata": {},
   "source": [
    "### Step 1\n",
    "\n",
    "Open and load one of these files as a pandas DataFrame using the `read_csv` method as we did in class.\n",
    "\n",
    "Make sure that you set `header=None` so that you do not get the first line mistakenly giving column names.\n",
    "\n",
    "Then set the columns to have meaningful names.\n",
    "\n",
    "Use the `set_index` method to make the \"name\" column the index.\n",
    "\n",
    "Then use the pandas `head()` method to look at the first few lines of your file. \n",
    "\n",
    "The final output should look like this:\n",
    "\n",
    "![hi](namesTable.png)"
   ]
  },
  {
   "cell_type": "code",
   "execution_count": 90,
   "id": "4b560eb6",
   "metadata": {},
   "outputs": [
    {
     "data": {
      "text/html": [
       "<div>\n",
       "<style scoped>\n",
       "    .dataframe tbody tr th:only-of-type {\n",
       "        vertical-align: middle;\n",
       "    }\n",
       "\n",
       "    .dataframe tbody tr th {\n",
       "        vertical-align: top;\n",
       "    }\n",
       "\n",
       "    .dataframe thead th {\n",
       "        text-align: right;\n",
       "    }\n",
       "</style>\n",
       "<table border=\"1\" class=\"dataframe\">\n",
       "  <thead>\n",
       "    <tr style=\"text-align: right;\">\n",
       "      <th></th>\n",
       "      <th>name</th>\n",
       "      <th>sex</th>\n",
       "      <th>frequency</th>\n",
       "    </tr>\n",
       "  </thead>\n",
       "  <tbody>\n",
       "    <tr>\n",
       "      <th>0</th>\n",
       "      <td>Mary</td>\n",
       "      <td>F</td>\n",
       "      <td>67366</td>\n",
       "    </tr>\n",
       "    <tr>\n",
       "      <th>1</th>\n",
       "      <td>Helen</td>\n",
       "      <td>F</td>\n",
       "      <td>36148</td>\n",
       "    </tr>\n",
       "    <tr>\n",
       "      <th>2</th>\n",
       "      <td>Dorothy</td>\n",
       "      <td>F</td>\n",
       "      <td>32030</td>\n",
       "    </tr>\n",
       "    <tr>\n",
       "      <th>3</th>\n",
       "      <td>Margaret</td>\n",
       "      <td>F</td>\n",
       "      <td>27139</td>\n",
       "    </tr>\n",
       "    <tr>\n",
       "      <th>4</th>\n",
       "      <td>Ruth</td>\n",
       "      <td>F</td>\n",
       "      <td>25534</td>\n",
       "    </tr>\n",
       "  </tbody>\n",
       "</table>\n",
       "</div>"
      ],
      "text/plain": [
       "       name sex  frequency\n",
       "0      Mary   F      67366\n",
       "1     Helen   F      36148\n",
       "2   Dorothy   F      32030\n",
       "3  Margaret   F      27139\n",
       "4      Ruth   F      25534"
      ]
     },
     "execution_count": 90,
     "metadata": {},
     "output_type": "execute_result"
    }
   ],
   "source": [
    "## You try here (answer below..)\n",
    "\n",
    "\n",
    "df = pd.read_csv('../Handouts/some_data/names/yob1918.txt', sep =',',header = None)\n",
    "\n",
    "df.columns = ['name','sex','frequency']\n",
    "\n",
    "\n",
    "df.head()\n",
    "\n",
    "\n",
    "\n",
    "\n",
    "\n",
    "\n",
    "\n",
    "\n",
    "\n"
   ]
  },
  {
   "cell_type": "markdown",
   "id": "9c0eaf5b",
   "metadata": {},
   "source": [
    "### Top 50\n",
    "\n",
    "Print out the 10 most popular names in your file.\n",
    "\n",
    "The output could look like this.  Note that it is **not** just the first 10 rows.\n",
    "\n",
    "![topTen](topTen.png)\n"
   ]
  },
  {
   "cell_type": "code",
   "execution_count": 14,
   "id": "1378c998",
   "metadata": {},
   "outputs": [
    {
     "data": {
      "text/html": [
       "<div>\n",
       "<style scoped>\n",
       "    .dataframe tbody tr th:only-of-type {\n",
       "        vertical-align: middle;\n",
       "    }\n",
       "\n",
       "    .dataframe tbody tr th {\n",
       "        vertical-align: top;\n",
       "    }\n",
       "\n",
       "    .dataframe thead th {\n",
       "        text-align: right;\n",
       "    }\n",
       "</style>\n",
       "<table border=\"1\" class=\"dataframe\">\n",
       "  <thead>\n",
       "    <tr style=\"text-align: right;\">\n",
       "      <th></th>\n",
       "      <th>name</th>\n",
       "      <th>sex</th>\n",
       "      <th>frequency</th>\n",
       "    </tr>\n",
       "  </thead>\n",
       "  <tbody>\n",
       "    <tr>\n",
       "      <th>0</th>\n",
       "      <td>Mary</td>\n",
       "      <td>F</td>\n",
       "      <td>67366</td>\n",
       "    </tr>\n",
       "    <tr>\n",
       "      <th>1</th>\n",
       "      <td>John</td>\n",
       "      <td>M</td>\n",
       "      <td>56558</td>\n",
       "    </tr>\n",
       "    <tr>\n",
       "      <th>2</th>\n",
       "      <td>William</td>\n",
       "      <td>M</td>\n",
       "      <td>45291</td>\n",
       "    </tr>\n",
       "    <tr>\n",
       "      <th>3</th>\n",
       "      <td>James</td>\n",
       "      <td>M</td>\n",
       "      <td>42116</td>\n",
       "    </tr>\n",
       "    <tr>\n",
       "      <th>4</th>\n",
       "      <td>Robert</td>\n",
       "      <td>M</td>\n",
       "      <td>40619</td>\n",
       "    </tr>\n",
       "    <tr>\n",
       "      <th>5</th>\n",
       "      <td>Helen</td>\n",
       "      <td>F</td>\n",
       "      <td>36148</td>\n",
       "    </tr>\n",
       "    <tr>\n",
       "      <th>6</th>\n",
       "      <td>Dorothy</td>\n",
       "      <td>F</td>\n",
       "      <td>32030</td>\n",
       "    </tr>\n",
       "    <tr>\n",
       "      <th>7</th>\n",
       "      <td>Margaret</td>\n",
       "      <td>F</td>\n",
       "      <td>27139</td>\n",
       "    </tr>\n",
       "    <tr>\n",
       "      <th>8</th>\n",
       "      <td>Charles</td>\n",
       "      <td>M</td>\n",
       "      <td>26921</td>\n",
       "    </tr>\n",
       "    <tr>\n",
       "      <th>9</th>\n",
       "      <td>George</td>\n",
       "      <td>M</td>\n",
       "      <td>26318</td>\n",
       "    </tr>\n",
       "  </tbody>\n",
       "</table>\n",
       "</div>"
      ],
      "text/plain": [
       "       name sex  frequency\n",
       "0      Mary   F      67366\n",
       "1      John   M      56558\n",
       "2   William   M      45291\n",
       "3     James   M      42116\n",
       "4    Robert   M      40619\n",
       "5     Helen   F      36148\n",
       "6   Dorothy   F      32030\n",
       "7  Margaret   F      27139\n",
       "8   Charles   M      26921\n",
       "9    George   M      26318"
      ]
     },
     "execution_count": 14,
     "metadata": {},
     "output_type": "execute_result"
    }
   ],
   "source": [
    "### You try here, answer below...\n",
    "df_top10 = df.sort_values(\"frequency\",ascending=False).head(10).reset_index(drop=True)\n",
    "\n",
    "\n",
    "df_top10\n",
    "\n",
    "\n",
    "\n",
    "\n",
    "\n"
   ]
  },
  {
   "cell_type": "markdown",
   "id": "c8b4ce48",
   "metadata": {},
   "source": [
    "### Bar plot\n",
    "\n",
    "Now make a bar plot for the 10 most popular names in your file.\n",
    "\n",
    "The output might look like this:\n",
    "\n",
    "![bc](barChart.png)"
   ]
  },
  {
   "cell_type": "code",
   "execution_count": 15,
   "id": "8616d49e",
   "metadata": {},
   "outputs": [
    {
     "data": {
      "text/plain": [
       "Text(0, 0.5, 'frequency')"
      ]
     },
     "execution_count": 15,
     "metadata": {},
     "output_type": "execute_result"
    },
    {
     "data": {
      "image/png": "[encoded data removed]",
      "text/plain": [
       "<Figure size 1440x1080 with 1 Axes>"
      ]
     },
     "metadata": {
      "needs_background": "light"
     },
     "output_type": "display_data"
    }
   ],
   "source": [
    "### You try here (answer below...)\n",
    "\n",
    "plt.figure(figsize=(20,15))\n",
    "sns.barplot(x='name',y ='frequency',data =df_top10,palette = 'dark')\n",
    "plt.xlabel('name',size=20)\n",
    "plt.ylabel('frequency',size=20)\n",
    "\n",
    "\n",
    "\n",
    "\n",
    "\n",
    "\n",
    "\n",
    "\n",
    "\n",
    "\n",
    "\n",
    "\n"
   ]
  },
  {
   "cell_type": "markdown",
   "id": "90f8fdb1",
   "metadata": {},
   "source": [
    "### Boys and girls\n",
    "\n",
    "Repeat the above exercise of making a bar plot of the most popular names, but this time make one chart just for boys, and another just for girls.\n",
    "\n",
    "Try to do it via these steps:\n",
    "\n",
    "1. Create a new dataframe that contains just the girls from the main dataframe.\n",
    "2. Create a new dataframe that contains just the boys from the main dataframe.\n",
    "3. Repeat what you did to make the bar plot before.\n",
    "\n",
    "For instance to get just the boys you could do \n",
    "\n",
    "```python\n",
    "df_boys = df[df[\"sex\"]==\"M\"]\n",
    "```\n"
   ]
  },
  {
   "cell_type": "code",
   "execution_count": 16,
   "id": "e8a3099c",
   "metadata": {},
   "outputs": [],
   "source": [
    "## workspace\n",
    "df_boys = df[df['sex']=='M'].sort_values(\"frequency\",ascending=False).head(10)\n",
    "df_girls = df[df['sex']=='F'].sort_values(\"frequency\",ascending=False).head(10)\n",
    "\n"
   ]
  },
  {
   "cell_type": "code",
   "execution_count": 17,
   "id": "b5deeb49",
   "metadata": {},
   "outputs": [
    {
     "data": {
      "text/plain": [
       "Text(0.5, 1.0, 'Boys top 10')"
      ]
     },
     "execution_count": 17,
     "metadata": {},
     "output_type": "execute_result"
    },
    {
     "data": {
      "image/png": "[encoded data removed]",
      "text/plain": [
       "<Figure size 1440x1080 with 1 Axes>"
      ]
     },
     "metadata": {
      "needs_background": "light"
     },
     "output_type": "display_data"
    }
   ],
   "source": [
    "plt.figure(figsize=(20,15))\n",
    "sns.barplot(x='name',y ='frequency',data =df_boys,palette = 'dark')\n",
    "\n",
    "plt.xlabel('name',size=20)\n",
    "plt.ylabel('frequency',size=20)\n",
    "plt.title('Boys top 10',size=20)"
   ]
  },
  {
   "cell_type": "code",
   "execution_count": 18,
   "id": "e86af405",
   "metadata": {},
   "outputs": [
    {
     "data": {
      "text/plain": [
       "Text(0.5, 1.0, 'girls top 10')"
      ]
     },
     "execution_count": 18,
     "metadata": {},
     "output_type": "execute_result"
    },
    {
     "data": {
      "image/png": "[encoded data removed]",
      "text/plain": [
       "<Figure size 1440x1080 with 1 Axes>"
      ]
     },
     "metadata": {
      "needs_background": "light"
     },
     "output_type": "display_data"
    }
   ],
   "source": [
    "plt.figure(figsize=(20,15))\n",
    "sns.barplot(x='name',y ='frequency',data =df_girls,palette = 'dark')\n",
    "\n",
    "plt.xlabel('name',size=20)\n",
    "plt.ylabel('frequency',size=20)\n",
    "plt.title('girls top 10',size=20)"
   ]
  },
  {
   "cell_type": "markdown",
   "id": "6dc2fbe8",
   "metadata": {},
   "source": [
    "### Big dataframe\n",
    "\n",
    "We will now combine all the `yobxxxx.txt` files into one big dataframe.\n",
    "\n",
    "This is a little technical so I have done it for you.  If you want to try it yourself without looking at my solution, please do!\n",
    "\n"
   ]
  },
  {
   "cell_type": "code",
   "execution_count": 19,
   "id": "51e9ddbe",
   "metadata": {},
   "outputs": [
    {
     "data": {
      "text/plain": [
       "['yob1880.txt',\n",
       " 'yob1881.txt',\n",
       " 'yob1882.txt',\n",
       " 'yob1883.txt',\n",
       " 'yob1884.txt',\n",
       " 'yob1885.txt',\n",
       " 'yob1886.txt',\n",
       " 'yob1887.txt',\n",
       " 'yob1888.txt',\n",
       " 'yob1889.txt']"
      ]
     },
     "execution_count": 19,
     "metadata": {},
     "output_type": "execute_result"
    }
   ],
   "source": [
    "filenames = !ls ../Handouts/some_data/names/\n",
    "filenames[:10]"
   ]
  },
  {
   "cell_type": "code",
   "execution_count": 20,
   "id": "42963d46",
   "metadata": {},
   "outputs": [
    {
     "name": "stdout",
     "output_type": "stream",
     "text": [
      "1880\n",
      "1900\n",
      "1920\n",
      "1940\n",
      "1960\n",
      "1980\n",
      "2000\n",
      "2020\n"
     ]
    }
   ],
   "source": [
    "## This will take a minute or two to run\n",
    "\n",
    "dirName = \"../Handouts/some_data/names/\"\n",
    "yearDict = {}\n",
    "\n",
    "for fn in filenames:\n",
    "    df = pd.read_csv(dirName+fn,header=None)\n",
    "\n",
    "    df.columns = [\"name\",\"sex\",\"frequency\"]\n",
    "    year = fn[3:3+4]  ## slice the \"year\" part out of the filename\n",
    "    yearDict[year] = {(df.loc[i][\"name\"],df.loc[i][\"sex\"]):df.loc[i][\"frequency\"] for i in df.index}\n",
    "    if int(year)%20 == 0:\n",
    "        print(year)\n"
   ]
  },
  {
   "cell_type": "code",
   "execution_count": 21,
   "id": "a184bb74",
   "metadata": {},
   "outputs": [],
   "source": [
    "df = pd.DataFrame(yearDict)"
   ]
  },
  {
   "cell_type": "code",
   "execution_count": 22,
   "id": "f6340eff",
   "metadata": {},
   "outputs": [
    {
     "data": {
      "text/html": [
       "<div>\n",
       "<style scoped>\n",
       "    .dataframe tbody tr th:only-of-type {\n",
       "        vertical-align: middle;\n",
       "    }\n",
       "\n",
       "    .dataframe tbody tr th {\n",
       "        vertical-align: top;\n",
       "    }\n",
       "\n",
       "    .dataframe thead th {\n",
       "        text-align: right;\n",
       "    }\n",
       "</style>\n",
       "<table border=\"1\" class=\"dataframe\">\n",
       "  <thead>\n",
       "    <tr style=\"text-align: right;\">\n",
       "      <th></th>\n",
       "      <th></th>\n",
       "      <th>1880</th>\n",
       "      <th>1881</th>\n",
       "      <th>1882</th>\n",
       "      <th>1883</th>\n",
       "      <th>1884</th>\n",
       "      <th>1885</th>\n",
       "      <th>1886</th>\n",
       "      <th>1887</th>\n",
       "      <th>1888</th>\n",
       "      <th>1889</th>\n",
       "      <th>...</th>\n",
       "      <th>2012</th>\n",
       "      <th>2013</th>\n",
       "      <th>2014</th>\n",
       "      <th>2015</th>\n",
       "      <th>2016</th>\n",
       "      <th>2017</th>\n",
       "      <th>2018</th>\n",
       "      <th>2019</th>\n",
       "      <th>2020</th>\n",
       "      <th>2021</th>\n",
       "    </tr>\n",
       "  </thead>\n",
       "  <tbody>\n",
       "    <tr>\n",
       "      <th>Lusetta</th>\n",
       "      <th>F</th>\n",
       "      <td>NaN</td>\n",
       "      <td>NaN</td>\n",
       "      <td>NaN</td>\n",
       "      <td>NaN</td>\n",
       "      <td>NaN</td>\n",
       "      <td>NaN</td>\n",
       "      <td>NaN</td>\n",
       "      <td>NaN</td>\n",
       "      <td>NaN</td>\n",
       "      <td>NaN</td>\n",
       "      <td>...</td>\n",
       "      <td>NaN</td>\n",
       "      <td>NaN</td>\n",
       "      <td>NaN</td>\n",
       "      <td>NaN</td>\n",
       "      <td>NaN</td>\n",
       "      <td>NaN</td>\n",
       "      <td>NaN</td>\n",
       "      <td>NaN</td>\n",
       "      <td>NaN</td>\n",
       "      <td>NaN</td>\n",
       "    </tr>\n",
       "    <tr>\n",
       "      <th>Demetrias</th>\n",
       "      <th>F</th>\n",
       "      <td>NaN</td>\n",
       "      <td>NaN</td>\n",
       "      <td>NaN</td>\n",
       "      <td>NaN</td>\n",
       "      <td>NaN</td>\n",
       "      <td>NaN</td>\n",
       "      <td>NaN</td>\n",
       "      <td>NaN</td>\n",
       "      <td>NaN</td>\n",
       "      <td>NaN</td>\n",
       "      <td>...</td>\n",
       "      <td>NaN</td>\n",
       "      <td>NaN</td>\n",
       "      <td>NaN</td>\n",
       "      <td>NaN</td>\n",
       "      <td>NaN</td>\n",
       "      <td>NaN</td>\n",
       "      <td>NaN</td>\n",
       "      <td>NaN</td>\n",
       "      <td>NaN</td>\n",
       "      <td>NaN</td>\n",
       "    </tr>\n",
       "    <tr>\n",
       "      <th>Mishaal</th>\n",
       "      <th>F</th>\n",
       "      <td>NaN</td>\n",
       "      <td>NaN</td>\n",
       "      <td>NaN</td>\n",
       "      <td>NaN</td>\n",
       "      <td>NaN</td>\n",
       "      <td>NaN</td>\n",
       "      <td>NaN</td>\n",
       "      <td>NaN</td>\n",
       "      <td>NaN</td>\n",
       "      <td>NaN</td>\n",
       "      <td>...</td>\n",
       "      <td>NaN</td>\n",
       "      <td>8.0</td>\n",
       "      <td>5.0</td>\n",
       "      <td>NaN</td>\n",
       "      <td>5.0</td>\n",
       "      <td>NaN</td>\n",
       "      <td>NaN</td>\n",
       "      <td>NaN</td>\n",
       "      <td>6.0</td>\n",
       "      <td>NaN</td>\n",
       "    </tr>\n",
       "    <tr>\n",
       "      <th>Calixto</th>\n",
       "      <th>M</th>\n",
       "      <td>NaN</td>\n",
       "      <td>NaN</td>\n",
       "      <td>NaN</td>\n",
       "      <td>NaN</td>\n",
       "      <td>NaN</td>\n",
       "      <td>NaN</td>\n",
       "      <td>NaN</td>\n",
       "      <td>NaN</td>\n",
       "      <td>NaN</td>\n",
       "      <td>NaN</td>\n",
       "      <td>...</td>\n",
       "      <td>9.0</td>\n",
       "      <td>13.0</td>\n",
       "      <td>11.0</td>\n",
       "      <td>12.0</td>\n",
       "      <td>14.0</td>\n",
       "      <td>12.0</td>\n",
       "      <td>15.0</td>\n",
       "      <td>NaN</td>\n",
       "      <td>10.0</td>\n",
       "      <td>10.0</td>\n",
       "    </tr>\n",
       "    <tr>\n",
       "      <th>Kioni</th>\n",
       "      <th>M</th>\n",
       "      <td>NaN</td>\n",
       "      <td>NaN</td>\n",
       "      <td>NaN</td>\n",
       "      <td>NaN</td>\n",
       "      <td>NaN</td>\n",
       "      <td>NaN</td>\n",
       "      <td>NaN</td>\n",
       "      <td>NaN</td>\n",
       "      <td>NaN</td>\n",
       "      <td>NaN</td>\n",
       "      <td>...</td>\n",
       "      <td>NaN</td>\n",
       "      <td>NaN</td>\n",
       "      <td>NaN</td>\n",
       "      <td>NaN</td>\n",
       "      <td>NaN</td>\n",
       "      <td>5.0</td>\n",
       "      <td>NaN</td>\n",
       "      <td>NaN</td>\n",
       "      <td>NaN</td>\n",
       "      <td>NaN</td>\n",
       "    </tr>\n",
       "  </tbody>\n",
       "</table>\n",
       "<p>5 rows × 142 columns</p>\n",
       "</div>"
      ],
      "text/plain": [
       "             1880  1881  1882  1883  1884  1885  1886  1887  1888  1889  ...  \\\n",
       "Lusetta   F   NaN   NaN   NaN   NaN   NaN   NaN   NaN   NaN   NaN   NaN  ...   \n",
       "Demetrias F   NaN   NaN   NaN   NaN   NaN   NaN   NaN   NaN   NaN   NaN  ...   \n",
       "Mishaal   F   NaN   NaN   NaN   NaN   NaN   NaN   NaN   NaN   NaN   NaN  ...   \n",
       "Calixto   M   NaN   NaN   NaN   NaN   NaN   NaN   NaN   NaN   NaN   NaN  ...   \n",
       "Kioni     M   NaN   NaN   NaN   NaN   NaN   NaN   NaN   NaN   NaN   NaN  ...   \n",
       "\n",
       "             2012  2013  2014  2015  2016  2017  2018  2019  2020  2021  \n",
       "Lusetta   F   NaN   NaN   NaN   NaN   NaN   NaN   NaN   NaN   NaN   NaN  \n",
       "Demetrias F   NaN   NaN   NaN   NaN   NaN   NaN   NaN   NaN   NaN   NaN  \n",
       "Mishaal   F   NaN   8.0   5.0   NaN   5.0   NaN   NaN   NaN   6.0   NaN  \n",
       "Calixto   M   9.0  13.0  11.0  12.0  14.0  12.0  15.0   NaN  10.0  10.0  \n",
       "Kioni     M   NaN   NaN   NaN   NaN   NaN   5.0   NaN   NaN   NaN   NaN  \n",
       "\n",
       "[5 rows x 142 columns]"
      ]
     },
     "execution_count": 22,
     "metadata": {},
     "output_type": "execute_result"
    }
   ],
   "source": [
    "df.sample(5)"
   ]
  },
  {
   "cell_type": "markdown",
   "id": "162468cb",
   "metadata": {},
   "source": [
    "### Fix NaN\n",
    "\n",
    "Many of the entries in the dataframe are `NaN` (not a number).  For instance the value of the name Kalven for boys is NaN in 1888 because no babies were given that name.\n",
    "\n",
    "Convert the NaN values to 0.  To learn how google something like \"pandas nan to zero\" etc.  You will find plenty of tutorials.\n",
    "\n"
   ]
  },
  {
   "cell_type": "code",
   "execution_count": 10,
   "id": "49036d1e",
   "metadata": {},
   "outputs": [
    {
     "data": {
      "text/html": [
       "<div>\n",
       "<style scoped>\n",
       "    .dataframe tbody tr th:only-of-type {\n",
       "        vertical-align: middle;\n",
       "    }\n",
       "\n",
       "    .dataframe tbody tr th {\n",
       "        vertical-align: top;\n",
       "    }\n",
       "\n",
       "    .dataframe thead th {\n",
       "        text-align: right;\n",
       "    }\n",
       "</style>\n",
       "<table border=\"1\" class=\"dataframe\">\n",
       "  <thead>\n",
       "    <tr style=\"text-align: right;\">\n",
       "      <th></th>\n",
       "      <th></th>\n",
       "      <th>1880</th>\n",
       "      <th>1881</th>\n",
       "      <th>1882</th>\n",
       "      <th>1883</th>\n",
       "      <th>1884</th>\n",
       "      <th>1885</th>\n",
       "      <th>1886</th>\n",
       "      <th>1887</th>\n",
       "      <th>1888</th>\n",
       "      <th>1889</th>\n",
       "      <th>...</th>\n",
       "      <th>2012</th>\n",
       "      <th>2013</th>\n",
       "      <th>2014</th>\n",
       "      <th>2015</th>\n",
       "      <th>2016</th>\n",
       "      <th>2017</th>\n",
       "      <th>2018</th>\n",
       "      <th>2019</th>\n",
       "      <th>2020</th>\n",
       "      <th>2021</th>\n",
       "    </tr>\n",
       "  </thead>\n",
       "  <tbody>\n",
       "    <tr>\n",
       "      <th>Shaquan</th>\n",
       "      <th>F</th>\n",
       "      <td>0.0</td>\n",
       "      <td>0.0</td>\n",
       "      <td>0.0</td>\n",
       "      <td>0.0</td>\n",
       "      <td>0.0</td>\n",
       "      <td>0.0</td>\n",
       "      <td>0.0</td>\n",
       "      <td>0.0</td>\n",
       "      <td>0.0</td>\n",
       "      <td>0.0</td>\n",
       "      <td>...</td>\n",
       "      <td>0.0</td>\n",
       "      <td>0.0</td>\n",
       "      <td>0.0</td>\n",
       "      <td>0.0</td>\n",
       "      <td>0.0</td>\n",
       "      <td>0.0</td>\n",
       "      <td>0.0</td>\n",
       "      <td>0.0</td>\n",
       "      <td>0.0</td>\n",
       "      <td>0.0</td>\n",
       "    </tr>\n",
       "    <tr>\n",
       "      <th>Davied</th>\n",
       "      <th>M</th>\n",
       "      <td>0.0</td>\n",
       "      <td>0.0</td>\n",
       "      <td>0.0</td>\n",
       "      <td>0.0</td>\n",
       "      <td>0.0</td>\n",
       "      <td>0.0</td>\n",
       "      <td>0.0</td>\n",
       "      <td>0.0</td>\n",
       "      <td>0.0</td>\n",
       "      <td>0.0</td>\n",
       "      <td>...</td>\n",
       "      <td>0.0</td>\n",
       "      <td>0.0</td>\n",
       "      <td>0.0</td>\n",
       "      <td>0.0</td>\n",
       "      <td>0.0</td>\n",
       "      <td>0.0</td>\n",
       "      <td>0.0</td>\n",
       "      <td>0.0</td>\n",
       "      <td>0.0</td>\n",
       "      <td>0.0</td>\n",
       "    </tr>\n",
       "    <tr>\n",
       "      <th>Derel</th>\n",
       "      <th>M</th>\n",
       "      <td>0.0</td>\n",
       "      <td>0.0</td>\n",
       "      <td>0.0</td>\n",
       "      <td>0.0</td>\n",
       "      <td>0.0</td>\n",
       "      <td>0.0</td>\n",
       "      <td>0.0</td>\n",
       "      <td>0.0</td>\n",
       "      <td>0.0</td>\n",
       "      <td>0.0</td>\n",
       "      <td>...</td>\n",
       "      <td>0.0</td>\n",
       "      <td>0.0</td>\n",
       "      <td>0.0</td>\n",
       "      <td>0.0</td>\n",
       "      <td>0.0</td>\n",
       "      <td>0.0</td>\n",
       "      <td>0.0</td>\n",
       "      <td>0.0</td>\n",
       "      <td>0.0</td>\n",
       "      <td>0.0</td>\n",
       "    </tr>\n",
       "    <tr>\n",
       "      <th>Vaylin</th>\n",
       "      <th>F</th>\n",
       "      <td>0.0</td>\n",
       "      <td>0.0</td>\n",
       "      <td>0.0</td>\n",
       "      <td>0.0</td>\n",
       "      <td>0.0</td>\n",
       "      <td>0.0</td>\n",
       "      <td>0.0</td>\n",
       "      <td>0.0</td>\n",
       "      <td>0.0</td>\n",
       "      <td>0.0</td>\n",
       "      <td>...</td>\n",
       "      <td>0.0</td>\n",
       "      <td>0.0</td>\n",
       "      <td>0.0</td>\n",
       "      <td>0.0</td>\n",
       "      <td>0.0</td>\n",
       "      <td>0.0</td>\n",
       "      <td>0.0</td>\n",
       "      <td>0.0</td>\n",
       "      <td>0.0</td>\n",
       "      <td>6.0</td>\n",
       "    </tr>\n",
       "    <tr>\n",
       "      <th>Hiromy</th>\n",
       "      <th>F</th>\n",
       "      <td>0.0</td>\n",
       "      <td>0.0</td>\n",
       "      <td>0.0</td>\n",
       "      <td>0.0</td>\n",
       "      <td>0.0</td>\n",
       "      <td>0.0</td>\n",
       "      <td>0.0</td>\n",
       "      <td>0.0</td>\n",
       "      <td>0.0</td>\n",
       "      <td>0.0</td>\n",
       "      <td>...</td>\n",
       "      <td>0.0</td>\n",
       "      <td>0.0</td>\n",
       "      <td>0.0</td>\n",
       "      <td>0.0</td>\n",
       "      <td>0.0</td>\n",
       "      <td>0.0</td>\n",
       "      <td>0.0</td>\n",
       "      <td>0.0</td>\n",
       "      <td>0.0</td>\n",
       "      <td>0.0</td>\n",
       "    </tr>\n",
       "  </tbody>\n",
       "</table>\n",
       "<p>5 rows × 142 columns</p>\n",
       "</div>"
      ],
      "text/plain": [
       "           1880  1881  1882  1883  1884  1885  1886  1887  1888  1889  ...  \\\n",
       "Shaquan F   0.0   0.0   0.0   0.0   0.0   0.0   0.0   0.0   0.0   0.0  ...   \n",
       "Davied  M   0.0   0.0   0.0   0.0   0.0   0.0   0.0   0.0   0.0   0.0  ...   \n",
       "Derel   M   0.0   0.0   0.0   0.0   0.0   0.0   0.0   0.0   0.0   0.0  ...   \n",
       "Vaylin  F   0.0   0.0   0.0   0.0   0.0   0.0   0.0   0.0   0.0   0.0  ...   \n",
       "Hiromy  F   0.0   0.0   0.0   0.0   0.0   0.0   0.0   0.0   0.0   0.0  ...   \n",
       "\n",
       "           2012  2013  2014  2015  2016  2017  2018  2019  2020  2021  \n",
       "Shaquan F   0.0   0.0   0.0   0.0   0.0   0.0   0.0   0.0   0.0   0.0  \n",
       "Davied  M   0.0   0.0   0.0   0.0   0.0   0.0   0.0   0.0   0.0   0.0  \n",
       "Derel   M   0.0   0.0   0.0   0.0   0.0   0.0   0.0   0.0   0.0   0.0  \n",
       "Vaylin  F   0.0   0.0   0.0   0.0   0.0   0.0   0.0   0.0   0.0   6.0  \n",
       "Hiromy  F   0.0   0.0   0.0   0.0   0.0   0.0   0.0   0.0   0.0   0.0  \n",
       "\n",
       "[5 rows x 142 columns]"
      ]
     },
     "execution_count": 10,
     "metadata": {},
     "output_type": "execute_result"
    }
   ],
   "source": [
    "df = df.fillna(0)\n",
    "df.sample(5)"
   ]
  },
  {
   "cell_type": "markdown",
   "id": "fe082783",
   "metadata": {},
   "source": [
    "### Take the transpose\n",
    "\n",
    "In the dataframe we have, names (paired with sex) is the row index and years are the column index.\n",
    "\n",
    "Take the transpose of the dataframe so that the reverse is true."
   ]
  },
  {
   "cell_type": "code",
   "execution_count": 11,
   "id": "04d9d522",
   "metadata": {},
   "outputs": [
    {
     "data": {
      "text/html": [
       "<div>\n",
       "<style scoped>\n",
       "    .dataframe tbody tr th:only-of-type {\n",
       "        vertical-align: middle;\n",
       "    }\n",
       "\n",
       "    .dataframe tbody tr th {\n",
       "        vertical-align: top;\n",
       "    }\n",
       "\n",
       "    .dataframe thead tr th {\n",
       "        text-align: left;\n",
       "    }\n",
       "</style>\n",
       "<table border=\"1\" class=\"dataframe\">\n",
       "  <thead>\n",
       "    <tr>\n",
       "      <th></th>\n",
       "      <th>Mary</th>\n",
       "      <th>Anna</th>\n",
       "      <th>Emma</th>\n",
       "      <th>Elizabeth</th>\n",
       "      <th>Minnie</th>\n",
       "      <th>Margaret</th>\n",
       "      <th>Ida</th>\n",
       "      <th>Alice</th>\n",
       "      <th>Bertha</th>\n",
       "      <th>Sarah</th>\n",
       "      <th>...</th>\n",
       "      <th>Yuli</th>\n",
       "      <th>Yuvanreddy</th>\n",
       "      <th>Zaed</th>\n",
       "      <th>Zaiyr</th>\n",
       "      <th>Zakoda</th>\n",
       "      <th>Zayre</th>\n",
       "      <th>Zehaan</th>\n",
       "      <th>Zeland</th>\n",
       "      <th>Zemariam</th>\n",
       "      <th>Zhayd</th>\n",
       "    </tr>\n",
       "    <tr>\n",
       "      <th></th>\n",
       "      <th>F</th>\n",
       "      <th>F</th>\n",
       "      <th>F</th>\n",
       "      <th>F</th>\n",
       "      <th>F</th>\n",
       "      <th>F</th>\n",
       "      <th>F</th>\n",
       "      <th>F</th>\n",
       "      <th>F</th>\n",
       "      <th>F</th>\n",
       "      <th>...</th>\n",
       "      <th>M</th>\n",
       "      <th>M</th>\n",
       "      <th>M</th>\n",
       "      <th>M</th>\n",
       "      <th>M</th>\n",
       "      <th>M</th>\n",
       "      <th>M</th>\n",
       "      <th>M</th>\n",
       "      <th>M</th>\n",
       "      <th>M</th>\n",
       "    </tr>\n",
       "  </thead>\n",
       "  <tbody>\n",
       "    <tr>\n",
       "      <th>1975</th>\n",
       "      <td>10967.0</td>\n",
       "      <td>3577.0</td>\n",
       "      <td>477.0</td>\n",
       "      <td>12472.0</td>\n",
       "      <td>95.0</td>\n",
       "      <td>2952.0</td>\n",
       "      <td>240.0</td>\n",
       "      <td>1055.0</td>\n",
       "      <td>263.0</td>\n",
       "      <td>11171.0</td>\n",
       "      <td>...</td>\n",
       "      <td>0.0</td>\n",
       "      <td>0.0</td>\n",
       "      <td>0.0</td>\n",
       "      <td>0.0</td>\n",
       "      <td>0.0</td>\n",
       "      <td>0.0</td>\n",
       "      <td>0.0</td>\n",
       "      <td>0.0</td>\n",
       "      <td>0.0</td>\n",
       "      <td>0.0</td>\n",
       "    </tr>\n",
       "    <tr>\n",
       "      <th>1997</th>\n",
       "      <td>6649.0</td>\n",
       "      <td>8341.0</td>\n",
       "      <td>7748.0</td>\n",
       "      <td>15428.0</td>\n",
       "      <td>30.0</td>\n",
       "      <td>2967.0</td>\n",
       "      <td>97.0</td>\n",
       "      <td>579.0</td>\n",
       "      <td>124.0</td>\n",
       "      <td>20712.0</td>\n",
       "      <td>...</td>\n",
       "      <td>0.0</td>\n",
       "      <td>0.0</td>\n",
       "      <td>0.0</td>\n",
       "      <td>0.0</td>\n",
       "      <td>0.0</td>\n",
       "      <td>0.0</td>\n",
       "      <td>0.0</td>\n",
       "      <td>0.0</td>\n",
       "      <td>0.0</td>\n",
       "      <td>0.0</td>\n",
       "    </tr>\n",
       "    <tr>\n",
       "      <th>1919</th>\n",
       "      <td>65837.0</td>\n",
       "      <td>14498.0</td>\n",
       "      <td>5087.0</td>\n",
       "      <td>15287.0</td>\n",
       "      <td>3272.0</td>\n",
       "      <td>26238.0</td>\n",
       "      <td>4163.0</td>\n",
       "      <td>11141.0</td>\n",
       "      <td>4754.0</td>\n",
       "      <td>5022.0</td>\n",
       "      <td>...</td>\n",
       "      <td>0.0</td>\n",
       "      <td>0.0</td>\n",
       "      <td>0.0</td>\n",
       "      <td>0.0</td>\n",
       "      <td>0.0</td>\n",
       "      <td>0.0</td>\n",
       "      <td>0.0</td>\n",
       "      <td>0.0</td>\n",
       "      <td>0.0</td>\n",
       "      <td>0.0</td>\n",
       "    </tr>\n",
       "    <tr>\n",
       "      <th>1940</th>\n",
       "      <td>56212.0</td>\n",
       "      <td>4718.0</td>\n",
       "      <td>2607.0</td>\n",
       "      <td>9953.0</td>\n",
       "      <td>1228.0</td>\n",
       "      <td>15060.0</td>\n",
       "      <td>1689.0</td>\n",
       "      <td>7601.0</td>\n",
       "      <td>1730.0</td>\n",
       "      <td>3870.0</td>\n",
       "      <td>...</td>\n",
       "      <td>0.0</td>\n",
       "      <td>0.0</td>\n",
       "      <td>0.0</td>\n",
       "      <td>0.0</td>\n",
       "      <td>0.0</td>\n",
       "      <td>0.0</td>\n",
       "      <td>0.0</td>\n",
       "      <td>0.0</td>\n",
       "      <td>0.0</td>\n",
       "      <td>0.0</td>\n",
       "    </tr>\n",
       "    <tr>\n",
       "      <th>1987</th>\n",
       "      <td>8395.0</td>\n",
       "      <td>6168.0</td>\n",
       "      <td>1588.0</td>\n",
       "      <td>18608.0</td>\n",
       "      <td>45.0</td>\n",
       "      <td>3146.0</td>\n",
       "      <td>150.0</td>\n",
       "      <td>771.0</td>\n",
       "      <td>155.0</td>\n",
       "      <td>27894.0</td>\n",
       "      <td>...</td>\n",
       "      <td>0.0</td>\n",
       "      <td>0.0</td>\n",
       "      <td>0.0</td>\n",
       "      <td>0.0</td>\n",
       "      <td>0.0</td>\n",
       "      <td>0.0</td>\n",
       "      <td>0.0</td>\n",
       "      <td>0.0</td>\n",
       "      <td>0.0</td>\n",
       "      <td>0.0</td>\n",
       "    </tr>\n",
       "  </tbody>\n",
       "</table>\n",
       "<p>5 rows × 112620 columns</p>\n",
       "</div>"
      ],
      "text/plain": [
       "         Mary     Anna    Emma Elizabeth  Minnie Margaret     Ida    Alice  \\\n",
       "            F        F       F         F       F        F       F        F   \n",
       "1975  10967.0   3577.0   477.0   12472.0    95.0   2952.0   240.0   1055.0   \n",
       "1997   6649.0   8341.0  7748.0   15428.0    30.0   2967.0    97.0    579.0   \n",
       "1919  65837.0  14498.0  5087.0   15287.0  3272.0  26238.0  4163.0  11141.0   \n",
       "1940  56212.0   4718.0  2607.0    9953.0  1228.0  15060.0  1689.0   7601.0   \n",
       "1987   8395.0   6168.0  1588.0   18608.0    45.0   3146.0   150.0    771.0   \n",
       "\n",
       "      Bertha    Sarah  ... Yuli Yuvanreddy Zaed Zaiyr Zakoda Zayre Zehaan  \\\n",
       "           F        F  ...    M          M    M     M      M     M      M   \n",
       "1975   263.0  11171.0  ...  0.0        0.0  0.0   0.0    0.0   0.0    0.0   \n",
       "1997   124.0  20712.0  ...  0.0        0.0  0.0   0.0    0.0   0.0    0.0   \n",
       "1919  4754.0   5022.0  ...  0.0        0.0  0.0   0.0    0.0   0.0    0.0   \n",
       "1940  1730.0   3870.0  ...  0.0        0.0  0.0   0.0    0.0   0.0    0.0   \n",
       "1987   155.0  27894.0  ...  0.0        0.0  0.0   0.0    0.0   0.0    0.0   \n",
       "\n",
       "     Zeland Zemariam Zhayd  \n",
       "          M        M     M  \n",
       "1975    0.0      0.0   0.0  \n",
       "1997    0.0      0.0   0.0  \n",
       "1919    0.0      0.0   0.0  \n",
       "1940    0.0      0.0   0.0  \n",
       "1987    0.0      0.0   0.0  \n",
       "\n",
       "[5 rows x 112620 columns]"
      ]
     },
     "execution_count": 11,
     "metadata": {},
     "output_type": "execute_result"
    }
   ],
   "source": [
    "df = df.T\n",
    "df.sample(5)"
   ]
  },
  {
   "cell_type": "code",
   "execution_count": 28,
   "id": "df32e7ff",
   "metadata": {},
   "outputs": [],
   "source": [
    "df.to_csv('combined',index=False)"
   ]
  },
  {
   "cell_type": "markdown",
   "id": "eaab9bf5",
   "metadata": {
    "tags": []
   },
   "source": [
    "### Export to pickle\n",
    "\n",
    "In python \"pickling\" is saving an object to disk.  This can be useful when something takes a long time to compute. \n",
    "\n",
    "For example making the dataframe `df` took a couple of minutes.  Let's save it to disk so that we don't have to recompute it if we want to work with it later.\n",
    "\n",
    "**Note:** python pickles are \"dangerous\" in the sense that if someone gives you a pickle file it could contain malicious code.  Don't load strange pickles or you will get pwned.  \n",
    "\n",
    "In the cell below, save `df` to a pickle and then reload it.  \n",
    "\n",
    "Sample the result to make sure everything looks right.\n"
   ]
  },
  {
   "cell_type": "code",
   "execution_count": 27,
   "id": "fd440a86",
   "metadata": {},
   "outputs": [
    {
     "data": {
      "text/html": [
       "<div>\n",
       "<style scoped>\n",
       "    .dataframe tbody tr th:only-of-type {\n",
       "        vertical-align: middle;\n",
       "    }\n",
       "\n",
       "    .dataframe tbody tr th {\n",
       "        vertical-align: top;\n",
       "    }\n",
       "\n",
       "    .dataframe thead th {\n",
       "        text-align: right;\n",
       "    }\n",
       "</style>\n",
       "<table border=\"1\" class=\"dataframe\">\n",
       "  <thead>\n",
       "    <tr style=\"text-align: right;\">\n",
       "      <th></th>\n",
       "      <th></th>\n",
       "      <th>1880</th>\n",
       "      <th>1881</th>\n",
       "      <th>1882</th>\n",
       "      <th>1883</th>\n",
       "      <th>1884</th>\n",
       "      <th>1885</th>\n",
       "      <th>1886</th>\n",
       "      <th>1887</th>\n",
       "      <th>1888</th>\n",
       "      <th>1889</th>\n",
       "      <th>...</th>\n",
       "      <th>2012</th>\n",
       "      <th>2013</th>\n",
       "      <th>2014</th>\n",
       "      <th>2015</th>\n",
       "      <th>2016</th>\n",
       "      <th>2017</th>\n",
       "      <th>2018</th>\n",
       "      <th>2019</th>\n",
       "      <th>2020</th>\n",
       "      <th>2021</th>\n",
       "    </tr>\n",
       "  </thead>\n",
       "  <tbody>\n",
       "    <tr>\n",
       "      <th>Ijeoma</th>\n",
       "      <th>F</th>\n",
       "      <td>NaN</td>\n",
       "      <td>NaN</td>\n",
       "      <td>NaN</td>\n",
       "      <td>NaN</td>\n",
       "      <td>NaN</td>\n",
       "      <td>NaN</td>\n",
       "      <td>NaN</td>\n",
       "      <td>NaN</td>\n",
       "      <td>NaN</td>\n",
       "      <td>NaN</td>\n",
       "      <td>...</td>\n",
       "      <td>5.0</td>\n",
       "      <td>6.0</td>\n",
       "      <td>11.0</td>\n",
       "      <td>5.0</td>\n",
       "      <td>5.0</td>\n",
       "      <td>6.0</td>\n",
       "      <td>NaN</td>\n",
       "      <td>8.0</td>\n",
       "      <td>NaN</td>\n",
       "      <td>NaN</td>\n",
       "    </tr>\n",
       "    <tr>\n",
       "      <th>Alexamarie</th>\n",
       "      <th>F</th>\n",
       "      <td>NaN</td>\n",
       "      <td>NaN</td>\n",
       "      <td>NaN</td>\n",
       "      <td>NaN</td>\n",
       "      <td>NaN</td>\n",
       "      <td>NaN</td>\n",
       "      <td>NaN</td>\n",
       "      <td>NaN</td>\n",
       "      <td>NaN</td>\n",
       "      <td>NaN</td>\n",
       "      <td>...</td>\n",
       "      <td>5.0</td>\n",
       "      <td>NaN</td>\n",
       "      <td>NaN</td>\n",
       "      <td>NaN</td>\n",
       "      <td>NaN</td>\n",
       "      <td>NaN</td>\n",
       "      <td>NaN</td>\n",
       "      <td>NaN</td>\n",
       "      <td>NaN</td>\n",
       "      <td>NaN</td>\n",
       "    </tr>\n",
       "    <tr>\n",
       "      <th>Kemel</th>\n",
       "      <th>M</th>\n",
       "      <td>NaN</td>\n",
       "      <td>NaN</td>\n",
       "      <td>NaN</td>\n",
       "      <td>NaN</td>\n",
       "      <td>NaN</td>\n",
       "      <td>NaN</td>\n",
       "      <td>NaN</td>\n",
       "      <td>NaN</td>\n",
       "      <td>NaN</td>\n",
       "      <td>NaN</td>\n",
       "      <td>...</td>\n",
       "      <td>NaN</td>\n",
       "      <td>NaN</td>\n",
       "      <td>NaN</td>\n",
       "      <td>NaN</td>\n",
       "      <td>NaN</td>\n",
       "      <td>NaN</td>\n",
       "      <td>NaN</td>\n",
       "      <td>NaN</td>\n",
       "      <td>NaN</td>\n",
       "      <td>NaN</td>\n",
       "    </tr>\n",
       "    <tr>\n",
       "      <th>Zuha</th>\n",
       "      <th>F</th>\n",
       "      <td>NaN</td>\n",
       "      <td>NaN</td>\n",
       "      <td>NaN</td>\n",
       "      <td>NaN</td>\n",
       "      <td>NaN</td>\n",
       "      <td>NaN</td>\n",
       "      <td>NaN</td>\n",
       "      <td>NaN</td>\n",
       "      <td>NaN</td>\n",
       "      <td>NaN</td>\n",
       "      <td>...</td>\n",
       "      <td>NaN</td>\n",
       "      <td>5.0</td>\n",
       "      <td>7.0</td>\n",
       "      <td>6.0</td>\n",
       "      <td>NaN</td>\n",
       "      <td>8.0</td>\n",
       "      <td>NaN</td>\n",
       "      <td>7.0</td>\n",
       "      <td>9.0</td>\n",
       "      <td>9.0</td>\n",
       "    </tr>\n",
       "    <tr>\n",
       "      <th>Earvie</th>\n",
       "      <th>M</th>\n",
       "      <td>NaN</td>\n",
       "      <td>NaN</td>\n",
       "      <td>NaN</td>\n",
       "      <td>NaN</td>\n",
       "      <td>NaN</td>\n",
       "      <td>NaN</td>\n",
       "      <td>NaN</td>\n",
       "      <td>NaN</td>\n",
       "      <td>NaN</td>\n",
       "      <td>NaN</td>\n",
       "      <td>...</td>\n",
       "      <td>NaN</td>\n",
       "      <td>NaN</td>\n",
       "      <td>NaN</td>\n",
       "      <td>NaN</td>\n",
       "      <td>NaN</td>\n",
       "      <td>NaN</td>\n",
       "      <td>NaN</td>\n",
       "      <td>NaN</td>\n",
       "      <td>NaN</td>\n",
       "      <td>NaN</td>\n",
       "    </tr>\n",
       "  </tbody>\n",
       "</table>\n",
       "<p>5 rows × 142 columns</p>\n",
       "</div>"
      ],
      "text/plain": [
       "              1880  1881  1882  1883  1884  1885  1886  1887  1888  1889  ...  \\\n",
       "Ijeoma     F   NaN   NaN   NaN   NaN   NaN   NaN   NaN   NaN   NaN   NaN  ...   \n",
       "Alexamarie F   NaN   NaN   NaN   NaN   NaN   NaN   NaN   NaN   NaN   NaN  ...   \n",
       "Kemel      M   NaN   NaN   NaN   NaN   NaN   NaN   NaN   NaN   NaN   NaN  ...   \n",
       "Zuha       F   NaN   NaN   NaN   NaN   NaN   NaN   NaN   NaN   NaN   NaN  ...   \n",
       "Earvie     M   NaN   NaN   NaN   NaN   NaN   NaN   NaN   NaN   NaN   NaN  ...   \n",
       "\n",
       "              2012  2013  2014  2015  2016  2017  2018  2019  2020  2021  \n",
       "Ijeoma     F   5.0   6.0  11.0   5.0   5.0   6.0   NaN   8.0   NaN   NaN  \n",
       "Alexamarie F   5.0   NaN   NaN   NaN   NaN   NaN   NaN   NaN   NaN   NaN  \n",
       "Kemel      M   NaN   NaN   NaN   NaN   NaN   NaN   NaN   NaN   NaN   NaN  \n",
       "Zuha       F   NaN   5.0   7.0   6.0   NaN   8.0   NaN   7.0   9.0   9.0  \n",
       "Earvie     M   NaN   NaN   NaN   NaN   NaN   NaN   NaN   NaN   NaN   NaN  \n",
       "\n",
       "[5 rows x 142 columns]"
      ]
     },
     "execution_count": 27,
     "metadata": {},
     "output_type": "execute_result"
    }
   ],
   "source": [
    "import pickle\n",
    "\n",
    "with open(\"df.pkl\",\"wb\") as handle:\n",
    "    pickle.dump(df,handle)\n",
    "    \n",
    "with open(\"df.pkl\",\"rb\") as handle:\n",
    "    dff = pickle.load(handle)\n",
    "    \n",
    "dff.sample(5)"
   ]
  },
  {
   "cell_type": "markdown",
   "id": "c33aba1a",
   "metadata": {},
   "source": [
    "### Plot popularity curve\n",
    "\n",
    "We now want to make some curves to show how popularity has changed over the years.\n",
    "\n"
   ]
  },
  {
   "cell_type": "code",
   "execution_count": 24,
   "id": "e8b45645",
   "metadata": {},
   "outputs": [
    {
     "ename": "KeyError",
     "evalue": "('Mary', 'F')",
     "output_type": "error",
     "traceback": [
      "\u001b[0;31m---------------------------------------------------------------------------\u001b[0m",
      "\u001b[0;31mKeyError\u001b[0m                                  Traceback (most recent call last)",
      "\u001b[0;32m~/opt/anaconda3/lib/python3.8/site-packages/pandas/core/indexes/base.py\u001b[0m in \u001b[0;36mget_loc\u001b[0;34m(self, key, method, tolerance)\u001b[0m\n\u001b[1;32m   2645\u001b[0m             \u001b[0;32mtry\u001b[0m\u001b[0;34m:\u001b[0m\u001b[0;34m\u001b[0m\u001b[0;34m\u001b[0m\u001b[0m\n\u001b[0;32m-> 2646\u001b[0;31m                 \u001b[0;32mreturn\u001b[0m \u001b[0mself\u001b[0m\u001b[0;34m.\u001b[0m\u001b[0m_engine\u001b[0m\u001b[0;34m.\u001b[0m\u001b[0mget_loc\u001b[0m\u001b[0;34m(\u001b[0m\u001b[0mkey\u001b[0m\u001b[0;34m)\u001b[0m\u001b[0;34m\u001b[0m\u001b[0;34m\u001b[0m\u001b[0m\n\u001b[0m\u001b[1;32m   2647\u001b[0m             \u001b[0;32mexcept\u001b[0m \u001b[0mKeyError\u001b[0m\u001b[0;34m:\u001b[0m\u001b[0;34m\u001b[0m\u001b[0;34m\u001b[0m\u001b[0m\n",
      "\u001b[0;32mpandas/_libs/index.pyx\u001b[0m in \u001b[0;36mpandas._libs.index.IndexEngine.get_loc\u001b[0;34m()\u001b[0m\n",
      "\u001b[0;32mpandas/_libs/index.pyx\u001b[0m in \u001b[0;36mpandas._libs.index.IndexEngine.get_loc\u001b[0;34m()\u001b[0m\n",
      "\u001b[0;32mpandas/_libs/hashtable_class_helper.pxi\u001b[0m in \u001b[0;36mpandas._libs.hashtable.PyObjectHashTable.get_item\u001b[0;34m()\u001b[0m\n",
      "\u001b[0;32mpandas/_libs/hashtable_class_helper.pxi\u001b[0m in \u001b[0;36mpandas._libs.hashtable.PyObjectHashTable.get_item\u001b[0;34m()\u001b[0m\n",
      "\u001b[0;31mKeyError\u001b[0m: ('Mary', 'F')",
      "\nDuring handling of the above exception, another exception occurred:\n",
      "\u001b[0;31mKeyError\u001b[0m                                  Traceback (most recent call last)",
      "\u001b[0;32m<ipython-input-24-3010345168fc>\u001b[0m in \u001b[0;36m<module>\u001b[0;34m\u001b[0m\n\u001b[1;32m      1\u001b[0m \u001b[0;32mimport\u001b[0m \u001b[0mmatplotlib\u001b[0m\u001b[0;34m.\u001b[0m\u001b[0mpyplot\u001b[0m \u001b[0;32mas\u001b[0m \u001b[0mplt\u001b[0m\u001b[0;34m\u001b[0m\u001b[0;34m\u001b[0m\u001b[0m\n\u001b[0;32m----> 2\u001b[0;31m \u001b[0mdf\u001b[0m\u001b[0;34m[\u001b[0m\u001b[0;34m(\u001b[0m\u001b[0;34m\"Mary\"\u001b[0m\u001b[0;34m,\u001b[0m\u001b[0;34m\"F\"\u001b[0m\u001b[0;34m)\u001b[0m\u001b[0;34m]\u001b[0m\u001b[0;34m.\u001b[0m\u001b[0mplot\u001b[0m\u001b[0;34m(\u001b[0m\u001b[0mlabel\u001b[0m\u001b[0;34m=\u001b[0m\u001b[0;34m\"Mary\"\u001b[0m\u001b[0;34m)\u001b[0m\u001b[0;34m\u001b[0m\u001b[0;34m\u001b[0m\u001b[0m\n\u001b[0m\u001b[1;32m      3\u001b[0m \u001b[0mdf\u001b[0m\u001b[0;34m[\u001b[0m\u001b[0;34m(\u001b[0m\u001b[0;34m\"Frank\"\u001b[0m\u001b[0;34m,\u001b[0m\u001b[0;34m\"M\"\u001b[0m\u001b[0;34m)\u001b[0m\u001b[0;34m]\u001b[0m\u001b[0;34m.\u001b[0m\u001b[0mplot\u001b[0m\u001b[0;34m(\u001b[0m\u001b[0mlabel\u001b[0m\u001b[0;34m=\u001b[0m\u001b[0;34m\"Frank\"\u001b[0m\u001b[0;34m)\u001b[0m\u001b[0;34m\u001b[0m\u001b[0;34m\u001b[0m\u001b[0m\n\u001b[1;32m      4\u001b[0m \u001b[0mplt\u001b[0m\u001b[0;34m.\u001b[0m\u001b[0mlegend\u001b[0m\u001b[0;34m(\u001b[0m\u001b[0;34m)\u001b[0m\u001b[0;34m\u001b[0m\u001b[0;34m\u001b[0m\u001b[0m\n\u001b[1;32m      5\u001b[0m \u001b[0mplt\u001b[0m\u001b[0;34m.\u001b[0m\u001b[0mshow\u001b[0m\u001b[0;34m(\u001b[0m\u001b[0;34m)\u001b[0m\u001b[0;34m\u001b[0m\u001b[0;34m\u001b[0m\u001b[0m\n",
      "\u001b[0;32m~/opt/anaconda3/lib/python3.8/site-packages/pandas/core/frame.py\u001b[0m in \u001b[0;36m__getitem__\u001b[0;34m(self, key)\u001b[0m\n\u001b[1;32m   2798\u001b[0m             \u001b[0;32mif\u001b[0m \u001b[0mself\u001b[0m\u001b[0;34m.\u001b[0m\u001b[0mcolumns\u001b[0m\u001b[0;34m.\u001b[0m\u001b[0mnlevels\u001b[0m \u001b[0;34m>\u001b[0m \u001b[0;36m1\u001b[0m\u001b[0;34m:\u001b[0m\u001b[0;34m\u001b[0m\u001b[0;34m\u001b[0m\u001b[0m\n\u001b[1;32m   2799\u001b[0m                 \u001b[0;32mreturn\u001b[0m \u001b[0mself\u001b[0m\u001b[0;34m.\u001b[0m\u001b[0m_getitem_multilevel\u001b[0m\u001b[0;34m(\u001b[0m\u001b[0mkey\u001b[0m\u001b[0;34m)\u001b[0m\u001b[0;34m\u001b[0m\u001b[0;34m\u001b[0m\u001b[0m\n\u001b[0;32m-> 2800\u001b[0;31m             \u001b[0mindexer\u001b[0m \u001b[0;34m=\u001b[0m \u001b[0mself\u001b[0m\u001b[0;34m.\u001b[0m\u001b[0mcolumns\u001b[0m\u001b[0;34m.\u001b[0m\u001b[0mget_loc\u001b[0m\u001b[0;34m(\u001b[0m\u001b[0mkey\u001b[0m\u001b[0;34m)\u001b[0m\u001b[0;34m\u001b[0m\u001b[0;34m\u001b[0m\u001b[0m\n\u001b[0m\u001b[1;32m   2801\u001b[0m             \u001b[0;32mif\u001b[0m \u001b[0mis_integer\u001b[0m\u001b[0;34m(\u001b[0m\u001b[0mindexer\u001b[0m\u001b[0;34m)\u001b[0m\u001b[0;34m:\u001b[0m\u001b[0;34m\u001b[0m\u001b[0;34m\u001b[0m\u001b[0m\n\u001b[1;32m   2802\u001b[0m                 \u001b[0mindexer\u001b[0m \u001b[0;34m=\u001b[0m \u001b[0;34m[\u001b[0m\u001b[0mindexer\u001b[0m\u001b[0;34m]\u001b[0m\u001b[0;34m\u001b[0m\u001b[0;34m\u001b[0m\u001b[0m\n",
      "\u001b[0;32m~/opt/anaconda3/lib/python3.8/site-packages/pandas/core/indexes/base.py\u001b[0m in \u001b[0;36mget_loc\u001b[0;34m(self, key, method, tolerance)\u001b[0m\n\u001b[1;32m   2646\u001b[0m                 \u001b[0;32mreturn\u001b[0m \u001b[0mself\u001b[0m\u001b[0;34m.\u001b[0m\u001b[0m_engine\u001b[0m\u001b[0;34m.\u001b[0m\u001b[0mget_loc\u001b[0m\u001b[0;34m(\u001b[0m\u001b[0mkey\u001b[0m\u001b[0;34m)\u001b[0m\u001b[0;34m\u001b[0m\u001b[0;34m\u001b[0m\u001b[0m\n\u001b[1;32m   2647\u001b[0m             \u001b[0;32mexcept\u001b[0m \u001b[0mKeyError\u001b[0m\u001b[0;34m:\u001b[0m\u001b[0;34m\u001b[0m\u001b[0;34m\u001b[0m\u001b[0m\n\u001b[0;32m-> 2648\u001b[0;31m                 \u001b[0;32mreturn\u001b[0m \u001b[0mself\u001b[0m\u001b[0;34m.\u001b[0m\u001b[0m_engine\u001b[0m\u001b[0;34m.\u001b[0m\u001b[0mget_loc\u001b[0m\u001b[0;34m(\u001b[0m\u001b[0mself\u001b[0m\u001b[0;34m.\u001b[0m\u001b[0m_maybe_cast_indexer\u001b[0m\u001b[0;34m(\u001b[0m\u001b[0mkey\u001b[0m\u001b[0;34m)\u001b[0m\u001b[0;34m)\u001b[0m\u001b[0;34m\u001b[0m\u001b[0;34m\u001b[0m\u001b[0m\n\u001b[0m\u001b[1;32m   2649\u001b[0m         \u001b[0mindexer\u001b[0m \u001b[0;34m=\u001b[0m \u001b[0mself\u001b[0m\u001b[0;34m.\u001b[0m\u001b[0mget_indexer\u001b[0m\u001b[0;34m(\u001b[0m\u001b[0;34m[\u001b[0m\u001b[0mkey\u001b[0m\u001b[0;34m]\u001b[0m\u001b[0;34m,\u001b[0m \u001b[0mmethod\u001b[0m\u001b[0;34m=\u001b[0m\u001b[0mmethod\u001b[0m\u001b[0;34m,\u001b[0m \u001b[0mtolerance\u001b[0m\u001b[0;34m=\u001b[0m\u001b[0mtolerance\u001b[0m\u001b[0;34m)\u001b[0m\u001b[0;34m\u001b[0m\u001b[0;34m\u001b[0m\u001b[0m\n\u001b[1;32m   2650\u001b[0m         \u001b[0;32mif\u001b[0m \u001b[0mindexer\u001b[0m\u001b[0;34m.\u001b[0m\u001b[0mndim\u001b[0m \u001b[0;34m>\u001b[0m \u001b[0;36m1\u001b[0m \u001b[0;32mor\u001b[0m \u001b[0mindexer\u001b[0m\u001b[0;34m.\u001b[0m\u001b[0msize\u001b[0m \u001b[0;34m>\u001b[0m \u001b[0;36m1\u001b[0m\u001b[0;34m:\u001b[0m\u001b[0;34m\u001b[0m\u001b[0;34m\u001b[0m\u001b[0m\n",
      "\u001b[0;32mpandas/_libs/index.pyx\u001b[0m in \u001b[0;36mpandas._libs.index.IndexEngine.get_loc\u001b[0;34m()\u001b[0m\n",
      "\u001b[0;32mpandas/_libs/index.pyx\u001b[0m in \u001b[0;36mpandas._libs.index.IndexEngine.get_loc\u001b[0;34m()\u001b[0m\n",
      "\u001b[0;32mpandas/_libs/hashtable_class_helper.pxi\u001b[0m in \u001b[0;36mpandas._libs.hashtable.PyObjectHashTable.get_item\u001b[0;34m()\u001b[0m\n",
      "\u001b[0;32mpandas/_libs/hashtable_class_helper.pxi\u001b[0m in \u001b[0;36mpandas._libs.hashtable.PyObjectHashTable.get_item\u001b[0;34m()\u001b[0m\n",
      "\u001b[0;31mKeyError\u001b[0m: ('Mary', 'F')"
     ]
    }
   ],
   "source": [
    "import matplotlib.pyplot as plt\n",
    "df[(\"Mary\",\"F\")].plot(label=\"Mary\")\n",
    "df[(\"Frank\",\"M\")].plot(label=\"Frank\")\n",
    "plt.legend()\n",
    "plt.show()"
   ]
  },
  {
   "cell_type": "markdown",
   "id": "4de307c1",
   "metadata": {},
   "source": [
    "### Correlation\n",
    "\n",
    "Explore correlations in name popularity over time.\n",
    "\n"
   ]
  },
  {
   "cell_type": "code",
   "execution_count": 19,
   "id": "74ad94c1",
   "metadata": {},
   "outputs": [
    {
     "data": {
      "text/html": [
       "<div>\n",
       "<style scoped>\n",
       "    .dataframe tbody tr th:only-of-type {\n",
       "        vertical-align: middle;\n",
       "    }\n",
       "\n",
       "    .dataframe tbody tr th {\n",
       "        vertical-align: top;\n",
       "    }\n",
       "\n",
       "    .dataframe thead tr th {\n",
       "        text-align: left;\n",
       "    }\n",
       "</style>\n",
       "<table border=\"1\" class=\"dataframe\">\n",
       "  <thead>\n",
       "    <tr>\n",
       "      <th></th>\n",
       "      <th></th>\n",
       "      <th>Mary</th>\n",
       "      <th>Kate</th>\n",
       "      <th>Ashley</th>\n",
       "    </tr>\n",
       "    <tr>\n",
       "      <th></th>\n",
       "      <th></th>\n",
       "      <th>F</th>\n",
       "      <th>F</th>\n",
       "      <th>F</th>\n",
       "    </tr>\n",
       "  </thead>\n",
       "  <tbody>\n",
       "    <tr>\n",
       "      <th>Mary</th>\n",
       "      <th>F</th>\n",
       "      <td>1.000000</td>\n",
       "      <td>-0.619511</td>\n",
       "      <td>-0.402789</td>\n",
       "    </tr>\n",
       "    <tr>\n",
       "      <th>Kate</th>\n",
       "      <th>F</th>\n",
       "      <td>-0.619511</td>\n",
       "      <td>1.000000</td>\n",
       "      <td>0.540222</td>\n",
       "    </tr>\n",
       "    <tr>\n",
       "      <th>Ashley</th>\n",
       "      <th>F</th>\n",
       "      <td>-0.402789</td>\n",
       "      <td>0.540222</td>\n",
       "      <td>1.000000</td>\n",
       "    </tr>\n",
       "  </tbody>\n",
       "</table>\n",
       "</div>"
      ],
      "text/plain": [
       "              Mary      Kate    Ashley\n",
       "                 F         F         F\n",
       "Mary   F  1.000000 -0.619511 -0.402789\n",
       "Kate   F -0.619511  1.000000  0.540222\n",
       "Ashley F -0.402789  0.540222  1.000000"
      ]
     },
     "execution_count": 19,
     "metadata": {},
     "output_type": "execute_result"
    }
   ],
   "source": [
    "df[[(\"Mary\",\"F\"),(\"Kate\",\"F\"),(\"Ashley\",\"F\")]].corr()"
   ]
  },
  {
   "cell_type": "code",
   "execution_count": 20,
   "id": "15094159",
   "metadata": {},
   "outputs": [
    {
     "data": {
      "text/plain": [
       "<AxesSubplot:>"
      ]
     },
     "execution_count": 20,
     "metadata": {},
     "output_type": "execute_result"
    },
    {
     "data": {
      "image/png": "[encoded data removed]",
      "text/plain": [
       "<Figure size 640x480 with 1 Axes>"
      ]
     },
     "metadata": {},
     "output_type": "display_data"
    }
   ],
   "source": [
    "df[[(\"Mary\",\"F\"),(\"Kate\",\"F\"),(\"Ashley\",\"F\")]].plot()"
   ]
  },
  {
   "cell_type": "code",
   "execution_count": 22,
   "id": "82310f6f",
   "metadata": {},
   "outputs": [
    {
     "data": {
      "text/html": [
       "<div>\n",
       "<style scoped>\n",
       "    .dataframe tbody tr th:only-of-type {\n",
       "        vertical-align: middle;\n",
       "    }\n",
       "\n",
       "    .dataframe tbody tr th {\n",
       "        vertical-align: top;\n",
       "    }\n",
       "\n",
       "    .dataframe thead tr th {\n",
       "        text-align: left;\n",
       "    }\n",
       "</style>\n",
       "<table border=\"1\" class=\"dataframe\">\n",
       "  <thead>\n",
       "    <tr>\n",
       "      <th></th>\n",
       "      <th></th>\n",
       "      <th>Matthew</th>\n",
       "      <th>Mark</th>\n",
       "      <th>Luke</th>\n",
       "      <th>John</th>\n",
       "    </tr>\n",
       "    <tr>\n",
       "      <th></th>\n",
       "      <th></th>\n",
       "      <th>M</th>\n",
       "      <th>M</th>\n",
       "      <th>M</th>\n",
       "      <th>M</th>\n",
       "    </tr>\n",
       "  </thead>\n",
       "  <tbody>\n",
       "    <tr>\n",
       "      <th>Matthew</th>\n",
       "      <th>M</th>\n",
       "      <td>1.000000</td>\n",
       "      <td>0.177499</td>\n",
       "      <td>0.441504</td>\n",
       "      <td>-0.147060</td>\n",
       "    </tr>\n",
       "    <tr>\n",
       "      <th>Mark</th>\n",
       "      <th>M</th>\n",
       "      <td>0.177499</td>\n",
       "      <td>1.000000</td>\n",
       "      <td>-0.163821</td>\n",
       "      <td>0.625540</td>\n",
       "    </tr>\n",
       "    <tr>\n",
       "      <th>Luke</th>\n",
       "      <th>M</th>\n",
       "      <td>0.441504</td>\n",
       "      <td>-0.163821</td>\n",
       "      <td>1.000000</td>\n",
       "      <td>-0.429029</td>\n",
       "    </tr>\n",
       "    <tr>\n",
       "      <th>John</th>\n",
       "      <th>M</th>\n",
       "      <td>-0.147060</td>\n",
       "      <td>0.625540</td>\n",
       "      <td>-0.429029</td>\n",
       "      <td>1.000000</td>\n",
       "    </tr>\n",
       "  </tbody>\n",
       "</table>\n",
       "</div>"
      ],
      "text/plain": [
       "            Matthew      Mark      Luke      John\n",
       "                  M         M         M         M\n",
       "Matthew M  1.000000  0.177499  0.441504 -0.147060\n",
       "Mark    M  0.177499  1.000000 -0.163821  0.625540\n",
       "Luke    M  0.441504 -0.163821  1.000000 -0.429029\n",
       "John    M -0.147060  0.625540 -0.429029  1.000000"
      ]
     },
     "execution_count": 22,
     "metadata": {},
     "output_type": "execute_result"
    }
   ],
   "source": [
    "df[[(\"Matthew\",\"M\"),(\"Mark\",\"M\"),(\"Luke\",\"M\"),(\"John\",\"M\")]].corr()"
   ]
  },
  {
   "cell_type": "code",
   "execution_count": 23,
   "id": "a3fc7228",
   "metadata": {},
   "outputs": [
    {
     "data": {
      "text/plain": [
       "<AxesSubplot:>"
      ]
     },
     "execution_count": 23,
     "metadata": {},
     "output_type": "execute_result"
    },
    {
     "data": {
      "image/png": "[encoded data removed]",
      "text/plain": [
       "<Figure size 640x480 with 1 Axes>"
      ]
     },
     "metadata": {},
     "output_type": "display_data"
    }
   ],
   "source": [
    "df[[(\"Matthew\",\"M\"),(\"Mark\",\"M\"),(\"Luke\",\"M\"),(\"John\",\"M\")]].plot()"
   ]
  },
  {
   "cell_type": "code",
   "execution_count": 7,
   "id": "6f6907f6-6179-4498-8160-e851f820717a",
   "metadata": {},
   "outputs": [
    {
     "data": {
      "text/plain": [
       "<module 'pandas' from '/Library/Frameworks/Python.framework/Versions/3.10/lib/python3.10/site-packages/pandas/__init__.py'>"
      ]
     },
     "execution_count": 7,
     "metadata": {},
     "output_type": "execute_result"
    }
   ],
   "source": [
    "import pandas as pd\n"
   ]
  },
  {
   "cell_type": "code",
   "execution_count": 10,
   "id": "cc27ef32-feb3-4492-9e9f-6b328d8f783e",
   "metadata": {},
   "outputs": [
    {
     "name": "stdout",
     "output_type": "stream",
     "text": [
      "eerrrr\n"
     ]
    }
   ],
   "source": [
    "\n",
    "fn = !ls ../../../Handouts/some_data/names/\n",
    "dirName = \"../../../Handouts/some_data/names/\"\n",
    "tf = pd.DataFrame()\n",
    "\n",
    "for f in fn:\n",
    "    df = pd.read_csv(dirName+f, sep =',',header = None)\n",
    "    df.columns = ['name','sex','frequency']\n",
    "    df['year'] = f[3:3+4]\n",
    "    try:\n",
    "        tf = pd.merge(left = df,right =tf,how='outer')\n",
    "    except pd.errors.MergeError:\n",
    "        print(\"eerrrr\")\n",
    "        tf = df\n",
    "        \n",
    "        \n",
    "    "
   ]
  },
  {
   "cell_type": "code",
   "execution_count": 11,
   "id": "c38ded74",
   "metadata": {},
   "outputs": [
    {
     "data": {
      "text/html": [
       "<div>\n",
       "<style scoped>\n",
       "    .dataframe tbody tr th:only-of-type {\n",
       "        vertical-align: middle;\n",
       "    }\n",
       "\n",
       "    .dataframe tbody tr th {\n",
       "        vertical-align: top;\n",
       "    }\n",
       "\n",
       "    .dataframe thead th {\n",
       "        text-align: right;\n",
       "    }\n",
       "</style>\n",
       "<table border=\"1\" class=\"dataframe\">\n",
       "  <thead>\n",
       "    <tr style=\"text-align: right;\">\n",
       "      <th></th>\n",
       "      <th>name</th>\n",
       "      <th>sex</th>\n",
       "      <th>frequency</th>\n",
       "      <th>year</th>\n",
       "    </tr>\n",
       "  </thead>\n",
       "  <tbody>\n",
       "    <tr>\n",
       "      <th>757882</th>\n",
       "      <td>Gwendelyn</td>\n",
       "      <td>F</td>\n",
       "      <td>9</td>\n",
       "      <td>1998</td>\n",
       "    </tr>\n",
       "    <tr>\n",
       "      <th>281298</th>\n",
       "      <td>Nicco</td>\n",
       "      <td>M</td>\n",
       "      <td>45</td>\n",
       "      <td>2013</td>\n",
       "    </tr>\n",
       "    <tr>\n",
       "      <th>961454</th>\n",
       "      <td>Daneisha</td>\n",
       "      <td>F</td>\n",
       "      <td>34</td>\n",
       "      <td>1990</td>\n",
       "    </tr>\n",
       "    <tr>\n",
       "      <th>472896</th>\n",
       "      <td>Cayman</td>\n",
       "      <td>F</td>\n",
       "      <td>14</td>\n",
       "      <td>2007</td>\n",
       "    </tr>\n",
       "    <tr>\n",
       "      <th>1607187</th>\n",
       "      <td>Carl</td>\n",
       "      <td>M</td>\n",
       "      <td>7829</td>\n",
       "      <td>1948</td>\n",
       "    </tr>\n",
       "  </tbody>\n",
       "</table>\n",
       "</div>"
      ],
      "text/plain": [
       "              name sex  frequency  year\n",
       "757882   Gwendelyn   F          9  1998\n",
       "281298       Nicco   M         45  2013\n",
       "961454    Daneisha   F         34  1990\n",
       "472896      Cayman   F         14  2007\n",
       "1607187       Carl   M       7829  1948"
      ]
     },
     "execution_count": 11,
     "metadata": {},
     "output_type": "execute_result"
    }
   ],
   "source": [
    "tf = tf.fillna(0)\n",
    "tf.sample(5)"
   ]
  },
  {
   "cell_type": "code",
   "execution_count": 31,
   "id": "99138164",
   "metadata": {},
   "outputs": [
    {
     "data": {
      "text/html": [
       "<div>\n",
       "<style scoped>\n",
       "    .dataframe tbody tr th:only-of-type {\n",
       "        vertical-align: middle;\n",
       "    }\n",
       "\n",
       "    .dataframe tbody tr th {\n",
       "        vertical-align: top;\n",
       "    }\n",
       "\n",
       "    .dataframe thead th {\n",
       "        text-align: right;\n",
       "    }\n",
       "</style>\n",
       "<table border=\"1\" class=\"dataframe\">\n",
       "  <thead>\n",
       "    <tr style=\"text-align: right;\">\n",
       "      <th></th>\n",
       "      <th>name</th>\n",
       "      <th>sex</th>\n",
       "      <th>frequency</th>\n",
       "      <th>year</th>\n",
       "    </tr>\n",
       "  </thead>\n",
       "  <tbody>\n",
       "    <tr>\n",
       "      <th>132</th>\n",
       "      <td>Mary</td>\n",
       "      <td>F</td>\n",
       "      <td>2080</td>\n",
       "      <td>2021</td>\n",
       "    </tr>\n",
       "    <tr>\n",
       "      <th>31659</th>\n",
       "      <td>Mary</td>\n",
       "      <td>F</td>\n",
       "      <td>2210</td>\n",
       "      <td>2020</td>\n",
       "    </tr>\n",
       "    <tr>\n",
       "      <th>63115</th>\n",
       "      <td>Mary</td>\n",
       "      <td>F</td>\n",
       "      <td>2226</td>\n",
       "      <td>2019</td>\n",
       "    </tr>\n",
       "    <tr>\n",
       "      <th>95188</th>\n",
       "      <td>Mary</td>\n",
       "      <td>F</td>\n",
       "      <td>2355</td>\n",
       "      <td>2018</td>\n",
       "    </tr>\n",
       "    <tr>\n",
       "      <th>127384</th>\n",
       "      <td>Mary</td>\n",
       "      <td>F</td>\n",
       "      <td>2416</td>\n",
       "      <td>2017</td>\n",
       "    </tr>\n",
       "    <tr>\n",
       "      <th>...</th>\n",
       "      <td>...</td>\n",
       "      <td>...</td>\n",
       "      <td>...</td>\n",
       "      <td>...</td>\n",
       "    </tr>\n",
       "    <tr>\n",
       "      <th>2042339</th>\n",
       "      <td>Mary</td>\n",
       "      <td>F</td>\n",
       "      <td>9217</td>\n",
       "      <td>1884</td>\n",
       "    </tr>\n",
       "    <tr>\n",
       "      <th>2044636</th>\n",
       "      <td>Mary</td>\n",
       "      <td>F</td>\n",
       "      <td>8012</td>\n",
       "      <td>1883</td>\n",
       "    </tr>\n",
       "    <tr>\n",
       "      <th>2046720</th>\n",
       "      <td>Mary</td>\n",
       "      <td>F</td>\n",
       "      <td>8148</td>\n",
       "      <td>1882</td>\n",
       "    </tr>\n",
       "    <tr>\n",
       "      <th>2048847</th>\n",
       "      <td>Mary</td>\n",
       "      <td>F</td>\n",
       "      <td>6919</td>\n",
       "      <td>1881</td>\n",
       "    </tr>\n",
       "    <tr>\n",
       "      <th>2050781</th>\n",
       "      <td>Mary</td>\n",
       "      <td>F</td>\n",
       "      <td>7065</td>\n",
       "      <td>1880</td>\n",
       "    </tr>\n",
       "  </tbody>\n",
       "</table>\n",
       "<p>142 rows × 4 columns</p>\n",
       "</div>"
      ],
      "text/plain": [
       "         name sex  frequency  year\n",
       "132      Mary   F       2080  2021\n",
       "31659    Mary   F       2210  2020\n",
       "63115    Mary   F       2226  2019\n",
       "95188    Mary   F       2355  2018\n",
       "127384   Mary   F       2416  2017\n",
       "...       ...  ..        ...   ...\n",
       "2042339  Mary   F       9217  1884\n",
       "2044636  Mary   F       8012  1883\n",
       "2046720  Mary   F       8148  1882\n",
       "2048847  Mary   F       6919  1881\n",
       "2050781  Mary   F       7065  1880\n",
       "\n",
       "[142 rows x 4 columns]"
      ]
     },
     "execution_count": 31,
     "metadata": {},
     "output_type": "execute_result"
    }
   ],
   "source": [
    "mary = tf[(tf['name']== 'Mary') & (tf['sex']== 'F')]\n",
    "mary"
   ]
  },
  {
   "cell_type": "code",
   "execution_count": 42,
   "id": "8c2777cb",
   "metadata": {},
   "outputs": [
    {
     "data": {
      "text/plain": [
       "<matplotlib.legend.Legend at 0x7fcca5ed6e80>"
      ]
     },
     "execution_count": 42,
     "metadata": {},
     "output_type": "execute_result"
    },
    {
     "data": {
      "image/png": "[encoded data removed]",
      "text/plain": [
       "<Figure size 1440x1080 with 1 Axes>"
      ]
     },
     "metadata": {},
     "output_type": "display_data"
    }
   ],
   "source": [
    "sns.set(style='darkgrid')\n",
    "plt.figure(figsize=(20,15))\n",
    "plot = sns.lineplot(data =mary,x ='year',y = 'frequency')\n",
    "for ind, label in enumerate(plot.get_xticklabels()):\n",
    "    if ind % 10 == 0:  # every 10th label is kept\n",
    "        label.set_visible(True)\n",
    "    else:\n",
    "        label.set_visible(False)\n",
    "plt.legend(labels='Mary')"
   ]
  },
  {
   "cell_type": "code",
   "execution_count": 89,
   "id": "d7892434",
   "metadata": {},
   "outputs": [],
   "source": [
    "save='baby'\n",
    "tf.to_csv(save,index=False)"
   ]
  },
  {
   "cell_type": "markdown",
   "id": "c8313e32",
   "metadata": {},
   "source": [
    "### Marginalia\n",
    "\n",
    "Try to answer these questions.\n",
    "\n",
    "1. What is the most popular name of all time (most babies with this name)?\n",
    "2. What was the most popular girl's name in the 1990s?\n",
    "3. How many people babies were born in 1919, according to the data?\n",
    "4. How many boys were born in the 'oughts' according to the data?\n",
    "5. Use the data to plot US births during the 20th century.  The $x$ axis should be \"year\" and the $y$ axis should be \"number of births that year\". See if you can identify the \"boomers\".\n",
    "\n"
   ]
  },
  {
   "cell_type": "markdown",
   "id": "9305fcb3",
   "metadata": {},
   "source": [
    "*Hint* This will require summing along different axes [https://www.geeksforgeeks.org/python-pandas-dataframe-sum/](https://www.geeksforgeeks.org/python-pandas-dataframe-sum/)"
   ]
  },
  {
   "cell_type": "code",
   "execution_count": 53,
   "id": "5cb4b338",
   "metadata": {},
   "outputs": [
    {
     "data": {
      "text/html": [
       "<div>\n",
       "<style scoped>\n",
       "    .dataframe tbody tr th:only-of-type {\n",
       "        vertical-align: middle;\n",
       "    }\n",
       "\n",
       "    .dataframe tbody tr th {\n",
       "        vertical-align: top;\n",
       "    }\n",
       "\n",
       "    .dataframe thead th {\n",
       "        text-align: right;\n",
       "    }\n",
       "</style>\n",
       "<table border=\"1\" class=\"dataframe\">\n",
       "  <thead>\n",
       "    <tr style=\"text-align: right;\">\n",
       "      <th></th>\n",
       "      <th>name</th>\n",
       "      <th>sex</th>\n",
       "      <th>sum</th>\n",
       "    </tr>\n",
       "  </thead>\n",
       "  <tbody>\n",
       "    <tr>\n",
       "      <th>0</th>\n",
       "      <td>James</td>\n",
       "      <td>M</td>\n",
       "      <td>5202714</td>\n",
       "    </tr>\n",
       "  </tbody>\n",
       "</table>\n",
       "</div>"
      ],
      "text/plain": [
       "    name sex      sum\n",
       "0  James   M  5202714"
      ]
     },
     "execution_count": 53,
     "metadata": {},
     "output_type": "execute_result"
    }
   ],
   "source": [
    "gb= tf.groupby(['name','sex'])\n",
    "new =gb['frequency'].sum().reset_index(name='sum').sort_values('sum',ascending =False).reset_index(drop=True)\n",
    "new.head(1)"
   ]
  },
  {
   "cell_type": "markdown",
   "id": "16b7b08f",
   "metadata": {},
   "source": [
    "# 1.James"
   ]
  },
  {
   "cell_type": "code",
   "execution_count": 58,
   "id": "75d4d78e",
   "metadata": {},
   "outputs": [],
   "source": [
    "\n",
    "tf['year'] =pd.to_numeric(tf['year'])"
   ]
  },
  {
   "cell_type": "code",
   "execution_count": 59,
   "id": "d8985d5a",
   "metadata": {},
   "outputs": [
    {
     "data": {
      "text/plain": [
       "name         object\n",
       "sex          object\n",
       "frequency     int64\n",
       "year          int64\n",
       "dtype: object"
      ]
     },
     "execution_count": 59,
     "metadata": {},
     "output_type": "execute_result"
    }
   ],
   "source": [
    "tf.dtypes"
   ]
  },
  {
   "cell_type": "code",
   "execution_count": 74,
   "id": "9bb6e88a",
   "metadata": {},
   "outputs": [
    {
     "data": {
      "text/html": [
       "<div>\n",
       "<style scoped>\n",
       "    .dataframe tbody tr th:only-of-type {\n",
       "        vertical-align: middle;\n",
       "    }\n",
       "\n",
       "    .dataframe tbody tr th {\n",
       "        vertical-align: top;\n",
       "    }\n",
       "\n",
       "    .dataframe thead th {\n",
       "        text-align: right;\n",
       "    }\n",
       "</style>\n",
       "<table border=\"1\" class=\"dataframe\">\n",
       "  <thead>\n",
       "    <tr style=\"text-align: right;\">\n",
       "      <th></th>\n",
       "      <th>name</th>\n",
       "      <th>sum</th>\n",
       "    </tr>\n",
       "  </thead>\n",
       "  <tbody>\n",
       "    <tr>\n",
       "      <th>0</th>\n",
       "      <td>Jessica</td>\n",
       "      <td>303115</td>\n",
       "    </tr>\n",
       "  </tbody>\n",
       "</table>\n",
       "</div>"
      ],
      "text/plain": [
       "      name     sum\n",
       "0  Jessica  303115"
      ]
     },
     "execution_count": 74,
     "metadata": {},
     "output_type": "execute_result"
    }
   ],
   "source": [
    "c1 = tf['year'] >= 1990 \n",
    "c2 = tf['year'] <= 1999\n",
    "c3 = tf['sex'] =='F'\n",
    "girls90s = tf[c1&c2&c3].reset_index(drop=True)\n",
    "gb= girls90s.groupby('name')\n",
    "new =gb['frequency'].sum().reset_index(name='sum').sort_values('sum',ascending =False).reset_index(drop=True)\n",
    "new.head(1)\n",
    "\n"
   ]
  },
  {
   "cell_type": "markdown",
   "id": "85087f19",
   "metadata": {},
   "source": [
    "# 2.Jessica"
   ]
  },
  {
   "cell_type": "code",
   "execution_count": 78,
   "id": "a6e21dab",
   "metadata": {},
   "outputs": [
    {
     "data": {
      "text/plain": [
       "2110266"
      ]
     },
     "execution_count": 78,
     "metadata": {},
     "output_type": "execute_result"
    }
   ],
   "source": [
    "c1 = tf['year'] == 1919\n",
    "baby1919 = tf[c1].reset_index(drop=True)\n",
    "baby1919.frequency.sum()"
   ]
  },
  {
   "cell_type": "markdown",
   "id": "a8ae7c74",
   "metadata": {},
   "source": [
    "# 3. 2110266"
   ]
  },
  {
   "cell_type": "code",
   "execution_count": 87,
   "id": "852ec11b",
   "metadata": {},
   "outputs": [
    {
     "data": {
      "text/html": [
       "<div>\n",
       "<style scoped>\n",
       "    .dataframe tbody tr th:only-of-type {\n",
       "        vertical-align: middle;\n",
       "    }\n",
       "\n",
       "    .dataframe tbody tr th {\n",
       "        vertical-align: top;\n",
       "    }\n",
       "\n",
       "    .dataframe thead th {\n",
       "        text-align: right;\n",
       "    }\n",
       "</style>\n",
       "<table border=\"1\" class=\"dataframe\">\n",
       "  <thead>\n",
       "    <tr style=\"text-align: right;\">\n",
       "      <th></th>\n",
       "      <th>year</th>\n",
       "      <th>sum</th>\n",
       "    </tr>\n",
       "  </thead>\n",
       "  <tbody>\n",
       "    <tr>\n",
       "      <th>20</th>\n",
       "      <td>1999</td>\n",
       "      <td>3693472</td>\n",
       "    </tr>\n",
       "  </tbody>\n",
       "</table>\n",
       "</div>"
      ],
      "text/plain": [
       "    year      sum\n",
       "20  1999  3693472"
      ]
     },
     "execution_count": 87,
     "metadata": {},
     "output_type": "execute_result"
    }
   ],
   "source": [
    "c1 = tf['year'] >= 1900\n",
    "c2 = tf['year'] <= 1999\n",
    "baby20cent = tf[c1&c2]\n",
    "gb= baby20cent.groupby('year')\n",
    "new =gb['frequency'].sum().reset_index(name='sum').sort_values('sum',ascending =False).reset_index(drop=True)\n",
    "new[new['year']== 1999]"
   ]
  },
  {
   "cell_type": "code",
   "execution_count": 88,
   "id": "52773400",
   "metadata": {},
   "outputs": [
    {
     "data": {
      "text/plain": [
       "Text(0.5, 1.0, '20th century')"
      ]
     },
     "execution_count": 88,
     "metadata": {},
     "output_type": "execute_result"
    },
    {
     "data": {
      "image/png": "[encoded data removed]",
      "text/plain": [
       "<Figure size 1440x1080 with 1 Axes>"
      ]
     },
     "metadata": {},
     "output_type": "display_data"
    }
   ],
   "source": [
    "sns.set(style='darkgrid')\n",
    "plt.figure(figsize=(20,15))\n",
    "plot = sns.lineplot(data =new,x ='year',y = 'sum')\n",
    "plt.xlabel('year',size=20)\n",
    "plt.ylabel('number of births that year',size=20)\n",
    "plt.title('20th century',size=20)"
   ]
  },
  {
   "cell_type": "markdown",
   "id": "760442a8-b8da-4d5c-8638-44420d1cc02a",
   "metadata": {},
   "source": [
    "### Notes\n",
    "\n",
    "Hi Stephen, this is amazing work! Did you get some training on pandas and python before? Either way this work is really great. You get an A."
   ]
  },
  {
   "cell_type": "code",
   "execution_count": null,
   "id": "9cb0c764-2661-40e6-8abc-11de83cc49ae",
   "metadata": {},
   "outputs": [],
   "source": []
  }
 ],
 "metadata": {
  "kernelspec": {
   "display_name": "Python 3 (ipykernel)",
   "language": "python",
   "name": "python3"
  },
  "language_info": {
   "codemirror_mode": {
    "name": "ipython",
    "version": 3
   },
   "file_extension": ".py",
   "mimetype": "text/x-python",
   "name": "python",
   "nbconvert_exporter": "python",
   "pygments_lexer": "ipython3",
   "version": "3.10.6"
  }
 },
 "nbformat": 4,
 "nbformat_minor": 5
}
