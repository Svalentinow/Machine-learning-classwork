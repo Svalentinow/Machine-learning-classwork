{
 "cells": [
  {
   "cell_type": "markdown",
   "metadata": {},
   "source": [
    "\n",
    "## Unsupervised learning\n",
    "#### Homework 9 (last homework)\n",
    "#### Due Thursday 12/8\n",
    "\n",
    "In this assignment we will explore some of the unsupervised techniques we've learned in the last couple of weeks.  You are welcome to *incorporate* this work into your Project 2. In other words, work done here can also count toward Project 2. \n",
    "\n",
    "For each problem you will need a dataset.  It is fine if you use the same dataset for each exercise.  It is also fine to use your Project 2 dataset. If you need a dataset, you can select a dataset from UCI or Kaggle.\n",
    "\n",
    "Unless otherwise stipulated it is fine to use `sklearn`. \n",
    "\n",
    "In a few questions I ask you to time something.  One way to do this is...\n",
    "\n",
    "```python\n",
    "import time\n",
    "start = time.time()\n",
    "clf.fit(X_train,y_train)\n",
    "stop = time.time()\n",
    "```\n",
    "\n",
    "Now `stop-start` will tell you how long it took to train this model."
   ]
  },
  {
   "cell_type": "code",
   "execution_count": 36,
   "metadata": {},
   "outputs": [],
   "source": [
    "import pandas as pd\n",
    "import numpy as np\n",
    "import time\n",
    "import seaborn as sns\n",
    "import matplotlib.pyplot as plt\n",
    "sns.set(style = \"darkgrid\")\n",
    "from sklearn.model_selection import train_test_split\n",
    "from sklearn.preprocessing import StandardScaler\n",
    "from sklearn.decomposition import PCA\n",
    "from sklearn.svm import SVR"
   ]
  },
  {
   "cell_type": "markdown",
   "metadata": {},
   "source": [
    "## Problem 1 (PCA)\n",
    "\n",
    "You can do the work for this problem in the python cells below, but please edit this cell to type your answers in right under the question prompts.\n",
    "\n",
    "---\n",
    "\n",
    "a) What is the explained variance ratio for each principal component when you do PCA on your dataset? (if you have a huge number of components then just the first 10)\n",
    "\n",
    "b) How many components do you need to capture 90% of the explained variance? \n",
    "\n",
    "c) Produce a 2-dimensional visualization of your data using the first two principal components.\n",
    "\n",
    "d) For those who paid close attention: What are the eigenvalues of the covariance matrix for your dataset? (You can find them with `sklearn` or manually with `numpy`).\n",
    "\n",
    "e) Using a SVM (or SVR for regression):\n",
    "\n",
    "    1) Fit your original untransformed dataset\n",
    "\n",
    "        a) How long did the fit take?\n",
    "\n",
    "        b) What accuracy/R2 score did you get?\n",
    "\n",
    "    2) Do the same thing for the PCA projection of your data that captures 90% of the explained variance.\n",
    "    \n",
    "I suggest using the support vector machine because they are slow to train and there will probably be a noticeable difference in time."
   ]
  },
  {
   "cell_type": "markdown",
   "metadata": {},
   "source": [
    "## 1. variance explained ratio\n",
    "    \n",
    "9.98595583e-01, 1.16911547e-03, 2.34744428e-04, 5.55689873e-07,\n",
    "4.60035457e-10, 3.66714266e-10, 2.89622329e-10, 1.87636928e-10,\n",
    "9.98978661e-11, 4.77213505e-12, 4.44988478e-34\n",
    "## 2. components\n",
    "So it seems that this data set is pretty bad according to pca.The total variance ratio for the compnents does not add up to 90%\n",
    "## 3.  visualization is below\n",
    "The graph is not good either, where it seems linear instead of random.\n",
    "## 4. lambda for pca1 and pca2\n",
    "9.98595583e-01, 1.16911547e-03\n",
    "pretty small values\n",
    "## 5.  time and score\n",
    "for untransformed, svr r2score = -0.026035898862341478 and time = 0.511760950088501\n",
    "for pca, r2score = -0.026033934451796803 and time = 0.4224121570587158\n",
    "the svr that trained on pca fit faster\n"
   ]
  },
  {
   "cell_type": "code",
   "execution_count": 30,
   "metadata": {},
   "outputs": [],
   "source": [
    "## work cells\n",
    "df = pd.read_csv(\"data.csv\")\n",
    "X = df.iloc[:,2 :13]\n",
    "y = df[\"price\"]\n",
    "pca = PCA()\n",
    "X_pca = pca.fit_transform(X)"
   ]
  },
  {
   "cell_type": "code",
   "execution_count": 31,
   "metadata": {},
   "outputs": [
    {
     "data": {
      "text/plain": [
       "array([9.98595583e-01, 1.16911547e-03, 2.34744428e-04, 5.55689873e-07,\n",
       "       4.60035457e-10, 3.66714266e-10, 2.89622329e-10, 1.87636928e-10,\n",
       "       9.98978661e-11, 4.77213505e-12, 4.44988478e-34])"
      ]
     },
     "execution_count": 31,
     "metadata": {},
     "output_type": "execute_result"
    }
   ],
   "source": [
    "pca.explained_variance_ratio_"
   ]
  },
  {
   "cell_type": "code",
   "execution_count": 32,
   "metadata": {},
   "outputs": [
    {
     "data": {
      "text/plain": [
       "array([1.28776906e+09, 1.50766813e+06, 3.02721759e+05, 7.16606641e+02,\n",
       "       5.93252603e-01, 4.72907446e-01, 3.73491212e-01, 2.41972862e-01,\n",
       "       1.28826307e-01, 6.15405074e-03, 5.73848317e-25])"
      ]
     },
     "execution_count": 32,
     "metadata": {},
     "output_type": "execute_result"
    }
   ],
   "source": [
    "pca.explained_variance_"
   ]
  },
  {
   "cell_type": "code",
   "execution_count": 33,
   "metadata": {},
   "outputs": [],
   "source": [
    "pca = PCA(n_components = 2)\n",
    "X_pca = pca.fit_transform(X)\n",
    "df_pca = pd.DataFrame(data = X_pca\n",
    "             , columns = ['principal component 1', 'principal component 2'])\n",
    "df_pca['price'] = y"
   ]
  },
  {
   "cell_type": "code",
   "execution_count": 40,
   "metadata": {},
   "outputs": [
    {
     "data": {
      "text/plain": [
       "<matplotlib.axes._subplots.AxesSubplot at 0x7fbd50ec7d00>"
      ]
     },
     "execution_count": 40,
     "metadata": {},
     "output_type": "execute_result"
    },
    {
     "data": {
      "image/png": "[encoded data removed]",
      "text/plain": [
       "<Figure size 720x720 with 1 Axes>"
      ]
     },
     "metadata": {},
     "output_type": "display_data"
    }
   ],
   "source": [
    "plt.figure(figsize = (10,10))\n",
    "sns.scatterplot(data= df_pca,x = \"principal component 1\",y = \"principal component 1\")"
   ]
  },
  {
   "cell_type": "code",
   "execution_count": 45,
   "metadata": {},
   "outputs": [],
   "source": [
    "start = time.time()\n",
    "svr1 = SVR()\n",
    "svr1.fit(X,y)\n",
    "stop = time.time()"
   ]
  },
  {
   "cell_type": "code",
   "execution_count": 46,
   "metadata": {},
   "outputs": [
    {
     "name": "stdout",
     "output_type": "stream",
     "text": [
      "score -0.026035898862341478\n"
     ]
    }
   ],
   "source": [
    "print(\"score\",svr.score(X,y))"
   ]
  },
  {
   "cell_type": "code",
   "execution_count": 47,
   "metadata": {},
   "outputs": [
    {
     "data": {
      "text/plain": [
       "0.511760950088501"
      ]
     },
     "execution_count": 47,
     "metadata": {},
     "output_type": "execute_result"
    }
   ],
   "source": [
    "stop-start"
   ]
  },
  {
   "cell_type": "code",
   "execution_count": 48,
   "metadata": {},
   "outputs": [],
   "source": [
    "start = time.time()\n",
    "svr2 = SVR()\n",
    "svr2.fit(df_pca[[\"principal component 1\",\"principal component 2\"]],df_pca[\"price\"])\n",
    "stop = time.time()\n"
   ]
  },
  {
   "cell_type": "code",
   "execution_count": 49,
   "metadata": {},
   "outputs": [
    {
     "data": {
      "text/plain": [
       "-0.026033934451796803"
      ]
     },
     "execution_count": 49,
     "metadata": {},
     "output_type": "execute_result"
    }
   ],
   "source": [
    "svr2.score(df_pca[[\"principal component 1\",\"principal component 2\"]],df_pca[\"price\"])"
   ]
  },
  {
   "cell_type": "code",
   "execution_count": 50,
   "metadata": {},
   "outputs": [
    {
     "data": {
      "text/plain": [
       "0.4224121570587158"
      ]
     },
     "execution_count": 50,
     "metadata": {},
     "output_type": "execute_result"
    }
   ],
   "source": [
    "stop-start"
   ]
  },
  {
   "cell_type": "markdown",
   "metadata": {},
   "source": [
    "### Problem 2 (Clustering)\n",
    "\n",
    "1) In the `sklearn` implementation of $k$-means clustering, there is a parameter called `init`.  This parameter determines how the centroids are initialized. If `init='random'` then centroids are initialized to be randomly selected datapoints.  If `init='k-means++'` then the initialization is done using the $k$-means++ algorithm discussed in class.\n",
    "\n",
    "    a) time how long it takes to fit your data using $k=4$ clusters under each choice of `init`. Is $k$-means++ faster to fit? \n",
    "\n",
    "    b) for each choice of `init`, print out the `inertia` of the eventual fit. Is there a difference?\n",
    "\n",
    "2) Use the elbow method (with a visual) to determine a good choice of $k$ for your dataset.\n",
    "\n",
    "3) Use the silhouette method to determine a good choice of $k$ for your dataset.\n",
    "\n",
    "4) Use [DBScan](https://scikit-learn.org/stable/modules/generated/sklearn.cluster.DBSCAN.html) to fit your data with default values for $\\epsilon$ and `min_samples`. \n",
    "\n",
    "    a) How many clusters did DBScan find?\n",
    "    b) Print out any outliers that DBScan found (datapoints assigned to no cluster).\n",
    "\n",
    "---\n",
    "\n",
    "5) (BONUS 5 midterm points) In this exercise we will compare the DBScan outliers to the result of $k$-means clustering.\n",
    "\n",
    "    a) For each datapoint, compute the squared distance from the datapoint to the closest centroid found by $k$-means.\n",
    "\n",
    "    b) For one (or more) DBScan outliers, compute the percentile score of this outlier in the distribution resulting from (a). \n",
    "\n",
    "Is it the case that DBScan outliers have extreme percentile scores with respect to centroid distance under $k$-means?\n",
    "\n",
    "If DBScan is not giving you any outliers, try reducing $\\epsilon$ until you get some.\n",
    "\n"
   ]
  },
  {
   "cell_type": "markdown",
   "metadata": {},
   "source": [
    "## 1.\n",
    "(a)kmeans++ was a bit faster than random.0.17312884330749512 vs 0.1770470142364502\n",
    "(b)kmeans++ inertia was a bit smaller than random\n",
    "## 2.\n",
    "based on the graph, two clusters are good enough\n",
    "## 3. \n",
    "one cluster had a high coefficient\n",
    "## 4.\n",
    "11 clusters found"
   ]
  },
  {
   "cell_type": "code",
   "execution_count": 51,
   "metadata": {},
   "outputs": [],
   "source": [
    "from sklearn.cluster import KMeans\n",
    "df = pd.read_csv(\"data.csv\")\n",
    "X = df.iloc[:,2 :13] \n",
    "d_kmeans = KMeans(n_clusters=4)\n",
    "kmeans = KMeans(n_clusters=4,init = 'random')"
   ]
  },
  {
   "cell_type": "code",
   "execution_count": 52,
   "metadata": {},
   "outputs": [],
   "source": [
    "start = time.time()\n",
    "d_kmeans.fit(X)\n",
    "stop = time.time()"
   ]
  },
  {
   "cell_type": "code",
   "execution_count": 53,
   "metadata": {},
   "outputs": [
    {
     "data": {
      "text/plain": [
       "0.17312884330749512"
      ]
     },
     "execution_count": 53,
     "metadata": {},
     "output_type": "execute_result"
    }
   ],
   "source": [
    "stop-start"
   ]
  },
  {
   "cell_type": "code",
   "execution_count": 54,
   "metadata": {},
   "outputs": [],
   "source": [
    "start = time.time()\n",
    "kmeans.fit(X)\n",
    "stop = time.time()"
   ]
  },
  {
   "cell_type": "code",
   "execution_count": 55,
   "metadata": {},
   "outputs": [
    {
     "data": {
      "text/plain": [
       "0.1770470142364502"
      ]
     },
     "execution_count": 55,
     "metadata": {},
     "output_type": "execute_result"
    }
   ],
   "source": [
    "stop-start"
   ]
  },
  {
   "cell_type": "code",
   "execution_count": 57,
   "metadata": {},
   "outputs": [
    {
     "data": {
      "text/plain": [
       "724126884825.8799"
      ]
     },
     "execution_count": 57,
     "metadata": {},
     "output_type": "execute_result"
    }
   ],
   "source": [
    "d_kmeans.inertia_"
   ]
  },
  {
   "cell_type": "code",
   "execution_count": 58,
   "metadata": {},
   "outputs": [
    {
     "data": {
      "text/plain": [
       "764290934827.1105"
      ]
     },
     "execution_count": 58,
     "metadata": {},
     "output_type": "execute_result"
    }
   ],
   "source": [
    "kmeans.inertia_"
   ]
  },
  {
   "cell_type": "code",
   "execution_count": 59,
   "metadata": {},
   "outputs": [
    {
     "data": {
      "image/png": "[encoded data removed]",
      "text/plain": [
       "<Figure size 432x288 with 1 Axes>"
      ]
     },
     "metadata": {},
     "output_type": "display_data"
    }
   ],
   "source": [
    "distortions = []\n",
    "for i in range(1, 11):\n",
    "    km = KMeans(n_clusters=i, \n",
    "                init='k-means++', \n",
    "                n_init=10, \n",
    "                max_iter=300, \n",
    "                random_state=0)\n",
    "    km.fit(X)\n",
    "    distortions.append(km.inertia_)\n",
    "plt.plot(range(1, 11), distortions, marker='o')\n",
    "plt.xlabel('Number of clusters')\n",
    "plt.ylabel('Distortion')\n",
    "plt.tight_layout()\n",
    "plt.title(\"The 'Elbow Method' for choosing k\")\n",
    "#plt.savefig('images/11_03.png', dpi=300)\n",
    "plt.show()"
   ]
  },
  {
   "cell_type": "markdown",
   "metadata": {},
   "source": []
  },
  {
   "cell_type": "code",
   "execution_count": 61,
   "metadata": {},
   "outputs": [
    {
     "data": {
      "image/png": "[encoded data removed]",
      "text/plain": [
       "<Figure size 432x288 with 1 Axes>"
      ]
     },
     "metadata": {},
     "output_type": "display_data"
    }
   ],
   "source": [
    "from matplotlib import cm\n",
    "from sklearn.metrics import silhouette_samples\n",
    "km = KMeans(n_clusters=4, \n",
    "            init='k-means++', \n",
    "            n_init=10, \n",
    "            max_iter=300,\n",
    "            tol=1e-04,\n",
    "            random_state=0)\n",
    "y_km = km.fit_predict(X)\n",
    "\n",
    "cluster_labels = np.unique(y_km)\n",
    "n_clusters = cluster_labels.shape[0]\n",
    "silhouette_vals = silhouette_samples(X, y_km, metric='euclidean')\n",
    "y_ax_lower, y_ax_upper = 0, 0\n",
    "yticks = []\n",
    "for i, c in enumerate(cluster_labels):\n",
    "    c_silhouette_vals = silhouette_vals[y_km == c]\n",
    "    c_silhouette_vals.sort()\n",
    "    y_ax_upper += len(c_silhouette_vals)\n",
    "    color = cm.jet(float(i) / n_clusters)\n",
    "    plt.barh(range(y_ax_lower, y_ax_upper), c_silhouette_vals, height=1.0, \n",
    "             edgecolor='none', color=color)\n",
    "\n",
    "    yticks.append((y_ax_lower + y_ax_upper) / 2.)\n",
    "    y_ax_lower += len(c_silhouette_vals)\n",
    "    \n",
    "silhouette_avg = np.mean(silhouette_vals)\n",
    "plt.axvline(silhouette_avg, color=\"red\", linestyle=\"--\") \n",
    "\n",
    "plt.yticks(yticks, cluster_labels + 1)\n",
    "plt.ylabel('Cluster')\n",
    "plt.xlabel('Silhouette coefficient')\n",
    "\n",
    "plt.tight_layout()\n",
    "#plt.savefig('images/11_04.png', dpi=300)\n",
    "plt.show()"
   ]
  },
  {
   "cell_type": "code",
   "execution_count": 64,
   "metadata": {},
   "outputs": [],
   "source": [
    "from sklearn.cluster import DBSCAN\n",
    "clustering = DBSCAN()\n",
    "cl = clustering.fit(X)"
   ]
  },
  {
   "cell_type": "code",
   "execution_count": 66,
   "metadata": {},
   "outputs": [
    {
     "data": {
      "text/plain": [
       "11"
      ]
     },
     "execution_count": 66,
     "metadata": {},
     "output_type": "execute_result"
    }
   ],
   "source": [
    "cl.n_features_in_"
   ]
  },
  {
   "cell_type": "code",
   "execution_count": null,
   "metadata": {},
   "outputs": [],
   "source": []
  }
 ],
 "metadata": {
  "kernelspec": {
   "display_name": "Python 3",
   "language": "python",
   "name": "python3"
  },
  "language_info": {
   "codemirror_mode": {
    "name": "ipython",
    "version": 3
   },
   "file_extension": ".py",
   "mimetype": "text/x-python",
   "name": "python",
   "nbconvert_exporter": "python",
   "pygments_lexer": "ipython3",
   "version": "3.8.3"
  },
  "vscode": {
   "interpreter": {
    "hash": "aee8b7b246df8f9039afb4144a1f6fd8d2ca17a180786b69acc140d282b71a49"
   }
  }
 },
 "nbformat": 4,
 "nbformat_minor": 2
}
