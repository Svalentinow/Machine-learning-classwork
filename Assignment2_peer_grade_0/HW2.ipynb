{
  "cells": [
    {
      "cell_type": "markdown",
      "id": "1e3158db",
      "metadata": {
        "id": "1e3158db"
      },
      "source": [
        "### Exercises 1\n",
        "\n",
        "These exercises are intended to help you become more familiar with the basics of Python.\n"
      ]
    },
    {
      "cell_type": "markdown",
      "id": "88fb0bda",
      "metadata": {
        "id": "88fb0bda"
      },
      "source": [
        "#### Ex 1.1\n",
        "\n",
        "In the cell below we have defined a string called `a`.\n",
        "\n",
        "Like all types in Python, this string is an object. \n",
        "\n",
        "Use tab completion to see which methods are available for the string type.\n",
        "\n",
        "Use the question mark operator to find out how the `count` method works.\n",
        "\n",
        "Use the `count` method to count the number of *a* characters that occur in `a`. \n",
        "\n",
        "Try out some of the other methods as well."
      ]
    },
    {
      "cell_type": "code",
      "execution_count": 19,
      "id": "63df7b43",
      "metadata": {
        "colab": {
          "base_uri": "https://localhost:8080/",
          "height": 34
        },
        "id": "63df7b43",
        "outputId": "cf4f46fb-3401-4cc4-c9a0-d9e938424760"
      },
      "outputs": [
        {
          "data": {
            "application/vnd.google.colaboratory.intrinsic+json": {
              "type": "string"
            },
            "text/plain": [
              "'A string is an object'"
            ]
          },
          "execution_count": 19,
          "metadata": {},
          "output_type": "execute_result"
        }
      ],
      "source": [
        "a=\"a string is an object\"\n",
        "# type a.<Press Tab>\n",
        "a.capitalize()\n"
      ]
    },
    {
      "cell_type": "markdown",
      "id": "0548c292",
      "metadata": {
        "id": "0548c292"
      },
      "source": [
        "#### Ex 1.2\n",
        "\n",
        "Use the string `split()` method to get a list of the words in the string `a` from the previous exercise.\n",
        "\n",
        "Then use a list-based sorting method to sort the resulting list of words in alphabetical order. \n",
        "\n",
        "If `b` is the list of words in `a`, try both\n",
        "\n",
        "```python\n",
        "b.sort()\n",
        "```\n",
        "\n",
        "and\n",
        "\n",
        "```python\n",
        "sorted(b)\n",
        "```\n",
        "\n",
        "What is the difference between these approaches? (*Hint:* use the question mark operator)\n"
      ]
    },
    {
      "cell_type": "code",
      "execution_count": 20,
      "id": "1c32d9ae",
      "metadata": {
        "colab": {
          "base_uri": "https://localhost:8080/"
        },
        "id": "1c32d9ae",
        "outputId": "3d72bdbf-818e-4cf8-f342-98eaad945485"
      },
      "outputs": [
        {
          "data": {
            "text/plain": [
              "['a', 'an', 'is', 'object', 'string']"
            ]
          },
          "execution_count": 20,
          "metadata": {},
          "output_type": "execute_result"
        }
      ],
      "source": [
        "### Your solution here\n",
        "b = a.split()\n",
        "b.sort()\n",
        "b"
      ]
    },
    {
      "cell_type": "code",
      "execution_count": 21,
      "id": "4XfeWsWhHBpb",
      "metadata": {
        "colab": {
          "base_uri": "https://localhost:8080/"
        },
        "id": "4XfeWsWhHBpb",
        "outputId": "d3d41bb5-43e0-4d2b-891d-59a4618ee92e"
      },
      "outputs": [
        {
          "data": {
            "text/plain": [
              "['a', 'an', 'is', 'object', 'string']"
            ]
          },
          "execution_count": 21,
          "metadata": {},
          "output_type": "execute_result"
        }
      ],
      "source": [
        "sorted(b)"
      ]
    },
    {
      "cell_type": "markdown",
      "id": "00f0cda0",
      "metadata": {
        "id": "00f0cda0"
      },
      "source": [
        "#### Ex 1.3\n",
        "\n",
        "Jupyter allows shell commands to be issued from inside a notebook by using the `!` operator.\n",
        "For instance, to see the current working directory you can type\n",
        "\n",
        "```python\n",
        "!pwd\n",
        "```\n",
        "\n",
        "in a cell and run it.\n",
        "\n",
        "Use shell commands from within the notebook to \n",
        "\n",
        "1. List the other files in the current directory (*Hint:* the Linux command is `ls`).\n",
        "2. Create a new subdirectory (*Hint:* the Linux command is `mkdir <dirname>`)."
      ]
    },
    {
      "cell_type": "code",
      "execution_count": 22,
      "id": "83c56425",
      "metadata": {
        "colab": {
          "base_uri": "https://localhost:8080/"
        },
        "id": "83c56425",
        "outputId": "deba6aad-0a77-49b1-9e8b-891b45cd589a"
      },
      "outputs": [
        {
          "name": "stdout",
          "output_type": "stream",
          "text": [
            "/content\n"
          ]
        }
      ],
      "source": [
        "### Your solution here\n",
        "!pwd"
      ]
    },
    {
      "cell_type": "code",
      "execution_count": 23,
      "id": "fouteiaJ3LHA",
      "metadata": {
        "colab": {
          "base_uri": "https://localhost:8080/"
        },
        "id": "fouteiaJ3LHA",
        "outputId": "32d1e05f-1faf-4fea-c1bc-682ea252f9fa"
      },
      "outputs": [
        {
          "name": "stdout",
          "output_type": "stream",
          "text": [
            "my_test  ravenclaw  sample_data\n"
          ]
        }
      ],
      "source": [
        "!ls"
      ]
    },
    {
      "cell_type": "code",
      "execution_count": 24,
      "id": "BXDxanbJ2f1a",
      "metadata": {
        "colab": {
          "base_uri": "https://localhost:8080/"
        },
        "id": "BXDxanbJ2f1a",
        "outputId": "601fa12f-f490-463e-b8b9-6e8c79e71ff1"
      },
      "outputs": [
        {
          "name": "stdout",
          "output_type": "stream",
          "text": [
            "mkdir: cannot create directory ‘my_test’: File exists\n"
          ]
        }
      ],
      "source": [
        "!mkdir my_test"
      ]
    },
    {
      "cell_type": "markdown",
      "id": "925f8c8a",
      "metadata": {
        "id": "925f8c8a"
      },
      "source": [
        "#### Ex 1.4\n",
        "\n",
        "Explain what the following cell is doing."
      ]
    },
    {
      "cell_type": "code",
      "execution_count": 25,
      "id": "cf022484",
      "metadata": {
        "colab": {
          "base_uri": "https://localhost:8080/"
        },
        "id": "cf022484",
        "outputId": "5484faf8-a12d-4b9f-e6af-d451315044c3"
      },
      "outputs": [
        {
          "data": {
            "text/plain": [
              "['my_test  ravenclaw  sample_data']"
            ]
          },
          "execution_count": 25,
          "metadata": {},
          "output_type": "execute_result"
        }
      ],
      "source": [
        "a = !ls\n",
        "a\n",
        "#the element a is being assigned to the list of files in the !ls directory and the list of files is displayed "
      ]
    },
    {
      "cell_type": "markdown",
      "id": "f9a933e0",
      "metadata": {
        "id": "f9a933e0"
      },
      "source": [
        "#### Ex 1.5\n",
        "\n",
        "Explain what the following cell is doing.\n",
        "\n",
        "*Hint:* [touch](https://www.geeksforgeeks.org/touch-command-in-linux-with-examples/)\n",
        "\n",
        "*Hint:* [grep](https://docs.oracle.com/cd/E19504-01/802-5826/6i9iclf5k/index.html)\n"
      ]
    },
    {
      "cell_type": "code",
      "execution_count": 26,
      "id": "dd96230f",
      "metadata": {
        "colab": {
          "base_uri": "https://localhost:8080/"
        },
        "id": "dd96230f",
        "outputId": "5612e496-638d-4e26-f42b-b63370178774"
      },
      "outputs": [
        {
          "name": "stdout",
          "output_type": "stream",
          "text": [
            "-rw-r--r-- 1 root root    0 Sep 15 04:07 ravenclaw\n"
          ]
        }
      ],
      "source": [
        "filename = \"ravenclaw\"\n",
        "!touch {filename}\n",
        "!ls -l | grep {filename}\n",
        "#the element filename is assigned to the string ravenclaw\n",
        "#!touch command is creating the already assigned filename that doesn't have any data in it \n",
        "#!ls allows the user to search a list of files then the grep command pipes the list to look for {filename} within the list."
      ]
    },
    {
      "cell_type": "code",
      "execution_count": 27,
      "id": "76HCwi8h1gCi",
      "metadata": {
        "id": "76HCwi8h1gCi"
      },
      "outputs": [],
      "source": [
        "#so because \"ravenclaw\" was assigned to filename, when the file list was produced, any occurrence of ravenclaw was displayed.  "
      ]
    },
    {
      "cell_type": "markdown",
      "id": "f962fe8d",
      "metadata": {
        "id": "f962fe8d"
      },
      "source": [
        "#### Ex 1.6\n",
        "\n",
        "Consider the string below.\n",
        "\n",
        "```python\n",
        "s=\"\"\"One of nature's most intense spectacles can be tamed with humble sea salt, the same stuff that graces some dinner tables. Researchers recently found that the frequency of lightning decreases by up to 90 percent in the presence of salty sea spray.\"\"\"\n",
        "```\n",
        "\n",
        "Often in Natural Language Processing (NLP) we need to filter out punctuation from a string, and break it into a list of indivivual words.\n",
        "\n",
        "Breaking into a list of words is easy, because of the built-in string method `split()`.\n",
        "\n",
        "Use `split()` to turn the string below into a list of words.\n"
      ]
    },
    {
      "cell_type": "code",
      "execution_count": 28,
      "id": "1e6f1fa0",
      "metadata": {
        "colab": {
          "base_uri": "https://localhost:8080/"
        },
        "id": "1e6f1fa0",
        "outputId": "083bdbdd-b166-4f58-9844-ba8cdeb26bc7"
      },
      "outputs": [
        {
          "data": {
            "text/plain": [
              "['One',\n",
              " 'of',\n",
              " \"nature's\",\n",
              " 'most',\n",
              " 'intense',\n",
              " 'spectacles',\n",
              " 'can',\n",
              " 'be',\n",
              " 'tamed',\n",
              " 'with',\n",
              " 'humble',\n",
              " 'sea',\n",
              " 'salt,',\n",
              " 'the',\n",
              " 'same',\n",
              " 'stuff',\n",
              " 'that',\n",
              " 'graces',\n",
              " 'some',\n",
              " 'dinner',\n",
              " 'tables.',\n",
              " 'Researchers',\n",
              " 'recently',\n",
              " 'found',\n",
              " 'that',\n",
              " 'the',\n",
              " 'frequency',\n",
              " 'of',\n",
              " 'lightning',\n",
              " 'decreases',\n",
              " 'by',\n",
              " 'up',\n",
              " 'to',\n",
              " '90',\n",
              " 'percent',\n",
              " 'in',\n",
              " 'the',\n",
              " 'presence',\n",
              " 'of',\n",
              " 'salty',\n",
              " 'sea',\n",
              " 'spray.']"
            ]
          },
          "execution_count": 28,
          "metadata": {},
          "output_type": "execute_result"
        }
      ],
      "source": [
        "s=\"\"\"One of nature's most intense spectacles can be tamed with humble sea salt, the same stuff that graces some dinner tables. Researchers recently found that the frequency of lightning decreases by up to 90 percent in the presence of salty sea spray.\"\"\"\n",
        "v = s.split()\n",
        "v"
      ]
    },
    {
      "cell_type": "markdown",
      "id": "fcfb295d",
      "metadata": {
        "id": "fcfb295d"
      },
      "source": [
        "#### Ex 1.6 cont\n",
        "\n",
        "Now we will filter out the punctuation from `s`, leaving only letters.\n",
        "\n",
        "There are many ways of doing this.\n",
        "\n",
        "To help, we generate a string containing all common punctuation symbols below, called `punc`."
      ]
    },
    {
      "cell_type": "code",
      "execution_count": 29,
      "id": "7ebded73",
      "metadata": {
        "colab": {
          "base_uri": "https://localhost:8080/",
          "height": 34
        },
        "id": "7ebded73",
        "outputId": "72bf8960-8870-4e95-d0c6-55762210bcff"
      },
      "outputs": [
        {
          "data": {
            "application/vnd.google.colaboratory.intrinsic+json": {
              "type": "string"
            },
            "text/plain": [
              "'!\"#$%&\\'()*+,-./:;<=>?@[\\\\]^_`{|}~'"
            ]
          },
          "execution_count": 29,
          "metadata": {},
          "output_type": "execute_result"
        }
      ],
      "source": [
        "## Be sure to run this cell, or the kernel will not know what `punc` means\n",
        "import string\n",
        "\n",
        "punc=string.punctuation\n",
        "punc"
      ]
    },
    {
      "cell_type": "markdown",
      "id": "dbe8b1dc",
      "metadata": {
        "id": "dbe8b1dc"
      },
      "source": [
        "#### Ex 1.6 cont\n",
        "\n",
        "Now write a program that will turn the following pseudocode into Python.\n",
        "\n",
        "```\n",
        "for each punctuation symbol `p` in `punc`\n",
        "    replace all occurrences of `p` in `s` with the emptystring \n",
        "```\n"
      ]
    },
    {
      "cell_type": "code",
      "execution_count": 30,
      "id": "aa7511eb",
      "metadata": {
        "colab": {
          "base_uri": "https://localhost:8080/"
        },
        "id": "aa7511eb",
        "outputId": "e018a18c-5edc-4404-c9ec-1af98800256b"
      },
      "outputs": [
        {
          "name": "stdout",
          "output_type": "stream",
          "text": [
            "One of natures most intense spectacles can be tamed with humble sea salt the same stuff that graces some dinner tables Researchers recently found that the frequency of lightning decreases by up to 90 percent in the presence of salty sea spray\n"
          ]
        }
      ],
      "source": [
        "### Your solution here\n",
        "import string\n",
        " \n",
        "test_str =\"\"\"One of nature's most intense spectacles!!! can be tamed with humble sea salt, the same stuff that graces some dinner tables. Researchers recently found that the frequency of lightning decreases by up to 90 percent in the presence of salty sea spray.\"\"\"\n",
        "\n",
        " \n",
        "new_string = test_str.translate(str.maketrans('', '', string.punctuation))\n",
        "print(new_string)\n"
      ]
    },
    {
      "cell_type": "code",
      "execution_count": 31,
      "id": "OH68dh2CFN9l",
      "metadata": {
        "colab": {
          "base_uri": "https://localhost:8080/"
        },
        "id": "OH68dh2CFN9l",
        "outputId": "8b55568c-5acb-445f-f422-da497c5c4b9b"
      },
      "outputs": [
        {
          "name": "stdout",
          "output_type": "stream",
          "text": [
            "<built-in method translate of str object at 0x7ff0c6922290>\n"
          ]
        }
      ],
      "source": [
        "#TEST FOR ABOVE SOLUTION\n",
        "s=\"\"\"One of nature's most intense spectacles can be tamed with humble sea salt, the same stuff that graces some dinner tables. Researchers recently found that the frequency of lightning decreases by up to 90 percent in the presence of salty sea spray.\"\"\"\n",
        "new_s = s.translate\n",
        "str.maketrans('', '', string.punctuation)\n",
        "print(new_s)"
      ]
    },
    {
      "cell_type": "markdown",
      "id": "1fd261ac",
      "metadata": {
        "id": "1fd261ac"
      },
      "source": [
        "#### Ex 1.6 Solution approach 2\n",
        "\n",
        "Try this version of the punctuation removal algorithm.  It uses the built-in string method `isalnum()`, which returns `True` if a character is alpha-numeric and `False` otherwise.\n",
        "\n",
        "Pseudocode:\n",
        "\n",
        "```\n",
        "create an empty list L\n",
        "for each character `c` in `s`\n",
        "    if `c` is alphanumeric or space then put `c` into L\n",
        "turn L into a string\n",
        "```\n",
        "\n"
      ]
    },
    {
      "cell_type": "code",
      "execution_count": 32,
      "id": "f9bbffcd",
      "metadata": {
        "colab": {
          "base_uri": "https://localhost:8080/",
          "height": 50
        },
        "id": "f9bbffcd",
        "outputId": "8e3a7e63-da84-49df-fcf9-1abc5b56443a"
      },
      "outputs": [
        {
          "data": {
            "application/vnd.google.colaboratory.intrinsic+json": {
              "type": "string"
            },
            "text/plain": [
              "'One of natures most intense spectacles can be tamed with humble sea salt the same stuff that graces some dinner tables Researchers recently found that the frequency of lightning decreases by up to 90 percent in the presence of salty sea spray'"
            ]
          },
          "execution_count": 32,
          "metadata": {},
          "output_type": "execute_result"
        }
      ],
      "source": [
        "### Your solution here\n",
        "s=\"\"\"One of nature's most intense spectacles can be tamed with humble sea salt, the same stuff that graces some dinner tables. Researchers recently found that the frequency of lightning decreases by up to 90 percent in the presence of salty sea spray.\"\"\"\n",
        "L = []\n",
        "\n",
        "for c in s:\n",
        "  if c.isalnum() == True or c == \" \":\n",
        "    L.append(c)\n",
        "\n",
        "Q = ''.join(L) #empty string\n",
        "Q"
      ]
    },
    {
      "cell_type": "markdown",
      "id": "f2d2afa2",
      "metadata": {
        "id": "f2d2afa2"
      },
      "source": [
        "#### Ex 1.6 review\n",
        "\n",
        "We solved the problem two different ways.  Which is better? Jupyter includes a `%%timeit` magic that will let us determine which solution is most efficient. \n",
        "\n",
        "Put `%%timeit` as the first line in each of the cells for your answers and re-run them.  Which algorithm is faster? \n",
        "\n",
        "Can you think of a reason why the faster algorithm was faster? \n",
        "\n"
      ]
    },
    {
      "cell_type": "code",
      "execution_count": 33,
      "id": "a8542679",
      "metadata": {
        "id": "a8542679"
      },
      "outputs": [],
      "source": [
        "#The algorithm using isalnum() was has a shorter runtime because using this string method does all the work that the previous algorithm does."
      ]
    },
    {
      "cell_type": "markdown",
      "id": "35899a57",
      "metadata": {
        "id": "35899a57"
      },
      "source": [
        "#### Ex 1.7\n",
        "\n",
        "Modify the code below so that it also computes the average length of a word in `s`. \n"
      ]
    },
    {
      "cell_type": "code",
      "execution_count": 34,
      "id": "7efd773f",
      "metadata": {
        "colab": {
          "base_uri": "https://localhost:8080/"
        },
        "id": "7efd773f",
        "outputId": "de1a57c8-9acd-4294-a780-0b1ca5928dea"
      },
      "outputs": [
        {
          "name": "stdout",
          "output_type": "stream",
          "text": [
            "One of natures most intense spectacles can be tamed with humble sea salt the same stuff that graces some dinner tables Researchers recently found that the frequency of lightning decreases by up to 90 percent in the presence of salty sea spray\n",
            "\n",
            "The total amount of letters in the string is: 201\n",
            "The total amount of words are: 42\n",
            "The average length of a word in s is: 4.785714285714286\n"
          ]
        }
      ],
      "source": [
        "s=\"\"\"One of nature's most intense spectacles can be tamed with humble sea salt, the same stuff that graces some dinner tables. Researchers recently found that the frequency of lightning decreases by up to 90 percent in the presence of salty sea spray.\"\"\"\n",
        "\n",
        "new_string = test_str.translate(str.maketrans('', '', string.punctuation))\n",
        "print(new_string)\n",
        "\n",
        "ss=map(len,new_string.split())\n",
        "total_letters = 0\n",
        "count_words = 0\n",
        "\n",
        "for l,w in zip(ss,new_string.split()):\n",
        "    #print(l,w)\n",
        "    total_letters += l\n",
        "    count_words += 1\n",
        "\n",
        "print(\"\\nThe total amount of letters in the string is:\", total_letters)\n",
        "print(\"The total amount of words are:\", count_words)\n",
        "print(\"The average length of a word in s is:\",total_letters/count_words)"
      ]
    },
    {
      "cell_type": "code",
      "execution_count": 35,
      "id": "VJTHgJgF9xP_",
      "metadata": {
        "colab": {
          "base_uri": "https://localhost:8080/"
        },
        "id": "VJTHgJgF9xP_",
        "outputId": "0d571d36-9c18-4c4e-c9f9-cda4fc18c66b"
      },
      "outputs": [
        {
          "name": "stdout",
          "output_type": "stream",
          "text": [
            "One of natures most intense spectacles can be tamed with humble sea salt the same stuff that graces some dinner tables Researchers recently found that the frequency of lightning decreases by up to 90 percent in the presence of salty sea spray\n"
          ]
        },
        {
          "data": {
            "text/plain": [
              "4.785714285714286"
            ]
          },
          "execution_count": 35,
          "metadata": {},
          "output_type": "execute_result"
        }
      ],
      "source": [
        "#ALTERNATE WAY\n",
        "import numpy as np\n",
        "s=\"\"\"One of nature's most intense spectacles can be tamed with humble sea salt, the same stuff that graces some dinner tables. Researchers recently found that the frequency of lightning decreases by up to 90 percent in the presence of salty sea spray.\"\"\"\n",
        "\n",
        "new_string = test_str.translate(str.maketrans('', '', string.punctuation))\n",
        "print(new_string)\n",
        "\n",
        "ss=map(len,new_string.split())\n",
        "np.mean(list(ss))"
      ]
    },
    {
      "cell_type": "markdown",
      "id": "72d2df26",
      "metadata": {
        "id": "72d2df26"
      },
      "source": [
        "#### Exercise 1.8\n",
        "\n",
        "In Python a *tuple* is a non-mutable version of a list.  \n",
        "\n",
        "Create an empty list an add 25 three-tuples (*ie* tuples of length three) to the list.\n",
        "\n",
        "The tuples should be of the form `(a,b,c)` where\n",
        "\n",
        "`a` is a random integer between -10 and 10\n",
        "\n",
        "`b` is a letter of the word \"rottweiler\" selected uniformly at random\n",
        "\n",
        "`c` is a floating point number chosen from the standard normal distribution.\n",
        "\n",
        "To recap, you are going to make a list of 25 randomly generated 3-tuples, where the tuples have the above form.\n",
        "\n",
        "Then print out the list in sorted order."
      ]
    },
    {
      "cell_type": "code",
      "execution_count": 36,
      "id": "63767e2d",
      "metadata": {
        "colab": {
          "base_uri": "https://localhost:8080/"
        },
        "id": "63767e2d",
        "outputId": "a47f4222-4431-4a3c-ca99-f7ac0652b71e"
      },
      "outputs": [
        {
          "data": {
            "text/plain": [
              "[(-10, 'e', 0.76537261104837),\n",
              " (-10, 'r', 1.1494734897212548),\n",
              " (-10, 'w', 1.2602308681920456),\n",
              " (-9, 'e', 0.37879676526705575),\n",
              " (-9, 'r', -0.9699937980743806),\n",
              " (-7, 'e', 0.7916294479682504),\n",
              " (-7, 'i', -1.3510192470594822),\n",
              " (-6, 'l', -0.407174687831819),\n",
              " (-4, 't', -0.35747128019851343),\n",
              " (0, 'r', 0.24685944945584193),\n",
              " (0, 'w', 0.8510869235313921),\n",
              " (1, 'w', -0.6489647242260927),\n",
              " (2, 'e', 0.07638459427618316),\n",
              " (2, 'e', 0.4478175076253551),\n",
              " (3, 'i', 1.1573827493117468),\n",
              " (3, 'r', -0.001777889859443241),\n",
              " (3, 't', 0.717790936422074),\n",
              " (5, 'l', 0.6779637376969571),\n",
              " (5, 'w', 0.7708185976301817),\n",
              " (6, 'r', -0.48987918713767115),\n",
              " (6, 't', 0.12366097405805107),\n",
              " (6, 'w', 1.4429278919021487),\n",
              " (7, 'w', 2.0581728588473784),\n",
              " (8, 'e', 1.3532178402583042),\n",
              " (9, 'e', -0.2004688347670807)]"
            ]
          },
          "execution_count": 36,
          "metadata": {},
          "output_type": "execute_result"
        }
      ],
      "source": [
        "### Your solution here\n",
        "import numpy as np \n",
        "import random\n",
        "\n",
        "T = []\n",
        "\n",
        "for i in range(25):\n",
        "  a = random.randint(-10, 10)\n",
        "  b = random.choice(\"rottweiler\")\n",
        "  c = np.random.randn()\n",
        "  #print(c)\n",
        "  tuple = (a, b, c)\n",
        "  T.append(tuple)\n",
        "\n",
        "T.sort()\n",
        "T"
      ]
    },
    {
      "cell_type": "markdown",
      "id": "712e79ac",
      "metadata": {
        "id": "712e79ac"
      },
      "source": [
        "#### Exercise 1.9 part 1\n",
        "\n",
        "Using the Python `datetime` object, write a short program to make a list of all the dates of all Tuesdays and Thursdays between 8/25/22 and 12/13/22 (inclusive). \n",
        "\n"
      ]
    },
    {
      "cell_type": "code",
      "execution_count": 37,
      "id": "fV0FMou6iZiR",
      "metadata": {
        "colab": {
          "base_uri": "https://localhost:8080/"
        },
        "id": "fV0FMou6iZiR",
        "outputId": "4d88bae8-5686-42be-b2d9-55a79629a753"
      },
      "outputs": [
        {
          "name": "stdout",
          "output_type": "stream",
          "text": [
            "2022-08-25\n",
            "2022-08-30\n",
            "2022-09-01\n",
            "2022-09-06\n",
            "2022-09-08\n",
            "2022-09-13\n",
            "2022-09-15\n",
            "2022-09-20\n",
            "2022-09-22\n",
            "2022-09-27\n",
            "2022-09-29\n",
            "2022-10-04\n",
            "2022-10-06\n",
            "2022-10-11\n",
            "2022-10-13\n",
            "2022-10-18\n",
            "2022-10-20\n",
            "2022-10-25\n",
            "2022-10-27\n",
            "2022-11-01\n",
            "2022-11-03\n",
            "2022-11-08\n",
            "2022-11-10\n",
            "2022-11-15\n",
            "2022-11-17\n",
            "2022-11-22\n",
            "2022-11-24\n",
            "2022-11-29\n",
            "2022-12-01\n",
            "2022-12-06\n",
            "2022-12-08\n",
            "2022-12-13\n"
          ]
        }
      ],
      "source": [
        "#Print Tuesdays and Thursdays\n",
        "from datetime import date, timedelta\n",
        "\n",
        "start_date = date(2022, 8, 25) #thursday\n",
        "end_date = date(2022, 12, 13) #tuesday\n",
        "\n",
        "delta = end_date - start_date \n",
        "\n",
        "for i in range(delta.days + 1):\n",
        "    day = start_date + timedelta(days=i)\n",
        "    if day.weekday() == 1 or day.weekday() == 3:    \n",
        "      print(day)"
      ]
    },
    {
      "cell_type": "markdown",
      "id": "66019709",
      "metadata": {
        "id": "66019709"
      },
      "source": [
        "#### Exercise 1.9 part 2\n",
        "\n",
        "Take the list you made in part 1 and filter out the following dates: \n",
        "\n",
        "```python\n",
        "holidays = [(2022,9,27),(2022,9,29),(2022,10,4),(2022,11,24)]\n",
        "```\n",
        "\n",
        "Print the list and you have generated all of our meeting days for the current semester!\n",
        "\n"
      ]
    },
    {
      "cell_type": "code",
      "execution_count": 38,
      "id": "0AEdmo2go4IY",
      "metadata": {
        "colab": {
          "base_uri": "https://localhost:8080/"
        },
        "id": "0AEdmo2go4IY",
        "outputId": "9e976bf8-de9d-43d8-ce7c-a9b006679239"
      },
      "outputs": [
        {
          "name": "stdout",
          "output_type": "stream",
          "text": [
            "2022-08-25\n",
            "2022-08-30\n",
            "2022-09-01\n",
            "2022-09-06\n",
            "2022-09-08\n",
            "2022-09-13\n",
            "2022-09-15\n",
            "2022-09-20\n",
            "2022-09-22\n",
            "2022-10-06\n",
            "2022-10-11\n",
            "2022-10-13\n",
            "2022-10-18\n",
            "2022-10-20\n",
            "2022-10-25\n",
            "2022-10-27\n",
            "2022-11-01\n",
            "2022-11-03\n",
            "2022-11-08\n",
            "2022-11-10\n",
            "2022-11-15\n",
            "2022-11-17\n",
            "2022-11-22\n",
            "2022-11-29\n",
            "2022-12-01\n",
            "2022-12-06\n",
            "2022-12-08\n",
            "2022-12-13\n"
          ]
        }
      ],
      "source": [
        "from datetime import date, timedelta\n",
        "\n",
        "start_date = date(2022, 8, 25) #thursday\n",
        "end_date = date(2022, 12, 13) #tuesday\n",
        "holidays = [date(2022,9,27), date(2022,9,29), date(2022,10,4),date(2022,11,24)]\n",
        "\n",
        "delta = end_date - start_date \n",
        "\n",
        "for i in range(delta.days + 1):\n",
        "    day = start_date + timedelta(days=i)\n",
        "    if day.weekday() == 1 or day.weekday() == 3: \n",
        "      if not (day in holidays):   \n",
        "        print(day)"
      ]
    }
  ],
  "metadata": {
    "colab": {
      "collapsed_sections": [],
      "provenance": []
    },
    "kernelspec": {
      "display_name": "Python 3 (ipykernel)",
      "language": "python",
      "name": "python3"
    },
    "language_info": {
      "codemirror_mode": {
        "name": "ipython",
        "version": 3
      },
      "file_extension": ".py",
      "mimetype": "text/x-python",
      "name": "python",
      "nbconvert_exporter": "python",
      "pygments_lexer": "ipython3",
      "version": "3.10.6"
    }
  },
  "nbformat": 4,
  "nbformat_minor": 5
}
