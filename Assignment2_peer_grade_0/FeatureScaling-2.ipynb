{
  "cells": [
    {
      "cell_type": "markdown",
      "metadata": {
        "collapsed": false,
        "id": "-P2cG_P_rDjl"
      },
      "source": [
        "### Feature Scaling\n",
        "\n",
        "Suppose we have some sample of data ${\\bar{x}^{(1)},\\bar{x}^{(2)},\\ldots,\\bar{x}^{(n)}}$ for some integer $n$ drawn from some natural source.\n",
        "\n",
        "Typically for all $i =1,2,\\ldots,n$, $\\bar{x}^{(i)} \\in \\mathbb{R}^d$ for some $d \\in \\mathbb{N}$.  \n",
        "\n",
        "The integer $d$ is the *dimension* of the data.\n",
        "\n",
        "The $\\bar{x}^{(i)}$ might be virtually anything.  Some examples...\n",
        "\n",
        "* Pictures of cats\n",
        "* Measurements of shellfish parts\n",
        "* Measurements of flower parts\n",
        "* *etc*\n",
        "\n",
        "We think of the data as being arranged in one large matrix $X$ with $n$ rows and $d$ columns.  The $i$th row of $X$ is the data point $\\bar{x}^{(i)}$.  (Because all vectors are column vectors by default, the $i$th row of $X$ is technically $\\bar{x}^{(i)T}$, the transpose of $\\bar{x}^{(i)}$.)\n",
        "\n",
        "Usually we have $n >> d$ and the matrix $X$ is \"tall and skinny\".\n",
        "\n",
        "Below an example is given of a matrix which has $n=40$ and $d=2$.\n",
        "\n",
        "In the example $X$ is made up of artificial data.  \n",
        "\n",
        "The columns of $X$ are called *features*.  For example suppose the $\\bar{x}^{(i)}$ are triples of real numbers representing the *radius*,*weight* and *color* of a metal sphere.  Then the columns of $X$ would refer to the *radius*,*weight* and *color* of the spheres, respectively, and the \"features\" of the data would be *radius*, *weight* and *color*. \n",
        "\n",
        "Often features are naturally on different scales.  For example if the metal balls are made of some very light substance and radius is measured in **cm** but weight is measured in **kg** it might happen that the numbers in the `weight` column are thousands of times smaller than the numbers in the `radius` column.\n",
        "\n",
        "For many (but not all) machine learning algorithms, this mismatch of scale makes problems.  \n",
        "\n",
        "Therefore we are interested in ways to do **feature scaling**.  This means transforming $X$ so that all of the columns are on the same scale.  \n",
        "\n",
        "In the example below, notice that in its raw form, $X$ is quite skinny and tall.  We want to scale the features so that it becomes more \"roundish\". (Here we are talking about the scatterplot of the data, not the dimensions of the matrix.)\n",
        "\n",
        "In the notebook below we explore four methods for doing feature scaling.  All are explained in this Wikipedia article on [feature scaling](https://en.wikipedia.org/wiki/Feature_scaling).\n",
        "\n",
        "We have written a plotting method for you called `plotX` which will use `matplotlib` to create an image of $X$ which visually shows differences in scale among features. \n",
        "\n",
        "The first method (min-max scaling) has been done for you.\n",
        "\n",
        "Your job is to implement the remaining three, as described in the Wikipedia article.  Note that the notation of $\\bar{x}^{(i)}$ representing a *row* is not the same as the Wikipedia notation. \n",
        "\n",
        "The correct outputs are also given below.  In case they are overwritten as you work, you can find an HTML version in this directory.\n"
      ]
    },
    {
      "cell_type": "code",
      "execution_count": 1,
      "metadata": {
        "colab": {
          "base_uri": "https://localhost:8080/"
        },
        "id": "V0QP-gSmrDjo",
        "outputId": "9d5fa527-3c7e-4bd1-b56e-e7f56a9e25c8"
      },
      "outputs": [
        {
          "data": {
            "text/plain": [
              "array([[ 6, 88],\n",
              "       [ 3, 59],\n",
              "       [ 7, 13],\n",
              "       [ 4,  8],\n",
              "       [ 6, 89]])"
            ]
          },
          "execution_count": 1,
          "metadata": {},
          "output_type": "execute_result"
        }
      ],
      "source": [
        "import numpy as np\n",
        "np.random.seed(42)\n",
        "\n",
        "col1 = np.random.randint(10,size=40)\n",
        "col2 = np.random.randint(100,size=40)\n",
        "X = np.c_[col1,col2]\n",
        "\n",
        "X[:5]  ## first 5 data points"
      ]
    },
    {
      "cell_type": "code",
      "execution_count": 2,
      "metadata": {
        "colab": {
          "base_uri": "https://localhost:8080/",
          "height": 280
        },
        "id": "p1AIt_SQrDjr",
        "outputId": "406f2890-da70-4ed9-c238-644a452f0c62"
      },
      "outputs": [
        {
          "data": {
            "image/png": "[encoded data removed]",
            "text/plain": [
              "<Figure size 432x288 with 1 Axes>"
            ]
          },
          "metadata": {
            "needs_background": "light"
          },
          "output_type": "display_data"
        }
      ],
      "source": [
        "import matplotlib.pyplot as plt\n",
        "def plotX(X,title):\n",
        "    plt.scatter(X[:,0],X[:,1])\n",
        "    plt.title(title)\n",
        "    center = X.mean(axis=0)\n",
        "    maxC = (X-center).max()\n",
        "    plt.xlim([center[0]-maxC,center[0]+maxC])\n",
        "    plt.ylim([center[1]-maxC,center[1]+maxC])\n",
        "    plt.show()\n",
        "plotX(X,\"Data before feature scaling\")"
      ]
    },
    {
      "cell_type": "code",
      "execution_count": 3,
      "metadata": {
        "colab": {
          "base_uri": "https://localhost:8080/",
          "height": 461
        },
        "id": "EG3n-zTirDjs",
        "outputId": "e7de8be4-3b59-4a7c-b169-ebe3b761b7a2"
      },
      "outputs": [
        {
          "data": {
            "image/png": "[encoded data removed]",
            "text/plain": [
              "<Figure size 432x288 with 1 Axes>"
            ]
          },
          "metadata": {
            "needs_background": "light"
          },
          "output_type": "display_data"
        },
        {
          "name": "stdout",
          "output_type": "stream",
          "text": [
            "First 10 rows of X with min-max scaling...\n",
            "[[0.66666667 0.8877551 ]\n",
            " [0.33333333 0.59183673]\n",
            " [0.77777778 0.12244898]\n",
            " [0.44444444 0.07142857]\n",
            " [0.66666667 0.89795918]\n",
            " [1.         0.52040816]\n",
            " [0.22222222 0.        ]\n",
            " [0.66666667 0.83673469]\n",
            " [0.77777778 0.91836735]\n",
            " [0.44444444 0.59183673]]\n"
          ]
        }
      ],
      "source": [
        "from numpy.linalg import matrix_power\n",
        "mins=X.min(axis=0)    \n",
        "maxs=X.max(axis=0)\n",
        "difference = maxs-mins\n",
        "X_minmax=(X-mins)/difference\n",
        "plotX(X_minmax,\"Data with min-max scaling\")\n",
        "print(\"First 10 rows of X with min-max scaling...\")\n",
        "print(X_minmax[:10])"
      ]
    },
    {
      "cell_type": "code",
      "execution_count": 4,
      "metadata": {
        "colab": {
          "base_uri": "https://localhost:8080/",
          "height": 340
        },
        "id": "C2Ud4q8srDjt",
        "outputId": "d7dcd6e4-0136-4a6b-8541-f817a2ddd0c0"
      },
      "outputs": [
        {
          "ename": "IndexError",
          "evalue": "ignored",
          "output_type": "error",
          "traceback": [
            "\u001b[0;31m---------------------------------------------------------------------------\u001b[0m",
            "\u001b[0;31mIndexError\u001b[0m                                Traceback (most recent call last)",
            "\u001b[0;32m<ipython-input-4-524ee5ddf5d2>\u001b[0m in \u001b[0;36m<module>\u001b[0;34m\u001b[0m\n\u001b[1;32m      6\u001b[0m \u001b[0mX_meanNorm\u001b[0m \u001b[0;34m=\u001b[0m \u001b[0;34m(\u001b[0m\u001b[0;34m(\u001b[0m\u001b[0mmins\u001b[0m \u001b[0;34m+\u001b[0m \u001b[0mmaxs\u001b[0m\u001b[0;34m)\u001b[0m\u001b[0;34m-\u001b[0m \u001b[0mmeans\u001b[0m\u001b[0;34m)\u001b[0m\u001b[0;34m/\u001b[0m \u001b[0mdifference\u001b[0m\u001b[0;34m\u001b[0m\u001b[0;34m\u001b[0m\u001b[0m\n\u001b[1;32m      7\u001b[0m \u001b[0;34m\u001b[0m\u001b[0m\n\u001b[0;32m----> 8\u001b[0;31m \u001b[0mplotX\u001b[0m\u001b[0;34m(\u001b[0m\u001b[0mX_meanNorm\u001b[0m\u001b[0;34m,\u001b[0m\u001b[0;34m\"Data with mean norm scaling\"\u001b[0m\u001b[0;34m)\u001b[0m\u001b[0;34m\u001b[0m\u001b[0;34m\u001b[0m\u001b[0m\n\u001b[0m\u001b[1;32m      9\u001b[0m \u001b[0mprint\u001b[0m\u001b[0;34m(\u001b[0m\u001b[0;34m\"First 10 rows of X with mean norm scaling...\"\u001b[0m\u001b[0;34m)\u001b[0m\u001b[0;34m\u001b[0m\u001b[0;34m\u001b[0m\u001b[0m\n\u001b[1;32m     10\u001b[0m \u001b[0mprint\u001b[0m\u001b[0;34m(\u001b[0m\u001b[0mX_meanNorm\u001b[0m\u001b[0;34m[\u001b[0m\u001b[0;34m:\u001b[0m\u001b[0;36m10\u001b[0m\u001b[0;34m]\u001b[0m\u001b[0;34m)\u001b[0m\u001b[0;34m\u001b[0m\u001b[0;34m\u001b[0m\u001b[0m\n",
            "\u001b[0;32m<ipython-input-2-0d0177705b3d>\u001b[0m in \u001b[0;36mplotX\u001b[0;34m(X, title)\u001b[0m\n\u001b[1;32m      1\u001b[0m \u001b[0;32mimport\u001b[0m \u001b[0mmatplotlib\u001b[0m\u001b[0;34m.\u001b[0m\u001b[0mpyplot\u001b[0m \u001b[0;32mas\u001b[0m \u001b[0mplt\u001b[0m\u001b[0;34m\u001b[0m\u001b[0;34m\u001b[0m\u001b[0m\n\u001b[1;32m      2\u001b[0m \u001b[0;32mdef\u001b[0m \u001b[0mplotX\u001b[0m\u001b[0;34m(\u001b[0m\u001b[0mX\u001b[0m\u001b[0;34m,\u001b[0m\u001b[0mtitle\u001b[0m\u001b[0;34m)\u001b[0m\u001b[0;34m:\u001b[0m\u001b[0;34m\u001b[0m\u001b[0;34m\u001b[0m\u001b[0m\n\u001b[0;32m----> 3\u001b[0;31m     \u001b[0mplt\u001b[0m\u001b[0;34m.\u001b[0m\u001b[0mscatter\u001b[0m\u001b[0;34m(\u001b[0m\u001b[0mX\u001b[0m\u001b[0;34m[\u001b[0m\u001b[0;34m:\u001b[0m\u001b[0;34m,\u001b[0m\u001b[0;36m0\u001b[0m\u001b[0;34m]\u001b[0m\u001b[0;34m,\u001b[0m\u001b[0mX\u001b[0m\u001b[0;34m[\u001b[0m\u001b[0;34m:\u001b[0m\u001b[0;34m,\u001b[0m\u001b[0;36m1\u001b[0m\u001b[0;34m]\u001b[0m\u001b[0;34m)\u001b[0m\u001b[0;34m\u001b[0m\u001b[0;34m\u001b[0m\u001b[0m\n\u001b[0m\u001b[1;32m      4\u001b[0m     \u001b[0mplt\u001b[0m\u001b[0;34m.\u001b[0m\u001b[0mtitle\u001b[0m\u001b[0;34m(\u001b[0m\u001b[0mtitle\u001b[0m\u001b[0;34m)\u001b[0m\u001b[0;34m\u001b[0m\u001b[0;34m\u001b[0m\u001b[0m\n\u001b[1;32m      5\u001b[0m     \u001b[0mcenter\u001b[0m \u001b[0;34m=\u001b[0m \u001b[0mX\u001b[0m\u001b[0;34m.\u001b[0m\u001b[0mmean\u001b[0m\u001b[0;34m(\u001b[0m\u001b[0maxis\u001b[0m\u001b[0;34m=\u001b[0m\u001b[0;36m0\u001b[0m\u001b[0;34m)\u001b[0m\u001b[0;34m\u001b[0m\u001b[0;34m\u001b[0m\u001b[0m\n",
            "\u001b[0;31mIndexError\u001b[0m: too many indices for array: array is 1-dimensional, but 2 were indexed"
          ]
        }
      ],
      "source": [
        "\n",
        "mins=X.min(axis=0)    \n",
        "maxs=X.max(axis=0)\n",
        "means = X.mean(axis=0)\n",
        "difference = maxs-mins\n",
        "\n",
        "X_meanNorm = ((mins + maxs)- means)/ difference\n",
        "\n",
        "plotX(X_meanNorm,\"Data with mean norm scaling\")\n",
        "print(\"First 10 rows of X with mean norm scaling...\")\n",
        "print(X_meanNorm[:10])"
      ]
    },
    {
      "cell_type": "code",
      "execution_count": 5,
      "metadata": {
        "colab": {
          "base_uri": "https://localhost:8080/",
          "height": 340
        },
        "id": "T0-YdPcUrDju",
        "outputId": "167d2897-0744-449a-d5e5-0224620e0b3a"
      },
      "outputs": [
        {
          "ename": "IndexError",
          "evalue": "ignored",
          "output_type": "error",
          "traceback": [
            "\u001b[0;31m---------------------------------------------------------------------------\u001b[0m",
            "\u001b[0;31mIndexError\u001b[0m                                Traceback (most recent call last)",
            "\u001b[0;32m<ipython-input-5-d13855d1cd2a>\u001b[0m in \u001b[0;36m<module>\u001b[0;34m\u001b[0m\n\u001b[1;32m      7\u001b[0m \u001b[0mX_zscore\u001b[0m \u001b[0;34m=\u001b[0m \u001b[0;34m(\u001b[0m\u001b[0mmeans\u001b[0m \u001b[0;34m-\u001b[0m \u001b[0mX_meanNorm\u001b[0m\u001b[0;34m)\u001b[0m\u001b[0;34m/\u001b[0m \u001b[0mstds\u001b[0m\u001b[0;34m\u001b[0m\u001b[0;34m\u001b[0m\u001b[0m\n\u001b[1;32m      8\u001b[0m \u001b[0;34m\u001b[0m\u001b[0m\n\u001b[0;32m----> 9\u001b[0;31m \u001b[0mplotX\u001b[0m\u001b[0;34m(\u001b[0m\u001b[0mX_zscore\u001b[0m\u001b[0;34m,\u001b[0m\u001b[0;34m\"Data with Z-score scaling\"\u001b[0m\u001b[0;34m)\u001b[0m\u001b[0;34m\u001b[0m\u001b[0;34m\u001b[0m\u001b[0m\n\u001b[0m\u001b[1;32m     10\u001b[0m \u001b[0mprint\u001b[0m\u001b[0;34m(\u001b[0m\u001b[0;34m\"First 10 rows of X with Z-score scaling...\"\u001b[0m\u001b[0;34m)\u001b[0m\u001b[0;34m\u001b[0m\u001b[0;34m\u001b[0m\u001b[0m\n\u001b[1;32m     11\u001b[0m \u001b[0;34m\u001b[0m\u001b[0m\n",
            "\u001b[0;32m<ipython-input-2-0d0177705b3d>\u001b[0m in \u001b[0;36mplotX\u001b[0;34m(X, title)\u001b[0m\n\u001b[1;32m      1\u001b[0m \u001b[0;32mimport\u001b[0m \u001b[0mmatplotlib\u001b[0m\u001b[0;34m.\u001b[0m\u001b[0mpyplot\u001b[0m \u001b[0;32mas\u001b[0m \u001b[0mplt\u001b[0m\u001b[0;34m\u001b[0m\u001b[0;34m\u001b[0m\u001b[0m\n\u001b[1;32m      2\u001b[0m \u001b[0;32mdef\u001b[0m \u001b[0mplotX\u001b[0m\u001b[0;34m(\u001b[0m\u001b[0mX\u001b[0m\u001b[0;34m,\u001b[0m\u001b[0mtitle\u001b[0m\u001b[0;34m)\u001b[0m\u001b[0;34m:\u001b[0m\u001b[0;34m\u001b[0m\u001b[0;34m\u001b[0m\u001b[0m\n\u001b[0;32m----> 3\u001b[0;31m     \u001b[0mplt\u001b[0m\u001b[0;34m.\u001b[0m\u001b[0mscatter\u001b[0m\u001b[0;34m(\u001b[0m\u001b[0mX\u001b[0m\u001b[0;34m[\u001b[0m\u001b[0;34m:\u001b[0m\u001b[0;34m,\u001b[0m\u001b[0;36m0\u001b[0m\u001b[0;34m]\u001b[0m\u001b[0;34m,\u001b[0m\u001b[0mX\u001b[0m\u001b[0;34m[\u001b[0m\u001b[0;34m:\u001b[0m\u001b[0;34m,\u001b[0m\u001b[0;36m1\u001b[0m\u001b[0;34m]\u001b[0m\u001b[0;34m)\u001b[0m\u001b[0;34m\u001b[0m\u001b[0;34m\u001b[0m\u001b[0m\n\u001b[0m\u001b[1;32m      4\u001b[0m     \u001b[0mplt\u001b[0m\u001b[0;34m.\u001b[0m\u001b[0mtitle\u001b[0m\u001b[0;34m(\u001b[0m\u001b[0mtitle\u001b[0m\u001b[0;34m)\u001b[0m\u001b[0;34m\u001b[0m\u001b[0;34m\u001b[0m\u001b[0m\n\u001b[1;32m      5\u001b[0m     \u001b[0mcenter\u001b[0m \u001b[0;34m=\u001b[0m \u001b[0mX\u001b[0m\u001b[0;34m.\u001b[0m\u001b[0mmean\u001b[0m\u001b[0;34m(\u001b[0m\u001b[0maxis\u001b[0m\u001b[0;34m=\u001b[0m\u001b[0;36m0\u001b[0m\u001b[0;34m)\u001b[0m\u001b[0;34m\u001b[0m\u001b[0;34m\u001b[0m\u001b[0m\n",
            "\u001b[0;31mIndexError\u001b[0m: too many indices for array: array is 1-dimensional, but 2 were indexed"
          ]
        }
      ],
      "source": [
        "mins=X.min(axis=0)    \n",
        "maxs=X.max(axis=0)\n",
        "means = X.mean(axis=0)\n",
        "difference = maxs-mins\n",
        "stds = X.std(axis=0)\n",
        "\n",
        "X_zscore = (means - X_meanNorm)/ stds\n",
        "\n",
        "plotX(X_zscore,\"Data with Z-score scaling\")\n",
        "print(\"First 10 rows of X with Z-score scaling...\")\n",
        "\n",
        "\n",
        "\n",
        "print(X_zscore[:10])"
      ]
    },
    {
      "cell_type": "code",
      "execution_count": null,
      "metadata": {
        "colab": {
          "base_uri": "https://localhost:8080/",
          "height": 208
        },
        "id": "G-ff8fwMrDjv",
        "outputId": "53559dbc-a04c-43a3-cd45-17dfa24e3ca1"
      },
      "outputs": [
        {
          "ename": "NameError",
          "evalue": "ignored",
          "output_type": "error",
          "traceback": [
            "\u001b[0;31m---------------------------------------------------------------------------\u001b[0m",
            "\u001b[0;31mNameError\u001b[0m                                 Traceback (most recent call last)",
            "\u001b[0;32m<ipython-input-15-64c901df8111>\u001b[0m in \u001b[0;36m<module>\u001b[0;34m\u001b[0m\n\u001b[1;32m      1\u001b[0m \u001b[0;31m#X_unit =\u001b[0m\u001b[0;34m\u001b[0m\u001b[0;34m\u001b[0m\u001b[0;34m\u001b[0m\u001b[0m\n\u001b[0;32m----> 2\u001b[0;31m \u001b[0mplotX\u001b[0m\u001b[0;34m(\u001b[0m\u001b[0mX_unit\u001b[0m\u001b[0;34m,\u001b[0m\u001b[0;34m\"Data with unit length scaling\"\u001b[0m\u001b[0;34m)\u001b[0m\u001b[0;34m\u001b[0m\u001b[0;34m\u001b[0m\u001b[0m\n\u001b[0m\u001b[1;32m      3\u001b[0m \u001b[0mprint\u001b[0m\u001b[0;34m(\u001b[0m\u001b[0;34m\"First 10 rows of X with unit length scaling...\"\u001b[0m\u001b[0;34m)\u001b[0m\u001b[0;34m\u001b[0m\u001b[0;34m\u001b[0m\u001b[0m\n\u001b[1;32m      4\u001b[0m \u001b[0mprint\u001b[0m\u001b[0;34m(\u001b[0m\u001b[0mX_unit\u001b[0m\u001b[0;34m[\u001b[0m\u001b[0;34m:\u001b[0m\u001b[0;36m10\u001b[0m\u001b[0;34m]\u001b[0m\u001b[0;34m)\u001b[0m\u001b[0;34m\u001b[0m\u001b[0;34m\u001b[0m\u001b[0m\n",
            "\u001b[0;31mNameError\u001b[0m: name 'X_unit' is not defined"
          ]
        }
      ],
      "source": [
        "X_unit = \n",
        "plotX(X_unit,\"Data with unit length scaling\")\n",
        "print(\"First 10 rows of X with unit length scaling...\")\n",
        "print(X_unit[:10])"
      ]
    },
    {
      "cell_type": "code",
      "execution_count": null,
      "metadata": {
        "id": "PaMB71d7rDjw"
      },
      "outputs": [],
      "source": []
    }
  ],
  "metadata": {
    "colab": {
      "collapsed_sections": [],
      "provenance": []
    },
    "kernelspec": {
      "display_name": "Python 3 (Ubuntu Linux)",
      "language": "python",
      "name": "python3-ubuntu",
      "resource_dir": "/usr/local/share/jupyter/kernels/python3-ubuntu"
    },
    "language_info": {
      "codemirror_mode": {
        "name": "ipython",
        "version": 3
      },
      "file_extension": ".py",
      "mimetype": "text/x-python",
      "name": "python",
      "nbconvert_exporter": "python",
      "pygments_lexer": "ipython3",
      "version": "3.8.10"
    }
  },
  "nbformat": 4,
  "nbformat_minor": 0
}
