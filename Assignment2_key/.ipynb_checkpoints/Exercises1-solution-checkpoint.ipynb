{
 "cells": [
  {
   "cell_type": "markdown",
   "id": "1e3158db",
   "metadata": {},
   "source": [
    "### Exercises 1\n",
    "\n",
    "These exercises are intended to help you become more familiar with the basics of Python.\n"
   ]
  },
  {
   "cell_type": "markdown",
   "id": "88fb0bda",
   "metadata": {},
   "source": [
    "#### Ex 1.1\n",
    "\n",
    "In the cell below we have defined a string called `a`.\n",
    "\n",
    "Like all types in Python, this string is an object. \n",
    "\n",
    "Use tab completion to see which methods are available for the string type.\n",
    "\n",
    "Use the question mark operator to find out how the `count` method works.\n",
    "\n",
    "Use the `count` method to count the number of *a* characters that occur in `a`. \n",
    "\n",
    "Try out some of the other methods as well."
   ]
  },
  {
   "cell_type": "code",
   "execution_count": 1,
   "id": "63df7b43",
   "metadata": {},
   "outputs": [
    {
     "data": {
      "text/plain": [
       "2"
      ]
     },
     "execution_count": 1,
     "metadata": {},
     "output_type": "execute_result"
    }
   ],
   "source": [
    "a=\"a string is an object\"\n",
    "# type a.<Press Tab>\n",
    "\n",
    "### SOLUTION\n",
    "\n",
    "a.count('a')"
   ]
  },
  {
   "cell_type": "markdown",
   "id": "0548c292",
   "metadata": {},
   "source": [
    "#### Ex 1.2\n",
    "\n",
    "Use the string `split()` method to get a list of the words in the string `a` from the previous exercise.\n",
    "\n",
    "Then use a list-based sorting method to sort the resulting list of words in alphabetical order. \n",
    "\n",
    "If `b` is the list of words in `a`, try both\n",
    "\n",
    "```python\n",
    "b.sort()\n",
    "```\n",
    "\n",
    "and\n",
    "\n",
    "```python\n",
    "sorted(b)\n",
    "```\n",
    "\n",
    "What is the difference between these approaches? (*Hint:* use the question mark operator)\n"
   ]
  },
  {
   "cell_type": "code",
   "execution_count": 5,
   "id": "1c32d9ae",
   "metadata": {},
   "outputs": [
    {
     "data": {
      "text/plain": [
       "(['a', 'an', 'is', 'object', 'string'], ['a', 'string', 'is', 'an', 'object'])"
      ]
     },
     "execution_count": 5,
     "metadata": {},
     "output_type": "execute_result"
    }
   ],
   "source": [
    "### SOLUTION Part 1\n",
    "\n",
    "b = a.split()\n",
    "sorted(b),b"
   ]
  },
  {
   "cell_type": "code",
   "execution_count": 4,
   "id": "74a93c3f",
   "metadata": {},
   "outputs": [
    {
     "data": {
      "text/plain": [
       "['a', 'an', 'is', 'object', 'string']"
      ]
     },
     "execution_count": 4,
     "metadata": {},
     "output_type": "execute_result"
    }
   ],
   "source": [
    "### SOLUTION Part 2\n",
    "b.sort()\n",
    "b"
   ]
  },
  {
   "cell_type": "markdown",
   "id": "cbc96313",
   "metadata": {},
   "source": [
    "##### Solution to 1.2, explanation\n",
    "\n",
    "The `sort()` string method *modifies the string* so that it becomes sorted.\n",
    "\n",
    "The `sorted()` built-in function does not modify the original string -- it returns a new string which is the sorted version of the input.\n"
   ]
  },
  {
   "cell_type": "markdown",
   "id": "00f0cda0",
   "metadata": {},
   "source": [
    "#### Ex 1.3\n",
    "\n",
    "Jupyter allows shell commands to be issued from inside a notebook by using the `!` operator.\n",
    "For instance, to see the current working directory you can type\n",
    "\n",
    "```python\n",
    "!pwd\n",
    "```\n",
    "\n",
    "in a cell and run it.\n",
    "\n",
    "Use shell commands from within the notebook to \n",
    "\n",
    "1. List the other files in the current directory (*Hint:* the Linux command is `ls`).\n",
    "2. Create a new subdirectory (*Hint:* the Linux command is `mkdir <dirname>`)."
   ]
  },
  {
   "cell_type": "code",
   "execution_count": 6,
   "id": "70b10d73",
   "metadata": {},
   "outputs": [
    {
     "name": "stdout",
     "output_type": "stream",
     "text": [
      "/Users/hunterjohnson/Dropbox (John Jay College)/Mac/Documents/ML/Week1\n"
     ]
    }
   ],
   "source": [
    "### Solution\n",
    "!pwd"
   ]
  },
  {
   "cell_type": "code",
   "execution_count": 7,
   "id": "8ef2e8f5",
   "metadata": {},
   "outputs": [
    {
     "name": "stdout",
     "output_type": "stream",
     "text": [
      "Exercises1-solution.ipynb Experiments.ipynb         ravenclaw\n",
      "Exercises1.ipynb          k_armed_bandit.ipynb      topic_date_matcher.ipynb\n"
     ]
    }
   ],
   "source": [
    "!ls"
   ]
  },
  {
   "cell_type": "code",
   "execution_count": 8,
   "id": "aa6aa824",
   "metadata": {},
   "outputs": [
    {
     "name": "stdout",
     "output_type": "stream",
     "text": [
      "Exercises1-solution.ipynb k_armed_bandit.ipynb      topic_date_matcher.ipynb\n",
      "Exercises1.ipynb          ravenclaw\n",
      "Experiments.ipynb         \u001b[1m\u001b[34msome_dir\u001b[m\u001b[m\n"
     ]
    }
   ],
   "source": [
    "!mkdir some_dir\n",
    "!ls"
   ]
  },
  {
   "cell_type": "markdown",
   "id": "925f8c8a",
   "metadata": {},
   "source": [
    "#### Ex 1.4\n",
    "\n",
    "Explain what the following cell is doing."
   ]
  },
  {
   "cell_type": "code",
   "execution_count": 6,
   "id": "cf022484",
   "metadata": {},
   "outputs": [
    {
     "data": {
      "text/plain": [
       "['Exercises1.ipynb',\n",
       " 'Experiments.ipynb',\n",
       " 'k_armed_bandit.ipynb',\n",
       " 'topic_date_matcher.ipynb']"
      ]
     },
     "execution_count": 6,
     "metadata": {},
     "output_type": "execute_result"
    }
   ],
   "source": [
    "a = !ls\n",
    "a"
   ]
  },
  {
   "cell_type": "markdown",
   "id": "750758c7",
   "metadata": {},
   "source": [
    "##### Exercise 1.4 explanation\n",
    "\n",
    "The Python and shell are interacting. The Python variable `a` is set to contain the results of the shell `ls` command as a list of strings.\n"
   ]
  },
  {
   "cell_type": "markdown",
   "id": "f9a933e0",
   "metadata": {},
   "source": [
    "#### Ex 1.5\n",
    "\n",
    "Explain what the following cell is doing.\n",
    "\n",
    "*Hint:* [touch](https://www.geeksforgeeks.org/touch-command-in-linux-with-examples/)\n",
    "\n",
    "*Hint:* [grep](https://docs.oracle.com/cd/E19504-01/802-5826/6i9iclf5k/index.html)\n"
   ]
  },
  {
   "cell_type": "code",
   "execution_count": 7,
   "id": "dd96230f",
   "metadata": {},
   "outputs": [
    {
     "name": "stdout",
     "output_type": "stream",
     "text": [
      "-rw-r--r--  1 hunterjohnson  staff       0 Aug 18 13:10 \u001b[01;31m\u001b[Kravenclaw\u001b[m\u001b[K\n"
     ]
    }
   ],
   "source": [
    "filename = \"ravenclaw\"\n",
    "!touch {filename}\n",
    "!ls -l | grep {filename}"
   ]
  },
  {
   "cell_type": "markdown",
   "id": "370a432d",
   "metadata": {},
   "source": [
    "##### Ex 1.5 explanation\n",
    "\n",
    "Python and the shell are interacting again, but this time information is passing from Python to the shell.  A file with the same name as the string contained in `filename` is created. The contents of the directory are printed by `ls` but then `grep` filters out all lines that do not contain the string in `filename`. \n",
    "\n",
    "The `-l` option passed to `ls` instructs the program to print out file information in 'long form', which includes permissions, the owner, the group, a timestamp, and other information.\n"
   ]
  },
  {
   "cell_type": "markdown",
   "id": "f962fe8d",
   "metadata": {},
   "source": [
    "#### Ex 1.6\n",
    "\n",
    "Consider the string below.\n",
    "\n",
    "```python\n",
    "s=\"\"\"One of nature's most intense spectacles can be tamed with humble sea salt, the same stuff that graces some dinner tables. Researchers recently found that the frequency of lightning decreases by up to 90 percent in the presence of salty sea spray.\"\"\"\n",
    "```\n",
    "\n",
    "Often in Natural Language Processing (NLP) we need to filter out punctuation from a string, and break it into a list of indivivual words.\n",
    "\n",
    "Breaking into a list of words is easy, because of the built-in string method `split()`.\n",
    "\n",
    "Use `split()` to turn the string below into a list of words.\n"
   ]
  },
  {
   "cell_type": "code",
   "execution_count": 9,
   "id": "1e6f1fa0",
   "metadata": {},
   "outputs": [
    {
     "data": {
      "text/plain": [
       "['One',\n",
       " 'of',\n",
       " \"nature's\",\n",
       " 'most',\n",
       " 'intense',\n",
       " 'spectacles',\n",
       " 'can',\n",
       " 'be',\n",
       " 'tamed',\n",
       " 'with',\n",
       " 'humble',\n",
       " 'sea',\n",
       " 'salt,',\n",
       " 'the',\n",
       " 'same',\n",
       " 'stuff',\n",
       " 'that',\n",
       " 'graces',\n",
       " 'some',\n",
       " 'dinner',\n",
       " 'tables.',\n",
       " 'Researchers',\n",
       " 'recently',\n",
       " 'found',\n",
       " 'that',\n",
       " 'the',\n",
       " 'frequency',\n",
       " 'of',\n",
       " 'lightning',\n",
       " 'decreases',\n",
       " 'by',\n",
       " 'up',\n",
       " 'to',\n",
       " '90',\n",
       " 'percent',\n",
       " 'in',\n",
       " 'the',\n",
       " 'presence',\n",
       " 'of',\n",
       " 'salty',\n",
       " 'sea',\n",
       " 'spray.']"
      ]
     },
     "execution_count": 9,
     "metadata": {},
     "output_type": "execute_result"
    }
   ],
   "source": [
    "### SOLUTION\n",
    "\n",
    "s=\"\"\"One of nature's most intense spectacles can be tamed with humble sea salt, the same stuff that graces some dinner tables. Researchers recently found that the frequency of lightning decreases by up to 90 percent in the presence of salty sea spray.\"\"\"\n",
    "s.split()"
   ]
  },
  {
   "cell_type": "markdown",
   "id": "601d185d",
   "metadata": {},
   "source": [
    "#### Ex 1.6 cont\n",
    "\n",
    "Now we will filter out the punctuation from `s`, leaving only letters.\n",
    "\n",
    "There are many ways of doing this.\n",
    "\n",
    "To help, we generate a string containing all common punctuation symbols below, called `punc`."
   ]
  },
  {
   "cell_type": "code",
   "execution_count": 11,
   "id": "ee7647c6",
   "metadata": {},
   "outputs": [
    {
     "data": {
      "text/plain": [
       "'!\"#$%&\\'()*+,-./:;<=>?@[\\\\]^_`{|}~'"
      ]
     },
     "execution_count": 11,
     "metadata": {},
     "output_type": "execute_result"
    }
   ],
   "source": [
    "## Be sure to run this cell, or the kernel will not know what `punc` means\n",
    "import string\n",
    "\n",
    "punc=string.punctuation\n",
    "\n",
    "\n",
    "punc"
   ]
  },
  {
   "cell_type": "markdown",
   "id": "1918df0f",
   "metadata": {},
   "source": [
    "#### Ex 1.6 cont\n",
    "\n",
    "Now write a program that will turn the following pseudocode into Python.\n",
    "\n",
    "```\n",
    "for each punctuation symbol `p` in `punc`\n",
    "    replace all occurrences of `p` in `s` with the emptystring \n",
    "```\n"
   ]
  },
  {
   "cell_type": "code",
   "execution_count": 18,
   "id": "44164084",
   "metadata": {},
   "outputs": [
    {
     "data": {
      "text/plain": [
       "'One of natures most intense spectacles can be tamed with humble sea salt the same stuff that graces some dinner tables Researchers recently found that the frequency of lightning decreases by up to 90 percent in the presence of salty sea spray'"
      ]
     },
     "execution_count": 18,
     "metadata": {},
     "output_type": "execute_result"
    }
   ],
   "source": [
    "### SOLUTION\n",
    "\n",
    "s=\"\"\"One of nature's most intense spectacles can be tamed with humble sea salt, the same stuff that graces some dinner tables. Researchers recently found that the frequency of lightning decreases by up to 90 percent in the presence of salty sea spray.\"\"\"\n",
    "  \n",
    "for p in punc:\n",
    "    s = s.replace(p,\"\")\n",
    "s"
   ]
  },
  {
   "cell_type": "markdown",
   "id": "02f74a3c",
   "metadata": {},
   "source": [
    "#### Ex 1.6 Solution approach 2\n",
    "\n",
    "Try this version of the punctuation removal algorithm.  It uses the built-in string method `isalnum()`, which returns `True` if a character is alpha-numeric and `False` otherwise.\n",
    "\n",
    "Pseudocode:\n",
    "\n",
    "```\n",
    "create an empty list L\n",
    "for each character `c` in `s`\n",
    "    if `c` is alphanumeric or space then put `c` into L\n",
    "turn L into a string\n",
    "```\n",
    "\n"
   ]
  },
  {
   "cell_type": "code",
   "execution_count": 17,
   "id": "f552945b",
   "metadata": {},
   "outputs": [
    {
     "data": {
      "text/plain": [
       "'One of natures most intense spectacles can be tamed with humble sea salt the same stuff that graces some dinner tables Researchers recently found that the frequency of lightning decreases by up to 90 percent in the presence of salty sea spray'"
      ]
     },
     "execution_count": 17,
     "metadata": {},
     "output_type": "execute_result"
    }
   ],
   "source": [
    "### SOLUTION\n",
    "s=\"\"\"One of nature's most intense spectacles can be tamed with humble sea salt, the same stuff that graces some dinner tables. Researchers recently found that the frequency of lightning decreases by up to 90 percent in the presence of salty sea spray.\"\"\"\n",
    "\n",
    "L = []\n",
    "for c in s:\n",
    "    if c.isalnum() or c==' ':\n",
    "        L.append(c)\n",
    "        \n",
    "\"\".join(L)"
   ]
  },
  {
   "cell_type": "markdown",
   "id": "52714dd3",
   "metadata": {},
   "source": [
    "#### Ex 1.6 review\n",
    "\n",
    "We solved the problem two different ways.  Which is better? Jupyter includes a `%%timeit` magic that will let us determine which solution is most efficient. \n",
    "\n",
    "Put `%%timeit` as the first line in each of the cells for your answers and re-run them.  Which algorithm is faster? \n",
    "\n",
    "Can you think of a reason why the faster algorithm was faster? \n",
    "\n"
   ]
  },
  {
   "cell_type": "markdown",
   "id": "60f46e43",
   "metadata": {},
   "source": [
    "##### Ex 1.6 explanation\n",
    "\n",
    "The first method runs in about 5.3 µs, and the second approach runs in about 21.6 µs.\n",
    "\n",
    "I would guess that most of the time spent in the second method is inside the `isalnum()` function.  Inside this function a long list of symbols might be being checked, leading to time overhead.\n",
    "\n",
    "The first approach runs in time roughly `len(punc)`$\\times$`len(s)`\n",
    "\n",
    "whereas the second approach runs in time roughly `len(s)`$\\times$`len(all alphanumerics)`\n",
    "\n",
    "It seems plausible that the list of all alphanumeric symbols is about four times as long as `punc`, accounting for the time discrepancy.\n"
   ]
  },
  {
   "cell_type": "markdown",
   "id": "35899a57",
   "metadata": {},
   "source": [
    "#### Ex 1.7\n",
    "\n",
    "Modify the code below so that it also computes the average length of a word in `s`. \n"
   ]
  },
  {
   "cell_type": "code",
   "execution_count": 25,
   "id": "7efd773f",
   "metadata": {},
   "outputs": [
    {
     "name": "stdout",
     "output_type": "stream",
     "text": [
      "3 One\n",
      "2 of\n",
      "8 nature's\n",
      "4 most\n",
      "7 intense\n",
      "10 spectacles\n",
      "3 can\n",
      "2 be\n",
      "5 tamed\n",
      "4 with\n",
      "6 humble\n",
      "3 sea\n",
      "5 salt,\n",
      "3 the\n",
      "4 same\n",
      "5 stuff\n",
      "4 that\n",
      "6 graces\n",
      "4 some\n",
      "6 dinner\n",
      "7 tables.\n",
      "11 Researchers\n",
      "8 recently\n",
      "5 found\n",
      "4 that\n",
      "3 the\n",
      "9 frequency\n",
      "2 of\n",
      "9 lightning\n",
      "9 decreases\n",
      "2 by\n",
      "2 up\n",
      "2 to\n",
      "2 90\n",
      "7 percent\n",
      "2 in\n",
      "3 the\n",
      "8 presence\n",
      "2 of\n",
      "5 salty\n",
      "3 sea\n",
      "6 spray.\n",
      "The average length of a word in s is 4.88 letters\n"
     ]
    }
   ],
   "source": [
    "### SOLUTION\n",
    "\n",
    "s=\"\"\"One of nature's most intense spectacles can be tamed with humble sea salt, the same stuff that graces some dinner tables. Researchers recently found that the frequency of lightning decreases by up to 90 percent in the presence of salty sea spray.\"\"\"\n",
    "ss=map(len,s.split())\n",
    "\n",
    "denom,num = 0,0\n",
    "for l,w in zip(ss,s.split()):\n",
    "    print(l,w)\n",
    "    num += l\n",
    "    denom += 1\n",
    "\n",
    "print(f\"The average length of a word in s is {num/denom:.02f} letters\")"
   ]
  },
  {
   "cell_type": "markdown",
   "id": "a0446cf2",
   "metadata": {},
   "source": [
    "#### Exercise 1.8\n",
    "\n",
    "In Python a *tuple* is a non-mutable version of a list.  \n",
    "\n",
    "Create an empty list an add 25 three-tuples (*ie* tuples of length three) to the list.\n",
    "\n",
    "The tuples should be of the form `(a,b,c)` where\n",
    "\n",
    "`a` is a random integer between -10 and 10\n",
    "\n",
    "`b` is a letter of the word \"rottweiler\" selected uniformly at random\n",
    "\n",
    "`c` is a floating point number chosen from the standard normal distribution.\n",
    "\n",
    "To recap, you are going to make a list of 25 randomly generated 3-tuples, where the tuples have the above form.\n",
    "\n",
    "Then print out the list in sorted order."
   ]
  },
  {
   "cell_type": "code",
   "execution_count": 29,
   "id": "ed20ba6b",
   "metadata": {},
   "outputs": [
    {
     "data": {
      "text/plain": [
       "[(-10, 'w', -2.181709301556749),\n",
       " (-10, 'w', 0.9822704989523765),\n",
       " (-8, 'e', -0.27607393167099753),\n",
       " (-8, 't', -1.1387113211626492),\n",
       " (-6, 'e', -0.8583981277068604),\n",
       " (-6, 'e', -0.051254266697445316),\n",
       " (-6, 'l', -0.8164071676723039),\n",
       " (-5, 'r', -1.048386082409268),\n",
       " (-5, 'r', -0.45976008033911026),\n",
       " (-3, 'e', 1.110389335839493),\n",
       " (-1, 'e', 0.8876690188760568),\n",
       " (-1, 'o', -0.45892920636626955),\n",
       " (0, 't', -0.5380986085544832),\n",
       " (2, 'l', -2.3604381305220703),\n",
       " (3, 'o', 0.2996066704217918),\n",
       " (3, 'r', -1.3545794700875193),\n",
       " (3, 'w', -1.2007166880360016),\n",
       " (4, 'r', -1.1933968254043783),\n",
       " (4, 'w', -0.9282601503941967),\n",
       " (4, 'w', -0.39247112684260155),\n",
       " (6, 'r', -0.2655276721112486),\n",
       " (7, 'e', 0.7392328162867664),\n",
       " (8, 'e', 0.4551954625977365),\n",
       " (9, 'o', 0.5231739000831024),\n",
       " (9, 't', -0.491759202307895)]"
      ]
     },
     "execution_count": 29,
     "metadata": {},
     "output_type": "execute_result"
    }
   ],
   "source": [
    "### SOLUTION\n",
    "import numpy as np\n",
    "\n",
    "rng = np.random\n",
    "\n",
    "L = []\n",
    "for i in range(25):\n",
    "    a = rng.randint(-10,11)\n",
    "    b = \"rottweiler\"[rng.randint(0,len(\"rottweiler\"))]\n",
    "    c = rng.randn()\n",
    "    L.append((a,b,c))\n",
    "    \n",
    "sorted(L)\n"
   ]
  },
  {
   "cell_type": "markdown",
   "id": "73159297",
   "metadata": {},
   "source": [
    "#### Exercise 1.9 part 1\n",
    "\n",
    "Using the Python `datetime` object, write a short program to make a list of all the dates of all Tuesdays and Thursdays between 8/25/22 and 12/13/22 (inclusive). \n",
    "\n"
   ]
  },
  {
   "cell_type": "code",
   "execution_count": 32,
   "id": "2fc83e69",
   "metadata": {},
   "outputs": [
    {
     "data": {
      "text/plain": [
       "[datetime.date(2022, 8, 25),\n",
       " datetime.date(2022, 8, 30),\n",
       " datetime.date(2022, 9, 1),\n",
       " datetime.date(2022, 9, 6),\n",
       " datetime.date(2022, 9, 8),\n",
       " datetime.date(2022, 9, 13),\n",
       " datetime.date(2022, 9, 15),\n",
       " datetime.date(2022, 9, 20),\n",
       " datetime.date(2022, 9, 22),\n",
       " datetime.date(2022, 9, 27),\n",
       " datetime.date(2022, 9, 29),\n",
       " datetime.date(2022, 10, 4),\n",
       " datetime.date(2022, 10, 6),\n",
       " datetime.date(2022, 10, 11),\n",
       " datetime.date(2022, 10, 13),\n",
       " datetime.date(2022, 10, 18),\n",
       " datetime.date(2022, 10, 20),\n",
       " datetime.date(2022, 10, 25),\n",
       " datetime.date(2022, 10, 27),\n",
       " datetime.date(2022, 11, 1),\n",
       " datetime.date(2022, 11, 3),\n",
       " datetime.date(2022, 11, 8),\n",
       " datetime.date(2022, 11, 10),\n",
       " datetime.date(2022, 11, 15),\n",
       " datetime.date(2022, 11, 17),\n",
       " datetime.date(2022, 11, 22),\n",
       " datetime.date(2022, 11, 24),\n",
       " datetime.date(2022, 11, 29),\n",
       " datetime.date(2022, 12, 1),\n",
       " datetime.date(2022, 12, 6),\n",
       " datetime.date(2022, 12, 8),\n",
       " datetime.date(2022, 12, 13)]"
      ]
     },
     "execution_count": 32,
     "metadata": {},
     "output_type": "execute_result"
    }
   ],
   "source": [
    "### SOLUTION 1\n",
    "import datetime\n",
    "\n",
    "d = datetime.date(2022, 8, 25)\n",
    "all_days = [d+datetime.timedelta(days=i) for i in range(111)]\n",
    "Tuesday,Thursday = 1,3\n",
    "tue_thurs = [d for d in all_days if d.weekday() in [Tuesday, Thursday]]\n",
    "tue_thurs"
   ]
  },
  {
   "cell_type": "markdown",
   "id": "45705608",
   "metadata": {},
   "source": [
    "#### Exercise 1.9 part 2\n",
    "\n",
    "Take the list you made in part 1 and filter out the following dates: \n",
    "\n",
    "```python\n",
    "holidays = [(2022,9,27),(2022,9,29),(2022,10,4),(2022,11,24)]\n",
    "```\n",
    "\n",
    "Print the list and you have generated all of our meeting days for the current semester!\n",
    "\n"
   ]
  },
  {
   "cell_type": "code",
   "execution_count": 38,
   "id": "cd641480",
   "metadata": {},
   "outputs": [
    {
     "data": {
      "text/plain": [
       "[datetime.date(2022, 8, 25),\n",
       " datetime.date(2022, 8, 30),\n",
       " datetime.date(2022, 9, 1),\n",
       " datetime.date(2022, 9, 6),\n",
       " datetime.date(2022, 9, 8),\n",
       " datetime.date(2022, 9, 13),\n",
       " datetime.date(2022, 9, 15),\n",
       " datetime.date(2022, 9, 20),\n",
       " datetime.date(2022, 9, 22),\n",
       " datetime.date(2022, 10, 6),\n",
       " datetime.date(2022, 10, 11),\n",
       " datetime.date(2022, 10, 13),\n",
       " datetime.date(2022, 10, 18),\n",
       " datetime.date(2022, 10, 20),\n",
       " datetime.date(2022, 10, 25),\n",
       " datetime.date(2022, 10, 27),\n",
       " datetime.date(2022, 11, 1),\n",
       " datetime.date(2022, 11, 3),\n",
       " datetime.date(2022, 11, 8),\n",
       " datetime.date(2022, 11, 10),\n",
       " datetime.date(2022, 11, 15),\n",
       " datetime.date(2022, 11, 17),\n",
       " datetime.date(2022, 11, 22),\n",
       " datetime.date(2022, 11, 29),\n",
       " datetime.date(2022, 12, 1),\n",
       " datetime.date(2022, 12, 6),\n",
       " datetime.date(2022, 12, 8),\n",
       " datetime.date(2022, 12, 13)]"
      ]
     },
     "execution_count": 38,
     "metadata": {},
     "output_type": "execute_result"
    }
   ],
   "source": [
    "### SOLUTION\n",
    "\n",
    "## this solution uses the \"unpacking operator\" https://towardsdatascience.com/unpacking-operators-in-python-306ae44cd480\n",
    "\n",
    "holidays = [(2022,9,27),(2022,9,29),(2022,10,4),(2022,11,24)]\n",
    "holidays = [datetime.date(*t) for t in holidays]\n",
    "class_days = [d for d in tue_thurs if d not in holidays]\n",
    "\n",
    "class_days"
   ]
  },
  {
   "cell_type": "code",
   "execution_count": null,
   "id": "61fdc660",
   "metadata": {},
   "outputs": [],
   "source": []
  }
 ],
 "metadata": {
  "kernelspec": {
   "display_name": "Python 3 (ipykernel)",
   "language": "python",
   "name": "python3"
  },
  "language_info": {
   "codemirror_mode": {
    "name": "ipython",
    "version": 3
   },
   "file_extension": ".py",
   "mimetype": "text/x-python",
   "name": "python",
   "nbconvert_exporter": "python",
   "pygments_lexer": "ipython3",
   "version": "3.10.6"
  }
 },
 "nbformat": 4,
 "nbformat_minor": 5
}
